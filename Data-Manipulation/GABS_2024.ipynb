{
 "cells": [
  {
   "cell_type": "code",
   "execution_count": 1,
   "id": "90661907-eed8-4ca7-ba1c-e735ed65bcf3",
   "metadata": {
    "tags": []
   },
   "outputs": [],
   "source": [
    "# Preamble\n",
    "import numpy as np\n",
    "import pandas as pd\n",
    "import plotly.express as px\n",
    "import re\n",
    "from collections import Counter\n",
    "from sklearn.feature_extraction.text import TfidfVectorizer\n",
    "from sklearn.feature_extraction.text import CountVectorizer\n",
    "from sklearn.metrics.pairwise import cosine_similarity\n",
    "from sklearn.metrics.pairwise import euclidean_distances\n",
    "from sklearn.decomposition import PCA\n",
    "from sklearn.manifold import TSNE\n",
    "from sklearn.cluster import DBSCAN\n",
    "from sklearn.preprocessing import normalize\n",
    "from sklearn.neighbors import NearestNeighbors"
   ]
  },
  {
   "cell_type": "code",
   "execution_count": 2,
   "id": "08bb239d-ec4c-4ce8-92f9-86989b39390c",
   "metadata": {
    "tags": []
   },
   "outputs": [],
   "source": [
    "CountVectorizer\n",
    "# Load in beer spreadsheet\n",
    "main_file_path = \"../\"\n",
    "\n",
    "df = pd.read_csv(main_file_path + \"Data/GABS_2024_Festival_Beers.csv\").set_index(\"num\")"
   ]
  },
  {
   "cell_type": "code",
   "execution_count": 3,
   "id": "f7471d76-fdb0-42b0-b354-131939bc4aef",
   "metadata": {
    "tags": []
   },
   "outputs": [
    {
     "data": {
      "text/html": [
       "<div>\n",
       "<style scoped>\n",
       "    .dataframe tbody tr th:only-of-type {\n",
       "        vertical-align: middle;\n",
       "    }\n",
       "\n",
       "    .dataframe tbody tr th {\n",
       "        vertical-align: top;\n",
       "    }\n",
       "\n",
       "    .dataframe thead th {\n",
       "        text-align: right;\n",
       "    }\n",
       "</style>\n",
       "<table border=\"1\" class=\"dataframe\">\n",
       "  <thead>\n",
       "    <tr style=\"text-align: right;\">\n",
       "      <th></th>\n",
       "      <th>brewery</th>\n",
       "      <th>state</th>\n",
       "      <th>name</th>\n",
       "      <th>abv</th>\n",
       "      <th>style</th>\n",
       "      <th>desc</th>\n",
       "      <th>section</th>\n",
       "    </tr>\n",
       "    <tr>\n",
       "      <th>num</th>\n",
       "      <th></th>\n",
       "      <th></th>\n",
       "      <th></th>\n",
       "      <th></th>\n",
       "      <th></th>\n",
       "      <th></th>\n",
       "      <th></th>\n",
       "    </tr>\n",
       "  </thead>\n",
       "  <tbody>\n",
       "    <tr>\n",
       "      <th>1.0</th>\n",
       "      <td>Clifton Hill Brewing</td>\n",
       "      <td>VIC</td>\n",
       "      <td>HONEY GUM (RED IPA)</td>\n",
       "      <td>7.0</td>\n",
       "      <td>Red IPA</td>\n",
       "      <td>A toffee- like biscuity aroma gives way to car...</td>\n",
       "      <td>1</td>\n",
       "    </tr>\n",
       "    <tr>\n",
       "      <th>2.0</th>\n",
       "      <td>Brewmanity Beer Co</td>\n",
       "      <td>VIC</td>\n",
       "      <td>Choc à l'orange</td>\n",
       "      <td>7.0</td>\n",
       "      <td>Imperial Stout</td>\n",
       "      <td>A selection of the finest after dinner choc or...</td>\n",
       "      <td>1</td>\n",
       "    </tr>\n",
       "    <tr>\n",
       "      <th>3.0</th>\n",
       "      <td>Six String Brewing Co</td>\n",
       "      <td>NSW</td>\n",
       "      <td>Spaghetti Saison</td>\n",
       "      <td>5.0</td>\n",
       "      <td>Saison/Farmhouse Ale</td>\n",
       "      <td>Basil &amp; Peppercorn Saison Bright and pungent, ...</td>\n",
       "      <td>1</td>\n",
       "    </tr>\n",
       "    <tr>\n",
       "      <th>4.0</th>\n",
       "      <td>The Brew Baron Beer Co.</td>\n",
       "      <td>QLD</td>\n",
       "      <td>Cocoa Comet</td>\n",
       "      <td>7.0</td>\n",
       "      <td>Porter</td>\n",
       "      <td>A hot chocolate drink for adults only! Brewed ...</td>\n",
       "      <td>1</td>\n",
       "    </tr>\n",
       "    <tr>\n",
       "      <th>5.0</th>\n",
       "      <td>8 Wired</td>\n",
       "      <td>NZ</td>\n",
       "      <td>Crumbs - Imperial Cookie Stout</td>\n",
       "      <td>10.0</td>\n",
       "      <td>Imperial Stout</td>\n",
       "      <td>Crumbs Imperial Cookie Stout is the rebellious...</td>\n",
       "      <td>1</td>\n",
       "    </tr>\n",
       "  </tbody>\n",
       "</table>\n",
       "</div>"
      ],
      "text/plain": [
       "                     brewery state                            name   abv  \\\n",
       "num                                                                        \n",
       "1.0     Clifton Hill Brewing   VIC             HONEY GUM (RED IPA)   7.0   \n",
       "2.0       Brewmanity Beer Co   VIC                 Choc à l'orange   7.0   \n",
       "3.0    Six String Brewing Co   NSW                Spaghetti Saison   5.0   \n",
       "4.0  The Brew Baron Beer Co.   QLD                     Cocoa Comet   7.0   \n",
       "5.0                  8 Wired    NZ  Crumbs - Imperial Cookie Stout  10.0   \n",
       "\n",
       "                    style                                               desc  \\\n",
       "num                                                                            \n",
       "1.0               Red IPA  A toffee- like biscuity aroma gives way to car...   \n",
       "2.0        Imperial Stout  A selection of the finest after dinner choc or...   \n",
       "3.0  Saison/Farmhouse Ale  Basil & Peppercorn Saison Bright and pungent, ...   \n",
       "4.0                Porter  A hot chocolate drink for adults only! Brewed ...   \n",
       "5.0        Imperial Stout  Crumbs Imperial Cookie Stout is the rebellious...   \n",
       "\n",
       "     section  \n",
       "num           \n",
       "1.0        1  \n",
       "2.0        1  \n",
       "3.0        1  \n",
       "4.0        1  \n",
       "5.0        1  "
      ]
     },
     "execution_count": 3,
     "metadata": {},
     "output_type": "execute_result"
    }
   ],
   "source": [
    "# Inspect data\n",
    "df.head()"
   ]
  },
  {
   "cell_type": "code",
   "execution_count": 4,
   "id": "cff35723-2287-4639-9596-a19d0a1c78a1",
   "metadata": {
    "tags": []
   },
   "outputs": [
    {
     "ename": "KeyError",
     "evalue": "'Section'",
     "output_type": "error",
     "traceback": [
      "\u001b[1;31m---------------------------------------------------------------------------\u001b[0m",
      "\u001b[1;31mKeyError\u001b[0m                                  Traceback (most recent call last)",
      "Cell \u001b[1;32mIn[4], line 2\u001b[0m\n\u001b[0;32m      1\u001b[0m \u001b[38;5;66;03m# Calculate std dev for each section\u001b[39;00m\n\u001b[1;32m----> 2\u001b[0m std_df \u001b[38;5;241m=\u001b[39m \u001b[43mdf\u001b[49m\u001b[38;5;241;43m.\u001b[39;49m\u001b[43mgroupby\u001b[49m\u001b[43m(\u001b[49m\u001b[38;5;124;43m\"\u001b[39;49m\u001b[38;5;124;43mSection\u001b[39;49m\u001b[38;5;124;43m\"\u001b[39;49m\u001b[43m)\u001b[49m[\u001b[38;5;124m\"\u001b[39m\u001b[38;5;124mAnticipation\u001b[39m\u001b[38;5;124m\"\u001b[39m]\u001b[38;5;241m.\u001b[39magg(np\u001b[38;5;241m.\u001b[39mvar)\u001b[38;5;66;03m#.reset_index()\u001b[39;00m\n\u001b[0;32m      3\u001b[0m display(std_df)\n",
      "File \u001b[1;32mc:\\Users\\JB\\OneDrive\\Documents\\Python Projects\\Beer-Recommender\\beer-recommender-venv\\lib\\site-packages\\pandas\\core\\frame.py:9183\u001b[0m, in \u001b[0;36mDataFrame.groupby\u001b[1;34m(self, by, axis, level, as_index, sort, group_keys, observed, dropna)\u001b[0m\n\u001b[0;32m   9180\u001b[0m \u001b[38;5;28;01mif\u001b[39;00m level \u001b[38;5;129;01mis\u001b[39;00m \u001b[38;5;28;01mNone\u001b[39;00m \u001b[38;5;129;01mand\u001b[39;00m by \u001b[38;5;129;01mis\u001b[39;00m \u001b[38;5;28;01mNone\u001b[39;00m:\n\u001b[0;32m   9181\u001b[0m     \u001b[38;5;28;01mraise\u001b[39;00m \u001b[38;5;167;01mTypeError\u001b[39;00m(\u001b[38;5;124m\"\u001b[39m\u001b[38;5;124mYou have to supply one of \u001b[39m\u001b[38;5;124m'\u001b[39m\u001b[38;5;124mby\u001b[39m\u001b[38;5;124m'\u001b[39m\u001b[38;5;124m and \u001b[39m\u001b[38;5;124m'\u001b[39m\u001b[38;5;124mlevel\u001b[39m\u001b[38;5;124m'\u001b[39m\u001b[38;5;124m\"\u001b[39m)\n\u001b[1;32m-> 9183\u001b[0m \u001b[38;5;28;01mreturn\u001b[39;00m \u001b[43mDataFrameGroupBy\u001b[49m\u001b[43m(\u001b[49m\n\u001b[0;32m   9184\u001b[0m \u001b[43m    \u001b[49m\u001b[43mobj\u001b[49m\u001b[38;5;241;43m=\u001b[39;49m\u001b[38;5;28;43mself\u001b[39;49m\u001b[43m,\u001b[49m\n\u001b[0;32m   9185\u001b[0m \u001b[43m    \u001b[49m\u001b[43mkeys\u001b[49m\u001b[38;5;241;43m=\u001b[39;49m\u001b[43mby\u001b[49m\u001b[43m,\u001b[49m\n\u001b[0;32m   9186\u001b[0m \u001b[43m    \u001b[49m\u001b[43maxis\u001b[49m\u001b[38;5;241;43m=\u001b[39;49m\u001b[43maxis\u001b[49m\u001b[43m,\u001b[49m\n\u001b[0;32m   9187\u001b[0m \u001b[43m    \u001b[49m\u001b[43mlevel\u001b[49m\u001b[38;5;241;43m=\u001b[39;49m\u001b[43mlevel\u001b[49m\u001b[43m,\u001b[49m\n\u001b[0;32m   9188\u001b[0m \u001b[43m    \u001b[49m\u001b[43mas_index\u001b[49m\u001b[38;5;241;43m=\u001b[39;49m\u001b[43mas_index\u001b[49m\u001b[43m,\u001b[49m\n\u001b[0;32m   9189\u001b[0m \u001b[43m    \u001b[49m\u001b[43msort\u001b[49m\u001b[38;5;241;43m=\u001b[39;49m\u001b[43msort\u001b[49m\u001b[43m,\u001b[49m\n\u001b[0;32m   9190\u001b[0m \u001b[43m    \u001b[49m\u001b[43mgroup_keys\u001b[49m\u001b[38;5;241;43m=\u001b[39;49m\u001b[43mgroup_keys\u001b[49m\u001b[43m,\u001b[49m\n\u001b[0;32m   9191\u001b[0m \u001b[43m    \u001b[49m\u001b[43mobserved\u001b[49m\u001b[38;5;241;43m=\u001b[39;49m\u001b[43mobserved\u001b[49m\u001b[43m,\u001b[49m\n\u001b[0;32m   9192\u001b[0m \u001b[43m    \u001b[49m\u001b[43mdropna\u001b[49m\u001b[38;5;241;43m=\u001b[39;49m\u001b[43mdropna\u001b[49m\u001b[43m,\u001b[49m\n\u001b[0;32m   9193\u001b[0m \u001b[43m\u001b[49m\u001b[43m)\u001b[49m\n",
      "File \u001b[1;32mc:\\Users\\JB\\OneDrive\\Documents\\Python Projects\\Beer-Recommender\\beer-recommender-venv\\lib\\site-packages\\pandas\\core\\groupby\\groupby.py:1329\u001b[0m, in \u001b[0;36mGroupBy.__init__\u001b[1;34m(self, obj, keys, axis, level, grouper, exclusions, selection, as_index, sort, group_keys, observed, dropna)\u001b[0m\n\u001b[0;32m   1326\u001b[0m \u001b[38;5;28mself\u001b[39m\u001b[38;5;241m.\u001b[39mdropna \u001b[38;5;241m=\u001b[39m dropna\n\u001b[0;32m   1328\u001b[0m \u001b[38;5;28;01mif\u001b[39;00m grouper \u001b[38;5;129;01mis\u001b[39;00m \u001b[38;5;28;01mNone\u001b[39;00m:\n\u001b[1;32m-> 1329\u001b[0m     grouper, exclusions, obj \u001b[38;5;241m=\u001b[39m \u001b[43mget_grouper\u001b[49m\u001b[43m(\u001b[49m\n\u001b[0;32m   1330\u001b[0m \u001b[43m        \u001b[49m\u001b[43mobj\u001b[49m\u001b[43m,\u001b[49m\n\u001b[0;32m   1331\u001b[0m \u001b[43m        \u001b[49m\u001b[43mkeys\u001b[49m\u001b[43m,\u001b[49m\n\u001b[0;32m   1332\u001b[0m \u001b[43m        \u001b[49m\u001b[43maxis\u001b[49m\u001b[38;5;241;43m=\u001b[39;49m\u001b[43maxis\u001b[49m\u001b[43m,\u001b[49m\n\u001b[0;32m   1333\u001b[0m \u001b[43m        \u001b[49m\u001b[43mlevel\u001b[49m\u001b[38;5;241;43m=\u001b[39;49m\u001b[43mlevel\u001b[49m\u001b[43m,\u001b[49m\n\u001b[0;32m   1334\u001b[0m \u001b[43m        \u001b[49m\u001b[43msort\u001b[49m\u001b[38;5;241;43m=\u001b[39;49m\u001b[43msort\u001b[49m\u001b[43m,\u001b[49m\n\u001b[0;32m   1335\u001b[0m \u001b[43m        \u001b[49m\u001b[43mobserved\u001b[49m\u001b[38;5;241;43m=\u001b[39;49m\u001b[38;5;28;43;01mFalse\u001b[39;49;00m\u001b[43m \u001b[49m\u001b[38;5;28;43;01mif\u001b[39;49;00m\u001b[43m \u001b[49m\u001b[43mobserved\u001b[49m\u001b[43m \u001b[49m\u001b[38;5;129;43;01mis\u001b[39;49;00m\u001b[43m \u001b[49m\u001b[43mlib\u001b[49m\u001b[38;5;241;43m.\u001b[39;49m\u001b[43mno_default\u001b[49m\u001b[43m \u001b[49m\u001b[38;5;28;43;01melse\u001b[39;49;00m\u001b[43m \u001b[49m\u001b[43mobserved\u001b[49m\u001b[43m,\u001b[49m\n\u001b[0;32m   1336\u001b[0m \u001b[43m        \u001b[49m\u001b[43mdropna\u001b[49m\u001b[38;5;241;43m=\u001b[39;49m\u001b[38;5;28;43mself\u001b[39;49m\u001b[38;5;241;43m.\u001b[39;49m\u001b[43mdropna\u001b[49m\u001b[43m,\u001b[49m\n\u001b[0;32m   1337\u001b[0m \u001b[43m    \u001b[49m\u001b[43m)\u001b[49m\n\u001b[0;32m   1339\u001b[0m \u001b[38;5;28;01mif\u001b[39;00m observed \u001b[38;5;129;01mis\u001b[39;00m lib\u001b[38;5;241m.\u001b[39mno_default:\n\u001b[0;32m   1340\u001b[0m     \u001b[38;5;28;01mif\u001b[39;00m \u001b[38;5;28many\u001b[39m(ping\u001b[38;5;241m.\u001b[39m_passed_categorical \u001b[38;5;28;01mfor\u001b[39;00m ping \u001b[38;5;129;01min\u001b[39;00m grouper\u001b[38;5;241m.\u001b[39mgroupings):\n",
      "File \u001b[1;32mc:\\Users\\JB\\OneDrive\\Documents\\Python Projects\\Beer-Recommender\\beer-recommender-venv\\lib\\site-packages\\pandas\\core\\groupby\\grouper.py:1043\u001b[0m, in \u001b[0;36mget_grouper\u001b[1;34m(obj, key, axis, level, sort, observed, validate, dropna)\u001b[0m\n\u001b[0;32m   1041\u001b[0m         in_axis, level, gpr \u001b[38;5;241m=\u001b[39m \u001b[38;5;28;01mFalse\u001b[39;00m, gpr, \u001b[38;5;28;01mNone\u001b[39;00m\n\u001b[0;32m   1042\u001b[0m     \u001b[38;5;28;01melse\u001b[39;00m:\n\u001b[1;32m-> 1043\u001b[0m         \u001b[38;5;28;01mraise\u001b[39;00m \u001b[38;5;167;01mKeyError\u001b[39;00m(gpr)\n\u001b[0;32m   1044\u001b[0m \u001b[38;5;28;01melif\u001b[39;00m \u001b[38;5;28misinstance\u001b[39m(gpr, Grouper) \u001b[38;5;129;01mand\u001b[39;00m gpr\u001b[38;5;241m.\u001b[39mkey \u001b[38;5;129;01mis\u001b[39;00m \u001b[38;5;129;01mnot\u001b[39;00m \u001b[38;5;28;01mNone\u001b[39;00m:\n\u001b[0;32m   1045\u001b[0m     \u001b[38;5;66;03m# Add key to exclusions\u001b[39;00m\n\u001b[0;32m   1046\u001b[0m     exclusions\u001b[38;5;241m.\u001b[39madd(gpr\u001b[38;5;241m.\u001b[39mkey)\n",
      "\u001b[1;31mKeyError\u001b[0m: 'Section'"
     ]
    }
   ],
   "source": [
    "# Calculate std dev for each section\n",
    "std_df = df.groupby(\"Section\")[\"Anticipation\"].agg(np.var)#.reset_index()\n",
    "display(std_df)"
   ]
  },
  {
   "cell_type": "code",
   "execution_count": 5,
   "id": "24782a89-1a64-427a-b6b1-28bb02652e3b",
   "metadata": {
    "tags": []
   },
   "outputs": [],
   "source": [
    "# Best paddles from each section\n",
    "# display(df.groupby(\"Section\")[\"Anticipation\"].nlargest(5, keep=\"all\").sort_index())\n",
    "\n",
    "# Create a column combining all text descriptor fields\n",
    "df['words'] = [str(name).strip().upper() + ' '\n",
    "               + str(style).strip().upper() + ' '\n",
    "               + str(description).strip().upper()\n",
    "               for name, style, description\n",
    "               in zip(df['name'], df['style'], df['desc'])]\n",
    "\n",
    "# TF-IDF vectorisation on description to find most unique beers?\n",
    "X = TfidfVectorizer().fit_transform([re.sub(r'[\\s]+', ' ', re.sub(r'[\\W]', ' ', x)).upper().strip() for x in df.words])\n",
    "# Average of TF-IDF?\n",
    "beer_uniqueness_mean = pd.Series(np.array(np.mean(X, axis=1)).flatten())\n",
    "# Cosine similarity? (and then average)\n",
    "beer_uniqueness_cos = pd.Series(1 - np.mean(cosine_similarity(X), axis=1))\n",
    "# Euclidean distances? (and then average)\n",
    "beer_uniqueness_euc = pd.Series(np.mean(euclidean_distances(X), axis=1))\n",
    "\n",
    "# Choose one\n",
    "df['beer_uniqueness'] = beer_uniqueness_cos\n",
    "\n"
   ]
  },
  {
   "cell_type": "code",
   "execution_count": 7,
   "id": "1a57cac0",
   "metadata": {},
   "outputs": [
    {
     "data": {
      "text/plain": [
       "matrix([[0., 0., 0., ..., 0., 0., 0.],\n",
       "        [0., 0., 0., ..., 0., 0., 0.],\n",
       "        [0., 0., 0., ..., 0., 0., 0.],\n",
       "        ...,\n",
       "        [0., 0., 0., ..., 0., 0., 0.],\n",
       "        [0., 0., 0., ..., 0., 0., 0.],\n",
       "        [0., 0., 0., ..., 0., 0., 0.]])"
      ]
     },
     "execution_count": 7,
     "metadata": {},
     "output_type": "execute_result"
    }
   ],
   "source": [
    "X.todense()"
   ]
  },
  {
   "cell_type": "code",
   "execution_count": 6,
   "id": "7448eb81-64db-4f34-920d-fb71a3d4dc38",
   "metadata": {
    "tags": []
   },
   "outputs": [
    {
     "data": {
      "text/plain": [
       "array([[0.        , 1.40979791, 1.39061823, ..., 1.37109772, 1.38991739,\n",
       "        1.40254719],\n",
       "       [1.40979791, 0.        , 1.40920329, ..., 1.38928395, 1.41030093,\n",
       "        1.40222247],\n",
       "       [1.39061823, 1.40920329, 0.        , ..., 1.35620476, 1.37760619,\n",
       "        1.38837476],\n",
       "       ...,\n",
       "       [1.37109772, 1.38928395, 1.35620476, ..., 0.        , 1.36226433,\n",
       "        1.37966043],\n",
       "       [1.38991739, 1.41030093, 1.37760619, ..., 1.36226433, 0.        ,\n",
       "        1.20377467],\n",
       "       [1.40254719, 1.40222247, 1.38837476, ..., 1.37966043, 1.20377467,\n",
       "        0.        ]])"
      ]
     },
     "execution_count": 6,
     "metadata": {},
     "output_type": "execute_result"
    }
   ],
   "source": [
    "euclidean_distances(X)"
   ]
  },
  {
   "cell_type": "code",
   "execution_count": 7,
   "id": "36d0b591-c535-4290-8311-c9c279079681",
   "metadata": {
    "tags": []
   },
   "outputs": [
    {
     "ename": "KeyError",
     "evalue": "'Section'",
     "output_type": "error",
     "traceback": [
      "\u001b[1;31m---------------------------------------------------------------------------\u001b[0m",
      "\u001b[1;31mKeyError\u001b[0m                                  Traceback (most recent call last)",
      "Cell \u001b[1;32mIn[7], line 15\u001b[0m\n\u001b[0;32m     11\u001b[0m temp_df \u001b[38;5;241m=\u001b[39m df[df\u001b[38;5;241m.\u001b[39mindex\u001b[38;5;241m.\u001b[39misin(\u001b[38;5;28mlist\u001b[39m(all_beers))]\n\u001b[0;32m     13\u001b[0m \u001b[38;5;66;03m# Find the section with the best paddle\u001b[39;00m\n\u001b[0;32m     14\u001b[0m sec \u001b[38;5;241m=\u001b[39m \u001b[43mtemp_df\u001b[49m\u001b[38;5;241;43m.\u001b[39;49m\u001b[43msort_values\u001b[49m\u001b[43m(\u001b[49m\u001b[38;5;124;43m\"\u001b[39;49m\u001b[38;5;124;43mbeer_uniqueness\u001b[39;49m\u001b[38;5;124;43m\"\u001b[39;49m\u001b[43m,\u001b[49m\u001b[43m \u001b[49m\u001b[43mascending\u001b[49m\u001b[38;5;241;43m=\u001b[39;49m\u001b[38;5;28;43;01mFalse\u001b[39;49;00m\u001b[43m)\u001b[49m\u001b[43m \u001b[49m\u001b[43m\\\u001b[49m\n\u001b[1;32m---> 15\u001b[0m \u001b[43m        \u001b[49m\u001b[38;5;241;43m.\u001b[39;49m\u001b[43mgroupby\u001b[49m\u001b[43m(\u001b[49m\u001b[38;5;124;43m\"\u001b[39;49m\u001b[38;5;124;43mSection\u001b[39;49m\u001b[38;5;124;43m\"\u001b[39;49m\u001b[43m)\u001b[49m[\u001b[38;5;124m\"\u001b[39m\u001b[38;5;124mAnticipation\u001b[39m\u001b[38;5;124m\"\u001b[39m]\u001b[38;5;241m.\u001b[39mnlargest(\u001b[38;5;241m5\u001b[39m)\u001b[38;5;241m.\u001b[39mreset_index() \\\n\u001b[0;32m     16\u001b[0m         \u001b[38;5;241m.\u001b[39mgroupby(\u001b[38;5;124m\"\u001b[39m\u001b[38;5;124mSection\u001b[39m\u001b[38;5;124m\"\u001b[39m) \\\n\u001b[0;32m     17\u001b[0m         \u001b[38;5;241m.\u001b[39magg(\u001b[38;5;124m\"\u001b[39m\u001b[38;5;124msum\u001b[39m\u001b[38;5;124m\"\u001b[39m) \\\n\u001b[0;32m     18\u001b[0m         \u001b[38;5;241m.\u001b[39mjoin(pd\u001b[38;5;241m.\u001b[39mDataFrame(std_df)\u001b[38;5;241m.\u001b[39mrename(columns\u001b[38;5;241m=\u001b[39m{\u001b[38;5;124m\"\u001b[39m\u001b[38;5;124mAnticipation\u001b[39m\u001b[38;5;124m\"\u001b[39m:\u001b[38;5;124m\"\u001b[39m\u001b[38;5;124mstd\u001b[39m\u001b[38;5;124m\"\u001b[39m}), on\u001b[38;5;241m=\u001b[39m\u001b[38;5;124m\"\u001b[39m\u001b[38;5;124mSection\u001b[39m\u001b[38;5;124m\"\u001b[39m) \\\n\u001b[0;32m     19\u001b[0m         \u001b[38;5;241m.\u001b[39msort_values([\u001b[38;5;124m\"\u001b[39m\u001b[38;5;124mAnticipation\u001b[39m\u001b[38;5;124m\"\u001b[39m, \u001b[38;5;124m\"\u001b[39m\u001b[38;5;124mstd\u001b[39m\u001b[38;5;124m\"\u001b[39m], ascending\u001b[38;5;241m=\u001b[39m\u001b[38;5;28;01mFalse\u001b[39;00m) \\\n\u001b[0;32m     20\u001b[0m         \u001b[38;5;241m.\u001b[39mindex[\u001b[38;5;241m0\u001b[39m]\n\u001b[0;32m     22\u001b[0m \u001b[38;5;66;03m# Get that paddle\u001b[39;00m\n\u001b[0;32m     23\u001b[0m paddle \u001b[38;5;241m=\u001b[39m \u001b[38;5;28mlist\u001b[39m(temp_df[temp_df\u001b[38;5;241m.\u001b[39mSection\u001b[38;5;241m==\u001b[39msec]\u001b[38;5;241m.\u001b[39msort_values([\u001b[38;5;124m\"\u001b[39m\u001b[38;5;124mAnticipation\u001b[39m\u001b[38;5;124m\"\u001b[39m, \u001b[38;5;124m\"\u001b[39m\u001b[38;5;124mbeer_uniqueness\u001b[39m\u001b[38;5;124m\"\u001b[39m], ascending\u001b[38;5;241m=\u001b[39m[\u001b[38;5;28;01mFalse\u001b[39;00m, \u001b[38;5;28;01mFalse\u001b[39;00m])\u001b[38;5;241m.\u001b[39mhead(\u001b[38;5;241m5\u001b[39m)\u001b[38;5;241m.\u001b[39mreset_index()\u001b[38;5;241m.\u001b[39mNumber)\n",
      "File \u001b[1;32mc:\\Users\\JB\\OneDrive\\Documents\\Python Projects\\Beer-Recommender\\beer-recommender-venv\\lib\\site-packages\\pandas\\core\\frame.py:9183\u001b[0m, in \u001b[0;36mDataFrame.groupby\u001b[1;34m(self, by, axis, level, as_index, sort, group_keys, observed, dropna)\u001b[0m\n\u001b[0;32m   9180\u001b[0m \u001b[38;5;28;01mif\u001b[39;00m level \u001b[38;5;129;01mis\u001b[39;00m \u001b[38;5;28;01mNone\u001b[39;00m \u001b[38;5;129;01mand\u001b[39;00m by \u001b[38;5;129;01mis\u001b[39;00m \u001b[38;5;28;01mNone\u001b[39;00m:\n\u001b[0;32m   9181\u001b[0m     \u001b[38;5;28;01mraise\u001b[39;00m \u001b[38;5;167;01mTypeError\u001b[39;00m(\u001b[38;5;124m\"\u001b[39m\u001b[38;5;124mYou have to supply one of \u001b[39m\u001b[38;5;124m'\u001b[39m\u001b[38;5;124mby\u001b[39m\u001b[38;5;124m'\u001b[39m\u001b[38;5;124m and \u001b[39m\u001b[38;5;124m'\u001b[39m\u001b[38;5;124mlevel\u001b[39m\u001b[38;5;124m'\u001b[39m\u001b[38;5;124m\"\u001b[39m)\n\u001b[1;32m-> 9183\u001b[0m \u001b[38;5;28;01mreturn\u001b[39;00m \u001b[43mDataFrameGroupBy\u001b[49m\u001b[43m(\u001b[49m\n\u001b[0;32m   9184\u001b[0m \u001b[43m    \u001b[49m\u001b[43mobj\u001b[49m\u001b[38;5;241;43m=\u001b[39;49m\u001b[38;5;28;43mself\u001b[39;49m\u001b[43m,\u001b[49m\n\u001b[0;32m   9185\u001b[0m \u001b[43m    \u001b[49m\u001b[43mkeys\u001b[49m\u001b[38;5;241;43m=\u001b[39;49m\u001b[43mby\u001b[49m\u001b[43m,\u001b[49m\n\u001b[0;32m   9186\u001b[0m \u001b[43m    \u001b[49m\u001b[43maxis\u001b[49m\u001b[38;5;241;43m=\u001b[39;49m\u001b[43maxis\u001b[49m\u001b[43m,\u001b[49m\n\u001b[0;32m   9187\u001b[0m \u001b[43m    \u001b[49m\u001b[43mlevel\u001b[49m\u001b[38;5;241;43m=\u001b[39;49m\u001b[43mlevel\u001b[49m\u001b[43m,\u001b[49m\n\u001b[0;32m   9188\u001b[0m \u001b[43m    \u001b[49m\u001b[43mas_index\u001b[49m\u001b[38;5;241;43m=\u001b[39;49m\u001b[43mas_index\u001b[49m\u001b[43m,\u001b[49m\n\u001b[0;32m   9189\u001b[0m \u001b[43m    \u001b[49m\u001b[43msort\u001b[49m\u001b[38;5;241;43m=\u001b[39;49m\u001b[43msort\u001b[49m\u001b[43m,\u001b[49m\n\u001b[0;32m   9190\u001b[0m \u001b[43m    \u001b[49m\u001b[43mgroup_keys\u001b[49m\u001b[38;5;241;43m=\u001b[39;49m\u001b[43mgroup_keys\u001b[49m\u001b[43m,\u001b[49m\n\u001b[0;32m   9191\u001b[0m \u001b[43m    \u001b[49m\u001b[43mobserved\u001b[49m\u001b[38;5;241;43m=\u001b[39;49m\u001b[43mobserved\u001b[49m\u001b[43m,\u001b[49m\n\u001b[0;32m   9192\u001b[0m \u001b[43m    \u001b[49m\u001b[43mdropna\u001b[49m\u001b[38;5;241;43m=\u001b[39;49m\u001b[43mdropna\u001b[49m\u001b[43m,\u001b[49m\n\u001b[0;32m   9193\u001b[0m \u001b[43m\u001b[49m\u001b[43m)\u001b[49m\n",
      "File \u001b[1;32mc:\\Users\\JB\\OneDrive\\Documents\\Python Projects\\Beer-Recommender\\beer-recommender-venv\\lib\\site-packages\\pandas\\core\\groupby\\groupby.py:1329\u001b[0m, in \u001b[0;36mGroupBy.__init__\u001b[1;34m(self, obj, keys, axis, level, grouper, exclusions, selection, as_index, sort, group_keys, observed, dropna)\u001b[0m\n\u001b[0;32m   1326\u001b[0m \u001b[38;5;28mself\u001b[39m\u001b[38;5;241m.\u001b[39mdropna \u001b[38;5;241m=\u001b[39m dropna\n\u001b[0;32m   1328\u001b[0m \u001b[38;5;28;01mif\u001b[39;00m grouper \u001b[38;5;129;01mis\u001b[39;00m \u001b[38;5;28;01mNone\u001b[39;00m:\n\u001b[1;32m-> 1329\u001b[0m     grouper, exclusions, obj \u001b[38;5;241m=\u001b[39m \u001b[43mget_grouper\u001b[49m\u001b[43m(\u001b[49m\n\u001b[0;32m   1330\u001b[0m \u001b[43m        \u001b[49m\u001b[43mobj\u001b[49m\u001b[43m,\u001b[49m\n\u001b[0;32m   1331\u001b[0m \u001b[43m        \u001b[49m\u001b[43mkeys\u001b[49m\u001b[43m,\u001b[49m\n\u001b[0;32m   1332\u001b[0m \u001b[43m        \u001b[49m\u001b[43maxis\u001b[49m\u001b[38;5;241;43m=\u001b[39;49m\u001b[43maxis\u001b[49m\u001b[43m,\u001b[49m\n\u001b[0;32m   1333\u001b[0m \u001b[43m        \u001b[49m\u001b[43mlevel\u001b[49m\u001b[38;5;241;43m=\u001b[39;49m\u001b[43mlevel\u001b[49m\u001b[43m,\u001b[49m\n\u001b[0;32m   1334\u001b[0m \u001b[43m        \u001b[49m\u001b[43msort\u001b[49m\u001b[38;5;241;43m=\u001b[39;49m\u001b[43msort\u001b[49m\u001b[43m,\u001b[49m\n\u001b[0;32m   1335\u001b[0m \u001b[43m        \u001b[49m\u001b[43mobserved\u001b[49m\u001b[38;5;241;43m=\u001b[39;49m\u001b[38;5;28;43;01mFalse\u001b[39;49;00m\u001b[43m \u001b[49m\u001b[38;5;28;43;01mif\u001b[39;49;00m\u001b[43m \u001b[49m\u001b[43mobserved\u001b[49m\u001b[43m \u001b[49m\u001b[38;5;129;43;01mis\u001b[39;49;00m\u001b[43m \u001b[49m\u001b[43mlib\u001b[49m\u001b[38;5;241;43m.\u001b[39;49m\u001b[43mno_default\u001b[49m\u001b[43m \u001b[49m\u001b[38;5;28;43;01melse\u001b[39;49;00m\u001b[43m \u001b[49m\u001b[43mobserved\u001b[49m\u001b[43m,\u001b[49m\n\u001b[0;32m   1336\u001b[0m \u001b[43m        \u001b[49m\u001b[43mdropna\u001b[49m\u001b[38;5;241;43m=\u001b[39;49m\u001b[38;5;28;43mself\u001b[39;49m\u001b[38;5;241;43m.\u001b[39;49m\u001b[43mdropna\u001b[49m\u001b[43m,\u001b[49m\n\u001b[0;32m   1337\u001b[0m \u001b[43m    \u001b[49m\u001b[43m)\u001b[49m\n\u001b[0;32m   1339\u001b[0m \u001b[38;5;28;01mif\u001b[39;00m observed \u001b[38;5;129;01mis\u001b[39;00m lib\u001b[38;5;241m.\u001b[39mno_default:\n\u001b[0;32m   1340\u001b[0m     \u001b[38;5;28;01mif\u001b[39;00m \u001b[38;5;28many\u001b[39m(ping\u001b[38;5;241m.\u001b[39m_passed_categorical \u001b[38;5;28;01mfor\u001b[39;00m ping \u001b[38;5;129;01min\u001b[39;00m grouper\u001b[38;5;241m.\u001b[39mgroupings):\n",
      "File \u001b[1;32mc:\\Users\\JB\\OneDrive\\Documents\\Python Projects\\Beer-Recommender\\beer-recommender-venv\\lib\\site-packages\\pandas\\core\\groupby\\grouper.py:1043\u001b[0m, in \u001b[0;36mget_grouper\u001b[1;34m(obj, key, axis, level, sort, observed, validate, dropna)\u001b[0m\n\u001b[0;32m   1041\u001b[0m         in_axis, level, gpr \u001b[38;5;241m=\u001b[39m \u001b[38;5;28;01mFalse\u001b[39;00m, gpr, \u001b[38;5;28;01mNone\u001b[39;00m\n\u001b[0;32m   1042\u001b[0m     \u001b[38;5;28;01melse\u001b[39;00m:\n\u001b[1;32m-> 1043\u001b[0m         \u001b[38;5;28;01mraise\u001b[39;00m \u001b[38;5;167;01mKeyError\u001b[39;00m(gpr)\n\u001b[0;32m   1044\u001b[0m \u001b[38;5;28;01melif\u001b[39;00m \u001b[38;5;28misinstance\u001b[39m(gpr, Grouper) \u001b[38;5;129;01mand\u001b[39;00m gpr\u001b[38;5;241m.\u001b[39mkey \u001b[38;5;129;01mis\u001b[39;00m \u001b[38;5;129;01mnot\u001b[39;00m \u001b[38;5;28;01mNone\u001b[39;00m:\n\u001b[0;32m   1045\u001b[0m     \u001b[38;5;66;03m# Add key to exclusions\u001b[39;00m\n\u001b[0;32m   1046\u001b[0m     exclusions\u001b[38;5;241m.\u001b[39madd(gpr\u001b[38;5;241m.\u001b[39mkey)\n",
      "\u001b[1;31mKeyError\u001b[0m: 'Section'"
     ]
    }
   ],
   "source": [
    "# Interesting, I might maximise utility by getting a second paddle\n",
    "# from a section before the first from another.\n",
    "\n",
    "# Not ideal, but a while loop I guess?\n",
    "all_beers = set(df.index)\n",
    "paddle_index = 1\n",
    "paddle_list = dict()\n",
    "while len(all_beers) > 0:\n",
    "    \n",
    "    # Subset beer list\n",
    "    temp_df = df[df.index.isin(list(all_beers))]\n",
    "    \n",
    "    # Find the section with the best paddle\n",
    "    sec = temp_df.sort_values(\"beer_uniqueness\", ascending=False) \\\n",
    "            .groupby(\"Section\")[\"Anticipation\"].nlargest(5).reset_index() \\\n",
    "            .groupby(\"Section\") \\\n",
    "            .agg(\"sum\") \\\n",
    "            .join(pd.DataFrame(std_df).rename(columns={\"Anticipation\":\"std\"}), on=\"Section\") \\\n",
    "            .sort_values([\"Anticipation\", \"std\"], ascending=False) \\\n",
    "            .index[0]\n",
    "    \n",
    "    # Get that paddle\n",
    "    paddle = list(temp_df[temp_df.Section==sec].sort_values([\"Anticipation\", \"beer_uniqueness\"], ascending=[False, False]).head(5).reset_index().Number)\n",
    "    \n",
    "    # Store that paddle\n",
    "    paddle_list[str(paddle_index)] = (f'Section {sec}', paddle)\n",
    "    \n",
    "    # Increment paddle index\n",
    "    paddle_index += 1\n",
    "    \n",
    "    # Update remaining beers\n",
    "    all_beers = all_beers - set(paddle)\n",
    "\n",
    "# Display results\n",
    "for key, value in paddle_list.items():\n",
    "    print(f'{key}: ', value)"
   ]
  },
  {
   "cell_type": "code",
   "execution_count": 8,
   "id": "a6112a7c-6a7a-47cc-b58e-a25fdb1148bb",
   "metadata": {
    "tags": []
   },
   "outputs": [
    {
     "data": {
      "text/html": [
       "<div>\n",
       "<style scoped>\n",
       "    .dataframe tbody tr th:only-of-type {\n",
       "        vertical-align: middle;\n",
       "    }\n",
       "\n",
       "    .dataframe tbody tr th {\n",
       "        vertical-align: top;\n",
       "    }\n",
       "\n",
       "    .dataframe thead th {\n",
       "        text-align: right;\n",
       "    }\n",
       "</style>\n",
       "<table border=\"1\" class=\"dataframe\">\n",
       "  <thead>\n",
       "    <tr style=\"text-align: right;\">\n",
       "      <th></th>\n",
       "      <th>Rank</th>\n",
       "      <th>Section</th>\n",
       "      <th>Beer 1</th>\n",
       "      <th>Beer 2</th>\n",
       "      <th>Beer 3</th>\n",
       "      <th>Beer 4</th>\n",
       "      <th>Beer 5</th>\n",
       "    </tr>\n",
       "  </thead>\n",
       "  <tbody>\n",
       "  </tbody>\n",
       "</table>\n",
       "</div>"
      ],
      "text/plain": [
       "Empty DataFrame\n",
       "Columns: [Rank, Section, Beer 1, Beer 2, Beer 3, Beer 4, Beer 5]\n",
       "Index: []"
      ]
     },
     "metadata": {},
     "output_type": "display_data"
    }
   ],
   "source": [
    "# Display Results\n",
    "rank = []\n",
    "section = []\n",
    "beer1 = []\n",
    "beer2 = []\n",
    "beer3 = []\n",
    "beer4 = []\n",
    "beer5 = []\n",
    "for key, value in paddle_list.items():\n",
    "    rank.append(key)\n",
    "    section.append(value[0])\n",
    "    beer1.append(value[1][0])\n",
    "    beer2.append(value[1][1])\n",
    "    beer3.append(value[1][2])\n",
    "    beer4.append(value[1][3])\n",
    "    beer5.append(value[1][4])\n",
    "    \n",
    "god_tier_paddle_tiers_df = pd.DataFrame({\"Rank\":rank,\n",
    "                                         \"Section\":section,\n",
    "                                         \"Beer 1\":beer1,\n",
    "                                         \"Beer 2\":beer2,\n",
    "                                         \"Beer 3\":beer3,\n",
    "                                         \"Beer 4\":beer4,\n",
    "                                         \"Beer 5\":beer5})\n",
    "\n",
    "display(god_tier_paddle_tiers_df)"
   ]
  },
  {
   "cell_type": "code",
   "execution_count": 9,
   "id": "0a2c2af7-d6ad-4824-9fd2-12b60248bb19",
   "metadata": {
    "tags": []
   },
   "outputs": [
    {
     "ename": "ValueError",
     "evalue": "Value of 'x' is not the name of a column in 'data_frame'. Expected one of ['brewery', 'state', 'name', 'abv', 'style', 'desc', 'section', 'words', 'beer_uniqueness'] but received: Section",
     "output_type": "error",
     "traceback": [
      "\u001b[1;31m---------------------------------------------------------------------------\u001b[0m",
      "\u001b[1;31mValueError\u001b[0m                                Traceback (most recent call last)",
      "Cell \u001b[1;32mIn[9], line 1\u001b[0m\n\u001b[1;32m----> 1\u001b[0m fig \u001b[38;5;241m=\u001b[39m \u001b[43mpx\u001b[49m\u001b[38;5;241;43m.\u001b[39;49m\u001b[43mbox\u001b[49m\u001b[43m(\u001b[49m\u001b[43mdf\u001b[49m\u001b[43m,\u001b[49m\n\u001b[0;32m      2\u001b[0m \u001b[43m             \u001b[49m\u001b[43mx\u001b[49m\u001b[38;5;241;43m=\u001b[39;49m\u001b[38;5;124;43m\"\u001b[39;49m\u001b[38;5;124;43mSection\u001b[39;49m\u001b[38;5;124;43m\"\u001b[39;49m\u001b[43m,\u001b[49m\n\u001b[0;32m      3\u001b[0m \u001b[43m             \u001b[49m\u001b[43my\u001b[49m\u001b[38;5;241;43m=\u001b[39;49m\u001b[38;5;124;43m\"\u001b[39;49m\u001b[38;5;124;43mAnticipation\u001b[39;49m\u001b[38;5;124;43m\"\u001b[39;49m\u001b[43m)\u001b[49m\n\u001b[0;32m      4\u001b[0m fig\u001b[38;5;241m.\u001b[39mshow()\n",
      "File \u001b[1;32mc:\\Users\\JB\\OneDrive\\Documents\\Python Projects\\Beer-Recommender\\beer-recommender-venv\\lib\\site-packages\\plotly\\express\\_chart_types.py:666\u001b[0m, in \u001b[0;36mbox\u001b[1;34m(data_frame, x, y, color, facet_row, facet_col, facet_col_wrap, facet_row_spacing, facet_col_spacing, hover_name, hover_data, custom_data, animation_frame, animation_group, category_orders, labels, color_discrete_sequence, color_discrete_map, orientation, boxmode, log_x, log_y, range_x, range_y, points, notched, title, template, width, height)\u001b[0m\n\u001b[0;32m    625\u001b[0m \u001b[38;5;28;01mdef\u001b[39;00m \u001b[38;5;21mbox\u001b[39m(\n\u001b[0;32m    626\u001b[0m     data_frame\u001b[38;5;241m=\u001b[39m\u001b[38;5;28;01mNone\u001b[39;00m,\n\u001b[0;32m    627\u001b[0m     x\u001b[38;5;241m=\u001b[39m\u001b[38;5;28;01mNone\u001b[39;00m,\n\u001b[1;32m   (...)\u001b[0m\n\u001b[0;32m    655\u001b[0m     height\u001b[38;5;241m=\u001b[39m\u001b[38;5;28;01mNone\u001b[39;00m,\n\u001b[0;32m    656\u001b[0m ) \u001b[38;5;241m-\u001b[39m\u001b[38;5;241m>\u001b[39m go\u001b[38;5;241m.\u001b[39mFigure:\n\u001b[0;32m    657\u001b[0m \u001b[38;5;250m    \u001b[39m\u001b[38;5;124;03m\"\"\"\u001b[39;00m\n\u001b[0;32m    658\u001b[0m \u001b[38;5;124;03m    In a box plot, rows of `data_frame` are grouped together into a\u001b[39;00m\n\u001b[0;32m    659\u001b[0m \u001b[38;5;124;03m    box-and-whisker mark to visualize their distribution.\u001b[39;00m\n\u001b[1;32m   (...)\u001b[0m\n\u001b[0;32m    664\u001b[0m \u001b[38;5;124;03m    range (IQR: Q3-Q1), see \"points\" for other options.\u001b[39;00m\n\u001b[0;32m    665\u001b[0m \u001b[38;5;124;03m    \"\"\"\u001b[39;00m\n\u001b[1;32m--> 666\u001b[0m     \u001b[38;5;28;01mreturn\u001b[39;00m \u001b[43mmake_figure\u001b[49m\u001b[43m(\u001b[49m\n\u001b[0;32m    667\u001b[0m \u001b[43m        \u001b[49m\u001b[43margs\u001b[49m\u001b[38;5;241;43m=\u001b[39;49m\u001b[38;5;28;43mlocals\u001b[39;49m\u001b[43m(\u001b[49m\u001b[43m)\u001b[49m\u001b[43m,\u001b[49m\n\u001b[0;32m    668\u001b[0m \u001b[43m        \u001b[49m\u001b[43mconstructor\u001b[49m\u001b[38;5;241;43m=\u001b[39;49m\u001b[43mgo\u001b[49m\u001b[38;5;241;43m.\u001b[39;49m\u001b[43mBox\u001b[49m\u001b[43m,\u001b[49m\n\u001b[0;32m    669\u001b[0m \u001b[43m        \u001b[49m\u001b[43mtrace_patch\u001b[49m\u001b[38;5;241;43m=\u001b[39;49m\u001b[38;5;28;43mdict\u001b[39;49m\u001b[43m(\u001b[49m\u001b[43mboxpoints\u001b[49m\u001b[38;5;241;43m=\u001b[39;49m\u001b[43mpoints\u001b[49m\u001b[43m,\u001b[49m\u001b[43m \u001b[49m\u001b[43mnotched\u001b[49m\u001b[38;5;241;43m=\u001b[39;49m\u001b[43mnotched\u001b[49m\u001b[43m,\u001b[49m\u001b[43m \u001b[49m\u001b[43mx0\u001b[49m\u001b[38;5;241;43m=\u001b[39;49m\u001b[38;5;124;43m\"\u001b[39;49m\u001b[38;5;124;43m \u001b[39;49m\u001b[38;5;124;43m\"\u001b[39;49m\u001b[43m,\u001b[49m\u001b[43m \u001b[49m\u001b[43my0\u001b[49m\u001b[38;5;241;43m=\u001b[39;49m\u001b[38;5;124;43m\"\u001b[39;49m\u001b[38;5;124;43m \u001b[39;49m\u001b[38;5;124;43m\"\u001b[39;49m\u001b[43m)\u001b[49m\u001b[43m,\u001b[49m\n\u001b[0;32m    670\u001b[0m \u001b[43m        \u001b[49m\u001b[43mlayout_patch\u001b[49m\u001b[38;5;241;43m=\u001b[39;49m\u001b[38;5;28;43mdict\u001b[39;49m\u001b[43m(\u001b[49m\u001b[43mboxmode\u001b[49m\u001b[38;5;241;43m=\u001b[39;49m\u001b[43mboxmode\u001b[49m\u001b[43m)\u001b[49m\u001b[43m,\u001b[49m\n\u001b[0;32m    671\u001b[0m \u001b[43m    \u001b[49m\u001b[43m)\u001b[49m\n",
      "File \u001b[1;32mc:\\Users\\JB\\OneDrive\\Documents\\Python Projects\\Beer-Recommender\\beer-recommender-venv\\lib\\site-packages\\plotly\\express\\_core.py:2090\u001b[0m, in \u001b[0;36mmake_figure\u001b[1;34m(args, constructor, trace_patch, layout_patch)\u001b[0m\n\u001b[0;32m   2087\u001b[0m layout_patch \u001b[38;5;241m=\u001b[39m layout_patch \u001b[38;5;129;01mor\u001b[39;00m {}\n\u001b[0;32m   2088\u001b[0m apply_default_cascade(args)\n\u001b[1;32m-> 2090\u001b[0m args \u001b[38;5;241m=\u001b[39m \u001b[43mbuild_dataframe\u001b[49m\u001b[43m(\u001b[49m\u001b[43margs\u001b[49m\u001b[43m,\u001b[49m\u001b[43m \u001b[49m\u001b[43mconstructor\u001b[49m\u001b[43m)\u001b[49m\n\u001b[0;32m   2091\u001b[0m \u001b[38;5;28;01mif\u001b[39;00m constructor \u001b[38;5;129;01min\u001b[39;00m [go\u001b[38;5;241m.\u001b[39mTreemap, go\u001b[38;5;241m.\u001b[39mSunburst, go\u001b[38;5;241m.\u001b[39mIcicle] \u001b[38;5;129;01mand\u001b[39;00m args[\u001b[38;5;124m\"\u001b[39m\u001b[38;5;124mpath\u001b[39m\u001b[38;5;124m\"\u001b[39m] \u001b[38;5;129;01mis\u001b[39;00m \u001b[38;5;129;01mnot\u001b[39;00m \u001b[38;5;28;01mNone\u001b[39;00m:\n\u001b[0;32m   2092\u001b[0m     args \u001b[38;5;241m=\u001b[39m process_dataframe_hierarchy(args)\n",
      "File \u001b[1;32mc:\\Users\\JB\\OneDrive\\Documents\\Python Projects\\Beer-Recommender\\beer-recommender-venv\\lib\\site-packages\\plotly\\express\\_core.py:1492\u001b[0m, in \u001b[0;36mbuild_dataframe\u001b[1;34m(args, constructor)\u001b[0m\n\u001b[0;32m   1489\u001b[0m     args[\u001b[38;5;124m\"\u001b[39m\u001b[38;5;124mcolor\u001b[39m\u001b[38;5;124m\"\u001b[39m] \u001b[38;5;241m=\u001b[39m \u001b[38;5;28;01mNone\u001b[39;00m\n\u001b[0;32m   1490\u001b[0m \u001b[38;5;66;03m# now that things have been prepped, we do the systematic rewriting of `args`\u001b[39;00m\n\u001b[1;32m-> 1492\u001b[0m df_output, wide_id_vars \u001b[38;5;241m=\u001b[39m \u001b[43mprocess_args_into_dataframe\u001b[49m\u001b[43m(\u001b[49m\n\u001b[0;32m   1493\u001b[0m \u001b[43m    \u001b[49m\u001b[43margs\u001b[49m\u001b[43m,\u001b[49m\u001b[43m \u001b[49m\u001b[43mwide_mode\u001b[49m\u001b[43m,\u001b[49m\u001b[43m \u001b[49m\u001b[43mvar_name\u001b[49m\u001b[43m,\u001b[49m\u001b[43m \u001b[49m\u001b[43mvalue_name\u001b[49m\n\u001b[0;32m   1494\u001b[0m \u001b[43m\u001b[49m\u001b[43m)\u001b[49m\n\u001b[0;32m   1496\u001b[0m \u001b[38;5;66;03m# now that `df_output` exists and `args` contains only references, we complete\u001b[39;00m\n\u001b[0;32m   1497\u001b[0m \u001b[38;5;66;03m# the special-case and wide-mode handling by further rewriting args and/or mutating\u001b[39;00m\n\u001b[0;32m   1498\u001b[0m \u001b[38;5;66;03m# df_output\u001b[39;00m\n\u001b[0;32m   1500\u001b[0m count_name \u001b[38;5;241m=\u001b[39m _escape_col_name(df_output, \u001b[38;5;124m\"\u001b[39m\u001b[38;5;124mcount\u001b[39m\u001b[38;5;124m\"\u001b[39m, [var_name, value_name])\n",
      "File \u001b[1;32mc:\\Users\\JB\\OneDrive\\Documents\\Python Projects\\Beer-Recommender\\beer-recommender-venv\\lib\\site-packages\\plotly\\express\\_core.py:1213\u001b[0m, in \u001b[0;36mprocess_args_into_dataframe\u001b[1;34m(args, wide_mode, var_name, value_name)\u001b[0m\n\u001b[0;32m   1211\u001b[0m         \u001b[38;5;28;01mif\u001b[39;00m argument \u001b[38;5;241m==\u001b[39m \u001b[38;5;124m\"\u001b[39m\u001b[38;5;124mindex\u001b[39m\u001b[38;5;124m\"\u001b[39m:\n\u001b[0;32m   1212\u001b[0m             err_msg \u001b[38;5;241m+\u001b[39m\u001b[38;5;241m=\u001b[39m \u001b[38;5;124m\"\u001b[39m\u001b[38;5;130;01m\\n\u001b[39;00m\u001b[38;5;124m To use the index, pass it in directly as `df.index`.\u001b[39m\u001b[38;5;124m\"\u001b[39m\n\u001b[1;32m-> 1213\u001b[0m         \u001b[38;5;28;01mraise\u001b[39;00m \u001b[38;5;167;01mValueError\u001b[39;00m(err_msg)\n\u001b[0;32m   1214\u001b[0m \u001b[38;5;28;01melif\u001b[39;00m length \u001b[38;5;129;01mand\u001b[39;00m \u001b[38;5;28mlen\u001b[39m(df_input[argument]) \u001b[38;5;241m!=\u001b[39m length:\n\u001b[0;32m   1215\u001b[0m     \u001b[38;5;28;01mraise\u001b[39;00m \u001b[38;5;167;01mValueError\u001b[39;00m(\n\u001b[0;32m   1216\u001b[0m         \u001b[38;5;124m\"\u001b[39m\u001b[38;5;124mAll arguments should have the same length. \u001b[39m\u001b[38;5;124m\"\u001b[39m\n\u001b[0;32m   1217\u001b[0m         \u001b[38;5;124m\"\u001b[39m\u001b[38;5;124mThe length of column argument `df[\u001b[39m\u001b[38;5;132;01m%s\u001b[39;00m\u001b[38;5;124m]` is \u001b[39m\u001b[38;5;132;01m%d\u001b[39;00m\u001b[38;5;124m, whereas the \u001b[39m\u001b[38;5;124m\"\u001b[39m\n\u001b[1;32m   (...)\u001b[0m\n\u001b[0;32m   1224\u001b[0m         )\n\u001b[0;32m   1225\u001b[0m     )\n",
      "\u001b[1;31mValueError\u001b[0m: Value of 'x' is not the name of a column in 'data_frame'. Expected one of ['brewery', 'state', 'name', 'abv', 'style', 'desc', 'section', 'words', 'beer_uniqueness'] but received: Section"
     ]
    }
   ],
   "source": [
    "fig = px.box(df,\n",
    "             x=\"Section\",\n",
    "             y=\"Anticipation\")\n",
    "fig.show()"
   ]
  },
  {
   "cell_type": "code",
   "execution_count": 10,
   "id": "5751878a-7809-4b52-9916-3d94ddb40181",
   "metadata": {
    "tags": []
   },
   "outputs": [
    {
     "ename": "KeyError",
     "evalue": "'Section'",
     "output_type": "error",
     "traceback": [
      "\u001b[1;31m---------------------------------------------------------------------------\u001b[0m",
      "\u001b[1;31mKeyError\u001b[0m                                  Traceback (most recent call last)",
      "Cell \u001b[1;32mIn[10], line 1\u001b[0m\n\u001b[1;32m----> 1\u001b[0m \u001b[43mdf\u001b[49m\u001b[38;5;241;43m.\u001b[39;49m\u001b[43mgroupby\u001b[49m\u001b[43m(\u001b[49m\u001b[38;5;124;43m\"\u001b[39;49m\u001b[38;5;124;43mSection\u001b[39;49m\u001b[38;5;124;43m\"\u001b[39;49m\u001b[43m)\u001b[49m[\u001b[38;5;124m\"\u001b[39m\u001b[38;5;124mAnticipation\u001b[39m\u001b[38;5;124m\"\u001b[39m]\u001b[38;5;241m.\u001b[39magg(np\u001b[38;5;241m.\u001b[39mstd)\u001b[38;5;241m.\u001b[39mreset_index()\n",
      "File \u001b[1;32mc:\\Users\\JB\\OneDrive\\Documents\\Python Projects\\Beer-Recommender\\beer-recommender-venv\\lib\\site-packages\\pandas\\core\\frame.py:9183\u001b[0m, in \u001b[0;36mDataFrame.groupby\u001b[1;34m(self, by, axis, level, as_index, sort, group_keys, observed, dropna)\u001b[0m\n\u001b[0;32m   9180\u001b[0m \u001b[38;5;28;01mif\u001b[39;00m level \u001b[38;5;129;01mis\u001b[39;00m \u001b[38;5;28;01mNone\u001b[39;00m \u001b[38;5;129;01mand\u001b[39;00m by \u001b[38;5;129;01mis\u001b[39;00m \u001b[38;5;28;01mNone\u001b[39;00m:\n\u001b[0;32m   9181\u001b[0m     \u001b[38;5;28;01mraise\u001b[39;00m \u001b[38;5;167;01mTypeError\u001b[39;00m(\u001b[38;5;124m\"\u001b[39m\u001b[38;5;124mYou have to supply one of \u001b[39m\u001b[38;5;124m'\u001b[39m\u001b[38;5;124mby\u001b[39m\u001b[38;5;124m'\u001b[39m\u001b[38;5;124m and \u001b[39m\u001b[38;5;124m'\u001b[39m\u001b[38;5;124mlevel\u001b[39m\u001b[38;5;124m'\u001b[39m\u001b[38;5;124m\"\u001b[39m)\n\u001b[1;32m-> 9183\u001b[0m \u001b[38;5;28;01mreturn\u001b[39;00m \u001b[43mDataFrameGroupBy\u001b[49m\u001b[43m(\u001b[49m\n\u001b[0;32m   9184\u001b[0m \u001b[43m    \u001b[49m\u001b[43mobj\u001b[49m\u001b[38;5;241;43m=\u001b[39;49m\u001b[38;5;28;43mself\u001b[39;49m\u001b[43m,\u001b[49m\n\u001b[0;32m   9185\u001b[0m \u001b[43m    \u001b[49m\u001b[43mkeys\u001b[49m\u001b[38;5;241;43m=\u001b[39;49m\u001b[43mby\u001b[49m\u001b[43m,\u001b[49m\n\u001b[0;32m   9186\u001b[0m \u001b[43m    \u001b[49m\u001b[43maxis\u001b[49m\u001b[38;5;241;43m=\u001b[39;49m\u001b[43maxis\u001b[49m\u001b[43m,\u001b[49m\n\u001b[0;32m   9187\u001b[0m \u001b[43m    \u001b[49m\u001b[43mlevel\u001b[49m\u001b[38;5;241;43m=\u001b[39;49m\u001b[43mlevel\u001b[49m\u001b[43m,\u001b[49m\n\u001b[0;32m   9188\u001b[0m \u001b[43m    \u001b[49m\u001b[43mas_index\u001b[49m\u001b[38;5;241;43m=\u001b[39;49m\u001b[43mas_index\u001b[49m\u001b[43m,\u001b[49m\n\u001b[0;32m   9189\u001b[0m \u001b[43m    \u001b[49m\u001b[43msort\u001b[49m\u001b[38;5;241;43m=\u001b[39;49m\u001b[43msort\u001b[49m\u001b[43m,\u001b[49m\n\u001b[0;32m   9190\u001b[0m \u001b[43m    \u001b[49m\u001b[43mgroup_keys\u001b[49m\u001b[38;5;241;43m=\u001b[39;49m\u001b[43mgroup_keys\u001b[49m\u001b[43m,\u001b[49m\n\u001b[0;32m   9191\u001b[0m \u001b[43m    \u001b[49m\u001b[43mobserved\u001b[49m\u001b[38;5;241;43m=\u001b[39;49m\u001b[43mobserved\u001b[49m\u001b[43m,\u001b[49m\n\u001b[0;32m   9192\u001b[0m \u001b[43m    \u001b[49m\u001b[43mdropna\u001b[49m\u001b[38;5;241;43m=\u001b[39;49m\u001b[43mdropna\u001b[49m\u001b[43m,\u001b[49m\n\u001b[0;32m   9193\u001b[0m \u001b[43m\u001b[49m\u001b[43m)\u001b[49m\n",
      "File \u001b[1;32mc:\\Users\\JB\\OneDrive\\Documents\\Python Projects\\Beer-Recommender\\beer-recommender-venv\\lib\\site-packages\\pandas\\core\\groupby\\groupby.py:1329\u001b[0m, in \u001b[0;36mGroupBy.__init__\u001b[1;34m(self, obj, keys, axis, level, grouper, exclusions, selection, as_index, sort, group_keys, observed, dropna)\u001b[0m\n\u001b[0;32m   1326\u001b[0m \u001b[38;5;28mself\u001b[39m\u001b[38;5;241m.\u001b[39mdropna \u001b[38;5;241m=\u001b[39m dropna\n\u001b[0;32m   1328\u001b[0m \u001b[38;5;28;01mif\u001b[39;00m grouper \u001b[38;5;129;01mis\u001b[39;00m \u001b[38;5;28;01mNone\u001b[39;00m:\n\u001b[1;32m-> 1329\u001b[0m     grouper, exclusions, obj \u001b[38;5;241m=\u001b[39m \u001b[43mget_grouper\u001b[49m\u001b[43m(\u001b[49m\n\u001b[0;32m   1330\u001b[0m \u001b[43m        \u001b[49m\u001b[43mobj\u001b[49m\u001b[43m,\u001b[49m\n\u001b[0;32m   1331\u001b[0m \u001b[43m        \u001b[49m\u001b[43mkeys\u001b[49m\u001b[43m,\u001b[49m\n\u001b[0;32m   1332\u001b[0m \u001b[43m        \u001b[49m\u001b[43maxis\u001b[49m\u001b[38;5;241;43m=\u001b[39;49m\u001b[43maxis\u001b[49m\u001b[43m,\u001b[49m\n\u001b[0;32m   1333\u001b[0m \u001b[43m        \u001b[49m\u001b[43mlevel\u001b[49m\u001b[38;5;241;43m=\u001b[39;49m\u001b[43mlevel\u001b[49m\u001b[43m,\u001b[49m\n\u001b[0;32m   1334\u001b[0m \u001b[43m        \u001b[49m\u001b[43msort\u001b[49m\u001b[38;5;241;43m=\u001b[39;49m\u001b[43msort\u001b[49m\u001b[43m,\u001b[49m\n\u001b[0;32m   1335\u001b[0m \u001b[43m        \u001b[49m\u001b[43mobserved\u001b[49m\u001b[38;5;241;43m=\u001b[39;49m\u001b[38;5;28;43;01mFalse\u001b[39;49;00m\u001b[43m \u001b[49m\u001b[38;5;28;43;01mif\u001b[39;49;00m\u001b[43m \u001b[49m\u001b[43mobserved\u001b[49m\u001b[43m \u001b[49m\u001b[38;5;129;43;01mis\u001b[39;49;00m\u001b[43m \u001b[49m\u001b[43mlib\u001b[49m\u001b[38;5;241;43m.\u001b[39;49m\u001b[43mno_default\u001b[49m\u001b[43m \u001b[49m\u001b[38;5;28;43;01melse\u001b[39;49;00m\u001b[43m \u001b[49m\u001b[43mobserved\u001b[49m\u001b[43m,\u001b[49m\n\u001b[0;32m   1336\u001b[0m \u001b[43m        \u001b[49m\u001b[43mdropna\u001b[49m\u001b[38;5;241;43m=\u001b[39;49m\u001b[38;5;28;43mself\u001b[39;49m\u001b[38;5;241;43m.\u001b[39;49m\u001b[43mdropna\u001b[49m\u001b[43m,\u001b[49m\n\u001b[0;32m   1337\u001b[0m \u001b[43m    \u001b[49m\u001b[43m)\u001b[49m\n\u001b[0;32m   1339\u001b[0m \u001b[38;5;28;01mif\u001b[39;00m observed \u001b[38;5;129;01mis\u001b[39;00m lib\u001b[38;5;241m.\u001b[39mno_default:\n\u001b[0;32m   1340\u001b[0m     \u001b[38;5;28;01mif\u001b[39;00m \u001b[38;5;28many\u001b[39m(ping\u001b[38;5;241m.\u001b[39m_passed_categorical \u001b[38;5;28;01mfor\u001b[39;00m ping \u001b[38;5;129;01min\u001b[39;00m grouper\u001b[38;5;241m.\u001b[39mgroupings):\n",
      "File \u001b[1;32mc:\\Users\\JB\\OneDrive\\Documents\\Python Projects\\Beer-Recommender\\beer-recommender-venv\\lib\\site-packages\\pandas\\core\\groupby\\grouper.py:1043\u001b[0m, in \u001b[0;36mget_grouper\u001b[1;34m(obj, key, axis, level, sort, observed, validate, dropna)\u001b[0m\n\u001b[0;32m   1041\u001b[0m         in_axis, level, gpr \u001b[38;5;241m=\u001b[39m \u001b[38;5;28;01mFalse\u001b[39;00m, gpr, \u001b[38;5;28;01mNone\u001b[39;00m\n\u001b[0;32m   1042\u001b[0m     \u001b[38;5;28;01melse\u001b[39;00m:\n\u001b[1;32m-> 1043\u001b[0m         \u001b[38;5;28;01mraise\u001b[39;00m \u001b[38;5;167;01mKeyError\u001b[39;00m(gpr)\n\u001b[0;32m   1044\u001b[0m \u001b[38;5;28;01melif\u001b[39;00m \u001b[38;5;28misinstance\u001b[39m(gpr, Grouper) \u001b[38;5;129;01mand\u001b[39;00m gpr\u001b[38;5;241m.\u001b[39mkey \u001b[38;5;129;01mis\u001b[39;00m \u001b[38;5;129;01mnot\u001b[39;00m \u001b[38;5;28;01mNone\u001b[39;00m:\n\u001b[0;32m   1045\u001b[0m     \u001b[38;5;66;03m# Add key to exclusions\u001b[39;00m\n\u001b[0;32m   1046\u001b[0m     exclusions\u001b[38;5;241m.\u001b[39madd(gpr\u001b[38;5;241m.\u001b[39mkey)\n",
      "\u001b[1;31mKeyError\u001b[0m: 'Section'"
     ]
    }
   ],
   "source": [
    "df.groupby(\"Section\")[\"Anticipation\"].agg(np.std).reset_index()"
   ]
  },
  {
   "cell_type": "code",
   "execution_count": 11,
   "id": "08d7c441-b48c-4147-8010-f37225dde0ea",
   "metadata": {
    "tags": []
   },
   "outputs": [
    {
     "ename": "NameError",
     "evalue": "name 'std_df' is not defined",
     "output_type": "error",
     "traceback": [
      "\u001b[1;31m---------------------------------------------------------------------------\u001b[0m",
      "\u001b[1;31mNameError\u001b[0m                                 Traceback (most recent call last)",
      "Cell \u001b[1;32mIn[11], line 1\u001b[0m\n\u001b[1;32m----> 1\u001b[0m fig \u001b[38;5;241m=\u001b[39m px\u001b[38;5;241m.\u001b[39mbar(\u001b[43mstd_df\u001b[49m\u001b[38;5;241m.\u001b[39mreset_index(),\n\u001b[0;32m      2\u001b[0m              x\u001b[38;5;241m=\u001b[39m\u001b[38;5;124m\"\u001b[39m\u001b[38;5;124mSection\u001b[39m\u001b[38;5;124m\"\u001b[39m, y\u001b[38;5;241m=\u001b[39m\u001b[38;5;124m\"\u001b[39m\u001b[38;5;124mAnticipation\u001b[39m\u001b[38;5;124m\"\u001b[39m,\n\u001b[0;32m      3\u001b[0m              labels\u001b[38;5;241m=\u001b[39m{\u001b[38;5;124m\"\u001b[39m\u001b[38;5;124mAnticipation\u001b[39m\u001b[38;5;124m\"\u001b[39m:\u001b[38;5;124m\"\u001b[39m\u001b[38;5;124mAnticipation Std Dev\u001b[39m\u001b[38;5;124m\"\u001b[39m},\n\u001b[0;32m      4\u001b[0m              title\u001b[38;5;241m=\u001b[39m\u001b[38;5;124m\"\u001b[39m\u001b[38;5;124mStd Dev of Section Scores\u001b[39m\u001b[38;5;124m\"\u001b[39m)\n\u001b[0;32m      5\u001b[0m fig\u001b[38;5;241m.\u001b[39mshow()\n",
      "\u001b[1;31mNameError\u001b[0m: name 'std_df' is not defined"
     ]
    }
   ],
   "source": [
    "fig = px.bar(std_df.reset_index(),\n",
    "             x=\"Section\", y=\"Anticipation\",\n",
    "             labels={\"Anticipation\":\"Anticipation Std Dev\"},\n",
    "             title=\"Std Dev of Section Scores\")\n",
    "fig.show()"
   ]
  },
  {
   "cell_type": "code",
   "execution_count": 12,
   "id": "95b01ac9-d108-4e91-b129-f8d298767b4e",
   "metadata": {
    "tags": []
   },
   "outputs": [
    {
     "ename": "KeyError",
     "evalue": "'Section'",
     "output_type": "error",
     "traceback": [
      "\u001b[1;31m---------------------------------------------------------------------------\u001b[0m",
      "\u001b[1;31mKeyError\u001b[0m                                  Traceback (most recent call last)",
      "Cell \u001b[1;32mIn[12], line 1\u001b[0m\n\u001b[1;32m----> 1\u001b[0m fig \u001b[38;5;241m=\u001b[39m px\u001b[38;5;241m.\u001b[39mbar(\u001b[43mdf\u001b[49m\u001b[43m[\u001b[49m\u001b[43mdf\u001b[49m\u001b[38;5;241;43m.\u001b[39;49m\u001b[43mindex\u001b[49m\u001b[38;5;241;43m!=\u001b[39;49m\u001b[38;5;241;43m45\u001b[39;49m\u001b[43m]\u001b[49m\u001b[38;5;241;43m.\u001b[39;49m\u001b[43mgroupby\u001b[49m\u001b[43m(\u001b[49m\u001b[38;5;124;43m\"\u001b[39;49m\u001b[38;5;124;43mSection\u001b[39;49m\u001b[38;5;124;43m\"\u001b[39;49m\u001b[43m)\u001b[49m[\u001b[38;5;124m\"\u001b[39m\u001b[38;5;124mAnticipation\u001b[39m\u001b[38;5;124m\"\u001b[39m]\u001b[38;5;241m.\u001b[39magg(np\u001b[38;5;241m.\u001b[39mvar)\u001b[38;5;241m.\u001b[39mreset_index(),\n\u001b[0;32m      2\u001b[0m              x\u001b[38;5;241m=\u001b[39m\u001b[38;5;124m\"\u001b[39m\u001b[38;5;124mSection\u001b[39m\u001b[38;5;124m\"\u001b[39m, y\u001b[38;5;241m=\u001b[39m\u001b[38;5;124m\"\u001b[39m\u001b[38;5;124mAnticipation\u001b[39m\u001b[38;5;124m\"\u001b[39m,\n\u001b[0;32m      3\u001b[0m              labels\u001b[38;5;241m=\u001b[39m{\u001b[38;5;124m\"\u001b[39m\u001b[38;5;124mAnticipation\u001b[39m\u001b[38;5;124m\"\u001b[39m:\u001b[38;5;124m\"\u001b[39m\u001b[38;5;124mAnticipation Std Dev\u001b[39m\u001b[38;5;124m\"\u001b[39m},\n\u001b[0;32m      4\u001b[0m              title\u001b[38;5;241m=\u001b[39m\u001b[38;5;124m\"\u001b[39m\u001b[38;5;124mStd Dev of Section Scores (one bad beer removed)\u001b[39m\u001b[38;5;124m\"\u001b[39m)\n\u001b[0;32m      5\u001b[0m fig\u001b[38;5;241m.\u001b[39mshow()\n",
      "File \u001b[1;32mc:\\Users\\JB\\OneDrive\\Documents\\Python Projects\\Beer-Recommender\\beer-recommender-venv\\lib\\site-packages\\pandas\\core\\frame.py:9183\u001b[0m, in \u001b[0;36mDataFrame.groupby\u001b[1;34m(self, by, axis, level, as_index, sort, group_keys, observed, dropna)\u001b[0m\n\u001b[0;32m   9180\u001b[0m \u001b[38;5;28;01mif\u001b[39;00m level \u001b[38;5;129;01mis\u001b[39;00m \u001b[38;5;28;01mNone\u001b[39;00m \u001b[38;5;129;01mand\u001b[39;00m by \u001b[38;5;129;01mis\u001b[39;00m \u001b[38;5;28;01mNone\u001b[39;00m:\n\u001b[0;32m   9181\u001b[0m     \u001b[38;5;28;01mraise\u001b[39;00m \u001b[38;5;167;01mTypeError\u001b[39;00m(\u001b[38;5;124m\"\u001b[39m\u001b[38;5;124mYou have to supply one of \u001b[39m\u001b[38;5;124m'\u001b[39m\u001b[38;5;124mby\u001b[39m\u001b[38;5;124m'\u001b[39m\u001b[38;5;124m and \u001b[39m\u001b[38;5;124m'\u001b[39m\u001b[38;5;124mlevel\u001b[39m\u001b[38;5;124m'\u001b[39m\u001b[38;5;124m\"\u001b[39m)\n\u001b[1;32m-> 9183\u001b[0m \u001b[38;5;28;01mreturn\u001b[39;00m \u001b[43mDataFrameGroupBy\u001b[49m\u001b[43m(\u001b[49m\n\u001b[0;32m   9184\u001b[0m \u001b[43m    \u001b[49m\u001b[43mobj\u001b[49m\u001b[38;5;241;43m=\u001b[39;49m\u001b[38;5;28;43mself\u001b[39;49m\u001b[43m,\u001b[49m\n\u001b[0;32m   9185\u001b[0m \u001b[43m    \u001b[49m\u001b[43mkeys\u001b[49m\u001b[38;5;241;43m=\u001b[39;49m\u001b[43mby\u001b[49m\u001b[43m,\u001b[49m\n\u001b[0;32m   9186\u001b[0m \u001b[43m    \u001b[49m\u001b[43maxis\u001b[49m\u001b[38;5;241;43m=\u001b[39;49m\u001b[43maxis\u001b[49m\u001b[43m,\u001b[49m\n\u001b[0;32m   9187\u001b[0m \u001b[43m    \u001b[49m\u001b[43mlevel\u001b[49m\u001b[38;5;241;43m=\u001b[39;49m\u001b[43mlevel\u001b[49m\u001b[43m,\u001b[49m\n\u001b[0;32m   9188\u001b[0m \u001b[43m    \u001b[49m\u001b[43mas_index\u001b[49m\u001b[38;5;241;43m=\u001b[39;49m\u001b[43mas_index\u001b[49m\u001b[43m,\u001b[49m\n\u001b[0;32m   9189\u001b[0m \u001b[43m    \u001b[49m\u001b[43msort\u001b[49m\u001b[38;5;241;43m=\u001b[39;49m\u001b[43msort\u001b[49m\u001b[43m,\u001b[49m\n\u001b[0;32m   9190\u001b[0m \u001b[43m    \u001b[49m\u001b[43mgroup_keys\u001b[49m\u001b[38;5;241;43m=\u001b[39;49m\u001b[43mgroup_keys\u001b[49m\u001b[43m,\u001b[49m\n\u001b[0;32m   9191\u001b[0m \u001b[43m    \u001b[49m\u001b[43mobserved\u001b[49m\u001b[38;5;241;43m=\u001b[39;49m\u001b[43mobserved\u001b[49m\u001b[43m,\u001b[49m\n\u001b[0;32m   9192\u001b[0m \u001b[43m    \u001b[49m\u001b[43mdropna\u001b[49m\u001b[38;5;241;43m=\u001b[39;49m\u001b[43mdropna\u001b[49m\u001b[43m,\u001b[49m\n\u001b[0;32m   9193\u001b[0m \u001b[43m\u001b[49m\u001b[43m)\u001b[49m\n",
      "File \u001b[1;32mc:\\Users\\JB\\OneDrive\\Documents\\Python Projects\\Beer-Recommender\\beer-recommender-venv\\lib\\site-packages\\pandas\\core\\groupby\\groupby.py:1329\u001b[0m, in \u001b[0;36mGroupBy.__init__\u001b[1;34m(self, obj, keys, axis, level, grouper, exclusions, selection, as_index, sort, group_keys, observed, dropna)\u001b[0m\n\u001b[0;32m   1326\u001b[0m \u001b[38;5;28mself\u001b[39m\u001b[38;5;241m.\u001b[39mdropna \u001b[38;5;241m=\u001b[39m dropna\n\u001b[0;32m   1328\u001b[0m \u001b[38;5;28;01mif\u001b[39;00m grouper \u001b[38;5;129;01mis\u001b[39;00m \u001b[38;5;28;01mNone\u001b[39;00m:\n\u001b[1;32m-> 1329\u001b[0m     grouper, exclusions, obj \u001b[38;5;241m=\u001b[39m \u001b[43mget_grouper\u001b[49m\u001b[43m(\u001b[49m\n\u001b[0;32m   1330\u001b[0m \u001b[43m        \u001b[49m\u001b[43mobj\u001b[49m\u001b[43m,\u001b[49m\n\u001b[0;32m   1331\u001b[0m \u001b[43m        \u001b[49m\u001b[43mkeys\u001b[49m\u001b[43m,\u001b[49m\n\u001b[0;32m   1332\u001b[0m \u001b[43m        \u001b[49m\u001b[43maxis\u001b[49m\u001b[38;5;241;43m=\u001b[39;49m\u001b[43maxis\u001b[49m\u001b[43m,\u001b[49m\n\u001b[0;32m   1333\u001b[0m \u001b[43m        \u001b[49m\u001b[43mlevel\u001b[49m\u001b[38;5;241;43m=\u001b[39;49m\u001b[43mlevel\u001b[49m\u001b[43m,\u001b[49m\n\u001b[0;32m   1334\u001b[0m \u001b[43m        \u001b[49m\u001b[43msort\u001b[49m\u001b[38;5;241;43m=\u001b[39;49m\u001b[43msort\u001b[49m\u001b[43m,\u001b[49m\n\u001b[0;32m   1335\u001b[0m \u001b[43m        \u001b[49m\u001b[43mobserved\u001b[49m\u001b[38;5;241;43m=\u001b[39;49m\u001b[38;5;28;43;01mFalse\u001b[39;49;00m\u001b[43m \u001b[49m\u001b[38;5;28;43;01mif\u001b[39;49;00m\u001b[43m \u001b[49m\u001b[43mobserved\u001b[49m\u001b[43m \u001b[49m\u001b[38;5;129;43;01mis\u001b[39;49;00m\u001b[43m \u001b[49m\u001b[43mlib\u001b[49m\u001b[38;5;241;43m.\u001b[39;49m\u001b[43mno_default\u001b[49m\u001b[43m \u001b[49m\u001b[38;5;28;43;01melse\u001b[39;49;00m\u001b[43m \u001b[49m\u001b[43mobserved\u001b[49m\u001b[43m,\u001b[49m\n\u001b[0;32m   1336\u001b[0m \u001b[43m        \u001b[49m\u001b[43mdropna\u001b[49m\u001b[38;5;241;43m=\u001b[39;49m\u001b[38;5;28;43mself\u001b[39;49m\u001b[38;5;241;43m.\u001b[39;49m\u001b[43mdropna\u001b[49m\u001b[43m,\u001b[49m\n\u001b[0;32m   1337\u001b[0m \u001b[43m    \u001b[49m\u001b[43m)\u001b[49m\n\u001b[0;32m   1339\u001b[0m \u001b[38;5;28;01mif\u001b[39;00m observed \u001b[38;5;129;01mis\u001b[39;00m lib\u001b[38;5;241m.\u001b[39mno_default:\n\u001b[0;32m   1340\u001b[0m     \u001b[38;5;28;01mif\u001b[39;00m \u001b[38;5;28many\u001b[39m(ping\u001b[38;5;241m.\u001b[39m_passed_categorical \u001b[38;5;28;01mfor\u001b[39;00m ping \u001b[38;5;129;01min\u001b[39;00m grouper\u001b[38;5;241m.\u001b[39mgroupings):\n",
      "File \u001b[1;32mc:\\Users\\JB\\OneDrive\\Documents\\Python Projects\\Beer-Recommender\\beer-recommender-venv\\lib\\site-packages\\pandas\\core\\groupby\\grouper.py:1043\u001b[0m, in \u001b[0;36mget_grouper\u001b[1;34m(obj, key, axis, level, sort, observed, validate, dropna)\u001b[0m\n\u001b[0;32m   1041\u001b[0m         in_axis, level, gpr \u001b[38;5;241m=\u001b[39m \u001b[38;5;28;01mFalse\u001b[39;00m, gpr, \u001b[38;5;28;01mNone\u001b[39;00m\n\u001b[0;32m   1042\u001b[0m     \u001b[38;5;28;01melse\u001b[39;00m:\n\u001b[1;32m-> 1043\u001b[0m         \u001b[38;5;28;01mraise\u001b[39;00m \u001b[38;5;167;01mKeyError\u001b[39;00m(gpr)\n\u001b[0;32m   1044\u001b[0m \u001b[38;5;28;01melif\u001b[39;00m \u001b[38;5;28misinstance\u001b[39m(gpr, Grouper) \u001b[38;5;129;01mand\u001b[39;00m gpr\u001b[38;5;241m.\u001b[39mkey \u001b[38;5;129;01mis\u001b[39;00m \u001b[38;5;129;01mnot\u001b[39;00m \u001b[38;5;28;01mNone\u001b[39;00m:\n\u001b[0;32m   1045\u001b[0m     \u001b[38;5;66;03m# Add key to exclusions\u001b[39;00m\n\u001b[0;32m   1046\u001b[0m     exclusions\u001b[38;5;241m.\u001b[39madd(gpr\u001b[38;5;241m.\u001b[39mkey)\n",
      "\u001b[1;31mKeyError\u001b[0m: 'Section'"
     ]
    }
   ],
   "source": [
    "fig = px.bar(df[df.index!=45].groupby(\"Section\")[\"Anticipation\"].agg(np.var).reset_index(),\n",
    "             x=\"Section\", y=\"Anticipation\",\n",
    "             labels={\"Anticipation\":\"Anticipation Std Dev\"},\n",
    "             title=\"Std Dev of Section Scores (one bad beer removed)\")\n",
    "fig.show()"
   ]
  },
  {
   "cell_type": "code",
   "execution_count": 18,
   "id": "ce18bf70",
   "metadata": {},
   "outputs": [
    {
     "name": "stdout",
     "output_type": "stream",
     "text": [
      "(117, 2)\n"
     ]
    },
    {
     "data": {
      "application/vnd.plotly.v1+json": {
       "config": {
        "plotlyServerURL": "https://plot.ly"
       },
       "data": [
        {
         "customdata": [
          [
           "HONEY GUM (RED IPA)",
           1,
           1
          ],
          [
           "King River Double Red IPA",
           1,
           12
          ],
          [
           "Hybrid Theory Red Rye IPA",
           1,
           18
          ]
         ],
         "hovertemplate": "Style=Red IPA<br>0=%{x}<br>1=%{y}<br>Beer=%{customdata[0]}<br>Section=%{customdata[1]}<br>Number=%{customdata[2]}<extra></extra>",
         "legendgroup": "Red IPA",
         "marker": {
          "color": "#636efa",
          "symbol": "circle"
         },
         "mode": "markers",
         "name": "Red IPA",
         "orientation": "v",
         "showlegend": true,
         "type": "scatter",
         "x": [
          -0.18145711223724995,
          -0.2536831129956388,
          -0.23421378184145397
         ],
         "xaxis": "x",
         "y": [
          -0.22581898116037658,
          -0.22739729614586154,
          -0.24410504869059318
         ],
         "yaxis": "y"
        },
        {
         "customdata": [
          [
           "Choc à l'orange",
           1,
           2
          ],
          [
           "Crumbs - Imperial Cookie Stout",
           1,
           5
          ],
          [
           "Bounty Hunter",
           2,
           21
          ],
          [
           "Abominable S'Mores Imperial Milk Stout",
           5,
           87
          ],
          [
           "Lord Barista",
           6,
           111
          ]
         ],
         "hovertemplate": "Style=Imperial Stout<br>0=%{x}<br>1=%{y}<br>Beer=%{customdata[0]}<br>Section=%{customdata[1]}<br>Number=%{customdata[2]}<extra></extra>",
         "legendgroup": "Imperial Stout",
         "marker": {
          "color": "#EF553B",
          "symbol": "circle"
         },
         "mode": "markers",
         "name": "Imperial Stout",
         "orientation": "v",
         "showlegend": true,
         "type": "scatter",
         "x": [
          0.3169060671616552,
          0.22047356333337526,
          0.27459431137506507,
          0.1919882225152962,
          0.3103855335735381
         ],
         "xaxis": "x",
         "y": [
          -0.09808769641632738,
          -0.00981370506316149,
          0.034535088024756765,
          -0.0002607182720435217,
          -0.04417709869555439
         ],
         "yaxis": "y"
        },
        {
         "customdata": [
          [
           "Spaghetti Saison",
           1,
           3
          ],
          [
           "Sparkling Saison Noir",
           3,
           50
          ],
          [
           "Black Mamba - Imperial Black Saison",
           6,
           105
          ]
         ],
         "hovertemplate": "Style=Saison/Farmhouse Ale<br>0=%{x}<br>1=%{y}<br>Beer=%{customdata[0]}<br>Section=%{customdata[1]}<br>Number=%{customdata[2]}<extra></extra>",
         "legendgroup": "Saison/Farmhouse Ale",
         "marker": {
          "color": "#00cc96",
          "symbol": "circle"
         },
         "mode": "markers",
         "name": "Saison/Farmhouse Ale",
         "orientation": "v",
         "showlegend": true,
         "type": "scatter",
         "x": [
          0.0011217010524496634,
          -0.022206365285011423,
          0.07863983169667284
         ],
         "xaxis": "x",
         "y": [
          -0.044027361428517764,
          -0.027001908915644125,
          -0.00044439747468667004
         ],
         "yaxis": "y"
        },
        {
         "customdata": [
          [
           "Cocoa Comet",
           1,
           4
          ],
          [
           "Don't Take The Pith",
           1,
           13
          ],
          [
           "Nitro Citrus - Blood Orange Chocolate Porter",
           2,
           26
          ],
          [
           "Biscoff Chocolate Brownie Porter",
           4,
           78
          ],
          [
           "Miso Macadamia Stout",
           5,
           100
          ]
         ],
         "hovertemplate": "Style=Porter<br>0=%{x}<br>1=%{y}<br>Beer=%{customdata[0]}<br>Section=%{customdata[1]}<br>Number=%{customdata[2]}<extra></extra>",
         "legendgroup": "Porter",
         "marker": {
          "color": "#ab63fa",
          "symbol": "circle"
         },
         "mode": "markers",
         "name": "Porter",
         "orientation": "v",
         "showlegend": true,
         "type": "scatter",
         "x": [
          0.09585929165806681,
          0.2332520325712275,
          0.16454211079013734,
          0.14485033619744184,
          0.16502311422774424
         ],
         "xaxis": "x",
         "y": [
          -0.07042090217829856,
          -0.18389752218721872,
          -0.16466219824526285,
          -0.10050890831170187,
          -0.06654347364111214
         ],
         "yaxis": "y"
        },
        {
         "customdata": [
          [
           "Unlikely Friends",
           1,
           6
          ],
          [
           "Brunswick Grape Ale",
           1,
           14
          ],
          [
           "Rum Running",
           2,
           25
          ],
          [
           "Honey Honey, Joy Joy",
           3,
           57
          ],
          [
           "Pick of the Bunch",
           3,
           58
          ],
          [
           "Ooray for Gilbert",
           4,
           75
          ],
          [
           "Billson's Flavored Sour Beer",
           4,
           79
          ],
          [
           "Sweet as Pie",
           5,
           91
          ],
          [
           "Partical Fusion - worlds collide",
           5,
           94
          ],
          [
           "Salvaged Cherry Cola",
           5,
           98
          ],
          [
           "Strawberry Champagne Beer",
           6,
           101
          ],
          [
           "Raspberry Sherbet Bomb",
           6,
           115
          ]
         ],
         "hovertemplate": "Style=Specialty Beer<br>0=%{x}<br>1=%{y}<br>Beer=%{customdata[0]}<br>Section=%{customdata[1]}<br>Number=%{customdata[2]}<extra></extra>",
         "legendgroup": "Specialty Beer",
         "marker": {
          "color": "#FFA15A",
          "symbol": "circle"
         },
         "mode": "markers",
         "name": "Specialty Beer",
         "orientation": "v",
         "showlegend": true,
         "type": "scatter",
         "x": [
          0.06740221156338262,
          -0.026862015831337644,
          -0.05293917192052405,
          -0.02810464704488671,
          0.05476597156111045,
          -0.028860944166549402,
          -0.10261303725093732,
          -0.04707275078082228,
          -0.04435917652590091,
          -0.03892620686581378,
          -0.049554572479371485,
          -0.06714753466721507
         ],
         "xaxis": "x",
         "y": [
          -0.011871939196233423,
          0.019657352707282735,
          0.03302362724378594,
          -0.034209562150127576,
          0.01793684733185438,
          -0.008663562577224502,
          0.09841797018581226,
          0.062355916308520866,
          -0.03595576006175005,
          0.012601344714884232,
          0.025049237772176734,
          0.10395889919425041
         ],
         "yaxis": "y"
        },
        {
         "customdata": [
          [
           "White Forest",
           1,
           7
          ]
         ],
         "hovertemplate": "Style=Cream Ale<br>0=%{x}<br>1=%{y}<br>Beer=%{customdata[0]}<br>Section=%{customdata[1]}<br>Number=%{customdata[2]}<extra></extra>",
         "legendgroup": "Cream Ale",
         "marker": {
          "color": "#19d3f3",
          "symbol": "circle"
         },
         "mode": "markers",
         "name": "Cream Ale",
         "orientation": "v",
         "showlegend": true,
         "type": "scatter",
         "x": [
          0.13334009552222542
         ],
         "xaxis": "x",
         "y": [
          -0.0299220880958667
         ],
         "yaxis": "y"
        },
        {
         "customdata": [
          [
           "Dank & Stormy",
           1,
           8
          ]
         ],
         "hovertemplate": "Style=American Amber/Red<br>0=%{x}<br>1=%{y}<br>Beer=%{customdata[0]}<br>Section=%{customdata[1]}<br>Number=%{customdata[2]}<extra></extra>",
         "legendgroup": "American Amber/Red",
         "marker": {
          "color": "#FF6692",
          "symbol": "circle"
         },
         "mode": "markers",
         "name": "American Amber/Red",
         "orientation": "v",
         "showlegend": true,
         "type": "scatter",
         "x": [
          -0.10617755866658735
         ],
         "xaxis": "x",
         "y": [
          -0.04097740599365386
         ],
         "yaxis": "y"
        },
        {
         "customdata": [
          [
           "Screamin' Peach",
           1,
           9
          ],
          [
           "Yu Zerious? - Yuzu Russ”",
           2,
           27
          ],
          [
           "Mai TaIPA",
           2,
           40
          ],
          [
           "Slatterpuss Watermelon Sour",
           4,
           69
          ]
         ],
         "hovertemplate": "Style=Fruit Beer<br>0=%{x}<br>1=%{y}<br>Beer=%{customdata[0]}<br>Section=%{customdata[1]}<br>Number=%{customdata[2]}<extra></extra>",
         "legendgroup": "Fruit Beer",
         "marker": {
          "color": "#B6E880",
          "symbol": "circle"
         },
         "mode": "markers",
         "name": "Fruit Beer",
         "orientation": "v",
         "showlegend": true,
         "type": "scatter",
         "x": [
          -0.07896561376036015,
          -0.08232372281379623,
          -0.13169932325090053,
          -0.09903954035085809
         ],
         "xaxis": "x",
         "y": [
          -0.03072492675259673,
          -0.022189357508143732,
          -0.016268980160099967,
          0.14068888552365505
         ],
         "yaxis": "y"
        },
        {
         "customdata": [
          [
           "Funky Gose To Hollywood",
           1,
           10
          ],
          [
           "Wakame Up Before You Gose",
           2,
           34
          ],
          [
           "Spi-ski Margarita Gose",
           4,
           67
          ]
         ],
         "hovertemplate": "Style=Gose Sour<br>0=%{x}<br>1=%{y}<br>Beer=%{customdata[0]}<br>Section=%{customdata[1]}<br>Number=%{customdata[2]}<extra></extra>",
         "legendgroup": "Gose Sour",
         "marker": {
          "color": "#FF97FF",
          "symbol": "circle"
         },
         "mode": "markers",
         "name": "Gose Sour",
         "orientation": "v",
         "showlegend": true,
         "type": "scatter",
         "x": [
          -0.0787807740077709,
          -0.05707914047954597,
          -0.07203437419824579
         ],
         "xaxis": "x",
         "y": [
          0.3364184479169616,
          0.30953185003414996,
          0.2890009591276332
         ],
         "yaxis": "y"
        },
        {
         "customdata": [
          [
           "Old Mate",
           1,
           11
          ]
         ],
         "hovertemplate": "Style=Irish Amber/Red<br>0=%{x}<br>1=%{y}<br>Beer=%{customdata[0]}<br>Section=%{customdata[1]}<br>Number=%{customdata[2]}<extra></extra>",
         "legendgroup": "Irish Amber/Red",
         "marker": {
          "color": "#FECB52",
          "symbol": "circle"
         },
         "mode": "markers",
         "name": "Irish Amber/Red",
         "orientation": "v",
         "showlegend": true,
         "type": "scatter",
         "x": [
          -0.021706984771064204
         ],
         "xaxis": "x",
         "y": [
          -0.0794322685812272
         ],
         "yaxis": "y"
        },
        {
         "customdata": [
          [
           "Pepper, Pepper, Pepper",
           1,
           15
          ],
          [
           "Soolong Sucka",
           2,
           29
          ],
          [
           "Hop Yearning",
           3,
           51
          ],
          [
           "Two Thumbs Toasted Ironbark West Coast IPA",
           3,
           53
          ],
          [
           "Bacon Me Crazy",
           6,
           112
          ]
         ],
         "hovertemplate": "Style=American IPA<br>0=%{x}<br>1=%{y}<br>Beer=%{customdata[0]}<br>Section=%{customdata[1]}<br>Number=%{customdata[2]}<extra></extra>",
         "legendgroup": "American IPA",
         "marker": {
          "color": "#636efa",
          "symbol": "circle"
         },
         "mode": "markers",
         "name": "American IPA",
         "orientation": "v",
         "showlegend": true,
         "type": "scatter",
         "x": [
          -0.13517750167777257,
          -0.18096643026234327,
          -0.2313281902170921,
          -0.2028142907544402,
          -0.07756089075833549
         ],
         "xaxis": "x",
         "y": [
          -0.10353530181530092,
          -0.10193822075226881,
          -0.19354713316276284,
          -0.21274642913164735,
          -0.14966812648869757
         ],
         "yaxis": "y"
        },
        {
         "customdata": [
          [
           "Double Lemon Shochu Shandy",
           1,
           16
          ]
         ],
         "hovertemplate": "Style=Pale Lager<br>0=%{x}<br>1=%{y}<br>Beer=%{customdata[0]}<br>Section=%{customdata[1]}<br>Number=%{customdata[2]}<extra></extra>",
         "legendgroup": "Pale Lager",
         "marker": {
          "color": "#EF553B",
          "symbol": "circle"
         },
         "mode": "markers",
         "name": "Pale Lager",
         "orientation": "v",
         "showlegend": true,
         "type": "scatter",
         "x": [
          -0.06284016063610037
         ],
         "xaxis": "x",
         "y": [
          -0.04987764347886949
         ],
         "yaxis": "y"
        },
        {
         "customdata": [
          [
           "Smoke Rings",
           1,
           17
          ],
          [
           "Tarte Noir",
           2,
           23
          ],
          [
           "Pineapple Punch",
           3,
           52
          ],
          [
           "Lemon & Key Lime Meringue Pie Sour",
           3,
           54
          ],
          [
           "Fantastic Sour",
           4,
           71
          ],
          [
           "Zombie Imperial Sour",
           5,
           95
          ],
          [
           "Grand Slam' Strawberries & Cream Imperial Sour",
           6,
           106
          ]
         ],
         "hovertemplate": "Style=Kettle Sour<br>0=%{x}<br>1=%{y}<br>Beer=%{customdata[0]}<br>Section=%{customdata[1]}<br>Number=%{customdata[2]}<extra></extra>",
         "legendgroup": "Kettle Sour",
         "marker": {
          "color": "#00cc96",
          "symbol": "circle"
         },
         "mode": "markers",
         "name": "Kettle Sour",
         "orientation": "v",
         "showlegend": true,
         "type": "scatter",
         "x": [
          -0.013976720263548346,
          0.05111524600699522,
          -0.04609597496993767,
          -0.037084431331373645,
          -0.03305581479196141,
          -0.06925021224205467,
          -0.08888697517020752
         ],
         "xaxis": "x",
         "y": [
          0.1973899451765872,
          0.19942650484271005,
          0.2679910499639955,
          0.2553302676771023,
          0.288337731682785,
          0.33988008483411847,
          0.3447670009005625
         ],
         "yaxis": "y"
        },
        {
         "customdata": [
          [
           "Open Relationship",
           1,
           19
          ],
          [
           "Paradise Pils",
           2,
           24
          ],
          [
           null,
           6,
           103
          ]
         ],
         "hovertemplate": "Style=Classic Pilsner Lager<br>0=%{x}<br>1=%{y}<br>Beer=%{customdata[0]}<br>Section=%{customdata[1]}<br>Number=%{customdata[2]}<extra></extra>",
         "legendgroup": "Classic Pilsner Lager",
         "marker": {
          "color": "#ab63fa",
          "symbol": "circle"
         },
         "mode": "markers",
         "name": "Classic Pilsner Lager",
         "orientation": "v",
         "showlegend": true,
         "type": "scatter",
         "x": [
          -0.057466048137680095,
          -0.0700338102792589,
          -0.1513940253124175
         ],
         "xaxis": "x",
         "y": [
          -0.08617519077584268,
          -0.035540979778223035,
          -0.06576632406855605
         ],
         "yaxis": "y"
        },
        {
         "customdata": [
          [
           "Krushberry Pi 3.142%",
           1,
           20
          ],
          [
           "Sucker Punch Strawberries & Cream Lollipop Sour",
           3,
           46
          ],
          [
           "Thicker Than Water (Brazilian Blood Limeaide Sour)",
           4,
           76
          ],
          [
           "Banana and Blueberry Imperial Maple Maccadamia Pancake Smoothie Sour",
           5,
           88
          ]
         ],
         "hovertemplate": "Style=Pastry Sour<br>0=%{x}<br>1=%{y}<br>Beer=%{customdata[0]}<br>Section=%{customdata[1]}<br>Number=%{customdata[2]}<extra></extra>",
         "legendgroup": "Pastry Sour",
         "marker": {
          "color": "#FFA15A",
          "symbol": "circle"
         },
         "mode": "markers",
         "name": "Pastry Sour",
         "orientation": "v",
         "showlegend": true,
         "type": "scatter",
         "x": [
          0.013867014105475067,
          -0.04594913456355612,
          -0.042100185028016705,
          0.02236751820596795
         ],
         "xaxis": "x",
         "y": [
          0.15001773248242298,
          0.35991627990781866,
          0.130759053969272,
          0.22527084727280142
         ],
         "yaxis": "y"
        },
        {
         "customdata": [
          [
           null,
           2,
           22
          ]
         ],
         "hovertemplate": "Style=IPA - White<br>0=%{x}<br>1=%{y}<br>Beer=%{customdata[0]}<br>Section=%{customdata[1]}<br>Number=%{customdata[2]}<extra></extra>",
         "legendgroup": "IPA - White",
         "marker": {
          "color": "#19d3f3",
          "symbol": "circle"
         },
         "mode": "markers",
         "name": "IPA - White",
         "orientation": "v",
         "showlegend": true,
         "type": "scatter",
         "x": [
          -0.14036425383443135
         ],
         "xaxis": "x",
         "y": [
          -0.12209946173622976
         ],
         "yaxis": "y"
        },
        {
         "customdata": [
          [
           "Dubbel Dutch",
           2,
           28
          ]
         ],
         "hovertemplate": "Style=Belgian Dubbel<br>0=%{x}<br>1=%{y}<br>Beer=%{customdata[0]}<br>Section=%{customdata[1]}<br>Number=%{customdata[2]}<extra></extra>",
         "legendgroup": "Belgian Dubbel",
         "marker": {
          "color": "#FF6692",
          "symbol": "circle"
         },
         "mode": "markers",
         "name": "Belgian Dubbel",
         "orientation": "v",
         "showlegend": true,
         "type": "scatter",
         "x": [
          -0.005447699871767714
         ],
         "xaxis": "x",
         "y": [
          -0.01983652586044367
         ],
         "yaxis": "y"
        },
        {
         "customdata": [
          [
           "Wise and the Foolish",
           2,
           30
          ]
         ],
         "hovertemplate": "Style=Weizenbock<br>0=%{x}<br>1=%{y}<br>Beer=%{customdata[0]}<br>Section=%{customdata[1]}<br>Number=%{customdata[2]}<extra></extra>",
         "legendgroup": "Weizenbock",
         "marker": {
          "color": "#B6E880",
          "symbol": "circle"
         },
         "mode": "markers",
         "name": "Weizenbock",
         "orientation": "v",
         "showlegend": true,
         "type": "scatter",
         "x": [
          -0.029254752359610718
         ],
         "xaxis": "x",
         "y": [
          -0.016792791552223577
         ],
         "yaxis": "y"
        },
        {
         "customdata": [
          [
           "Guava Lava Imperial IPL",
           2,
           31
          ],
          [
           "Double Booti KNEIPA",
           4,
           74
          ]
         ],
         "hovertemplate": "Style=New England (Double) IPA<br>0=%{x}<br>1=%{y}<br>Beer=%{customdata[0]}<br>Section=%{customdata[1]}<br>Number=%{customdata[2]}<extra></extra>",
         "legendgroup": "New England (Double) IPA",
         "marker": {
          "color": "#FF97FF",
          "symbol": "circle"
         },
         "mode": "markers",
         "name": "New England (Double) IPA",
         "orientation": "v",
         "showlegend": true,
         "type": "scatter",
         "x": [
          -0.055060571818390205,
          -0.11569313784773808
         ],
         "xaxis": "x",
         "y": [
          -0.08403139984956974,
          -0.06291202646825772
         ],
         "yaxis": "y"
        },
        {
         "customdata": [
          [
           "Pig Pickin Cake",
           2,
           32
          ],
          [
           "DDH Unicorn Frappe NEIPA",
           4,
           68
          ]
         ],
         "hovertemplate": "Style=Milkshake IPA<br>0=%{x}<br>1=%{y}<br>Beer=%{customdata[0]}<br>Section=%{customdata[1]}<br>Number=%{customdata[2]}<extra></extra>",
         "legendgroup": "Milkshake IPA",
         "marker": {
          "color": "#FECB52",
          "symbol": "circle"
         },
         "mode": "markers",
         "name": "Milkshake IPA",
         "orientation": "v",
         "showlegend": true,
         "type": "scatter",
         "x": [
          -0.07777446431535144,
          -0.14542229992917743
         ],
         "xaxis": "x",
         "y": [
          -0.017484119183394205,
          -0.0408838986644585
         ],
         "yaxis": "y"
        },
        {
         "customdata": [
          [
           "Hopless - Botanical IPA",
           2,
           33
          ]
         ],
         "hovertemplate": "Style=Gruit<br>0=%{x}<br>1=%{y}<br>Beer=%{customdata[0]}<br>Section=%{customdata[1]}<br>Number=%{customdata[2]}<extra></extra>",
         "legendgroup": "Gruit",
         "marker": {
          "color": "#636efa",
          "symbol": "circle"
         },
         "mode": "markers",
         "name": "Gruit",
         "orientation": "v",
         "showlegend": true,
         "type": "scatter",
         "x": [
          -0.21859579426703213
         ],
         "xaxis": "x",
         "y": [
          -0.14672425080522464
         ],
         "yaxis": "y"
        },
        {
         "customdata": [
          [
           "Michelager",
           2,
           35
          ]
         ],
         "hovertemplate": "Style=Lager - Mexican<br>0=%{x}<br>1=%{y}<br>Beer=%{customdata[0]}<br>Section=%{customdata[1]}<br>Number=%{customdata[2]}<extra></extra>",
         "legendgroup": "Lager - Mexican",
         "marker": {
          "color": "#EF553B",
          "symbol": "circle"
         },
         "mode": "markers",
         "name": "Lager - Mexican",
         "orientation": "v",
         "showlegend": true,
         "type": "scatter",
         "x": [
          -0.044140253198985485
         ],
         "xaxis": "x",
         "y": [
          0.02032806345571945
         ],
         "yaxis": "y"
        },
        {
         "customdata": [
          [
           "Smooth Caffeinator",
           2,
           36
          ]
         ],
         "hovertemplate": "Style=Dulce de Leche Affogato Stout<br>0=%{x}<br>1=%{y}<br>Beer=%{customdata[0]}<br>Section=%{customdata[1]}<br>Number=%{customdata[2]}<extra></extra>",
         "legendgroup": "Dulce de Leche Affogato Stout",
         "marker": {
          "color": "#00cc96",
          "symbol": "circle"
         },
         "mode": "markers",
         "name": "Dulce de Leche Affogato Stout",
         "orientation": "v",
         "showlegend": true,
         "type": "scatter",
         "x": [
          0.203303268967615
         ],
         "xaxis": "x",
         "y": [
          -0.0731109972347256
         ],
         "yaxis": "y"
        },
        {
         "customdata": [
          [
           "Blackberries, Blueberries and Sour Patch kids!",
           2,
           37
          ]
         ],
         "hovertemplate": "Style=Sour - Kettle Sour<br>0=%{x}<br>1=%{y}<br>Beer=%{customdata[0]}<br>Section=%{customdata[1]}<br>Number=%{customdata[2]}<extra></extra>",
         "legendgroup": "Sour - Kettle Sour",
         "marker": {
          "color": "#ab63fa",
          "symbol": "circle"
         },
         "mode": "markers",
         "name": "Sour - Kettle Sour",
         "orientation": "v",
         "showlegend": true,
         "type": "scatter",
         "x": [
          -0.08261974692833023
         ],
         "xaxis": "x",
         "y": [
          0.3469265240873437
         ],
         "yaxis": "y"
        },
        {
         "customdata": [
          [
           "Supermassive Black Hole",
           2,
           38
          ]
         ],
         "hovertemplate": "Style=Stout - Pastry<br>0=%{x}<br>1=%{y}<br>Beer=%{customdata[0]}<br>Section=%{customdata[1]}<br>Number=%{customdata[2]}<extra></extra>",
         "legendgroup": "Stout - Pastry",
         "marker": {
          "color": "#FFA15A",
          "symbol": "circle"
         },
         "mode": "markers",
         "name": "Stout - Pastry",
         "orientation": "v",
         "showlegend": true,
         "type": "scatter",
         "x": [
          0.14935214553490347
         ],
         "xaxis": "x",
         "y": [
          0.0030831417143973973
         ],
         "yaxis": "y"
        },
        {
         "customdata": [
          [
           "Feiladh Mor (\"Great Kilt\")",
           2,
           39
          ]
         ],
         "hovertemplate": "Style=Scotch Ale/Wee Heavy<br>0=%{x}<br>1=%{y}<br>Beer=%{customdata[0]}<br>Section=%{customdata[1]}<br>Number=%{customdata[2]}<extra></extra>",
         "legendgroup": "Scotch Ale/Wee Heavy",
         "marker": {
          "color": "#19d3f3",
          "symbol": "circle"
         },
         "mode": "markers",
         "name": "Scotch Ale/Wee Heavy",
         "orientation": "v",
         "showlegend": true,
         "type": "scatter",
         "x": [
          0.019361729351267187
         ],
         "xaxis": "x",
         "y": [
          0.005462445975914049
         ],
         "yaxis": "y"
        },
        {
         "customdata": [
          [
           "Haze Train",
           3,
           41
          ],
          [
           "Southern Crossed Lovers - ANZIPA",
           4,
           65
          ],
          [
           "Big Feelings",
           6,
           107
          ]
         ],
         "hovertemplate": "Style=Hazy IPA<br>0=%{x}<br>1=%{y}<br>Beer=%{customdata[0]}<br>Section=%{customdata[1]}<br>Number=%{customdata[2]}<extra></extra>",
         "legendgroup": "Hazy IPA",
         "marker": {
          "color": "#FF6692",
          "symbol": "circle"
         },
         "mode": "markers",
         "name": "Hazy IPA",
         "orientation": "v",
         "showlegend": true,
         "type": "scatter",
         "x": [
          -0.19669500278207908,
          -0.10284059472806446,
          -0.1379452965906298
         ],
         "xaxis": "x",
         "y": [
          -0.15907404341395154,
          -0.10161203507306303,
          -0.1280338629126864
         ],
         "yaxis": "y"
        },
        {
         "customdata": [
          [
           "Creature of the Deep",
           3,
           42
          ],
          [
           "Flat White Oatmeal stout",
           6,
           109
          ]
         ],
         "hovertemplate": "Style=Oatmeal Stout<br>0=%{x}<br>1=%{y}<br>Beer=%{customdata[0]}<br>Section=%{customdata[1]}<br>Number=%{customdata[2]}<extra></extra>",
         "legendgroup": "Oatmeal Stout",
         "marker": {
          "color": "#B6E880",
          "symbol": "circle"
         },
         "mode": "markers",
         "name": "Oatmeal Stout",
         "orientation": "v",
         "showlegend": true,
         "type": "scatter",
         "x": [
          0.11396238483563999,
          0.2559979610929368
         ],
         "xaxis": "x",
         "y": [
          -0.026060447960642757,
          -0.07757541899012048
         ],
         "yaxis": "y"
        },
        {
         "customdata": [
          [
           "Triple Sticky",
           3,
           43
          ]
         ],
         "hovertemplate": "Style=Hoppy Lager<br>0=%{x}<br>1=%{y}<br>Beer=%{customdata[0]}<br>Section=%{customdata[1]}<br>Number=%{customdata[2]}<extra></extra>",
         "legendgroup": "Hoppy Lager",
         "marker": {
          "color": "#FF97FF",
          "symbol": "circle"
         },
         "mode": "markers",
         "name": "Hoppy Lager",
         "orientation": "v",
         "showlegend": true,
         "type": "scatter",
         "x": [
          -0.07555409900252309
         ],
         "xaxis": "x",
         "y": [
          -0.017719276819623528
         ],
         "yaxis": "y"
        },
        {
         "customdata": [
          [
           "Rose Petal Raspberry Sour",
           3,
           44
          ]
         ],
         "hovertemplate": "Style=Sour<br>0=%{x}<br>1=%{y}<br>Beer=%{customdata[0]}<br>Section=%{customdata[1]}<br>Number=%{customdata[2]}<extra></extra>",
         "legendgroup": "Sour",
         "marker": {
          "color": "#FECB52",
          "symbol": "circle"
         },
         "mode": "markers",
         "name": "Sour",
         "orientation": "v",
         "showlegend": true,
         "type": "scatter",
         "x": [
          -0.06235945053536845
         ],
         "xaxis": "x",
         "y": [
          0.3449810567576616
         ],
         "yaxis": "y"
        },
        {
         "customdata": [
          [
           "“Shinigami” - Umami Smoked Porter",
           3,
           45
          ],
          [
           "Smoked Kelp Stout",
           5,
           81
          ],
          [
           "Holy Smokes! - Camel Dung Smoked Porter",
           5,
           97
          ]
         ],
         "hovertemplate": "Style=Smoked Beer (non Rauchbier)<br>0=%{x}<br>1=%{y}<br>Beer=%{customdata[0]}<br>Section=%{customdata[1]}<br>Number=%{customdata[2]}<extra></extra>",
         "legendgroup": "Smoked Beer (non Rauchbier)",
         "marker": {
          "color": "#636efa",
          "symbol": "circle"
         },
         "mode": "markers",
         "name": "Smoked Beer (non Rauchbier)",
         "orientation": "v",
         "showlegend": true,
         "type": "scatter",
         "x": [
          0.12064709194373821,
          0.3126667478548636,
          0.1420761593753435
         ],
         "xaxis": "x",
         "y": [
          -0.06986210979312898,
          0.0036812774968949225,
          -0.03749708428790662
         ],
         "yaxis": "y"
        },
        {
         "customdata": [
          [
           "Aurora Australis Wonder Ale",
           3,
           47
          ]
         ],
         "hovertemplate": "Style=Belgian Dark Strong Ale<br>0=%{x}<br>1=%{y}<br>Beer=%{customdata[0]}<br>Section=%{customdata[1]}<br>Number=%{customdata[2]}<extra></extra>",
         "legendgroup": "Belgian Dark Strong Ale",
         "marker": {
          "color": "#EF553B",
          "symbol": "circle"
         },
         "mode": "markers",
         "name": "Belgian Dark Strong Ale",
         "orientation": "v",
         "showlegend": true,
         "type": "scatter",
         "x": [
          -0.037167322764066826
         ],
         "xaxis": "x",
         "y": [
          0.011339395328060095
         ],
         "yaxis": "y"
        },
        {
         "customdata": [
          [
           "Lazy Bones",
           3,
           48
          ]
         ],
         "hovertemplate": "Style=Brut IPA<br>0=%{x}<br>1=%{y}<br>Beer=%{customdata[0]}<br>Section=%{customdata[1]}<br>Number=%{customdata[2]}<extra></extra>",
         "legendgroup": "Brut IPA",
         "marker": {
          "color": "#00cc96",
          "symbol": "circle"
         },
         "mode": "markers",
         "name": "Brut IPA",
         "orientation": "v",
         "showlegend": true,
         "type": "scatter",
         "x": [
          -0.10989890307119946
         ],
         "xaxis": "x",
         "y": [
          -0.12130913870130498
         ],
         "yaxis": "y"
        },
        {
         "customdata": [
          [
           "Pandan White Chocolate Stout",
           3,
           49
          ],
          [
           "Black Forest Espresso",
           3,
           59
          ],
          [
           "The Cowboy Slickshake",
           4,
           61
          ],
          [
           "Rocky road campfire chocolate smoked stout",
           5,
           90
          ],
          [
           "A boy named Tiramisu",
           6,
           114
          ]
         ],
         "hovertemplate": "Style=Pastry Stout<br>0=%{x}<br>1=%{y}<br>Beer=%{customdata[0]}<br>Section=%{customdata[1]}<br>Number=%{customdata[2]}<extra></extra>",
         "legendgroup": "Pastry Stout",
         "marker": {
          "color": "#ab63fa",
          "symbol": "circle"
         },
         "mode": "markers",
         "name": "Pastry Stout",
         "orientation": "v",
         "showlegend": true,
         "type": "scatter",
         "x": [
          0.451179391865988,
          0.3442377471065175,
          0.2769979444358427,
          0.3954135829315795,
          0.36713007491080296
         ],
         "xaxis": "x",
         "y": [
          -0.09579552219119077,
          -0.023790266038210262,
          -0.04642361027320807,
          -0.01129091760494071,
          -0.07941224872497898
         ],
         "yaxis": "y"
        },
        {
         "customdata": [
          [
           "Angry Fish",
           3,
           55
          ],
          [
           "Hellhound",
           6,
           110
          ]
         ],
         "hovertemplate": "Style=Baltic Porter<br>0=%{x}<br>1=%{y}<br>Beer=%{customdata[0]}<br>Section=%{customdata[1]}<br>Number=%{customdata[2]}<extra></extra>",
         "legendgroup": "Baltic Porter",
         "marker": {
          "color": "#FFA15A",
          "symbol": "circle"
         },
         "mode": "markers",
         "name": "Baltic Porter",
         "orientation": "v",
         "showlegend": true,
         "type": "scatter",
         "x": [
          0.04537644788284679,
          0.08049634381892175
         ],
         "xaxis": "x",
         "y": [
          -0.029705445324601905,
          -0.03348532235284439
         ],
         "yaxis": "y"
        },
        {
         "customdata": [
          [
           "The Sanga",
           3,
           56
          ],
          [
           "Golden Roots - Spiced Volcanic Sweet Potato Copper Ale",
           4,
           80
          ]
         ],
         "hovertemplate": "Style=Experimental Beer<br>0=%{x}<br>1=%{y}<br>Beer=%{customdata[0]}<br>Section=%{customdata[1]}<br>Number=%{customdata[2]}<extra></extra>",
         "legendgroup": "Experimental Beer",
         "marker": {
          "color": "#19d3f3",
          "symbol": "circle"
         },
         "mode": "markers",
         "name": "Experimental Beer",
         "orientation": "v",
         "showlegend": true,
         "type": "scatter",
         "x": [
          -0.05393052183805507,
          0.009750272881823323
         ],
         "xaxis": "x",
         "y": [
          -0.022978878689957908,
          -0.04834873982657186
         ],
         "yaxis": "y"
        },
        {
         "customdata": [
          [
           "Vanta Manta",
           4,
           63
          ]
         ],
         "hovertemplate": "Style=Schwarzbier<br>0=%{x}<br>1=%{y}<br>Beer=%{customdata[0]}<br>Section=%{customdata[1]}<br>Number=%{customdata[2]}<extra></extra>",
         "legendgroup": "Schwarzbier",
         "marker": {
          "color": "#FF6692",
          "symbol": "circle"
         },
         "mode": "markers",
         "name": "Schwarzbier",
         "orientation": "v",
         "showlegend": true,
         "type": "scatter",
         "x": [
          0.003106356992431082
         ],
         "xaxis": "x",
         "y": [
          -0.012355179985152044
         ],
         "yaxis": "y"
        },
        {
         "customdata": [
          [
           "Slice of Heaven - Thiolised NZ Pilsner",
           4,
           64
          ]
         ],
         "hovertemplate": "Style=New Zealand Pilsner Lager<br>0=%{x}<br>1=%{y}<br>Beer=%{customdata[0]}<br>Section=%{customdata[1]}<br>Number=%{customdata[2]}<extra></extra>",
         "legendgroup": "New Zealand Pilsner Lager",
         "marker": {
          "color": "#B6E880",
          "symbol": "circle"
         },
         "mode": "markers",
         "name": "New Zealand Pilsner Lager",
         "orientation": "v",
         "showlegend": true,
         "type": "scatter",
         "x": [
          -0.12476668779117851
         ],
         "xaxis": "x",
         "y": [
          -0.06270056569166585
         ],
         "yaxis": "y"
        },
        {
         "customdata": [
          [
           "Mr. Phantastic",
           4,
           66
          ]
         ],
         "hovertemplate": "Style=Cold IPA<br>0=%{x}<br>1=%{y}<br>Beer=%{customdata[0]}<br>Section=%{customdata[1]}<br>Number=%{customdata[2]}<extra></extra>",
         "legendgroup": "Cold IPA",
         "marker": {
          "color": "#FF97FF",
          "symbol": "circle"
         },
         "mode": "markers",
         "name": "Cold IPA",
         "orientation": "v",
         "showlegend": true,
         "type": "scatter",
         "x": [
          -0.08043794123667457
         ],
         "xaxis": "x",
         "y": [
          -0.005995074686130633
         ],
         "yaxis": "y"
        },
        {
         "customdata": [
          [
           "Daily Tot' - Rum Raisin Brown Ale",
           4,
           70
          ],
          [
           "The Notorious F.I.G.",
           6,
           108
          ]
         ],
         "hovertemplate": "Style=UK Brown Ale<br>0=%{x}<br>1=%{y}<br>Beer=%{customdata[0]}<br>Section=%{customdata[1]}<br>Number=%{customdata[2]}<extra></extra>",
         "legendgroup": "UK Brown Ale",
         "marker": {
          "color": "#FECB52",
          "symbol": "circle"
         },
         "mode": "markers",
         "name": "UK Brown Ale",
         "orientation": "v",
         "showlegend": true,
         "type": "scatter",
         "x": [
          0.06358471895666651,
          0.007884589396043163
         ],
         "xaxis": "x",
         "y": [
          0.010519038814139453,
          -0.03909925983058405
         ],
         "yaxis": "y"
        },
        {
         "customdata": [
          [
           "Vanilla Bean Panna Cotta",
           4,
           72
          ]
         ],
         "hovertemplate": "Style=Stout - White<br>0=%{x}<br>1=%{y}<br>Beer=%{customdata[0]}<br>Section=%{customdata[1]}<br>Number=%{customdata[2]}<extra></extra>",
         "legendgroup": "Stout - White",
         "marker": {
          "color": "#636efa",
          "symbol": "circle"
         },
         "mode": "markers",
         "name": "Stout - White",
         "orientation": "v",
         "showlegend": true,
         "type": "scatter",
         "x": [
          0.09117873996163849
         ],
         "xaxis": "x",
         "y": [
          -0.08490359238870099
         ],
         "yaxis": "y"
        },
        {
         "customdata": [
          [
           "ALTernate BIER",
           4,
           73
          ]
         ],
         "hovertemplate": "Style=Altbier<br>0=%{x}<br>1=%{y}<br>Beer=%{customdata[0]}<br>Section=%{customdata[1]}<br>Number=%{customdata[2]}<extra></extra>",
         "legendgroup": "Altbier",
         "marker": {
          "color": "#EF553B",
          "symbol": "circle"
         },
         "mode": "markers",
         "name": "Altbier",
         "orientation": "v",
         "showlegend": true,
         "type": "scatter",
         "x": [
          -0.05816790400129755
         ],
         "xaxis": "x",
         "y": [
          -0.026289229980108016
         ],
         "yaxis": "y"
        },
        {
         "customdata": [
          [
           "Insane Kölche Posse",
           4,
           77
          ]
         ],
         "hovertemplate": "Style=Kölsch<br>0=%{x}<br>1=%{y}<br>Beer=%{customdata[0]}<br>Section=%{customdata[1]}<br>Number=%{customdata[2]}<extra></extra>",
         "legendgroup": "Kölsch",
         "marker": {
          "color": "#00cc96",
          "symbol": "circle"
         },
         "mode": "markers",
         "name": "Kölsch",
         "orientation": "v",
         "showlegend": true,
         "type": "scatter",
         "x": [
          -0.08685055550617048
         ],
         "xaxis": "x",
         "y": [
          -0.09461487304566012
         ],
         "yaxis": "y"
        },
        {
         "customdata": [
          [
           "The 'H' is Silent",
           5,
           82
          ],
          [
           "Simz Spicy Vanilla Gorilla",
           5,
           84
          ]
         ],
         "hovertemplate": "Style=Mixed Fermentation Sour<br>0=%{x}<br>1=%{y}<br>Beer=%{customdata[0]}<br>Section=%{customdata[1]}<br>Number=%{customdata[2]}<extra></extra>",
         "legendgroup": "Mixed Fermentation Sour",
         "marker": {
          "color": "#ab63fa",
          "symbol": "circle"
         },
         "mode": "markers",
         "name": "Mixed Fermentation Sour",
         "orientation": "v",
         "showlegend": true,
         "type": "scatter",
         "x": [
          -0.05452839521753433,
          0.004440276487483557
         ],
         "xaxis": "x",
         "y": [
          0.30801495535192597,
          0.40853192186225573
         ],
         "yaxis": "y"
        },
        {
         "customdata": [
          [
           "West coast story",
           5,
           83
          ]
         ],
         "hovertemplate": "Style=Australian IPA<br>0=%{x}<br>1=%{y}<br>Beer=%{customdata[0]}<br>Section=%{customdata[1]}<br>Number=%{customdata[2]}<extra></extra>",
         "legendgroup": "Australian IPA",
         "marker": {
          "color": "#FFA15A",
          "symbol": "circle"
         },
         "mode": "markers",
         "name": "Australian IPA",
         "orientation": "v",
         "showlegend": true,
         "type": "scatter",
         "x": [
          -0.21178721541509454
         ],
         "xaxis": "x",
         "y": [
          -0.18328851550272332
         ],
         "yaxis": "y"
        },
        {
         "customdata": [
          [
           "The Terpinator",
           5,
           85
          ]
         ],
         "hovertemplate": "Style=IPA - American<br>0=%{x}<br>1=%{y}<br>Beer=%{customdata[0]}<br>Section=%{customdata[1]}<br>Number=%{customdata[2]}<extra></extra>",
         "legendgroup": "IPA - American",
         "marker": {
          "color": "#19d3f3",
          "symbol": "circle"
         },
         "mode": "markers",
         "name": "IPA - American",
         "orientation": "v",
         "showlegend": true,
         "type": "scatter",
         "x": [
          -0.12389935182971958
         ],
         "xaxis": "x",
         "y": [
          -0.11142589554179169
         ],
         "yaxis": "y"
        },
        {
         "customdata": [
          [
           "Tradies Breakfast - Vienna Coffee Lager meets Custard Tart",
           5,
           86
          ]
         ],
         "hovertemplate": "Style=Vienna Lager<br>0=%{x}<br>1=%{y}<br>Beer=%{customdata[0]}<br>Section=%{customdata[1]}<br>Number=%{customdata[2]}<extra></extra>",
         "legendgroup": "Vienna Lager",
         "marker": {
          "color": "#FF6692",
          "symbol": "circle"
         },
         "mode": "markers",
         "name": "Vienna Lager",
         "orientation": "v",
         "showlegend": true,
         "type": "scatter",
         "x": [
          0.04885922215184958
         ],
         "xaxis": "x",
         "y": [
          -0.0471071285155212
         ],
         "yaxis": "y"
        },
        {
         "customdata": [
          [
           "Apfelstrudle Pastry Hefe",
           5,
           89
          ]
         ],
         "hovertemplate": "Style=Weizen/Weissbier/Hefeweizen<br>0=%{x}<br>1=%{y}<br>Beer=%{customdata[0]}<br>Section=%{customdata[1]}<br>Number=%{customdata[2]}<extra></extra>",
         "legendgroup": "Weizen/Weissbier/Hefeweizen",
         "marker": {
          "color": "#B6E880",
          "symbol": "circle"
         },
         "mode": "markers",
         "name": "Weizen/Weissbier/Hefeweizen",
         "orientation": "v",
         "showlegend": true,
         "type": "scatter",
         "x": [
          0.01810782037167457
         ],
         "xaxis": "x",
         "y": [
          0.011904895151128131
         ],
         "yaxis": "y"
        },
        {
         "customdata": [
          [
           "SAB Bitter",
           5,
           92
          ]
         ],
         "hovertemplate": "Style=ESB (Extra Special Bitter)<br>0=%{x}<br>1=%{y}<br>Beer=%{customdata[0]}<br>Section=%{customdata[1]}<br>Number=%{customdata[2]}<extra></extra>",
         "legendgroup": "ESB (Extra Special Bitter)",
         "marker": {
          "color": "#FF97FF",
          "symbol": "circle"
         },
         "mode": "markers",
         "name": "ESB (Extra Special Bitter)",
         "orientation": "v",
         "showlegend": true,
         "type": "scatter",
         "x": [
          -0.0009840172283605603
         ],
         "xaxis": "x",
         "y": [
          -0.03322143830410653
         ],
         "yaxis": "y"
        },
        {
         "customdata": [
          [
           "Smooth Landing - Fruit Punch IPA",
           5,
           93
          ]
         ],
         "hovertemplate": "Style=IPA - Hazy<br>0=%{x}<br>1=%{y}<br>Beer=%{customdata[0]}<br>Section=%{customdata[1]}<br>Number=%{customdata[2]}<extra></extra>",
         "legendgroup": "IPA - Hazy",
         "marker": {
          "color": "#FECB52",
          "symbol": "circle"
         },
         "mode": "markers",
         "name": "IPA - Hazy",
         "orientation": "v",
         "showlegend": true,
         "type": "scatter",
         "x": [
          -0.21536658499209713
         ],
         "xaxis": "x",
         "y": [
          -0.16774254303435507
         ],
         "yaxis": "y"
        },
        {
         "customdata": [
          [
           "Equinox '24",
           5,
           96
          ]
         ],
         "hovertemplate": "Style=Imperial IPA<br>0=%{x}<br>1=%{y}<br>Beer=%{customdata[0]}<br>Section=%{customdata[1]}<br>Number=%{customdata[2]}<extra></extra>",
         "legendgroup": "Imperial IPA",
         "marker": {
          "color": "#636efa",
          "symbol": "circle"
         },
         "mode": "markers",
         "name": "Imperial IPA",
         "orientation": "v",
         "showlegend": true,
         "type": "scatter",
         "x": [
          0.010758764999323477
         ],
         "xaxis": "x",
         "y": [
          -0.1503872971408561
         ],
         "yaxis": "y"
        },
        {
         "customdata": [
          [
           "Escape The Heat - Belgian Ale with Jalapeños",
           5,
           99
          ]
         ],
         "hovertemplate": "Style=Belgian Specialty Ale<br>0=%{x}<br>1=%{y}<br>Beer=%{customdata[0]}<br>Section=%{customdata[1]}<br>Number=%{customdata[2]}<extra></extra>",
         "legendgroup": "Belgian Specialty Ale",
         "marker": {
          "color": "#EF553B",
          "symbol": "circle"
         },
         "mode": "markers",
         "name": "Belgian Specialty Ale",
         "orientation": "v",
         "showlegend": true,
         "type": "scatter",
         "x": [
          0.003176121959906799
         ],
         "xaxis": "x",
         "y": [
          0.017084509231239258
         ],
         "yaxis": "y"
        },
        {
         "customdata": [
          [
           "Try And Banh Mi",
           6,
           102
          ]
         ],
         "hovertemplate": "Style=Stout<br>0=%{x}<br>1=%{y}<br>Beer=%{customdata[0]}<br>Section=%{customdata[1]}<br>Number=%{customdata[2]}<extra></extra>",
         "legendgroup": "Stout",
         "marker": {
          "color": "#00cc96",
          "symbol": "circle"
         },
         "mode": "markers",
         "name": "Stout",
         "orientation": "v",
         "showlegend": true,
         "type": "scatter",
         "x": [
          0.2422214818141313
         ],
         "xaxis": "x",
         "y": [
          -0.06004778034134113
         ],
         "yaxis": "y"
        },
        {
         "customdata": [
          [
           "Cereal for Dinner",
           6,
           104
          ]
         ],
         "hovertemplate": "Style=New England IPA<br>0=%{x}<br>1=%{y}<br>Beer=%{customdata[0]}<br>Section=%{customdata[1]}<br>Number=%{customdata[2]}<extra></extra>",
         "legendgroup": "New England IPA",
         "marker": {
          "color": "#ab63fa",
          "symbol": "circle"
         },
         "mode": "markers",
         "name": "New England IPA",
         "orientation": "v",
         "showlegend": true,
         "type": "scatter",
         "x": [
          -0.07864576035569333
         ],
         "xaxis": "x",
         "y": [
          -0.08314249355707916
         ],
         "yaxis": "y"
        },
        {
         "customdata": [
          [
           "Beer-ria taco lager",
           6,
           113
          ]
         ],
         "hovertemplate": "Style=Rauchbier<br>0=%{x}<br>1=%{y}<br>Beer=%{customdata[0]}<br>Section=%{customdata[1]}<br>Number=%{customdata[2]}<extra></extra>",
         "legendgroup": "Rauchbier",
         "marker": {
          "color": "#FFA15A",
          "symbol": "circle"
         },
         "mode": "markers",
         "name": "Rauchbier",
         "orientation": "v",
         "showlegend": true,
         "type": "scatter",
         "x": [
          -0.01507846750108945
         ],
         "xaxis": "x",
         "y": [
          0.001713831862480884
         ],
         "yaxis": "y"
        },
        {
         "customdata": [
          [
           "Ginger Monkey",
           6,
           116
          ],
          [
           null,
           6,
           117
          ]
         ],
         "hovertemplate": "Style=Cocktail<br>0=%{x}<br>1=%{y}<br>Beer=%{customdata[0]}<br>Section=%{customdata[1]}<br>Number=%{customdata[2]}<extra></extra>",
         "legendgroup": "Cocktail",
         "marker": {
          "color": "#19d3f3",
          "symbol": "circle"
         },
         "mode": "markers",
         "name": "Cocktail",
         "orientation": "v",
         "showlegend": true,
         "type": "scatter",
         "x": [
          -0.0030626881325425065,
          -0.03163567415575448
         ],
         "xaxis": "x",
         "y": [
          -0.00468671841208699,
          -0.019358840290114355
         ],
         "yaxis": "y"
        },
        {
         "customdata": [
          [
           "Eddies Crisp Apple",
           6,
           118
          ]
         ],
         "hovertemplate": "Style=Traditional Cider<br>0=%{x}<br>1=%{y}<br>Beer=%{customdata[0]}<br>Section=%{customdata[1]}<br>Number=%{customdata[2]}<extra></extra>",
         "legendgroup": "Traditional Cider",
         "marker": {
          "color": "#FF6692",
          "symbol": "circle"
         },
         "mode": "markers",
         "name": "Traditional Cider",
         "orientation": "v",
         "showlegend": true,
         "type": "scatter",
         "x": [
          -0.060093265836116815
         ],
         "xaxis": "x",
         "y": [
          -0.027144983359024388
         ],
         "yaxis": "y"
        },
        {
         "customdata": [
          [
           "Cloudy Apple & Ginger",
           6,
           119
          ]
         ],
         "hovertemplate": "Style=Specialty Cider<br>0=%{x}<br>1=%{y}<br>Beer=%{customdata[0]}<br>Section=%{customdata[1]}<br>Number=%{customdata[2]}<extra></extra>",
         "legendgroup": "Specialty Cider",
         "marker": {
          "color": "#B6E880",
          "symbol": "circle"
         },
         "mode": "markers",
         "name": "Specialty Cider",
         "orientation": "v",
         "showlegend": true,
         "type": "scatter",
         "x": [
          -0.03390462752954161
         ],
         "xaxis": "x",
         "y": [
          0.007705685410853032
         ],
         "yaxis": "y"
        }
       ],
       "layout": {
        "legend": {
         "title": {
          "text": "Style"
         },
         "tracegroupgap": 0
        },
        "template": {
         "data": {
          "bar": [
           {
            "error_x": {
             "color": "#2a3f5f"
            },
            "error_y": {
             "color": "#2a3f5f"
            },
            "marker": {
             "line": {
              "color": "#E5ECF6",
              "width": 0.5
             },
             "pattern": {
              "fillmode": "overlay",
              "size": 10,
              "solidity": 0.2
             }
            },
            "type": "bar"
           }
          ],
          "barpolar": [
           {
            "marker": {
             "line": {
              "color": "#E5ECF6",
              "width": 0.5
             },
             "pattern": {
              "fillmode": "overlay",
              "size": 10,
              "solidity": 0.2
             }
            },
            "type": "barpolar"
           }
          ],
          "carpet": [
           {
            "aaxis": {
             "endlinecolor": "#2a3f5f",
             "gridcolor": "white",
             "linecolor": "white",
             "minorgridcolor": "white",
             "startlinecolor": "#2a3f5f"
            },
            "baxis": {
             "endlinecolor": "#2a3f5f",
             "gridcolor": "white",
             "linecolor": "white",
             "minorgridcolor": "white",
             "startlinecolor": "#2a3f5f"
            },
            "type": "carpet"
           }
          ],
          "choropleth": [
           {
            "colorbar": {
             "outlinewidth": 0,
             "ticks": ""
            },
            "type": "choropleth"
           }
          ],
          "contour": [
           {
            "colorbar": {
             "outlinewidth": 0,
             "ticks": ""
            },
            "colorscale": [
             [
              0,
              "#0d0887"
             ],
             [
              0.1111111111111111,
              "#46039f"
             ],
             [
              0.2222222222222222,
              "#7201a8"
             ],
             [
              0.3333333333333333,
              "#9c179e"
             ],
             [
              0.4444444444444444,
              "#bd3786"
             ],
             [
              0.5555555555555556,
              "#d8576b"
             ],
             [
              0.6666666666666666,
              "#ed7953"
             ],
             [
              0.7777777777777778,
              "#fb9f3a"
             ],
             [
              0.8888888888888888,
              "#fdca26"
             ],
             [
              1,
              "#f0f921"
             ]
            ],
            "type": "contour"
           }
          ],
          "contourcarpet": [
           {
            "colorbar": {
             "outlinewidth": 0,
             "ticks": ""
            },
            "type": "contourcarpet"
           }
          ],
          "heatmap": [
           {
            "colorbar": {
             "outlinewidth": 0,
             "ticks": ""
            },
            "colorscale": [
             [
              0,
              "#0d0887"
             ],
             [
              0.1111111111111111,
              "#46039f"
             ],
             [
              0.2222222222222222,
              "#7201a8"
             ],
             [
              0.3333333333333333,
              "#9c179e"
             ],
             [
              0.4444444444444444,
              "#bd3786"
             ],
             [
              0.5555555555555556,
              "#d8576b"
             ],
             [
              0.6666666666666666,
              "#ed7953"
             ],
             [
              0.7777777777777778,
              "#fb9f3a"
             ],
             [
              0.8888888888888888,
              "#fdca26"
             ],
             [
              1,
              "#f0f921"
             ]
            ],
            "type": "heatmap"
           }
          ],
          "heatmapgl": [
           {
            "colorbar": {
             "outlinewidth": 0,
             "ticks": ""
            },
            "colorscale": [
             [
              0,
              "#0d0887"
             ],
             [
              0.1111111111111111,
              "#46039f"
             ],
             [
              0.2222222222222222,
              "#7201a8"
             ],
             [
              0.3333333333333333,
              "#9c179e"
             ],
             [
              0.4444444444444444,
              "#bd3786"
             ],
             [
              0.5555555555555556,
              "#d8576b"
             ],
             [
              0.6666666666666666,
              "#ed7953"
             ],
             [
              0.7777777777777778,
              "#fb9f3a"
             ],
             [
              0.8888888888888888,
              "#fdca26"
             ],
             [
              1,
              "#f0f921"
             ]
            ],
            "type": "heatmapgl"
           }
          ],
          "histogram": [
           {
            "marker": {
             "pattern": {
              "fillmode": "overlay",
              "size": 10,
              "solidity": 0.2
             }
            },
            "type": "histogram"
           }
          ],
          "histogram2d": [
           {
            "colorbar": {
             "outlinewidth": 0,
             "ticks": ""
            },
            "colorscale": [
             [
              0,
              "#0d0887"
             ],
             [
              0.1111111111111111,
              "#46039f"
             ],
             [
              0.2222222222222222,
              "#7201a8"
             ],
             [
              0.3333333333333333,
              "#9c179e"
             ],
             [
              0.4444444444444444,
              "#bd3786"
             ],
             [
              0.5555555555555556,
              "#d8576b"
             ],
             [
              0.6666666666666666,
              "#ed7953"
             ],
             [
              0.7777777777777778,
              "#fb9f3a"
             ],
             [
              0.8888888888888888,
              "#fdca26"
             ],
             [
              1,
              "#f0f921"
             ]
            ],
            "type": "histogram2d"
           }
          ],
          "histogram2dcontour": [
           {
            "colorbar": {
             "outlinewidth": 0,
             "ticks": ""
            },
            "colorscale": [
             [
              0,
              "#0d0887"
             ],
             [
              0.1111111111111111,
              "#46039f"
             ],
             [
              0.2222222222222222,
              "#7201a8"
             ],
             [
              0.3333333333333333,
              "#9c179e"
             ],
             [
              0.4444444444444444,
              "#bd3786"
             ],
             [
              0.5555555555555556,
              "#d8576b"
             ],
             [
              0.6666666666666666,
              "#ed7953"
             ],
             [
              0.7777777777777778,
              "#fb9f3a"
             ],
             [
              0.8888888888888888,
              "#fdca26"
             ],
             [
              1,
              "#f0f921"
             ]
            ],
            "type": "histogram2dcontour"
           }
          ],
          "mesh3d": [
           {
            "colorbar": {
             "outlinewidth": 0,
             "ticks": ""
            },
            "type": "mesh3d"
           }
          ],
          "parcoords": [
           {
            "line": {
             "colorbar": {
              "outlinewidth": 0,
              "ticks": ""
             }
            },
            "type": "parcoords"
           }
          ],
          "pie": [
           {
            "automargin": true,
            "type": "pie"
           }
          ],
          "scatter": [
           {
            "fillpattern": {
             "fillmode": "overlay",
             "size": 10,
             "solidity": 0.2
            },
            "type": "scatter"
           }
          ],
          "scatter3d": [
           {
            "line": {
             "colorbar": {
              "outlinewidth": 0,
              "ticks": ""
             }
            },
            "marker": {
             "colorbar": {
              "outlinewidth": 0,
              "ticks": ""
             }
            },
            "type": "scatter3d"
           }
          ],
          "scattercarpet": [
           {
            "marker": {
             "colorbar": {
              "outlinewidth": 0,
              "ticks": ""
             }
            },
            "type": "scattercarpet"
           }
          ],
          "scattergeo": [
           {
            "marker": {
             "colorbar": {
              "outlinewidth": 0,
              "ticks": ""
             }
            },
            "type": "scattergeo"
           }
          ],
          "scattergl": [
           {
            "marker": {
             "colorbar": {
              "outlinewidth": 0,
              "ticks": ""
             }
            },
            "type": "scattergl"
           }
          ],
          "scattermapbox": [
           {
            "marker": {
             "colorbar": {
              "outlinewidth": 0,
              "ticks": ""
             }
            },
            "type": "scattermapbox"
           }
          ],
          "scatterpolar": [
           {
            "marker": {
             "colorbar": {
              "outlinewidth": 0,
              "ticks": ""
             }
            },
            "type": "scatterpolar"
           }
          ],
          "scatterpolargl": [
           {
            "marker": {
             "colorbar": {
              "outlinewidth": 0,
              "ticks": ""
             }
            },
            "type": "scatterpolargl"
           }
          ],
          "scatterternary": [
           {
            "marker": {
             "colorbar": {
              "outlinewidth": 0,
              "ticks": ""
             }
            },
            "type": "scatterternary"
           }
          ],
          "surface": [
           {
            "colorbar": {
             "outlinewidth": 0,
             "ticks": ""
            },
            "colorscale": [
             [
              0,
              "#0d0887"
             ],
             [
              0.1111111111111111,
              "#46039f"
             ],
             [
              0.2222222222222222,
              "#7201a8"
             ],
             [
              0.3333333333333333,
              "#9c179e"
             ],
             [
              0.4444444444444444,
              "#bd3786"
             ],
             [
              0.5555555555555556,
              "#d8576b"
             ],
             [
              0.6666666666666666,
              "#ed7953"
             ],
             [
              0.7777777777777778,
              "#fb9f3a"
             ],
             [
              0.8888888888888888,
              "#fdca26"
             ],
             [
              1,
              "#f0f921"
             ]
            ],
            "type": "surface"
           }
          ],
          "table": [
           {
            "cells": {
             "fill": {
              "color": "#EBF0F8"
             },
             "line": {
              "color": "white"
             }
            },
            "header": {
             "fill": {
              "color": "#C8D4E3"
             },
             "line": {
              "color": "white"
             }
            },
            "type": "table"
           }
          ]
         },
         "layout": {
          "annotationdefaults": {
           "arrowcolor": "#2a3f5f",
           "arrowhead": 0,
           "arrowwidth": 1
          },
          "autotypenumbers": "strict",
          "coloraxis": {
           "colorbar": {
            "outlinewidth": 0,
            "ticks": ""
           }
          },
          "colorscale": {
           "diverging": [
            [
             0,
             "#8e0152"
            ],
            [
             0.1,
             "#c51b7d"
            ],
            [
             0.2,
             "#de77ae"
            ],
            [
             0.3,
             "#f1b6da"
            ],
            [
             0.4,
             "#fde0ef"
            ],
            [
             0.5,
             "#f7f7f7"
            ],
            [
             0.6,
             "#e6f5d0"
            ],
            [
             0.7,
             "#b8e186"
            ],
            [
             0.8,
             "#7fbc41"
            ],
            [
             0.9,
             "#4d9221"
            ],
            [
             1,
             "#276419"
            ]
           ],
           "sequential": [
            [
             0,
             "#0d0887"
            ],
            [
             0.1111111111111111,
             "#46039f"
            ],
            [
             0.2222222222222222,
             "#7201a8"
            ],
            [
             0.3333333333333333,
             "#9c179e"
            ],
            [
             0.4444444444444444,
             "#bd3786"
            ],
            [
             0.5555555555555556,
             "#d8576b"
            ],
            [
             0.6666666666666666,
             "#ed7953"
            ],
            [
             0.7777777777777778,
             "#fb9f3a"
            ],
            [
             0.8888888888888888,
             "#fdca26"
            ],
            [
             1,
             "#f0f921"
            ]
           ],
           "sequentialminus": [
            [
             0,
             "#0d0887"
            ],
            [
             0.1111111111111111,
             "#46039f"
            ],
            [
             0.2222222222222222,
             "#7201a8"
            ],
            [
             0.3333333333333333,
             "#9c179e"
            ],
            [
             0.4444444444444444,
             "#bd3786"
            ],
            [
             0.5555555555555556,
             "#d8576b"
            ],
            [
             0.6666666666666666,
             "#ed7953"
            ],
            [
             0.7777777777777778,
             "#fb9f3a"
            ],
            [
             0.8888888888888888,
             "#fdca26"
            ],
            [
             1,
             "#f0f921"
            ]
           ]
          },
          "colorway": [
           "#636efa",
           "#EF553B",
           "#00cc96",
           "#ab63fa",
           "#FFA15A",
           "#19d3f3",
           "#FF6692",
           "#B6E880",
           "#FF97FF",
           "#FECB52"
          ],
          "font": {
           "color": "#2a3f5f"
          },
          "geo": {
           "bgcolor": "white",
           "lakecolor": "white",
           "landcolor": "#E5ECF6",
           "showlakes": true,
           "showland": true,
           "subunitcolor": "white"
          },
          "hoverlabel": {
           "align": "left"
          },
          "hovermode": "closest",
          "mapbox": {
           "style": "light"
          },
          "paper_bgcolor": "white",
          "plot_bgcolor": "#E5ECF6",
          "polar": {
           "angularaxis": {
            "gridcolor": "white",
            "linecolor": "white",
            "ticks": ""
           },
           "bgcolor": "#E5ECF6",
           "radialaxis": {
            "gridcolor": "white",
            "linecolor": "white",
            "ticks": ""
           }
          },
          "scene": {
           "xaxis": {
            "backgroundcolor": "#E5ECF6",
            "gridcolor": "white",
            "gridwidth": 2,
            "linecolor": "white",
            "showbackground": true,
            "ticks": "",
            "zerolinecolor": "white"
           },
           "yaxis": {
            "backgroundcolor": "#E5ECF6",
            "gridcolor": "white",
            "gridwidth": 2,
            "linecolor": "white",
            "showbackground": true,
            "ticks": "",
            "zerolinecolor": "white"
           },
           "zaxis": {
            "backgroundcolor": "#E5ECF6",
            "gridcolor": "white",
            "gridwidth": 2,
            "linecolor": "white",
            "showbackground": true,
            "ticks": "",
            "zerolinecolor": "white"
           }
          },
          "shapedefaults": {
           "line": {
            "color": "#2a3f5f"
           }
          },
          "ternary": {
           "aaxis": {
            "gridcolor": "white",
            "linecolor": "white",
            "ticks": ""
           },
           "baxis": {
            "gridcolor": "white",
            "linecolor": "white",
            "ticks": ""
           },
           "bgcolor": "#E5ECF6",
           "caxis": {
            "gridcolor": "white",
            "linecolor": "white",
            "ticks": ""
           }
          },
          "title": {
           "x": 0.05
          },
          "xaxis": {
           "automargin": true,
           "gridcolor": "white",
           "linecolor": "white",
           "ticks": "",
           "title": {
            "standoff": 15
           },
           "zerolinecolor": "white",
           "zerolinewidth": 2
          },
          "yaxis": {
           "automargin": true,
           "gridcolor": "white",
           "linecolor": "white",
           "ticks": "",
           "title": {
            "standoff": 15
           },
           "zerolinecolor": "white",
           "zerolinewidth": 2
          }
         }
        },
        "title": {
         "text": "GABS 2024"
        },
        "xaxis": {
         "anchor": "y",
         "domain": [
          0,
          1
         ],
         "title": {
          "text": "0"
         }
        },
        "yaxis": {
         "anchor": "x",
         "domain": [
          0,
          1
         ],
         "title": {
          "text": "1"
         }
        }
       }
      }
     },
     "metadata": {},
     "output_type": "display_data"
    }
   ],
   "source": [
    "# Plot some clusters maybe?\n",
    "pca_arr_all = PCA(n_components=2).fit_transform(np.asarray(X.todense()))\n",
    "print(pca_arr_all.shape)\n",
    "\n",
    "\n",
    "pca_df = pd.DataFrame(pca_arr_all).reset_index(drop=True).set_index(df.index)\n",
    "pca_df['Section'] = df['section']\n",
    "pca_df['Number'] = df.index\n",
    "pca_df['Beer'] = df['name']\n",
    "pca_df['Brewery'] = df['brewery']\n",
    "pca_df['Style'] = df['style']\n",
    "#pca_df['Anticipation'] = df.Anticipation\n",
    "\n",
    "fig = px.scatter(pca_df,\n",
    "                 x=0,\n",
    "                 y=1,\n",
    "                 color=\"Style\",\n",
    "                 hover_data=[\"Beer\", \"Section\", \"Number\"],\n",
    "                 title=\"GABS 2024\"\n",
    "                )\n",
    "fig.show()"
   ]
  },
  {
   "cell_type": "code",
   "execution_count": 14,
   "id": "13e987fa",
   "metadata": {},
   "outputs": [
    {
     "name": "stdout",
     "output_type": "stream",
     "text": [
      "(117, 1651)\n"
     ]
    }
   ],
   "source": [
    "print(X.shape)"
   ]
  },
  {
   "cell_type": "code",
   "execution_count": 15,
   "id": "0495ee0d-9b8a-4fdf-97d3-f9a50bb38c20",
   "metadata": {
    "tags": []
   },
   "outputs": [
    {
     "name": "stdout",
     "output_type": "stream",
     "text": [
      "(117, 50)\n",
      "(117, 2)\n"
     ]
    }
   ],
   "source": [
    "# t-SNE?\n",
    "pca_arr = PCA(n_components=50).fit_transform(np.asarray(X.todense()))\n",
    "print(pca_arr.shape)\n",
    "tsne_arr = TSNE().fit_transform(pca_arr)\n",
    "print(tsne_arr.shape)\n",
    "\n",
    "tsne_df = pd.DataFrame(tsne_arr).reset_index(drop=True).set_index(df.index)\n",
    "tsne_df['Section'] = df['section']\n",
    "tsne_df['Number'] = df.index\n",
    "tsne_df['Beer'] = df['name']\n",
    "tsne_df['Brewery'] = df['brewery']\n",
    "tsne_df['Style'] = df['style']\n"
   ]
  },
  {
   "cell_type": "code",
   "execution_count": 16,
   "id": "f2efca59-251d-48b7-82ba-bbc789d2a130",
   "metadata": {
    "tags": []
   },
   "outputs": [
    {
     "data": {
      "text/html": [
       "<div>\n",
       "<style scoped>\n",
       "    .dataframe tbody tr th:only-of-type {\n",
       "        vertical-align: middle;\n",
       "    }\n",
       "\n",
       "    .dataframe tbody tr th {\n",
       "        vertical-align: top;\n",
       "    }\n",
       "\n",
       "    .dataframe thead th {\n",
       "        text-align: right;\n",
       "    }\n",
       "</style>\n",
       "<table border=\"1\" class=\"dataframe\">\n",
       "  <thead>\n",
       "    <tr style=\"text-align: right;\">\n",
       "      <th></th>\n",
       "      <th>0</th>\n",
       "      <th>1</th>\n",
       "      <th>Section</th>\n",
       "      <th>Number</th>\n",
       "      <th>Beer</th>\n",
       "      <th>Brewery</th>\n",
       "      <th>Style</th>\n",
       "    </tr>\n",
       "    <tr>\n",
       "      <th>num</th>\n",
       "      <th></th>\n",
       "      <th></th>\n",
       "      <th></th>\n",
       "      <th></th>\n",
       "      <th></th>\n",
       "      <th></th>\n",
       "      <th></th>\n",
       "    </tr>\n",
       "  </thead>\n",
       "  <tbody>\n",
       "    <tr>\n",
       "      <th>1.0</th>\n",
       "      <td>-10.033188</td>\n",
       "      <td>5.971817</td>\n",
       "      <td>1</td>\n",
       "      <td>1.0</td>\n",
       "      <td>HONEY GUM (RED IPA)</td>\n",
       "      <td>Clifton Hill Brewing</td>\n",
       "      <td>Red IPA</td>\n",
       "    </tr>\n",
       "    <tr>\n",
       "      <th>2.0</th>\n",
       "      <td>-4.282264</td>\n",
       "      <td>4.314384</td>\n",
       "      <td>1</td>\n",
       "      <td>2.0</td>\n",
       "      <td>Choc à l'orange</td>\n",
       "      <td>Brewmanity Beer Co</td>\n",
       "      <td>Imperial Stout</td>\n",
       "    </tr>\n",
       "    <tr>\n",
       "      <th>3.0</th>\n",
       "      <td>9.859373</td>\n",
       "      <td>1.793159</td>\n",
       "      <td>1</td>\n",
       "      <td>3.0</td>\n",
       "      <td>Spaghetti Saison</td>\n",
       "      <td>Six String Brewing Co</td>\n",
       "      <td>Saison/Farmhouse Ale</td>\n",
       "    </tr>\n",
       "    <tr>\n",
       "      <th>4.0</th>\n",
       "      <td>9.136356</td>\n",
       "      <td>6.028160</td>\n",
       "      <td>1</td>\n",
       "      <td>4.0</td>\n",
       "      <td>Cocoa Comet</td>\n",
       "      <td>The Brew Baron Beer Co.</td>\n",
       "      <td>Porter</td>\n",
       "    </tr>\n",
       "    <tr>\n",
       "      <th>5.0</th>\n",
       "      <td>-0.571690</td>\n",
       "      <td>-0.350629</td>\n",
       "      <td>1</td>\n",
       "      <td>5.0</td>\n",
       "      <td>Crumbs - Imperial Cookie Stout</td>\n",
       "      <td>8 Wired</td>\n",
       "      <td>Imperial Stout</td>\n",
       "    </tr>\n",
       "    <tr>\n",
       "      <th>...</th>\n",
       "      <td>...</td>\n",
       "      <td>...</td>\n",
       "      <td>...</td>\n",
       "      <td>...</td>\n",
       "      <td>...</td>\n",
       "      <td>...</td>\n",
       "      <td>...</td>\n",
       "    </tr>\n",
       "    <tr>\n",
       "      <th>115.0</th>\n",
       "      <td>5.739968</td>\n",
       "      <td>9.788649</td>\n",
       "      <td>6</td>\n",
       "      <td>115.0</td>\n",
       "      <td>Raspberry Sherbet Bomb</td>\n",
       "      <td>Moon Dog</td>\n",
       "      <td>Specialty Beer</td>\n",
       "    </tr>\n",
       "    <tr>\n",
       "      <th>116.0</th>\n",
       "      <td>-6.187871</td>\n",
       "      <td>9.104838</td>\n",
       "      <td>6</td>\n",
       "      <td>116.0</td>\n",
       "      <td>Ginger Monkey</td>\n",
       "      <td>monkey shoulder</td>\n",
       "      <td>Cocktail</td>\n",
       "    </tr>\n",
       "    <tr>\n",
       "      <th>117.0</th>\n",
       "      <td>5.993478</td>\n",
       "      <td>6.120999</td>\n",
       "      <td>6</td>\n",
       "      <td>117.0</td>\n",
       "      <td>NaN</td>\n",
       "      <td>Matso's Piña Colada</td>\n",
       "      <td>Cocktail</td>\n",
       "    </tr>\n",
       "    <tr>\n",
       "      <th>118.0</th>\n",
       "      <td>-4.178394</td>\n",
       "      <td>9.022579</td>\n",
       "      <td>6</td>\n",
       "      <td>118.0</td>\n",
       "      <td>Eddies Crisp Apple</td>\n",
       "      <td>Eddies Cider</td>\n",
       "      <td>Traditional Cider</td>\n",
       "    </tr>\n",
       "    <tr>\n",
       "      <th>119.0</th>\n",
       "      <td>-5.600923</td>\n",
       "      <td>9.240831</td>\n",
       "      <td>6</td>\n",
       "      <td>119.0</td>\n",
       "      <td>Cloudy Apple &amp; Ginger</td>\n",
       "      <td>Spreyton Cider Co</td>\n",
       "      <td>Specialty Cider</td>\n",
       "    </tr>\n",
       "  </tbody>\n",
       "</table>\n",
       "<p>117 rows × 7 columns</p>\n",
       "</div>"
      ],
      "text/plain": [
       "               0         1  Section  Number                            Beer  \\\n",
       "num                                                                           \n",
       "1.0   -10.033188  5.971817        1     1.0             HONEY GUM (RED IPA)   \n",
       "2.0    -4.282264  4.314384        1     2.0                 Choc à l'orange   \n",
       "3.0     9.859373  1.793159        1     3.0                Spaghetti Saison   \n",
       "4.0     9.136356  6.028160        1     4.0                     Cocoa Comet   \n",
       "5.0    -0.571690 -0.350629        1     5.0  Crumbs - Imperial Cookie Stout   \n",
       "...          ...       ...      ...     ...                             ...   \n",
       "115.0   5.739968  9.788649        6   115.0          Raspberry Sherbet Bomb   \n",
       "116.0  -6.187871  9.104838        6   116.0                   Ginger Monkey   \n",
       "117.0   5.993478  6.120999        6   117.0                             NaN   \n",
       "118.0  -4.178394  9.022579        6   118.0              Eddies Crisp Apple   \n",
       "119.0  -5.600923  9.240831        6   119.0           Cloudy Apple & Ginger   \n",
       "\n",
       "                       Brewery                 Style  \n",
       "num                                                   \n",
       "1.0       Clifton Hill Brewing               Red IPA  \n",
       "2.0         Brewmanity Beer Co        Imperial Stout  \n",
       "3.0      Six String Brewing Co  Saison/Farmhouse Ale  \n",
       "4.0    The Brew Baron Beer Co.                Porter  \n",
       "5.0                    8 Wired        Imperial Stout  \n",
       "...                        ...                   ...  \n",
       "115.0                 Moon Dog        Specialty Beer  \n",
       "116.0          monkey shoulder              Cocktail  \n",
       "117.0      Matso's Piña Colada              Cocktail  \n",
       "118.0             Eddies Cider     Traditional Cider  \n",
       "119.0        Spreyton Cider Co       Specialty Cider  \n",
       "\n",
       "[117 rows x 7 columns]"
      ]
     },
     "metadata": {},
     "output_type": "display_data"
    }
   ],
   "source": [
    "display(tsne_df)"
   ]
  },
  {
   "cell_type": "code",
   "execution_count": 17,
   "id": "228ccc76-90fe-4fef-84ce-48387f3c423b",
   "metadata": {
    "tags": []
   },
   "outputs": [
    {
     "data": {
      "application/vnd.plotly.v1+json": {
       "config": {
        "plotlyServerURL": "https://plot.ly"
       },
       "data": [
        {
         "customdata": [
          [
           "HONEY GUM (RED IPA)",
           1,
           1
          ],
          [
           "King River Double Red IPA",
           1,
           12
          ],
          [
           "Hybrid Theory Red Rye IPA",
           1,
           18
          ]
         ],
         "hovertemplate": "Style=Red IPA<br>0=%{x}<br>1=%{y}<br>Beer=%{customdata[0]}<br>Section=%{customdata[1]}<br>Number=%{customdata[2]}<extra></extra>",
         "legendgroup": "Red IPA",
         "marker": {
          "color": "#636efa",
          "symbol": "circle"
         },
         "mode": "markers",
         "name": "Red IPA",
         "orientation": "v",
         "showlegend": true,
         "type": "scatter",
         "x": [
          -10.033187866210938,
          -9.455697059631348,
          -9.762109756469727
         ],
         "xaxis": "x",
         "y": [
          5.9718170166015625,
          5.406755447387695,
          5.737295150756836
         ],
         "yaxis": "y"
        },
        {
         "customdata": [
          [
           "Choc à l'orange",
           1,
           2
          ],
          [
           "Crumbs - Imperial Cookie Stout",
           1,
           5
          ],
          [
           "Bounty Hunter",
           2,
           21
          ],
          [
           "Abominable S'Mores Imperial Milk Stout",
           5,
           87
          ],
          [
           "Lord Barista",
           6,
           111
          ]
         ],
         "hovertemplate": "Style=Imperial Stout<br>0=%{x}<br>1=%{y}<br>Beer=%{customdata[0]}<br>Section=%{customdata[1]}<br>Number=%{customdata[2]}<extra></extra>",
         "legendgroup": "Imperial Stout",
         "marker": {
          "color": "#EF553B",
          "symbol": "circle"
         },
         "mode": "markers",
         "name": "Imperial Stout",
         "orientation": "v",
         "showlegend": true,
         "type": "scatter",
         "x": [
          -4.28226375579834,
          -0.571690022945404,
          0.17315752804279327,
          -2.674936294555664,
          -3.684507131576538
         ],
         "xaxis": "x",
         "y": [
          4.3143839836120605,
          -0.3506292700767517,
          -1.3045463562011719,
          3.127065896987915,
          -3.367696523666382
         ],
         "yaxis": "y"
        },
        {
         "customdata": [
          [
           "Spaghetti Saison",
           1,
           3
          ],
          [
           "Sparkling Saison Noir",
           3,
           50
          ],
          [
           "Black Mamba - Imperial Black Saison",
           6,
           105
          ]
         ],
         "hovertemplate": "Style=Saison/Farmhouse Ale<br>0=%{x}<br>1=%{y}<br>Beer=%{customdata[0]}<br>Section=%{customdata[1]}<br>Number=%{customdata[2]}<extra></extra>",
         "legendgroup": "Saison/Farmhouse Ale",
         "marker": {
          "color": "#00cc96",
          "symbol": "circle"
         },
         "mode": "markers",
         "name": "Saison/Farmhouse Ale",
         "orientation": "v",
         "showlegend": true,
         "type": "scatter",
         "x": [
          9.859373092651367,
          9.903305053710938,
          9.370898246765137
         ],
         "xaxis": "x",
         "y": [
          1.7931586503982544,
          1.5989776849746704,
          2.3394134044647217
         ],
         "yaxis": "y"
        },
        {
         "customdata": [
          [
           "Cocoa Comet",
           1,
           4
          ],
          [
           "Don't Take The Pith",
           1,
           13
          ],
          [
           "Nitro Citrus - Blood Orange Chocolate Porter",
           2,
           26
          ],
          [
           "Biscoff Chocolate Brownie Porter",
           4,
           78
          ],
          [
           "Miso Macadamia Stout",
           5,
           100
          ]
         ],
         "hovertemplate": "Style=Porter<br>0=%{x}<br>1=%{y}<br>Beer=%{customdata[0]}<br>Section=%{customdata[1]}<br>Number=%{customdata[2]}<extra></extra>",
         "legendgroup": "Porter",
         "marker": {
          "color": "#ab63fa",
          "symbol": "circle"
         },
         "mode": "markers",
         "name": "Porter",
         "orientation": "v",
         "showlegend": true,
         "type": "scatter",
         "x": [
          9.136356353759766,
          -6.683443069458008,
          -6.419636249542236,
          9.01117992401123,
          -4.280852794647217
         ],
         "xaxis": "x",
         "y": [
          6.0281596183776855,
          4.953442096710205,
          5.038727760314941,
          5.957313060760498,
          -5.2756667137146
         ],
         "yaxis": "y"
        },
        {
         "customdata": [
          [
           "Unlikely Friends",
           1,
           6
          ],
          [
           "Brunswick Grape Ale",
           1,
           14
          ],
          [
           "Rum Running",
           2,
           25
          ],
          [
           "Honey Honey, Joy Joy",
           3,
           57
          ],
          [
           "Pick of the Bunch",
           3,
           58
          ],
          [
           "Ooray for Gilbert",
           4,
           75
          ],
          [
           "Billson's Flavored Sour Beer",
           4,
           79
          ],
          [
           "Sweet as Pie",
           5,
           91
          ],
          [
           "Partical Fusion - worlds collide",
           5,
           94
          ],
          [
           "Salvaged Cherry Cola",
           5,
           98
          ],
          [
           "Strawberry Champagne Beer",
           6,
           101
          ],
          [
           "Raspberry Sherbet Bomb",
           6,
           115
          ]
         ],
         "hovertemplate": "Style=Specialty Beer<br>0=%{x}<br>1=%{y}<br>Beer=%{customdata[0]}<br>Section=%{customdata[1]}<br>Number=%{customdata[2]}<extra></extra>",
         "legendgroup": "Specialty Beer",
         "marker": {
          "color": "#FFA15A",
          "symbol": "circle"
         },
         "mode": "markers",
         "name": "Specialty Beer",
         "orientation": "v",
         "showlegend": true,
         "type": "scatter",
         "x": [
          1.3096449375152588,
          -5.380519866943359,
          -0.15917733311653137,
          6.99921178817749,
          4.313913822174072,
          -9.338979721069336,
          -0.05644436925649643,
          -1.7127621173858643,
          -0.10979021340608597,
          2.9069406986236572,
          -0.0848405733704567,
          5.739968299865723
         ],
         "xaxis": "x",
         "y": [
          2.4647576808929443,
          1.979422926902771,
          4.8387532234191895,
          3.3173680305480957,
          3.599804639816284,
          -1.7761672735214233,
          6.786231517791748,
          7.728415489196777,
          3.561641216278076,
          2.1075594425201416,
          3.6825547218322754,
          9.78864860534668
         ],
         "yaxis": "y"
        },
        {
         "customdata": [
          [
           "White Forest",
           1,
           7
          ]
         ],
         "hovertemplate": "Style=Cream Ale<br>0=%{x}<br>1=%{y}<br>Beer=%{customdata[0]}<br>Section=%{customdata[1]}<br>Number=%{customdata[2]}<extra></extra>",
         "legendgroup": "Cream Ale",
         "marker": {
          "color": "#19d3f3",
          "symbol": "circle"
         },
         "mode": "markers",
         "name": "Cream Ale",
         "orientation": "v",
         "showlegend": true,
         "type": "scatter",
         "x": [
          -1.0719040632247925
         ],
         "xaxis": "x",
         "y": [
          -3.6906421184539795
         ],
         "yaxis": "y"
        },
        {
         "customdata": [
          [
           "Dank & Stormy",
           1,
           8
          ]
         ],
         "hovertemplate": "Style=American Amber/Red<br>0=%{x}<br>1=%{y}<br>Beer=%{customdata[0]}<br>Section=%{customdata[1]}<br>Number=%{customdata[2]}<extra></extra>",
         "legendgroup": "American Amber/Red",
         "marker": {
          "color": "#FF6692",
          "symbol": "circle"
         },
         "mode": "markers",
         "name": "American Amber/Red",
         "orientation": "v",
         "showlegend": true,
         "type": "scatter",
         "x": [
          -7.126208782196045
         ],
         "xaxis": "x",
         "y": [
          8.229266166687012
         ],
         "yaxis": "y"
        },
        {
         "customdata": [
          [
           "Screamin' Peach",
           1,
           9
          ],
          [
           "Yu Zerious? - Yuzu Russ”",
           2,
           27
          ],
          [
           "Mai TaIPA",
           2,
           40
          ],
          [
           "Slatterpuss Watermelon Sour",
           4,
           69
          ]
         ],
         "hovertemplate": "Style=Fruit Beer<br>0=%{x}<br>1=%{y}<br>Beer=%{customdata[0]}<br>Section=%{customdata[1]}<br>Number=%{customdata[2]}<extra></extra>",
         "legendgroup": "Fruit Beer",
         "marker": {
          "color": "#B6E880",
          "symbol": "circle"
         },
         "mode": "markers",
         "name": "Fruit Beer",
         "orientation": "v",
         "showlegend": true,
         "type": "scatter",
         "x": [
          4.866033554077148,
          8.163105964660645,
          9.466996192932129,
          0.4158555269241333
         ],
         "xaxis": "x",
         "y": [
          -4.267665863037109,
          -4.097326278686523,
          -2.536500930786133,
          6.689992904663086
         ],
         "yaxis": "y"
        },
        {
         "customdata": [
          [
           "Funky Gose To Hollywood",
           1,
           10
          ],
          [
           "Wakame Up Before You Gose",
           2,
           34
          ],
          [
           "Spi-ski Margarita Gose",
           4,
           67
          ]
         ],
         "hovertemplate": "Style=Gose Sour<br>0=%{x}<br>1=%{y}<br>Beer=%{customdata[0]}<br>Section=%{customdata[1]}<br>Number=%{customdata[2]}<extra></extra>",
         "legendgroup": "Gose Sour",
         "marker": {
          "color": "#FF97FF",
          "symbol": "circle"
         },
         "mode": "markers",
         "name": "Gose Sour",
         "orientation": "v",
         "showlegend": true,
         "type": "scatter",
         "x": [
          1.4028583765029907,
          1.319628357887268,
          1.4243390560150146
         ],
         "xaxis": "x",
         "y": [
          -8.804922103881836,
          -8.465263366699219,
          -9.048824310302734
         ],
         "yaxis": "y"
        },
        {
         "customdata": [
          [
           "Old Mate",
           1,
           11
          ]
         ],
         "hovertemplate": "Style=Irish Amber/Red<br>0=%{x}<br>1=%{y}<br>Beer=%{customdata[0]}<br>Section=%{customdata[1]}<br>Number=%{customdata[2]}<extra></extra>",
         "legendgroup": "Irish Amber/Red",
         "marker": {
          "color": "#FECB52",
          "symbol": "circle"
         },
         "mode": "markers",
         "name": "Irish Amber/Red",
         "orientation": "v",
         "showlegend": true,
         "type": "scatter",
         "x": [
          -7.591115474700928
         ],
         "xaxis": "x",
         "y": [
          7.666778564453125
         ],
         "yaxis": "y"
        },
        {
         "customdata": [
          [
           "Pepper, Pepper, Pepper",
           1,
           15
          ],
          [
           "Soolong Sucka",
           2,
           29
          ],
          [
           "Hop Yearning",
           3,
           51
          ],
          [
           "Two Thumbs Toasted Ironbark West Coast IPA",
           3,
           53
          ],
          [
           "Bacon Me Crazy",
           6,
           112
          ]
         ],
         "hovertemplate": "Style=American IPA<br>0=%{x}<br>1=%{y}<br>Beer=%{customdata[0]}<br>Section=%{customdata[1]}<br>Number=%{customdata[2]}<extra></extra>",
         "legendgroup": "American IPA",
         "marker": {
          "color": "#636efa",
          "symbol": "circle"
         },
         "mode": "markers",
         "name": "American IPA",
         "orientation": "v",
         "showlegend": true,
         "type": "scatter",
         "x": [
          4.544266700744629,
          3.1020941734313965,
          3.221583366394043,
          3.6455698013305664,
          4.7851881980896
         ],
         "xaxis": "x",
         "y": [
          -3.598388910293579,
          0.27406570315361023,
          -1.0621670484542847,
          -2.292490243911743,
          1.1484044790267944
         ],
         "yaxis": "y"
        },
        {
         "customdata": [
          [
           "Double Lemon Shochu Shandy",
           1,
           16
          ]
         ],
         "hovertemplate": "Style=Pale Lager<br>0=%{x}<br>1=%{y}<br>Beer=%{customdata[0]}<br>Section=%{customdata[1]}<br>Number=%{customdata[2]}<extra></extra>",
         "legendgroup": "Pale Lager",
         "marker": {
          "color": "#EF553B",
          "symbol": "circle"
         },
         "mode": "markers",
         "name": "Pale Lager",
         "orientation": "v",
         "showlegend": true,
         "type": "scatter",
         "x": [
          0.8363708853721619
         ],
         "xaxis": "x",
         "y": [
          10.919771194458008
         ],
         "yaxis": "y"
        },
        {
         "customdata": [
          [
           "Smoke Rings",
           1,
           17
          ],
          [
           "Tarte Noir",
           2,
           23
          ],
          [
           "Pineapple Punch",
           3,
           52
          ],
          [
           "Lemon & Key Lime Meringue Pie Sour",
           3,
           54
          ],
          [
           "Fantastic Sour",
           4,
           71
          ],
          [
           "Zombie Imperial Sour",
           5,
           95
          ],
          [
           "Grand Slam' Strawberries & Cream Imperial Sour",
           6,
           106
          ]
         ],
         "hovertemplate": "Style=Kettle Sour<br>0=%{x}<br>1=%{y}<br>Beer=%{customdata[0]}<br>Section=%{customdata[1]}<br>Number=%{customdata[2]}<extra></extra>",
         "legendgroup": "Kettle Sour",
         "marker": {
          "color": "#00cc96",
          "symbol": "circle"
         },
         "mode": "markers",
         "name": "Kettle Sour",
         "orientation": "v",
         "showlegend": true,
         "type": "scatter",
         "x": [
          4.250138282775879,
          2.310715436935425,
          5.7459306716918945,
          1.0342698097229004,
          3.6033735275268555,
          2.212496280670166,
          2.4702348709106445
         ],
         "xaxis": "x",
         "y": [
          5.829019069671631,
          4.591100215911865,
          6.11745023727417,
          9.085570335388184,
          7.125365734100342,
          5.8951334953308105,
          7.648407459259033
         ],
         "yaxis": "y"
        },
        {
         "customdata": [
          [
           "Open Relationship",
           1,
           19
          ],
          [
           "Paradise Pils",
           2,
           24
          ],
          [
           null,
           6,
           103
          ]
         ],
         "hovertemplate": "Style=Classic Pilsner Lager<br>0=%{x}<br>1=%{y}<br>Beer=%{customdata[0]}<br>Section=%{customdata[1]}<br>Number=%{customdata[2]}<extra></extra>",
         "legendgroup": "Classic Pilsner Lager",
         "marker": {
          "color": "#ab63fa",
          "symbol": "circle"
         },
         "mode": "markers",
         "name": "Classic Pilsner Lager",
         "orientation": "v",
         "showlegend": true,
         "type": "scatter",
         "x": [
          6.150087356567383,
          6.907079219818115,
          9.270025253295898
         ],
         "xaxis": "x",
         "y": [
          -0.6201809644699097,
          -0.9874989986419678,
          -2.2527215480804443
         ],
         "yaxis": "y"
        },
        {
         "customdata": [
          [
           "Krushberry Pi 3.142%",
           1,
           20
          ],
          [
           "Sucker Punch Strawberries & Cream Lollipop Sour",
           3,
           46
          ],
          [
           "Thicker Than Water (Brazilian Blood Limeaide Sour)",
           4,
           76
          ],
          [
           "Banana and Blueberry Imperial Maple Maccadamia Pancake Smoothie Sour",
           5,
           88
          ]
         ],
         "hovertemplate": "Style=Pastry Sour<br>0=%{x}<br>1=%{y}<br>Beer=%{customdata[0]}<br>Section=%{customdata[1]}<br>Number=%{customdata[2]}<extra></extra>",
         "legendgroup": "Pastry Sour",
         "marker": {
          "color": "#FFA15A",
          "symbol": "circle"
         },
         "mode": "markers",
         "name": "Pastry Sour",
         "orientation": "v",
         "showlegend": true,
         "type": "scatter",
         "x": [
          0.42362523078918457,
          2.852004051208496,
          1.6700506210327148,
          4.205598831176758
         ],
         "xaxis": "x",
         "y": [
          8.706585884094238,
          7.761621952056885,
          4.278250217437744,
          4.0948076248168945
         ],
         "yaxis": "y"
        },
        {
         "customdata": [
          [
           null,
           2,
           22
          ]
         ],
         "hovertemplate": "Style=IPA - White<br>0=%{x}<br>1=%{y}<br>Beer=%{customdata[0]}<br>Section=%{customdata[1]}<br>Number=%{customdata[2]}<extra></extra>",
         "legendgroup": "IPA - White",
         "marker": {
          "color": "#19d3f3",
          "symbol": "circle"
         },
         "mode": "markers",
         "name": "IPA - White",
         "orientation": "v",
         "showlegend": true,
         "type": "scatter",
         "x": [
          6.509871006011963
         ],
         "xaxis": "x",
         "y": [
          1.8048638105392456
         ],
         "yaxis": "y"
        },
        {
         "customdata": [
          [
           "Dubbel Dutch",
           2,
           28
          ]
         ],
         "hovertemplate": "Style=Belgian Dubbel<br>0=%{x}<br>1=%{y}<br>Beer=%{customdata[0]}<br>Section=%{customdata[1]}<br>Number=%{customdata[2]}<extra></extra>",
         "legendgroup": "Belgian Dubbel",
         "marker": {
          "color": "#FF6692",
          "symbol": "circle"
         },
         "mode": "markers",
         "name": "Belgian Dubbel",
         "orientation": "v",
         "showlegend": true,
         "type": "scatter",
         "x": [
          -3.792485475540161
         ],
         "xaxis": "x",
         "y": [
          1.1777149438858032
         ],
         "yaxis": "y"
        },
        {
         "customdata": [
          [
           "Wise and the Foolish",
           2,
           30
          ]
         ],
         "hovertemplate": "Style=Weizenbock<br>0=%{x}<br>1=%{y}<br>Beer=%{customdata[0]}<br>Section=%{customdata[1]}<br>Number=%{customdata[2]}<extra></extra>",
         "legendgroup": "Weizenbock",
         "marker": {
          "color": "#B6E880",
          "symbol": "circle"
         },
         "mode": "markers",
         "name": "Weizenbock",
         "orientation": "v",
         "showlegend": true,
         "type": "scatter",
         "x": [
          -3.150601863861084
         ],
         "xaxis": "x",
         "y": [
          1.5251619815826416
         ],
         "yaxis": "y"
        },
        {
         "customdata": [
          [
           "Guava Lava Imperial IPL",
           2,
           31
          ],
          [
           "Double Booti KNEIPA",
           4,
           74
          ]
         ],
         "hovertemplate": "Style=New England (Double) IPA<br>0=%{x}<br>1=%{y}<br>Beer=%{customdata[0]}<br>Section=%{customdata[1]}<br>Number=%{customdata[2]}<extra></extra>",
         "legendgroup": "New England (Double) IPA",
         "marker": {
          "color": "#FF97FF",
          "symbol": "circle"
         },
         "mode": "markers",
         "name": "New England (Double) IPA",
         "orientation": "v",
         "showlegend": true,
         "type": "scatter",
         "x": [
          -0.5445470213890076,
          0.041079651564359665
         ],
         "xaxis": "x",
         "y": [
          11.789702415466309,
          11.684897422790527
         ],
         "yaxis": "y"
        },
        {
         "customdata": [
          [
           "Pig Pickin Cake",
           2,
           32
          ],
          [
           "DDH Unicorn Frappe NEIPA",
           4,
           68
          ]
         ],
         "hovertemplate": "Style=Milkshake IPA<br>0=%{x}<br>1=%{y}<br>Beer=%{customdata[0]}<br>Section=%{customdata[1]}<br>Number=%{customdata[2]}<extra></extra>",
         "legendgroup": "Milkshake IPA",
         "marker": {
          "color": "#FECB52",
          "symbol": "circle"
         },
         "mode": "markers",
         "name": "Milkshake IPA",
         "orientation": "v",
         "showlegend": true,
         "type": "scatter",
         "x": [
          -1.548185110092163,
          -1.5119577646255493
         ],
         "xaxis": "x",
         "y": [
          5.480210781097412,
          4.418274402618408
         ],
         "yaxis": "y"
        },
        {
         "customdata": [
          [
           "Hopless - Botanical IPA",
           2,
           33
          ]
         ],
         "hovertemplate": "Style=Gruit<br>0=%{x}<br>1=%{y}<br>Beer=%{customdata[0]}<br>Section=%{customdata[1]}<br>Number=%{customdata[2]}<extra></extra>",
         "legendgroup": "Gruit",
         "marker": {
          "color": "#636efa",
          "symbol": "circle"
         },
         "mode": "markers",
         "name": "Gruit",
         "orientation": "v",
         "showlegend": true,
         "type": "scatter",
         "x": [
          6.600121021270752
         ],
         "xaxis": "x",
         "y": [
          2.590406894683838
         ],
         "yaxis": "y"
        },
        {
         "customdata": [
          [
           "Michelager",
           2,
           35
          ]
         ],
         "hovertemplate": "Style=Lager - Mexican<br>0=%{x}<br>1=%{y}<br>Beer=%{customdata[0]}<br>Section=%{customdata[1]}<br>Number=%{customdata[2]}<extra></extra>",
         "legendgroup": "Lager - Mexican",
         "marker": {
          "color": "#EF553B",
          "symbol": "circle"
         },
         "mode": "markers",
         "name": "Lager - Mexican",
         "orientation": "v",
         "showlegend": true,
         "type": "scatter",
         "x": [
          -1.2557828426361084
         ],
         "xaxis": "x",
         "y": [
          1.9195976257324219
         ],
         "yaxis": "y"
        },
        {
         "customdata": [
          [
           "Smooth Caffeinator",
           2,
           36
          ]
         ],
         "hovertemplate": "Style=Dulce de Leche Affogato Stout<br>0=%{x}<br>1=%{y}<br>Beer=%{customdata[0]}<br>Section=%{customdata[1]}<br>Number=%{customdata[2]}<extra></extra>",
         "legendgroup": "Dulce de Leche Affogato Stout",
         "marker": {
          "color": "#00cc96",
          "symbol": "circle"
         },
         "mode": "markers",
         "name": "Dulce de Leche Affogato Stout",
         "orientation": "v",
         "showlegend": true,
         "type": "scatter",
         "x": [
          -2.464193820953369
         ],
         "xaxis": "x",
         "y": [
          -0.07463492453098297
         ],
         "yaxis": "y"
        },
        {
         "customdata": [
          [
           "Blackberries, Blueberries and Sour Patch kids!",
           2,
           37
          ]
         ],
         "hovertemplate": "Style=Sour - Kettle Sour<br>0=%{x}<br>1=%{y}<br>Beer=%{customdata[0]}<br>Section=%{customdata[1]}<br>Number=%{customdata[2]}<extra></extra>",
         "legendgroup": "Sour - Kettle Sour",
         "marker": {
          "color": "#ab63fa",
          "symbol": "circle"
         },
         "mode": "markers",
         "name": "Sour - Kettle Sour",
         "orientation": "v",
         "showlegend": true,
         "type": "scatter",
         "x": [
          1.4964814186096191
         ],
         "xaxis": "x",
         "y": [
          6.604209899902344
         ],
         "yaxis": "y"
        },
        {
         "customdata": [
          [
           "Supermassive Black Hole",
           2,
           38
          ]
         ],
         "hovertemplate": "Style=Stout - Pastry<br>0=%{x}<br>1=%{y}<br>Beer=%{customdata[0]}<br>Section=%{customdata[1]}<br>Number=%{customdata[2]}<extra></extra>",
         "legendgroup": "Stout - Pastry",
         "marker": {
          "color": "#FFA15A",
          "symbol": "circle"
         },
         "mode": "markers",
         "name": "Stout - Pastry",
         "orientation": "v",
         "showlegend": true,
         "type": "scatter",
         "x": [
          1.4511568546295166
         ],
         "xaxis": "x",
         "y": [
          3.4115142822265625
         ],
         "yaxis": "y"
        },
        {
         "customdata": [
          [
           "Feiladh Mor (\"Great Kilt\")",
           2,
           39
          ]
         ],
         "hovertemplate": "Style=Scotch Ale/Wee Heavy<br>0=%{x}<br>1=%{y}<br>Beer=%{customdata[0]}<br>Section=%{customdata[1]}<br>Number=%{customdata[2]}<extra></extra>",
         "legendgroup": "Scotch Ale/Wee Heavy",
         "marker": {
          "color": "#19d3f3",
          "symbol": "circle"
         },
         "mode": "markers",
         "name": "Scotch Ale/Wee Heavy",
         "orientation": "v",
         "showlegend": true,
         "type": "scatter",
         "x": [
          -5.209489822387695
         ],
         "xaxis": "x",
         "y": [
          -0.7061895728111267
         ],
         "yaxis": "y"
        },
        {
         "customdata": [
          [
           "Haze Train",
           3,
           41
          ],
          [
           "Southern Crossed Lovers - ANZIPA",
           4,
           65
          ],
          [
           "Big Feelings",
           6,
           107
          ]
         ],
         "hovertemplate": "Style=Hazy IPA<br>0=%{x}<br>1=%{y}<br>Beer=%{customdata[0]}<br>Section=%{customdata[1]}<br>Number=%{customdata[2]}<extra></extra>",
         "legendgroup": "Hazy IPA",
         "marker": {
          "color": "#FF6692",
          "symbol": "circle"
         },
         "mode": "markers",
         "name": "Hazy IPA",
         "orientation": "v",
         "showlegend": true,
         "type": "scatter",
         "x": [
          2.017014265060425,
          2.060110092163086,
          6.988604545593262
         ],
         "xaxis": "x",
         "y": [
          -4.773772239685059,
          -4.8849592208862305,
          -2.8801651000976562
         ],
         "yaxis": "y"
        },
        {
         "customdata": [
          [
           "Creature of the Deep",
           3,
           42
          ],
          [
           "Flat White Oatmeal stout",
           6,
           109
          ]
         ],
         "hovertemplate": "Style=Oatmeal Stout<br>0=%{x}<br>1=%{y}<br>Beer=%{customdata[0]}<br>Section=%{customdata[1]}<br>Number=%{customdata[2]}<extra></extra>",
         "legendgroup": "Oatmeal Stout",
         "marker": {
          "color": "#B6E880",
          "symbol": "circle"
         },
         "mode": "markers",
         "name": "Oatmeal Stout",
         "orientation": "v",
         "showlegend": true,
         "type": "scatter",
         "x": [
          0.4879570007324219,
          -2.130229949951172
         ],
         "xaxis": "x",
         "y": [
          -0.4977338910102844,
          -0.28754815459251404
         ],
         "yaxis": "y"
        },
        {
         "customdata": [
          [
           "Triple Sticky",
           3,
           43
          ]
         ],
         "hovertemplate": "Style=Hoppy Lager<br>0=%{x}<br>1=%{y}<br>Beer=%{customdata[0]}<br>Section=%{customdata[1]}<br>Number=%{customdata[2]}<extra></extra>",
         "legendgroup": "Hoppy Lager",
         "marker": {
          "color": "#FF97FF",
          "symbol": "circle"
         },
         "mode": "markers",
         "name": "Hoppy Lager",
         "orientation": "v",
         "showlegend": true,
         "type": "scatter",
         "x": [
          5.338644981384277
         ],
         "xaxis": "x",
         "y": [
          -0.265611469745636
         ],
         "yaxis": "y"
        },
        {
         "customdata": [
          [
           "Rose Petal Raspberry Sour",
           3,
           44
          ]
         ],
         "hovertemplate": "Style=Sour<br>0=%{x}<br>1=%{y}<br>Beer=%{customdata[0]}<br>Section=%{customdata[1]}<br>Number=%{customdata[2]}<extra></extra>",
         "legendgroup": "Sour",
         "marker": {
          "color": "#FECB52",
          "symbol": "circle"
         },
         "mode": "markers",
         "name": "Sour",
         "orientation": "v",
         "showlegend": true,
         "type": "scatter",
         "x": [
          5.332830429077148
         ],
         "xaxis": "x",
         "y": [
          9.591989517211914
         ],
         "yaxis": "y"
        },
        {
         "customdata": [
          [
           "“Shinigami” - Umami Smoked Porter",
           3,
           45
          ],
          [
           "Smoked Kelp Stout",
           5,
           81
          ],
          [
           "Holy Smokes! - Camel Dung Smoked Porter",
           5,
           97
          ]
         ],
         "hovertemplate": "Style=Smoked Beer (non Rauchbier)<br>0=%{x}<br>1=%{y}<br>Beer=%{customdata[0]}<br>Section=%{customdata[1]}<br>Number=%{customdata[2]}<extra></extra>",
         "legendgroup": "Smoked Beer (non Rauchbier)",
         "marker": {
          "color": "#636efa",
          "symbol": "circle"
         },
         "mode": "markers",
         "name": "Smoked Beer (non Rauchbier)",
         "orientation": "v",
         "showlegend": true,
         "type": "scatter",
         "x": [
          -2.9953553676605225,
          -2.0634727478027344,
          -2.2076306343078613
         ],
         "xaxis": "x",
         "y": [
          -5.908793926239014,
          -5.795307636260986,
          -5.841297626495361
         ],
         "yaxis": "y"
        },
        {
         "customdata": [
          [
           "Aurora Australis Wonder Ale",
           3,
           47
          ]
         ],
         "hovertemplate": "Style=Belgian Dark Strong Ale<br>0=%{x}<br>1=%{y}<br>Beer=%{customdata[0]}<br>Section=%{customdata[1]}<br>Number=%{customdata[2]}<extra></extra>",
         "legendgroup": "Belgian Dark Strong Ale",
         "marker": {
          "color": "#EF553B",
          "symbol": "circle"
         },
         "mode": "markers",
         "name": "Belgian Dark Strong Ale",
         "orientation": "v",
         "showlegend": true,
         "type": "scatter",
         "x": [
          -5.739905834197998
         ],
         "xaxis": "x",
         "y": [
          2.1888809204101562
         ],
         "yaxis": "y"
        },
        {
         "customdata": [
          [
           "Lazy Bones",
           3,
           48
          ]
         ],
         "hovertemplate": "Style=Brut IPA<br>0=%{x}<br>1=%{y}<br>Beer=%{customdata[0]}<br>Section=%{customdata[1]}<br>Number=%{customdata[2]}<extra></extra>",
         "legendgroup": "Brut IPA",
         "marker": {
          "color": "#00cc96",
          "symbol": "circle"
         },
         "mode": "markers",
         "name": "Brut IPA",
         "orientation": "v",
         "showlegend": true,
         "type": "scatter",
         "x": [
          1.4932142496109009
         ],
         "xaxis": "x",
         "y": [
          -3.3887007236480713
         ],
         "yaxis": "y"
        },
        {
         "customdata": [
          [
           "Pandan White Chocolate Stout",
           3,
           49
          ],
          [
           "Black Forest Espresso",
           3,
           59
          ],
          [
           "The Cowboy Slickshake",
           4,
           61
          ],
          [
           "Rocky road campfire chocolate smoked stout",
           5,
           90
          ],
          [
           "A boy named Tiramisu",
           6,
           114
          ]
         ],
         "hovertemplate": "Style=Pastry Stout<br>0=%{x}<br>1=%{y}<br>Beer=%{customdata[0]}<br>Section=%{customdata[1]}<br>Number=%{customdata[2]}<extra></extra>",
         "legendgroup": "Pastry Stout",
         "marker": {
          "color": "#ab63fa",
          "symbol": "circle"
         },
         "mode": "markers",
         "name": "Pastry Stout",
         "orientation": "v",
         "showlegend": true,
         "type": "scatter",
         "x": [
          -1.460771083831787,
          -2.386608839035034,
          -3.713724374771118,
          -0.7360978126525879,
          -2.3175604343414307
         ],
         "xaxis": "x",
         "y": [
          -2.9078168869018555,
          -2.2411446571350098,
          4.446551322937012,
          -2.077072858810425,
          -2.028569221496582
         ],
         "yaxis": "y"
        },
        {
         "customdata": [
          [
           "Angry Fish",
           3,
           55
          ],
          [
           "Hellhound",
           6,
           110
          ]
         ],
         "hovertemplate": "Style=Baltic Porter<br>0=%{x}<br>1=%{y}<br>Beer=%{customdata[0]}<br>Section=%{customdata[1]}<br>Number=%{customdata[2]}<extra></extra>",
         "legendgroup": "Baltic Porter",
         "marker": {
          "color": "#FFA15A",
          "symbol": "circle"
         },
         "mode": "markers",
         "name": "Baltic Porter",
         "orientation": "v",
         "showlegend": true,
         "type": "scatter",
         "x": [
          -6.083723068237305,
          -5.831485271453857
         ],
         "xaxis": "x",
         "y": [
          -3.0436699390411377,
          -2.875291109085083
         ],
         "yaxis": "y"
        },
        {
         "customdata": [
          [
           "The Sanga",
           3,
           56
          ],
          [
           "Golden Roots - Spiced Volcanic Sweet Potato Copper Ale",
           4,
           80
          ]
         ],
         "hovertemplate": "Style=Experimental Beer<br>0=%{x}<br>1=%{y}<br>Beer=%{customdata[0]}<br>Section=%{customdata[1]}<br>Number=%{customdata[2]}<extra></extra>",
         "legendgroup": "Experimental Beer",
         "marker": {
          "color": "#19d3f3",
          "symbol": "circle"
         },
         "mode": "markers",
         "name": "Experimental Beer",
         "orientation": "v",
         "showlegend": true,
         "type": "scatter",
         "x": [
          4.901878356933594,
          -4.375106334686279
         ],
         "xaxis": "x",
         "y": [
          -6.206262111663818,
          0.6338660717010498
         ],
         "yaxis": "y"
        },
        {
         "customdata": [
          [
           "Vanta Manta",
           4,
           63
          ]
         ],
         "hovertemplate": "Style=Schwarzbier<br>0=%{x}<br>1=%{y}<br>Beer=%{customdata[0]}<br>Section=%{customdata[1]}<br>Number=%{customdata[2]}<extra></extra>",
         "legendgroup": "Schwarzbier",
         "marker": {
          "color": "#FF6692",
          "symbol": "circle"
         },
         "mode": "markers",
         "name": "Schwarzbier",
         "orientation": "v",
         "showlegend": true,
         "type": "scatter",
         "x": [
          -7.208748817443848
         ],
         "xaxis": "x",
         "y": [
          -3.714262008666992
         ],
         "yaxis": "y"
        },
        {
         "customdata": [
          [
           "Slice of Heaven - Thiolised NZ Pilsner",
           4,
           64
          ]
         ],
         "hovertemplate": "Style=New Zealand Pilsner Lager<br>0=%{x}<br>1=%{y}<br>Beer=%{customdata[0]}<br>Section=%{customdata[1]}<br>Number=%{customdata[2]}<extra></extra>",
         "legendgroup": "New Zealand Pilsner Lager",
         "marker": {
          "color": "#B6E880",
          "symbol": "circle"
         },
         "mode": "markers",
         "name": "New Zealand Pilsner Lager",
         "orientation": "v",
         "showlegend": true,
         "type": "scatter",
         "x": [
          7.078769207000732
         ],
         "xaxis": "x",
         "y": [
          -1.6665266752243042
         ],
         "yaxis": "y"
        },
        {
         "customdata": [
          [
           "Mr. Phantastic",
           4,
           66
          ]
         ],
         "hovertemplate": "Style=Cold IPA<br>0=%{x}<br>1=%{y}<br>Beer=%{customdata[0]}<br>Section=%{customdata[1]}<br>Number=%{customdata[2]}<extra></extra>",
         "legendgroup": "Cold IPA",
         "marker": {
          "color": "#FF97FF",
          "symbol": "circle"
         },
         "mode": "markers",
         "name": "Cold IPA",
         "orientation": "v",
         "showlegend": true,
         "type": "scatter",
         "x": [
          -1.5069375038146973
         ],
         "xaxis": "x",
         "y": [
          10.210067749023438
         ],
         "yaxis": "y"
        },
        {
         "customdata": [
          [
           "Daily Tot' - Rum Raisin Brown Ale",
           4,
           70
          ],
          [
           "The Notorious F.I.G.",
           6,
           108
          ]
         ],
         "hovertemplate": "Style=UK Brown Ale<br>0=%{x}<br>1=%{y}<br>Beer=%{customdata[0]}<br>Section=%{customdata[1]}<br>Number=%{customdata[2]}<extra></extra>",
         "legendgroup": "UK Brown Ale",
         "marker": {
          "color": "#FECB52",
          "symbol": "circle"
         },
         "mode": "markers",
         "name": "UK Brown Ale",
         "orientation": "v",
         "showlegend": true,
         "type": "scatter",
         "x": [
          -6.609099388122559,
          -7.199722766876221
         ],
         "xaxis": "x",
         "y": [
          0.06813932955265045,
          0.08000773936510086
         ],
         "yaxis": "y"
        },
        {
         "customdata": [
          [
           "Vanilla Bean Panna Cotta",
           4,
           72
          ]
         ],
         "hovertemplate": "Style=Stout - White<br>0=%{x}<br>1=%{y}<br>Beer=%{customdata[0]}<br>Section=%{customdata[1]}<br>Number=%{customdata[2]}<extra></extra>",
         "legendgroup": "Stout - White",
         "marker": {
          "color": "#636efa",
          "symbol": "circle"
         },
         "mode": "markers",
         "name": "Stout - White",
         "orientation": "v",
         "showlegend": true,
         "type": "scatter",
         "x": [
          4.484234809875488
         ],
         "xaxis": "x",
         "y": [
          2.21222186088562
         ],
         "yaxis": "y"
        },
        {
         "customdata": [
          [
           "ALTernate BIER",
           4,
           73
          ]
         ],
         "hovertemplate": "Style=Altbier<br>0=%{x}<br>1=%{y}<br>Beer=%{customdata[0]}<br>Section=%{customdata[1]}<br>Number=%{customdata[2]}<extra></extra>",
         "legendgroup": "Altbier",
         "marker": {
          "color": "#EF553B",
          "symbol": "circle"
         },
         "mode": "markers",
         "name": "Altbier",
         "orientation": "v",
         "showlegend": true,
         "type": "scatter",
         "x": [
          0.885739266872406
         ],
         "xaxis": "x",
         "y": [
          1.2166762351989746
         ],
         "yaxis": "y"
        },
        {
         "customdata": [
          [
           "Insane Kölche Posse",
           4,
           77
          ]
         ],
         "hovertemplate": "Style=Kölsch<br>0=%{x}<br>1=%{y}<br>Beer=%{customdata[0]}<br>Section=%{customdata[1]}<br>Number=%{customdata[2]}<extra></extra>",
         "legendgroup": "Kölsch",
         "marker": {
          "color": "#00cc96",
          "symbol": "circle"
         },
         "mode": "markers",
         "name": "Kölsch",
         "orientation": "v",
         "showlegend": true,
         "type": "scatter",
         "x": [
          -3.50636887550354
         ],
         "xaxis": "x",
         "y": [
          5.811843395233154
         ],
         "yaxis": "y"
        },
        {
         "customdata": [
          [
           "The 'H' is Silent",
           5,
           82
          ],
          [
           "Simz Spicy Vanilla Gorilla",
           5,
           84
          ]
         ],
         "hovertemplate": "Style=Mixed Fermentation Sour<br>0=%{x}<br>1=%{y}<br>Beer=%{customdata[0]}<br>Section=%{customdata[1]}<br>Number=%{customdata[2]}<extra></extra>",
         "legendgroup": "Mixed Fermentation Sour",
         "marker": {
          "color": "#ab63fa",
          "symbol": "circle"
         },
         "mode": "markers",
         "name": "Mixed Fermentation Sour",
         "orientation": "v",
         "showlegend": true,
         "type": "scatter",
         "x": [
          3.468524932861328,
          3.97428822517395
         ],
         "xaxis": "x",
         "y": [
          8.691568374633789,
          9.583988189697266
         ],
         "yaxis": "y"
        },
        {
         "customdata": [
          [
           "West coast story",
           5,
           83
          ]
         ],
         "hovertemplate": "Style=Australian IPA<br>0=%{x}<br>1=%{y}<br>Beer=%{customdata[0]}<br>Section=%{customdata[1]}<br>Number=%{customdata[2]}<extra></extra>",
         "legendgroup": "Australian IPA",
         "marker": {
          "color": "#FFA15A",
          "symbol": "circle"
         },
         "mode": "markers",
         "name": "Australian IPA",
         "orientation": "v",
         "showlegend": true,
         "type": "scatter",
         "x": [
          3.6158576011657715
         ],
         "xaxis": "x",
         "y": [
          -2.2456185817718506
         ],
         "yaxis": "y"
        },
        {
         "customdata": [
          [
           "The Terpinator",
           5,
           85
          ]
         ],
         "hovertemplate": "Style=IPA - American<br>0=%{x}<br>1=%{y}<br>Beer=%{customdata[0]}<br>Section=%{customdata[1]}<br>Number=%{customdata[2]}<extra></extra>",
         "legendgroup": "IPA - American",
         "marker": {
          "color": "#19d3f3",
          "symbol": "circle"
         },
         "mode": "markers",
         "name": "IPA - American",
         "orientation": "v",
         "showlegend": true,
         "type": "scatter",
         "x": [
          1.8016151189804077
         ],
         "xaxis": "x",
         "y": [
          -1.0590696334838867
         ],
         "yaxis": "y"
        },
        {
         "customdata": [
          [
           "Tradies Breakfast - Vienna Coffee Lager meets Custard Tart",
           5,
           86
          ]
         ],
         "hovertemplate": "Style=Vienna Lager<br>0=%{x}<br>1=%{y}<br>Beer=%{customdata[0]}<br>Section=%{customdata[1]}<br>Number=%{customdata[2]}<extra></extra>",
         "legendgroup": "Vienna Lager",
         "marker": {
          "color": "#FF6692",
          "symbol": "circle"
         },
         "mode": "markers",
         "name": "Vienna Lager",
         "orientation": "v",
         "showlegend": true,
         "type": "scatter",
         "x": [
          -1.1250569820404053
         ],
         "xaxis": "x",
         "y": [
          1.202828049659729
         ],
         "yaxis": "y"
        },
        {
         "customdata": [
          [
           "Apfelstrudle Pastry Hefe",
           5,
           89
          ]
         ],
         "hovertemplate": "Style=Weizen/Weissbier/Hefeweizen<br>0=%{x}<br>1=%{y}<br>Beer=%{customdata[0]}<br>Section=%{customdata[1]}<br>Number=%{customdata[2]}<extra></extra>",
         "legendgroup": "Weizen/Weissbier/Hefeweizen",
         "marker": {
          "color": "#B6E880",
          "symbol": "circle"
         },
         "mode": "markers",
         "name": "Weizen/Weissbier/Hefeweizen",
         "orientation": "v",
         "showlegend": true,
         "type": "scatter",
         "x": [
          -3.805467367172241
         ],
         "xaxis": "x",
         "y": [
          8.799372673034668
         ],
         "yaxis": "y"
        },
        {
         "customdata": [
          [
           "SAB Bitter",
           5,
           92
          ]
         ],
         "hovertemplate": "Style=ESB (Extra Special Bitter)<br>0=%{x}<br>1=%{y}<br>Beer=%{customdata[0]}<br>Section=%{customdata[1]}<br>Number=%{customdata[2]}<extra></extra>",
         "legendgroup": "ESB (Extra Special Bitter)",
         "marker": {
          "color": "#FF97FF",
          "symbol": "circle"
         },
         "mode": "markers",
         "name": "ESB (Extra Special Bitter)",
         "orientation": "v",
         "showlegend": true,
         "type": "scatter",
         "x": [
          -8.311263084411621
         ],
         "xaxis": "x",
         "y": [
          0.5606423020362854
         ],
         "yaxis": "y"
        },
        {
         "customdata": [
          [
           "Smooth Landing - Fruit Punch IPA",
           5,
           93
          ]
         ],
         "hovertemplate": "Style=IPA - Hazy<br>0=%{x}<br>1=%{y}<br>Beer=%{customdata[0]}<br>Section=%{customdata[1]}<br>Number=%{customdata[2]}<extra></extra>",
         "legendgroup": "IPA - Hazy",
         "marker": {
          "color": "#FECB52",
          "symbol": "circle"
         },
         "mode": "markers",
         "name": "IPA - Hazy",
         "orientation": "v",
         "showlegend": true,
         "type": "scatter",
         "x": [
          2.7234458923339844
         ],
         "xaxis": "x",
         "y": [
          0.08533230423927307
         ],
         "yaxis": "y"
        },
        {
         "customdata": [
          [
           "Equinox '24",
           5,
           96
          ]
         ],
         "hovertemplate": "Style=Imperial IPA<br>0=%{x}<br>1=%{y}<br>Beer=%{customdata[0]}<br>Section=%{customdata[1]}<br>Number=%{customdata[2]}<extra></extra>",
         "legendgroup": "Imperial IPA",
         "marker": {
          "color": "#636efa",
          "symbol": "circle"
         },
         "mode": "markers",
         "name": "Imperial IPA",
         "orientation": "v",
         "showlegend": true,
         "type": "scatter",
         "x": [
          -5.69228982925415
         ],
         "xaxis": "x",
         "y": [
          5.09428596496582
         ],
         "yaxis": "y"
        },
        {
         "customdata": [
          [
           "Escape The Heat - Belgian Ale with Jalapeños",
           5,
           99
          ]
         ],
         "hovertemplate": "Style=Belgian Specialty Ale<br>0=%{x}<br>1=%{y}<br>Beer=%{customdata[0]}<br>Section=%{customdata[1]}<br>Number=%{customdata[2]}<extra></extra>",
         "legendgroup": "Belgian Specialty Ale",
         "marker": {
          "color": "#EF553B",
          "symbol": "circle"
         },
         "mode": "markers",
         "name": "Belgian Specialty Ale",
         "orientation": "v",
         "showlegend": true,
         "type": "scatter",
         "x": [
          -6.278581142425537
         ],
         "xaxis": "x",
         "y": [
          2.289226531982422
         ],
         "yaxis": "y"
        },
        {
         "customdata": [
          [
           "Try And Banh Mi",
           6,
           102
          ]
         ],
         "hovertemplate": "Style=Stout<br>0=%{x}<br>1=%{y}<br>Beer=%{customdata[0]}<br>Section=%{customdata[1]}<br>Number=%{customdata[2]}<extra></extra>",
         "legendgroup": "Stout",
         "marker": {
          "color": "#00cc96",
          "symbol": "circle"
         },
         "mode": "markers",
         "name": "Stout",
         "orientation": "v",
         "showlegend": true,
         "type": "scatter",
         "x": [
          -3.5136187076568604
         ],
         "xaxis": "x",
         "y": [
          -2.342646360397339
         ],
         "yaxis": "y"
        },
        {
         "customdata": [
          [
           "Cereal for Dinner",
           6,
           104
          ]
         ],
         "hovertemplate": "Style=New England IPA<br>0=%{x}<br>1=%{y}<br>Beer=%{customdata[0]}<br>Section=%{customdata[1]}<br>Number=%{customdata[2]}<extra></extra>",
         "legendgroup": "New England IPA",
         "marker": {
          "color": "#ab63fa",
          "symbol": "circle"
         },
         "mode": "markers",
         "name": "New England IPA",
         "orientation": "v",
         "showlegend": true,
         "type": "scatter",
         "x": [
          -3.471436023712158
         ],
         "xaxis": "x",
         "y": [
          -0.3781690299510956
         ],
         "yaxis": "y"
        },
        {
         "customdata": [
          [
           "Beer-ria taco lager",
           6,
           113
          ]
         ],
         "hovertemplate": "Style=Rauchbier<br>0=%{x}<br>1=%{y}<br>Beer=%{customdata[0]}<br>Section=%{customdata[1]}<br>Number=%{customdata[2]}<extra></extra>",
         "legendgroup": "Rauchbier",
         "marker": {
          "color": "#FFA15A",
          "symbol": "circle"
         },
         "mode": "markers",
         "name": "Rauchbier",
         "orientation": "v",
         "showlegend": true,
         "type": "scatter",
         "x": [
          -0.8222300410270691
         ],
         "xaxis": "x",
         "y": [
          1.4934184551239014
         ],
         "yaxis": "y"
        },
        {
         "customdata": [
          [
           "Ginger Monkey",
           6,
           116
          ],
          [
           null,
           6,
           117
          ]
         ],
         "hovertemplate": "Style=Cocktail<br>0=%{x}<br>1=%{y}<br>Beer=%{customdata[0]}<br>Section=%{customdata[1]}<br>Number=%{customdata[2]}<extra></extra>",
         "legendgroup": "Cocktail",
         "marker": {
          "color": "#19d3f3",
          "symbol": "circle"
         },
         "mode": "markers",
         "name": "Cocktail",
         "orientation": "v",
         "showlegend": true,
         "type": "scatter",
         "x": [
          -6.187870979309082,
          5.993477821350098
         ],
         "xaxis": "x",
         "y": [
          9.104838371276855,
          6.120999336242676
         ],
         "yaxis": "y"
        },
        {
         "customdata": [
          [
           "Eddies Crisp Apple",
           6,
           118
          ]
         ],
         "hovertemplate": "Style=Traditional Cider<br>0=%{x}<br>1=%{y}<br>Beer=%{customdata[0]}<br>Section=%{customdata[1]}<br>Number=%{customdata[2]}<extra></extra>",
         "legendgroup": "Traditional Cider",
         "marker": {
          "color": "#FF6692",
          "symbol": "circle"
         },
         "mode": "markers",
         "name": "Traditional Cider",
         "orientation": "v",
         "showlegend": true,
         "type": "scatter",
         "x": [
          -4.178393840789795
         ],
         "xaxis": "x",
         "y": [
          9.022579193115234
         ],
         "yaxis": "y"
        },
        {
         "customdata": [
          [
           "Cloudy Apple & Ginger",
           6,
           119
          ]
         ],
         "hovertemplate": "Style=Specialty Cider<br>0=%{x}<br>1=%{y}<br>Beer=%{customdata[0]}<br>Section=%{customdata[1]}<br>Number=%{customdata[2]}<extra></extra>",
         "legendgroup": "Specialty Cider",
         "marker": {
          "color": "#B6E880",
          "symbol": "circle"
         },
         "mode": "markers",
         "name": "Specialty Cider",
         "orientation": "v",
         "showlegend": true,
         "type": "scatter",
         "x": [
          -5.600922584533691
         ],
         "xaxis": "x",
         "y": [
          9.24083137512207
         ],
         "yaxis": "y"
        }
       ],
       "layout": {
        "legend": {
         "title": {
          "text": "Style"
         },
         "tracegroupgap": 0
        },
        "margin": {
         "t": 60
        },
        "template": {
         "data": {
          "bar": [
           {
            "error_x": {
             "color": "#2a3f5f"
            },
            "error_y": {
             "color": "#2a3f5f"
            },
            "marker": {
             "line": {
              "color": "#E5ECF6",
              "width": 0.5
             },
             "pattern": {
              "fillmode": "overlay",
              "size": 10,
              "solidity": 0.2
             }
            },
            "type": "bar"
           }
          ],
          "barpolar": [
           {
            "marker": {
             "line": {
              "color": "#E5ECF6",
              "width": 0.5
             },
             "pattern": {
              "fillmode": "overlay",
              "size": 10,
              "solidity": 0.2
             }
            },
            "type": "barpolar"
           }
          ],
          "carpet": [
           {
            "aaxis": {
             "endlinecolor": "#2a3f5f",
             "gridcolor": "white",
             "linecolor": "white",
             "minorgridcolor": "white",
             "startlinecolor": "#2a3f5f"
            },
            "baxis": {
             "endlinecolor": "#2a3f5f",
             "gridcolor": "white",
             "linecolor": "white",
             "minorgridcolor": "white",
             "startlinecolor": "#2a3f5f"
            },
            "type": "carpet"
           }
          ],
          "choropleth": [
           {
            "colorbar": {
             "outlinewidth": 0,
             "ticks": ""
            },
            "type": "choropleth"
           }
          ],
          "contour": [
           {
            "colorbar": {
             "outlinewidth": 0,
             "ticks": ""
            },
            "colorscale": [
             [
              0,
              "#0d0887"
             ],
             [
              0.1111111111111111,
              "#46039f"
             ],
             [
              0.2222222222222222,
              "#7201a8"
             ],
             [
              0.3333333333333333,
              "#9c179e"
             ],
             [
              0.4444444444444444,
              "#bd3786"
             ],
             [
              0.5555555555555556,
              "#d8576b"
             ],
             [
              0.6666666666666666,
              "#ed7953"
             ],
             [
              0.7777777777777778,
              "#fb9f3a"
             ],
             [
              0.8888888888888888,
              "#fdca26"
             ],
             [
              1,
              "#f0f921"
             ]
            ],
            "type": "contour"
           }
          ],
          "contourcarpet": [
           {
            "colorbar": {
             "outlinewidth": 0,
             "ticks": ""
            },
            "type": "contourcarpet"
           }
          ],
          "heatmap": [
           {
            "colorbar": {
             "outlinewidth": 0,
             "ticks": ""
            },
            "colorscale": [
             [
              0,
              "#0d0887"
             ],
             [
              0.1111111111111111,
              "#46039f"
             ],
             [
              0.2222222222222222,
              "#7201a8"
             ],
             [
              0.3333333333333333,
              "#9c179e"
             ],
             [
              0.4444444444444444,
              "#bd3786"
             ],
             [
              0.5555555555555556,
              "#d8576b"
             ],
             [
              0.6666666666666666,
              "#ed7953"
             ],
             [
              0.7777777777777778,
              "#fb9f3a"
             ],
             [
              0.8888888888888888,
              "#fdca26"
             ],
             [
              1,
              "#f0f921"
             ]
            ],
            "type": "heatmap"
           }
          ],
          "heatmapgl": [
           {
            "colorbar": {
             "outlinewidth": 0,
             "ticks": ""
            },
            "colorscale": [
             [
              0,
              "#0d0887"
             ],
             [
              0.1111111111111111,
              "#46039f"
             ],
             [
              0.2222222222222222,
              "#7201a8"
             ],
             [
              0.3333333333333333,
              "#9c179e"
             ],
             [
              0.4444444444444444,
              "#bd3786"
             ],
             [
              0.5555555555555556,
              "#d8576b"
             ],
             [
              0.6666666666666666,
              "#ed7953"
             ],
             [
              0.7777777777777778,
              "#fb9f3a"
             ],
             [
              0.8888888888888888,
              "#fdca26"
             ],
             [
              1,
              "#f0f921"
             ]
            ],
            "type": "heatmapgl"
           }
          ],
          "histogram": [
           {
            "marker": {
             "pattern": {
              "fillmode": "overlay",
              "size": 10,
              "solidity": 0.2
             }
            },
            "type": "histogram"
           }
          ],
          "histogram2d": [
           {
            "colorbar": {
             "outlinewidth": 0,
             "ticks": ""
            },
            "colorscale": [
             [
              0,
              "#0d0887"
             ],
             [
              0.1111111111111111,
              "#46039f"
             ],
             [
              0.2222222222222222,
              "#7201a8"
             ],
             [
              0.3333333333333333,
              "#9c179e"
             ],
             [
              0.4444444444444444,
              "#bd3786"
             ],
             [
              0.5555555555555556,
              "#d8576b"
             ],
             [
              0.6666666666666666,
              "#ed7953"
             ],
             [
              0.7777777777777778,
              "#fb9f3a"
             ],
             [
              0.8888888888888888,
              "#fdca26"
             ],
             [
              1,
              "#f0f921"
             ]
            ],
            "type": "histogram2d"
           }
          ],
          "histogram2dcontour": [
           {
            "colorbar": {
             "outlinewidth": 0,
             "ticks": ""
            },
            "colorscale": [
             [
              0,
              "#0d0887"
             ],
             [
              0.1111111111111111,
              "#46039f"
             ],
             [
              0.2222222222222222,
              "#7201a8"
             ],
             [
              0.3333333333333333,
              "#9c179e"
             ],
             [
              0.4444444444444444,
              "#bd3786"
             ],
             [
              0.5555555555555556,
              "#d8576b"
             ],
             [
              0.6666666666666666,
              "#ed7953"
             ],
             [
              0.7777777777777778,
              "#fb9f3a"
             ],
             [
              0.8888888888888888,
              "#fdca26"
             ],
             [
              1,
              "#f0f921"
             ]
            ],
            "type": "histogram2dcontour"
           }
          ],
          "mesh3d": [
           {
            "colorbar": {
             "outlinewidth": 0,
             "ticks": ""
            },
            "type": "mesh3d"
           }
          ],
          "parcoords": [
           {
            "line": {
             "colorbar": {
              "outlinewidth": 0,
              "ticks": ""
             }
            },
            "type": "parcoords"
           }
          ],
          "pie": [
           {
            "automargin": true,
            "type": "pie"
           }
          ],
          "scatter": [
           {
            "fillpattern": {
             "fillmode": "overlay",
             "size": 10,
             "solidity": 0.2
            },
            "type": "scatter"
           }
          ],
          "scatter3d": [
           {
            "line": {
             "colorbar": {
              "outlinewidth": 0,
              "ticks": ""
             }
            },
            "marker": {
             "colorbar": {
              "outlinewidth": 0,
              "ticks": ""
             }
            },
            "type": "scatter3d"
           }
          ],
          "scattercarpet": [
           {
            "marker": {
             "colorbar": {
              "outlinewidth": 0,
              "ticks": ""
             }
            },
            "type": "scattercarpet"
           }
          ],
          "scattergeo": [
           {
            "marker": {
             "colorbar": {
              "outlinewidth": 0,
              "ticks": ""
             }
            },
            "type": "scattergeo"
           }
          ],
          "scattergl": [
           {
            "marker": {
             "colorbar": {
              "outlinewidth": 0,
              "ticks": ""
             }
            },
            "type": "scattergl"
           }
          ],
          "scattermapbox": [
           {
            "marker": {
             "colorbar": {
              "outlinewidth": 0,
              "ticks": ""
             }
            },
            "type": "scattermapbox"
           }
          ],
          "scatterpolar": [
           {
            "marker": {
             "colorbar": {
              "outlinewidth": 0,
              "ticks": ""
             }
            },
            "type": "scatterpolar"
           }
          ],
          "scatterpolargl": [
           {
            "marker": {
             "colorbar": {
              "outlinewidth": 0,
              "ticks": ""
             }
            },
            "type": "scatterpolargl"
           }
          ],
          "scatterternary": [
           {
            "marker": {
             "colorbar": {
              "outlinewidth": 0,
              "ticks": ""
             }
            },
            "type": "scatterternary"
           }
          ],
          "surface": [
           {
            "colorbar": {
             "outlinewidth": 0,
             "ticks": ""
            },
            "colorscale": [
             [
              0,
              "#0d0887"
             ],
             [
              0.1111111111111111,
              "#46039f"
             ],
             [
              0.2222222222222222,
              "#7201a8"
             ],
             [
              0.3333333333333333,
              "#9c179e"
             ],
             [
              0.4444444444444444,
              "#bd3786"
             ],
             [
              0.5555555555555556,
              "#d8576b"
             ],
             [
              0.6666666666666666,
              "#ed7953"
             ],
             [
              0.7777777777777778,
              "#fb9f3a"
             ],
             [
              0.8888888888888888,
              "#fdca26"
             ],
             [
              1,
              "#f0f921"
             ]
            ],
            "type": "surface"
           }
          ],
          "table": [
           {
            "cells": {
             "fill": {
              "color": "#EBF0F8"
             },
             "line": {
              "color": "white"
             }
            },
            "header": {
             "fill": {
              "color": "#C8D4E3"
             },
             "line": {
              "color": "white"
             }
            },
            "type": "table"
           }
          ]
         },
         "layout": {
          "annotationdefaults": {
           "arrowcolor": "#2a3f5f",
           "arrowhead": 0,
           "arrowwidth": 1
          },
          "autotypenumbers": "strict",
          "coloraxis": {
           "colorbar": {
            "outlinewidth": 0,
            "ticks": ""
           }
          },
          "colorscale": {
           "diverging": [
            [
             0,
             "#8e0152"
            ],
            [
             0.1,
             "#c51b7d"
            ],
            [
             0.2,
             "#de77ae"
            ],
            [
             0.3,
             "#f1b6da"
            ],
            [
             0.4,
             "#fde0ef"
            ],
            [
             0.5,
             "#f7f7f7"
            ],
            [
             0.6,
             "#e6f5d0"
            ],
            [
             0.7,
             "#b8e186"
            ],
            [
             0.8,
             "#7fbc41"
            ],
            [
             0.9,
             "#4d9221"
            ],
            [
             1,
             "#276419"
            ]
           ],
           "sequential": [
            [
             0,
             "#0d0887"
            ],
            [
             0.1111111111111111,
             "#46039f"
            ],
            [
             0.2222222222222222,
             "#7201a8"
            ],
            [
             0.3333333333333333,
             "#9c179e"
            ],
            [
             0.4444444444444444,
             "#bd3786"
            ],
            [
             0.5555555555555556,
             "#d8576b"
            ],
            [
             0.6666666666666666,
             "#ed7953"
            ],
            [
             0.7777777777777778,
             "#fb9f3a"
            ],
            [
             0.8888888888888888,
             "#fdca26"
            ],
            [
             1,
             "#f0f921"
            ]
           ],
           "sequentialminus": [
            [
             0,
             "#0d0887"
            ],
            [
             0.1111111111111111,
             "#46039f"
            ],
            [
             0.2222222222222222,
             "#7201a8"
            ],
            [
             0.3333333333333333,
             "#9c179e"
            ],
            [
             0.4444444444444444,
             "#bd3786"
            ],
            [
             0.5555555555555556,
             "#d8576b"
            ],
            [
             0.6666666666666666,
             "#ed7953"
            ],
            [
             0.7777777777777778,
             "#fb9f3a"
            ],
            [
             0.8888888888888888,
             "#fdca26"
            ],
            [
             1,
             "#f0f921"
            ]
           ]
          },
          "colorway": [
           "#636efa",
           "#EF553B",
           "#00cc96",
           "#ab63fa",
           "#FFA15A",
           "#19d3f3",
           "#FF6692",
           "#B6E880",
           "#FF97FF",
           "#FECB52"
          ],
          "font": {
           "color": "#2a3f5f"
          },
          "geo": {
           "bgcolor": "white",
           "lakecolor": "white",
           "landcolor": "#E5ECF6",
           "showlakes": true,
           "showland": true,
           "subunitcolor": "white"
          },
          "hoverlabel": {
           "align": "left"
          },
          "hovermode": "closest",
          "mapbox": {
           "style": "light"
          },
          "paper_bgcolor": "white",
          "plot_bgcolor": "#E5ECF6",
          "polar": {
           "angularaxis": {
            "gridcolor": "white",
            "linecolor": "white",
            "ticks": ""
           },
           "bgcolor": "#E5ECF6",
           "radialaxis": {
            "gridcolor": "white",
            "linecolor": "white",
            "ticks": ""
           }
          },
          "scene": {
           "xaxis": {
            "backgroundcolor": "#E5ECF6",
            "gridcolor": "white",
            "gridwidth": 2,
            "linecolor": "white",
            "showbackground": true,
            "ticks": "",
            "zerolinecolor": "white"
           },
           "yaxis": {
            "backgroundcolor": "#E5ECF6",
            "gridcolor": "white",
            "gridwidth": 2,
            "linecolor": "white",
            "showbackground": true,
            "ticks": "",
            "zerolinecolor": "white"
           },
           "zaxis": {
            "backgroundcolor": "#E5ECF6",
            "gridcolor": "white",
            "gridwidth": 2,
            "linecolor": "white",
            "showbackground": true,
            "ticks": "",
            "zerolinecolor": "white"
           }
          },
          "shapedefaults": {
           "line": {
            "color": "#2a3f5f"
           }
          },
          "ternary": {
           "aaxis": {
            "gridcolor": "white",
            "linecolor": "white",
            "ticks": ""
           },
           "baxis": {
            "gridcolor": "white",
            "linecolor": "white",
            "ticks": ""
           },
           "bgcolor": "#E5ECF6",
           "caxis": {
            "gridcolor": "white",
            "linecolor": "white",
            "ticks": ""
           }
          },
          "title": {
           "x": 0.05
          },
          "xaxis": {
           "automargin": true,
           "gridcolor": "white",
           "linecolor": "white",
           "ticks": "",
           "title": {
            "standoff": 15
           },
           "zerolinecolor": "white",
           "zerolinewidth": 2
          },
          "yaxis": {
           "automargin": true,
           "gridcolor": "white",
           "linecolor": "white",
           "ticks": "",
           "title": {
            "standoff": 15
           },
           "zerolinecolor": "white",
           "zerolinewidth": 2
          }
         }
        },
        "xaxis": {
         "anchor": "y",
         "domain": [
          0,
          1
         ],
         "title": {
          "text": "0"
         }
        },
        "yaxis": {
         "anchor": "x",
         "domain": [
          0,
          1
         ],
         "title": {
          "text": "1"
         }
        }
       }
      }
     },
     "metadata": {},
     "output_type": "display_data"
    }
   ],
   "source": [
    "fig = px.scatter(tsne_df,\n",
    "                 x=0,\n",
    "                 y=1,\n",
    "                 color=\"Style\",\n",
    "                 hover_data=[\"Beer\", \"Section\", \"Number\"]\n",
    "                )\n",
    "fig.show()"
   ]
  },
  {
   "cell_type": "code",
   "execution_count": 222,
   "id": "2ca9643c-99c7-4b65-bbec-cb00a1e05345",
   "metadata": {
    "tags": []
   },
   "outputs": [],
   "source": [
    "tsne_df.to_csv(main_file_path + \"Data/GABS_embedding.csv\")"
   ]
  },
  {
   "cell_type": "code",
   "execution_count": 36,
   "id": "2d117ddb",
   "metadata": {},
   "outputs": [
    {
     "data": {
      "text/html": [
       "<div>\n",
       "<style scoped>\n",
       "    .dataframe tbody tr th:only-of-type {\n",
       "        vertical-align: middle;\n",
       "    }\n",
       "\n",
       "    .dataframe tbody tr th {\n",
       "        vertical-align: top;\n",
       "    }\n",
       "\n",
       "    .dataframe thead th {\n",
       "        text-align: right;\n",
       "    }\n",
       "</style>\n",
       "<table border=\"1\" class=\"dataframe\">\n",
       "  <thead>\n",
       "    <tr style=\"text-align: right;\">\n",
       "      <th></th>\n",
       "      <th>1</th>\n",
       "      <th>2</th>\n",
       "      <th>3</th>\n",
       "      <th>4</th>\n",
       "      <th>5</th>\n",
       "      <th>6</th>\n",
       "      <th>7</th>\n",
       "      <th>8</th>\n",
       "      <th>9</th>\n",
       "      <th>10</th>\n",
       "      <th>...</th>\n",
       "      <th>117</th>\n",
       "      <th>118</th>\n",
       "      <th>119</th>\n",
       "      <th>120</th>\n",
       "      <th>Section</th>\n",
       "      <th>Number</th>\n",
       "      <th>Beer</th>\n",
       "      <th>Brewery</th>\n",
       "      <th>Style</th>\n",
       "      <th>Anticipation</th>\n",
       "    </tr>\n",
       "    <tr>\n",
       "      <th>Number</th>\n",
       "      <th></th>\n",
       "      <th></th>\n",
       "      <th></th>\n",
       "      <th></th>\n",
       "      <th></th>\n",
       "      <th></th>\n",
       "      <th></th>\n",
       "      <th></th>\n",
       "      <th></th>\n",
       "      <th></th>\n",
       "      <th></th>\n",
       "      <th></th>\n",
       "      <th></th>\n",
       "      <th></th>\n",
       "      <th></th>\n",
       "      <th></th>\n",
       "      <th></th>\n",
       "      <th></th>\n",
       "      <th></th>\n",
       "      <th></th>\n",
       "      <th></th>\n",
       "    </tr>\n",
       "  </thead>\n",
       "  <tbody>\n",
       "    <tr>\n",
       "      <th>1</th>\n",
       "      <td>0.000000</td>\n",
       "      <td>0.092180</td>\n",
       "      <td>0.092075</td>\n",
       "      <td>0.090823</td>\n",
       "      <td>0.093074</td>\n",
       "      <td>0.090693</td>\n",
       "      <td>0.093074</td>\n",
       "      <td>0.093074</td>\n",
       "      <td>0.093074</td>\n",
       "      <td>0.092131</td>\n",
       "      <td>...</td>\n",
       "      <td>0.093074</td>\n",
       "      <td>0.088538</td>\n",
       "      <td>0.092216</td>\n",
       "      <td>0.093074</td>\n",
       "      <td>1</td>\n",
       "      <td>1</td>\n",
       "      <td>Boba Beer</td>\n",
       "      <td>Dad &amp; Dave</td>\n",
       "      <td>Sour</td>\n",
       "      <td>5</td>\n",
       "    </tr>\n",
       "    <tr>\n",
       "      <th>2</th>\n",
       "      <td>0.092026</td>\n",
       "      <td>0.000000</td>\n",
       "      <td>0.092493</td>\n",
       "      <td>0.092919</td>\n",
       "      <td>0.092919</td>\n",
       "      <td>0.091068</td>\n",
       "      <td>0.092497</td>\n",
       "      <td>0.090799</td>\n",
       "      <td>0.092919</td>\n",
       "      <td>0.092919</td>\n",
       "      <td>...</td>\n",
       "      <td>0.089530</td>\n",
       "      <td>0.088794</td>\n",
       "      <td>0.090335</td>\n",
       "      <td>0.092919</td>\n",
       "      <td>1</td>\n",
       "      <td>2</td>\n",
       "      <td>Homestead Blackberry and Apple Pastry Sour</td>\n",
       "      <td>The Coastal Brewing Company</td>\n",
       "      <td>Specialty</td>\n",
       "      <td>6</td>\n",
       "    </tr>\n",
       "    <tr>\n",
       "      <th>3</th>\n",
       "      <td>0.092244</td>\n",
       "      <td>0.092819</td>\n",
       "      <td>0.000000</td>\n",
       "      <td>0.093245</td>\n",
       "      <td>0.093245</td>\n",
       "      <td>0.093245</td>\n",
       "      <td>0.092735</td>\n",
       "      <td>0.090391</td>\n",
       "      <td>0.093245</td>\n",
       "      <td>0.092355</td>\n",
       "      <td>...</td>\n",
       "      <td>0.089564</td>\n",
       "      <td>0.092537</td>\n",
       "      <td>0.091989</td>\n",
       "      <td>0.093245</td>\n",
       "      <td>1</td>\n",
       "      <td>3</td>\n",
       "      <td>Suit Up</td>\n",
       "      <td>7th Day Brewery</td>\n",
       "      <td>IPA Black</td>\n",
       "      <td>7</td>\n",
       "    </tr>\n",
       "    <tr>\n",
       "      <th>4</th>\n",
       "      <td>0.090990</td>\n",
       "      <td>0.093245</td>\n",
       "      <td>0.093245</td>\n",
       "      <td>0.000000</td>\n",
       "      <td>0.090094</td>\n",
       "      <td>0.093245</td>\n",
       "      <td>0.093245</td>\n",
       "      <td>0.085901</td>\n",
       "      <td>0.091853</td>\n",
       "      <td>0.093245</td>\n",
       "      <td>...</td>\n",
       "      <td>0.093245</td>\n",
       "      <td>0.093245</td>\n",
       "      <td>0.093245</td>\n",
       "      <td>0.093245</td>\n",
       "      <td>1</td>\n",
       "      <td>4</td>\n",
       "      <td>Whiskey in the jar</td>\n",
       "      <td>Six String Brewing Co</td>\n",
       "      <td>Wood Aged Beer</td>\n",
       "      <td>8</td>\n",
       "    </tr>\n",
       "    <tr>\n",
       "      <th>5</th>\n",
       "      <td>0.093532</td>\n",
       "      <td>0.093532</td>\n",
       "      <td>0.093532</td>\n",
       "      <td>0.090371</td>\n",
       "      <td>0.000000</td>\n",
       "      <td>0.093532</td>\n",
       "      <td>0.093532</td>\n",
       "      <td>0.091766</td>\n",
       "      <td>0.092032</td>\n",
       "      <td>0.093532</td>\n",
       "      <td>...</td>\n",
       "      <td>0.093532</td>\n",
       "      <td>0.093532</td>\n",
       "      <td>0.093532</td>\n",
       "      <td>0.093532</td>\n",
       "      <td>1</td>\n",
       "      <td>5</td>\n",
       "      <td>Marsden Neopolitan Porter</td>\n",
       "      <td>The Marsden Brewhouse</td>\n",
       "      <td>Stout Tropical</td>\n",
       "      <td>10</td>\n",
       "    </tr>\n",
       "  </tbody>\n",
       "</table>\n",
       "<p>5 rows × 126 columns</p>\n",
       "</div>"
      ],
      "text/plain": [
       "               1         2         3         4         5         6         7   \n",
       "Number                                                                         \n",
       "1       0.000000  0.092180  0.092075  0.090823  0.093074  0.090693  0.093074  \\\n",
       "2       0.092026  0.000000  0.092493  0.092919  0.092919  0.091068  0.092497   \n",
       "3       0.092244  0.092819  0.000000  0.093245  0.093245  0.093245  0.092735   \n",
       "4       0.090990  0.093245  0.093245  0.000000  0.090094  0.093245  0.093245   \n",
       "5       0.093532  0.093532  0.093532  0.090371  0.000000  0.093532  0.093532   \n",
       "\n",
       "               8         9        10  ...       117       118       119   \n",
       "Number                                ...                                 \n",
       "1       0.093074  0.093074  0.092131  ...  0.093074  0.088538  0.092216  \\\n",
       "2       0.090799  0.092919  0.092919  ...  0.089530  0.088794  0.090335   \n",
       "3       0.090391  0.093245  0.092355  ...  0.089564  0.092537  0.091989   \n",
       "4       0.085901  0.091853  0.093245  ...  0.093245  0.093245  0.093245   \n",
       "5       0.091766  0.092032  0.093532  ...  0.093532  0.093532  0.093532   \n",
       "\n",
       "             120  Section  Number                                        Beer   \n",
       "Number                                                                          \n",
       "1       0.093074        1       1                                   Boba Beer  \\\n",
       "2       0.092919        1       2  Homestead Blackberry and Apple Pastry Sour   \n",
       "3       0.093245        1       3                                     Suit Up   \n",
       "4       0.093245        1       4                          Whiskey in the jar   \n",
       "5       0.093532        1       5                   Marsden Neopolitan Porter   \n",
       "\n",
       "                            Brewery           Style  Anticipation  \n",
       "Number                                                             \n",
       "1                        Dad & Dave            Sour             5  \n",
       "2       The Coastal Brewing Company       Specialty             6  \n",
       "3                   7th Day Brewery       IPA Black             7  \n",
       "4             Six String Brewing Co  Wood Aged Beer             8  \n",
       "5             The Marsden Brewhouse  Stout Tropical            10  \n",
       "\n",
       "[5 rows x 126 columns]"
      ]
     },
     "execution_count": 36,
     "metadata": {},
     "output_type": "execute_result"
    }
   ],
   "source": [
    "# Create distance matrix\n",
    "\n",
    "column_name_dict = {}\n",
    "i = 0\n",
    "for j in df.index:\n",
    "    column_name_dict[i] = j\n",
    "    i += 1\n",
    "\n",
    "distance_df = pd.DataFrame(normalize(euclidean_distances(X))).rename(columns=column_name_dict).reset_index(drop=True).set_index(df.index)\n",
    "\n",
    "distance_df['Section'] = df.Section\n",
    "distance_df['Number'] = df.index\n",
    "distance_df['Beer'] = df.Beer\n",
    "distance_df['Brewery'] = df.Brewery\n",
    "distance_df['Style'] = df.Style\n",
    "distance_df['Anticipation'] = df.Anticipation\n",
    "\n",
    "distance_df.head()"
   ]
  },
  {
   "cell_type": "code",
   "execution_count": 37,
   "id": "fb94ebca",
   "metadata": {},
   "outputs": [],
   "source": [
    "distance_df.to_csv(main_file_path + \"Data/GABS_distances.csv\")"
   ]
  },
  {
   "cell_type": "code",
   "execution_count": 50,
   "id": "a31292ca",
   "metadata": {},
   "outputs": [],
   "source": [
    "nn = NearestNeighbors(n_neighbors=10, metric='precomputed')\n",
    "nn.fit(euclidean_distances(X))\n",
    "\n",
    "distances, indexes = nn.kneighbors()\n"
   ]
  },
  {
   "cell_type": "code",
   "execution_count": 56,
   "id": "53f6887a",
   "metadata": {},
   "outputs": [
    {
     "name": "stdout",
     "output_type": "stream",
     "text": [
      "10\n",
      "[1, 2, 3, 4, 5, 6, 7, 8, 9]\n"
     ]
    }
   ],
   "source": [
    "print(len(list(indexes[0])))\n",
    "\n",
    "print(list(range(1, 10)))"
   ]
  },
  {
   "cell_type": "code",
   "execution_count": 59,
   "id": "276c95a8",
   "metadata": {},
   "outputs": [
    {
     "data": {
      "text/html": [
       "<div>\n",
       "<style scoped>\n",
       "    .dataframe tbody tr th:only-of-type {\n",
       "        vertical-align: middle;\n",
       "    }\n",
       "\n",
       "    .dataframe tbody tr th {\n",
       "        vertical-align: top;\n",
       "    }\n",
       "\n",
       "    .dataframe thead th {\n",
       "        text-align: right;\n",
       "    }\n",
       "</style>\n",
       "<table border=\"1\" class=\"dataframe\">\n",
       "  <thead>\n",
       "    <tr style=\"text-align: right;\">\n",
       "      <th></th>\n",
       "      <th>Beer</th>\n",
       "      <th>Sim_Rank</th>\n",
       "      <th>Sim_Beer</th>\n",
       "    </tr>\n",
       "  </thead>\n",
       "  <tbody>\n",
       "    <tr>\n",
       "      <th>0</th>\n",
       "      <td>1</td>\n",
       "      <td>1</td>\n",
       "      <td>58</td>\n",
       "    </tr>\n",
       "    <tr>\n",
       "      <th>1</th>\n",
       "      <td>1</td>\n",
       "      <td>2</td>\n",
       "      <td>102</td>\n",
       "    </tr>\n",
       "    <tr>\n",
       "      <th>2</th>\n",
       "      <td>1</td>\n",
       "      <td>3</td>\n",
       "      <td>67</td>\n",
       "    </tr>\n",
       "    <tr>\n",
       "      <th>3</th>\n",
       "      <td>1</td>\n",
       "      <td>4</td>\n",
       "      <td>44</td>\n",
       "    </tr>\n",
       "    <tr>\n",
       "      <th>4</th>\n",
       "      <td>1</td>\n",
       "      <td>5</td>\n",
       "      <td>109</td>\n",
       "    </tr>\n",
       "    <tr>\n",
       "      <th>...</th>\n",
       "      <td>...</td>\n",
       "      <td>...</td>\n",
       "      <td>...</td>\n",
       "    </tr>\n",
       "    <tr>\n",
       "      <th>5</th>\n",
       "      <td>120</td>\n",
       "      <td>6</td>\n",
       "      <td>91</td>\n",
       "    </tr>\n",
       "    <tr>\n",
       "      <th>6</th>\n",
       "      <td>120</td>\n",
       "      <td>7</td>\n",
       "      <td>114</td>\n",
       "    </tr>\n",
       "    <tr>\n",
       "      <th>7</th>\n",
       "      <td>120</td>\n",
       "      <td>8</td>\n",
       "      <td>32</td>\n",
       "    </tr>\n",
       "    <tr>\n",
       "      <th>8</th>\n",
       "      <td>120</td>\n",
       "      <td>9</td>\n",
       "      <td>116</td>\n",
       "    </tr>\n",
       "    <tr>\n",
       "      <th>9</th>\n",
       "      <td>120</td>\n",
       "      <td>10</td>\n",
       "      <td>95</td>\n",
       "    </tr>\n",
       "  </tbody>\n",
       "</table>\n",
       "<p>1200 rows × 3 columns</p>\n",
       "</div>"
      ],
      "text/plain": [
       "   Beer Sim_Rank Sim_Beer\n",
       "0     1        1       58\n",
       "1     1        2      102\n",
       "2     1        3       67\n",
       "3     1        4       44\n",
       "4     1        5      109\n",
       "..  ...      ...      ...\n",
       "5   120        6       91\n",
       "6   120        7      114\n",
       "7   120        8       32\n",
       "8   120        9      116\n",
       "9   120       10       95\n",
       "\n",
       "[1200 rows x 3 columns]"
      ]
     },
     "metadata": {},
     "output_type": "display_data"
    }
   ],
   "source": [
    "sim_df = pd.DataFrame(columns=['Beer', 'Sim_Rank', 'Sim_Beer'])\n",
    "\n",
    "for beer in df.index:\n",
    "    sim_list = list(indexes[beer-1]+1)\n",
    "    beer_list = [beer for _ in sim_list]\n",
    "    sim_rank = list(range(1, len(sim_list)+1))\n",
    "    temp_df = pd.DataFrame({'Beer':beer_list, 'Sim_Rank':sim_rank, 'Sim_Beer':sim_list})\n",
    "    sim_df = pd.concat([sim_df, temp_df])\n",
    "\n",
    "display(sim_df)\n",
    "sim_df.to_csv(main_file_path + \"Data/GABS_sim_neighbours.csv\")\n",
    "\n"
   ]
  }
 ],
 "metadata": {
  "kernelspec": {
   "display_name": "Python 3 (ipykernel)",
   "language": "python",
   "name": "python3"
  },
  "language_info": {
   "codemirror_mode": {
    "name": "ipython",
    "version": 3
   },
   "file_extension": ".py",
   "mimetype": "text/x-python",
   "name": "python",
   "nbconvert_exporter": "python",
   "pygments_lexer": "ipython3",
   "version": "3.10.11"
  }
 },
 "nbformat": 4,
 "nbformat_minor": 5
}
