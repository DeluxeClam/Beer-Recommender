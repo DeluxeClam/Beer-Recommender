{
 "cells": [
  {
   "cell_type": "code",
   "execution_count": 28,
   "metadata": {},
   "outputs": [],
   "source": [
    "# Preamble\n",
    "import numpy as np\n",
    "import pandas as pd\n",
    "import plotly.express as px\n",
    "import re\n",
    "from collections import Counter\n",
    "from sklearn.feature_extraction.text import TfidfVectorizer\n",
    "from sklearn.feature_extraction.text import CountVectorizer\n",
    "from sklearn.metrics.pairwise import cosine_similarity\n",
    "from sklearn.metrics.pairwise import euclidean_distances\n",
    "from sklearn.decomposition import PCA\n",
    "from sklearn.manifold import TSNE\n",
    "from sklearn.cluster import DBSCAN\n",
    "from sklearn.preprocessing import normalize\n",
    "from sklearn.neighbors import NearestNeighbors"
   ]
  },
  {
   "cell_type": "code",
   "execution_count": 106,
   "metadata": {},
   "outputs": [],
   "source": [
    "# Load in beer spreadsheet\n",
    "main_file_path = \"../\"\n",
    "\n",
    "# Load in both datasets\n",
    "df_23 = pd.read_csv(main_file_path + \"Data/GABS_2023_Festival_Beers.csv\")\n",
    "df_24 = pd.read_csv(main_file_path + \"Data/GABS_2024_Festival_Beers.csv\")"
   ]
  },
  {
   "cell_type": "code",
   "execution_count": 107,
   "metadata": {},
   "outputs": [
    {
     "name": "stdout",
     "output_type": "stream",
     "text": [
      "Index(['Section', 'Number', 'Brewery', 'Beer', 'Style', 'Description',\n",
      "       'Anticipation', 'Anticipation notes', 'Reality', 'Reality notes'],\n",
      "      dtype='object')\n"
     ]
    }
   ],
   "source": [
    "# Inspect column names\n",
    "print(df_23.columns)\n",
    "df_23['year'] = '2023' # Add year col"
   ]
  },
  {
   "cell_type": "code",
   "execution_count": 108,
   "metadata": {},
   "outputs": [
    {
     "name": "stdout",
     "output_type": "stream",
     "text": [
      "Index(['num', 'brewery', 'state', 'name', 'abv', 'style', 'desc', 'section'], dtype='object')\n"
     ]
    }
   ],
   "source": [
    "# Inspect column names\n",
    "print(df_24.columns)\n",
    "df_24['year'] = '2024' # Add year col"
   ]
  },
  {
   "cell_type": "code",
   "execution_count": 109,
   "metadata": {},
   "outputs": [],
   "source": [
    "# Combine into one df\n",
    "df = pd.concat([df_23.rename(columns={'Number':'num', 'Section':'section', 'Brewery':'brewery',\n",
    "                                      'Beer':'name', 'Style':'style', 'Description':'desc'}),\n",
    "                df_24\n",
    "                ]).drop(columns=['abv', 'state', 'Anticipation', 'Anticipation notes',\n",
    "                                 'Reality', 'Reality notes']).set_index(['num', 'year'])"
   ]
  },
  {
   "cell_type": "code",
   "execution_count": 110,
   "metadata": {},
   "outputs": [
    {
     "data": {
      "text/plain": [
       "(237, 5)"
      ]
     },
     "metadata": {},
     "output_type": "display_data"
    },
    {
     "data": {
      "text/html": [
       "<div>\n",
       "<style scoped>\n",
       "    .dataframe tbody tr th:only-of-type {\n",
       "        vertical-align: middle;\n",
       "    }\n",
       "\n",
       "    .dataframe tbody tr th {\n",
       "        vertical-align: top;\n",
       "    }\n",
       "\n",
       "    .dataframe thead th {\n",
       "        text-align: right;\n",
       "    }\n",
       "</style>\n",
       "<table border=\"1\" class=\"dataframe\">\n",
       "  <thead>\n",
       "    <tr style=\"text-align: right;\">\n",
       "      <th></th>\n",
       "      <th></th>\n",
       "      <th>section</th>\n",
       "      <th>brewery</th>\n",
       "      <th>name</th>\n",
       "      <th>style</th>\n",
       "      <th>desc</th>\n",
       "    </tr>\n",
       "    <tr>\n",
       "      <th>num</th>\n",
       "      <th>year</th>\n",
       "      <th></th>\n",
       "      <th></th>\n",
       "      <th></th>\n",
       "      <th></th>\n",
       "      <th></th>\n",
       "    </tr>\n",
       "  </thead>\n",
       "  <tbody>\n",
       "    <tr>\n",
       "      <th>1.0</th>\n",
       "      <th>2023</th>\n",
       "      <td>1</td>\n",
       "      <td>Dad &amp; Dave</td>\n",
       "      <td>Boba Beer</td>\n",
       "      <td>Sour</td>\n",
       "      <td>Tart Grapefruit Beliner Weisse infused with Ja...</td>\n",
       "    </tr>\n",
       "    <tr>\n",
       "      <th>2.0</th>\n",
       "      <th>2023</th>\n",
       "      <td>1</td>\n",
       "      <td>The Coastal Brewing Company</td>\n",
       "      <td>Homestead Blackberry and Apple Pastry Sour</td>\n",
       "      <td>Specialty</td>\n",
       "      <td>Perfect for an autumn or winter evening bringi...</td>\n",
       "    </tr>\n",
       "    <tr>\n",
       "      <th>3.0</th>\n",
       "      <th>2023</th>\n",
       "      <td>1</td>\n",
       "      <td>7th Day Brewery</td>\n",
       "      <td>Suit Up</td>\n",
       "      <td>IPA Black</td>\n",
       "      <td>Choc &amp; raisins mingle with piney resin and cit...</td>\n",
       "    </tr>\n",
       "    <tr>\n",
       "      <th>4.0</th>\n",
       "      <th>2023</th>\n",
       "      <td>1</td>\n",
       "      <td>Six String Brewing Co</td>\n",
       "      <td>Whiskey in the jar</td>\n",
       "      <td>Wood Aged Beer</td>\n",
       "      <td>A barrel aged, American-Style Imperial Stout.</td>\n",
       "    </tr>\n",
       "    <tr>\n",
       "      <th>5.0</th>\n",
       "      <th>2023</th>\n",
       "      <td>1</td>\n",
       "      <td>The Marsden Brewhouse</td>\n",
       "      <td>Marsden Neopolitan Porter</td>\n",
       "      <td>Stout Tropical</td>\n",
       "      <td>Just like the ice cream, Berry - Vanilla - Cho...</td>\n",
       "    </tr>\n",
       "  </tbody>\n",
       "</table>\n",
       "</div>"
      ],
      "text/plain": [
       "          section                      brewery  \\\n",
       "num year                                         \n",
       "1.0 2023        1                   Dad & Dave   \n",
       "2.0 2023        1  The Coastal Brewing Company   \n",
       "3.0 2023        1              7th Day Brewery   \n",
       "4.0 2023        1        Six String Brewing Co   \n",
       "5.0 2023        1        The Marsden Brewhouse   \n",
       "\n",
       "                                                name           style  \\\n",
       "num year                                                               \n",
       "1.0 2023                                   Boba Beer            Sour   \n",
       "2.0 2023  Homestead Blackberry and Apple Pastry Sour       Specialty   \n",
       "3.0 2023                                     Suit Up       IPA Black   \n",
       "4.0 2023                          Whiskey in the jar  Wood Aged Beer   \n",
       "5.0 2023                   Marsden Neopolitan Porter  Stout Tropical   \n",
       "\n",
       "                                                       desc  \n",
       "num year                                                     \n",
       "1.0 2023  Tart Grapefruit Beliner Weisse infused with Ja...  \n",
       "2.0 2023  Perfect for an autumn or winter evening bringi...  \n",
       "3.0 2023  Choc & raisins mingle with piney resin and cit...  \n",
       "4.0 2023      A barrel aged, American-Style Imperial Stout.  \n",
       "5.0 2023  Just like the ice cream, Berry - Vanilla - Cho...  "
      ]
     },
     "metadata": {},
     "output_type": "display_data"
    }
   ],
   "source": [
    "# Inspect df\n",
    "display(df.shape)\n",
    "display(df.head())"
   ]
  },
  {
   "cell_type": "code",
   "execution_count": 111,
   "metadata": {},
   "outputs": [],
   "source": [
    "# Create a column combining all text descriptor fields\n",
    "df['words'] = [str(name).strip().upper() + ' '\n",
    "               + str(style).strip().upper() + ' '\n",
    "               + str(description).strip().upper()\n",
    "               for name, style, description\n",
    "               in zip(df['name'], df['style'], df['desc'])]"
   ]
  },
  {
   "cell_type": "code",
   "execution_count": 112,
   "metadata": {},
   "outputs": [],
   "source": [
    "# TF-IDF vectorisation on description to find most unique beers?\n",
    "X_tfidf = TfidfVectorizer().fit_transform([re.sub(r'[\\s]+', ' ', re.sub(r'[\\W]', ' ', x)).upper().strip() for x in df.words])\n",
    "\n",
    "# Compute uniqueness\n",
    "beer_uniqueness_cos = pd.Series(1 - np.mean(cosine_similarity(X_tfidf), axis=1))"
   ]
  },
  {
   "cell_type": "code",
   "execution_count": 153,
   "metadata": {},
   "outputs": [
    {
     "name": "stdout",
     "output_type": "stream",
     "text": [
      "(237, 2)\n"
     ]
    },
    {
     "data": {
      "application/vnd.plotly.v1+json": {
       "config": {
        "plotlyServerURL": "https://plot.ly"
       },
       "data": [
        {
         "customdata": [
          [
           "Boba Beer",
           1,
           1,
           "Sour"
          ],
          [
           "Homestead Blackberry and Apple Pastry Sour",
           1,
           2,
           "Specialty"
          ],
          [
           "Suit Up",
           1,
           3,
           "IPA Black"
          ],
          [
           "Whiskey in the jar",
           1,
           4,
           "Wood Aged Beer"
          ],
          [
           "Marsden Neopolitan Porter",
           1,
           5,
           "Stout Tropical"
          ],
          [
           "Go! Go! Ichigo!",
           1,
           6,
           "Sour"
          ],
          [
           "Market 2023",
           1,
           7,
           "NEIPA"
          ],
          [
           "Barrel Aged Rum Double Choc Brown Ale",
           1,
           8,
           "Specialty"
          ],
          [
           "I am Weiss",
           1,
           9,
           "Wheat"
          ],
          [
           "Tim, Tam & Tom",
           1,
           10,
           "Brown"
          ],
          [
           "Molecular Bubble Tea IPA",
           1,
           11,
           "IPA Milkshake"
          ],
          [
           "Lavender Cheesecake",
           1,
           12,
           "Sour"
          ],
          [
           "SAB Lite",
           1,
           13,
           "Lager"
          ],
          [
           "Don't Go Baking My Heart'",
           1,
           14,
           "Stout"
          ],
          [
           "Cherry Maguire",
           1,
           15,
           "Sour"
          ],
          [
           "The Taverner - All Brut Low Glut",
           1,
           16,
           "IPA White"
          ],
          [
           "The Lover",
           1,
           17,
           "Stout"
          ],
          [
           "Escape with the Schwartz",
           1,
           18,
           "Lager Dark"
          ],
          [
           "OnlyFlans",
           1,
           19,
           "Sour"
          ],
          [
           "Unicorn NEIPA",
           1,
           20,
           "NEIPA"
          ],
          [
           "Calippso Juicy IPA",
           2,
           21,
           "IPA Hazy"
          ],
          [
           "Long Island Iced Tea Sour",
           2,
           22,
           "Sour"
          ],
          [
           "Upper Management",
           2,
           23,
           "IPA Red"
          ],
          [
           "Desert Lime Gimlet IPA",
           2,
           24,
           "Specialty"
          ],
          [
           "Violet Beauregarde's Blueberry Marshmallow Lactose Sour Ale",
           2,
           25,
           "Sour"
          ],
          [
           "Augustus Gloop's Choc Fudge Peanut Brittle Stout",
           2,
           26,
           "Stout"
          ],
          [
           "Red frog, Raspberry dark lager",
           2,
           27,
           "Lager Dark"
          ],
          [
           "Cherry Fruited Braggot",
           2,
           28,
           "Braggot"
          ],
          [
           "Bananarama Pina Colada",
           2,
           29,
           "Sour"
          ],
          [
           "Throwing Haze",
           2,
           30,
           "IPA Hazy"
          ],
          [
           "Sticke Coffee Kolsch",
           2,
           31,
           "Kolsch"
          ],
          [
           "Squishee",
           2,
           32,
           "Sour"
          ],
          [
           "Peanut Butter Brownie Imperial Stout",
           2,
           33,
           "Stout"
          ],
          [
           "The Beery Beer",
           2,
           34,
           "IPA"
          ],
          [
           "Munich Dunkel",
           2,
           35,
           "Dunkel"
          ],
          [
           "Throat Pour",
           2,
           36,
           "Lager"
          ],
          [
           "Black Forrest Cake Sour",
           2,
           37,
           "Sour"
          ],
          [
           "Peak Hype",
           2,
           38,
           "IPA"
          ],
          [
           "Drinkin' Donuts Imperial Jam Donut Golden Ale",
           2,
           39,
           "Experimental"
          ],
          [
           "The Snowball Effect",
           2,
           40,
           "Stout"
          ],
          [
           "Rye Rye Rye Delilah",
           3,
           41,
           "IPA Red"
          ],
          [
           "\"Grandmere's Crumble\" Rhubarb & Custard (Apple) Saison",
           3,
           42,
           "Saison"
          ],
          [
           "Can't Be A Root",
           3,
           43,
           "Lager"
          ],
          [
           "Cotton Candy Sour",
           3,
           44,
           "Sour"
          ],
          [
           "The Craft and Co. WIPA",
           3,
           45,
           "IPA"
          ],
          [
           "Waggle Buzz",
           3,
           46,
           "Braggot"
          ],
          [
           "Bogan Fuel",
           3,
           47,
           "Specialty"
          ],
          [
           "Chrome Fury",
           3,
           48,
           "Sour"
          ],
          [
           "Biscoff Ice Cream Porter",
           3,
           49,
           "Experimental"
          ],
          [
           "Ginger Nut Sparkling IPA",
           3,
           50,
           "IPA"
          ],
          [
           "Imperial Lemon Meringue Tart Sour",
           3,
           51,
           "Sour"
          ],
          [
           "Hop Quad Buns",
           3,
           52,
           "Belgian Quad"
          ],
          [
           "Mulberry Bush Imperial IPA",
           3,
           53,
           "IPA Black"
          ],
          [
           "Take 5 - Choc Caramel Peanut Butter Cup Double Milk Stout",
           3,
           54,
           "Stout"
          ],
          [
           "Salvaged Sour - Apple & Rhubarb Crumble Pastry Imperial Sour",
           3,
           55,
           "Sour"
          ],
          [
           "Bloody Mystic",
           3,
           56,
           "Wheat"
          ],
          [
           "Maple Bacon Pancake Stout",
           3,
           57,
           "Stout"
          ],
          [
           "Lush Guava Beer - Green Beacon x Vodka Cruiser Collaboration",
           3,
           58,
           "Sour"
          ],
          [
           "Elektro Sour Wormhole",
           3,
           59,
           "Sour"
          ],
          [
           "Tha Thiccness Version 2",
           3,
           60,
           "IPA"
          ],
          [
           "Carnival Sour",
           4,
           61,
           "Sour"
          ],
          [
           "The Nugget",
           4,
           62,
           "IPA Wild"
          ],
          [
           "Buck Yeah",
           4,
           63,
           "Eisbock"
          ],
          [
           "Burleigh Black Giraffe Double Shot",
           4,
           64,
           "Lager"
          ],
          [
           "Imperial White Choc & Macadamia Stout",
           4,
           65,
           "Stout"
          ],
          [
           "Weekend At Willies",
           4,
           66,
           "Sour"
          ],
          [
           "Life Can Be Sweet & Sour",
           4,
           67,
           "Saison"
          ],
          [
           "Fists of Fiori",
           4,
           68,
           "IPA"
          ],
          [
           "Barrel-Aged Raspberry Imperial Stout",
           4,
           69,
           "Stout"
          ],
          [
           "Choc Cherry Bomb",
           4,
           70,
           "Sour"
          ],
          [
           "Dayummm",
           4,
           71,
           "Schwarzbier"
          ],
          [
           "Tropo-Thiol",
           4,
           72,
           "IPA"
          ],
          [
           "G and T Gose",
           4,
           73,
           "Sour"
          ],
          [
           "Balloon Animals",
           4,
           74,
           "IPA Milkshake"
          ],
          [
           "Garth's Fave Punch Bowl",
           4,
           75,
           "Specialty"
          ],
          [
           "Mind-bottling, isn't it?",
           4,
           76,
           "Stout"
          ],
          [
           "VoVo Whip",
           4,
           77,
           "Sour"
          ],
          [
           "Mountain Sunset",
           4,
           78,
           "IPA Red"
          ],
          [
           "Mango Stormy",
           4,
           79,
           "Lager Dark"
          ],
          [
           "Barrel Aged Imperial Porter",
           4,
           80,
           "Porter"
          ],
          [
           "Brut IPA",
           5,
           81,
           "IPA"
          ],
          [
           "Smokey Bacon Balls",
           5,
           82,
           "Rauchbier"
          ],
          [
           "Almighty Asam",
           5,
           83,
           "Sour"
          ],
          [
           "Cherry Ripe Porter",
           5,
           84,
           "Porter"
          ],
          [
           "Woolshed Brewery and Vili's Family Bakery Meat Pint",
           5,
           85,
           "Specialty"
          ],
          [
           "Pumpkin of Liberty IPA",
           5,
           86,
           "IPA"
          ],
          [
           "Aztec (Pale Chocolate Lager)",
           5,
           87,
           "Lager"
          ],
          [
           "Pizza beer",
           5,
           88,
           "Sour"
          ],
          [
           "Snowy's Kolsch",
           5,
           89,
           "Kolsch"
          ],
          [
           "Hypster Latte Stout",
           5,
           90,
           "Stout"
          ],
          [
           "Fruits on Fire",
           5,
           91,
           "Sour"
          ],
          [
           "Hawke's Bob Hulk Double Hazy IPA",
           5,
           92,
           "NEIPA"
          ],
          [
           "Feedback",
           5,
           93,
           "Sour"
          ],
          [
           "MSB Chocolate Bubble Imperial Stout",
           5,
           94,
           "Stout"
          ],
          [
           "Barrel Aged Cerveza",
           5,
           95,
           "Lager"
          ],
          [
           "Living the Cream",
           5,
           96,
           "IPA"
          ],
          [
           "YO HO!",
           5,
           97,
           "Porter"
          ],
          [
           "Gulls Just Wanna Have Fun (Fish & Chip Gose)",
           5,
           98,
           "Sour"
          ],
          [
           "Soutini 2.0",
           5,
           99,
           "Stout"
          ],
          [
           "Keeping It Simple",
           5,
           100,
           "IPA"
          ],
          [
           "AWW Duck Yeah!",
           6,
           101,
           "Stout"
          ],
          [
           "THE WAY OF TEA",
           6,
           102,
           "IPA Hazy"
          ],
          [
           "No Place Like Aus",
           6,
           103,
           "IPA"
          ],
          [
           "PROPER GABS",
           6,
           104,
           "NEIPA"
          ],
          [
           "Hail Mary, Hair of the Dog",
           6,
           105,
           "Saison"
          ],
          [
           "Fiery Azzurro Pils",
           6,
           106,
           "Specialty"
          ],
          [
           "Invisible Oranges",
           6,
           107,
           "IPA Black"
          ],
          [
           "Frootie & The Blowfish",
           6,
           108,
           "Sour"
          ],
          [
           "Hold the Pork",
           6,
           109,
           "Specialty"
          ],
          [
           "Raspberry Lemonade",
           6,
           110,
           "Specialty"
          ],
          [
           "Lucky Charms Cereal Milk Stout",
           6,
           111,
           "Stout"
          ],
          [
           "Ronin - Japanese Double IPA",
           6,
           112,
           "IPA"
          ],
          [
           "Spicy Wombat",
           6,
           113,
           "Ginger"
          ],
          [
           "Cherry Nice Graf",
           6,
           114,
           "Cider"
          ],
          [
           "Pinapple Express",
           6,
           115,
           "Seltzer"
          ],
          [
           "Barrel Aged Seltzerita",
           6,
           116,
           "Seltzer"
          ],
          [
           "Apple and Black Currant Cider",
           6,
           117,
           "Cider"
          ],
          [
           "Sour Pineapple Sour",
           6,
           118,
           "Cider"
          ],
          [
           "Eddies Organic Cider - Crisp Apple",
           6,
           119,
           "Cider"
          ],
          [
           "Splicer",
           6,
           120,
           "Cider"
          ]
         ],
         "hovertemplate": "Year=2023<br>0=%{x}<br>1=%{y}<br>Beer=%{customdata[0]}<br>Section=%{customdata[1]}<br>Number=%{customdata[2]}<br>Style=%{customdata[3]}<extra></extra>",
         "legendgroup": "2023",
         "marker": {
          "color": "#636efa",
          "symbol": "circle"
         },
         "mode": "markers",
         "name": "2023",
         "orientation": "v",
         "showlegend": true,
         "type": "scatter",
         "x": [
          0.1669459369499943,
          0.1535014316412747,
          -0.06151993826127683,
          -0.11566894390565202,
          -0.11582723872771375,
          0.33403683123205585,
          0.020474628547919045,
          -0.025936597557746,
          -0.020263000723630797,
          -0.017693979953329397,
          -0.05970178494054564,
          0.2553609215703531,
          -0.052212439760420615,
          -0.055403247561300786,
          0.18960476047653596,
          -0.0770399721586599,
          -0.13450672002876915,
          -0.09529916091915971,
          0.45068186154215,
          -0.020661165154374158,
          -0.04359475102227399,
          0.2296108574355909,
          -0.08064263213428591,
          0.012077259225848397,
          0.303342611318278,
          -0.13696163572515066,
          -0.07073251058074553,
          0.04412744921588248,
          0.21425971761949725,
          -0.07204254702786822,
          -0.03064649182400815,
          0.3318716893201212,
          -0.1996509802235784,
          -0.06206539619830708,
          -0.03451068654614385,
          -0.023513132039359768,
          0.2700821777149751,
          -0.07619165773970932,
          -0.009817479022705486,
          -0.1819289507660238,
          -0.04017007089158111,
          0.0774966035329504,
          -0.013608978534002628,
          0.5221956082792847,
          -0.061391653266710096,
          -0.019578364066451706,
          0.004145892824570367,
          0.15901246741791963,
          -0.029706786442116464,
          -0.07210337572132204,
          0.3272856721919424,
          -0.03605475688714356,
          0.11766452017717685,
          -0.1516467217180635,
          0.5044453982376519,
          -0.04370732861298336,
          -0.07668570016533399,
          0.11582901124297608,
          0.3694812651066005,
          -0.044372982092368944,
          0.43758168081746,
          -0.07021881008957685,
          -0.025371254619296235,
          -0.06064287032632743,
          -0.23986353414658304,
          0.1518688628609622,
          0.18263172828070126,
          -0.12673935709321027,
          -0.12108203004862146,
          0.0938323772564104,
          -0.09831019995242822,
          -0.07358610102004493,
          0.22232463273054592,
          -0.027342447258558788,
          0.15011925317655966,
          -0.09555308014994159,
          0.23308055426578547,
          -0.021923215272951442,
          -0.017826693783434867,
          -0.05762686393533761,
          -0.08811957934231957,
          0.0018876577137542112,
          0.16392662264666905,
          -0.07214112786922167,
          -0.02174867195416304,
          -0.09065228843271368,
          -0.04727071852173877,
          0.14533382156397343,
          0.0026152155132499076,
          -0.09596970594026279,
          0.42643938653831903,
          -0.0009102384721932527,
          0.256001829595634,
          -0.18067295970150576,
          -0.019677581590985534,
          -0.018066416808110216,
          -0.04728913463773366,
          0.1477168141936286,
          -0.16113895169537767,
          -0.04579875525082145,
          -0.056247867234575956,
          -0.07268176633920452,
          -0.03868778206954453,
          -0.01292246263441557,
          -0.047823815882915385,
          -0.01855487410360476,
          -0.07990681776120874,
          0.08436515949862716,
          0.00798252950772533,
          0.024637787212345257,
          -0.13311378730878753,
          -0.05380435119803572,
          -0.01809318254684843,
          0.04207516353644031,
          -0.020747533603301574,
          -0.001985178219988834,
          0.05685288109409875,
          0.5666124325819794,
          0.04177536068141173,
          0.10313997447345763
         ],
         "xaxis": "x",
         "y": [
          -0.007340083822352187,
          0.03536253230343972,
          -0.0925701579636768,
          0.2640545631521988,
          0.19063074181921846,
          0.05372094250054876,
          -0.05428180897347244,
          0.08440893448888159,
          -0.02305216432379647,
          -0.014086455679613247,
          -0.1617665041881945,
          0.028661410931999552,
          -0.08867923116018234,
          0.10406281959567755,
          0.06161952966640075,
          -0.13366954963063896,
          0.19842330762330873,
          -0.09031601446629382,
          0.09455524736627625,
          -0.12736996945555157,
          -0.2642822874822283,
          -0.0567985415565511,
          -0.18692940397304889,
          -0.09933419512324845,
          0.04687737168294742,
          0.30316786227290776,
          -0.059831525189145154,
          -0.0013752056757515665,
          0.019749821875854466,
          -0.17497648392610843,
          0.011593234919151495,
          0.0209633245525701,
          0.4289928224118486,
          -0.101849195225859,
          -0.052880414108346346,
          -0.06086248515753832,
          0.16943944201795233,
          -0.13815951685298777,
          0.028949635988516076,
          0.37126903682746876,
          -0.14212120875834472,
          -0.00027574635189910317,
          -0.02970336455109377,
          0.083725748970916,
          -0.2043182986318621,
          -0.011947989092921867,
          -0.021114380105278052,
          0.045398496595865735,
          0.027701726195710763,
          -0.20898225701110523,
          0.08168096360115198,
          -0.044280487111931104,
          -0.09166048322265039,
          0.2534767568642616,
          0.15077253439199673,
          -0.06176218952443669,
          0.1944196642164754,
          0.00870472577167358,
          0.07365735550259563,
          -0.15849004912039494,
          0.0871770323986846,
          -0.1578315692439961,
          -0.03534323527984373,
          0.021453306442718256,
          0.37649142300714594,
          -0.04561890652791951,
          -0.021676511571698674,
          -0.22040322927766778,
          0.3039164227893619,
          0.11234193701202766,
          0.008893762677920518,
          -0.27727377083271953,
          -0.00444645467518538,
          -0.0952209184309324,
          0.05918494909151979,
          0.14628443944262345,
          0.014591603336723729,
          -0.24280180403394236,
          -0.05093279341033562,
          0.14506305946165432,
          -0.3022037315262271,
          0.01443091080998541,
          -0.008404665454422502,
          0.10158757933805504,
          -0.03540529529215209,
          -0.28449827550018214,
          0.008221469884263349,
          0.012970333997141622,
          -0.10496375961606598,
          0.18714228594028232,
          0.018388641734553776,
          -0.204184117691087,
          0.06514434644164448,
          0.4014044614848003,
          0.016167812728658578,
          -0.054978638729190184,
          0.014049300654681043,
          0.015125774693059684,
          0.3091327167634957,
          -0.10674380659779333,
          0.16212719744271462,
          -0.2176904561756627,
          -0.16933501024339487,
          -0.012060988918703051,
          -0.033607846765392836,
          -0.009290821813574407,
          -0.11824598067396938,
          0.00591402245144218,
          -0.029218598089767945,
          -0.01995235762901791,
          0.23839815404960882,
          -0.17745109679147048,
          -0.038031503309166145,
          -0.015124632899829706,
          -0.09241658850759607,
          0.037008696631497105,
          -0.03291644693806058,
          0.05096780216540387,
          -0.08534429906421834,
          -0.08249760130605799
         ],
         "yaxis": "y"
        },
        {
         "customdata": [
          [
           "HONEY GUM (RED IPA)",
           1,
           1,
           "Red IPA"
          ],
          [
           "Choc à l'orange",
           1,
           2,
           "Imperial Stout"
          ],
          [
           "Spaghetti Saison",
           1,
           3,
           "Saison/Farmhouse Ale"
          ],
          [
           "Cocoa Comet",
           1,
           4,
           "Porter"
          ],
          [
           "Crumbs - Imperial Cookie Stout",
           1,
           5,
           "Imperial Stout"
          ],
          [
           "Unlikely Friends",
           1,
           6,
           "Specialty Beer"
          ],
          [
           "White Forest",
           1,
           7,
           "Cream Ale"
          ],
          [
           "Dank & Stormy",
           1,
           8,
           "American Amber/Red"
          ],
          [
           "Screamin' Peach",
           1,
           9,
           "Fruit Beer"
          ],
          [
           "Funky Gose To Hollywood",
           1,
           10,
           "Gose Sour"
          ],
          [
           "Old Mate",
           1,
           11,
           "Irish Amber/Red"
          ],
          [
           "King River Double Red IPA",
           1,
           12,
           "Red IPA"
          ],
          [
           "Don't Take The Pith",
           1,
           13,
           "Porter"
          ],
          [
           "Brunswick Grape Ale",
           1,
           14,
           "Specialty Beer"
          ],
          [
           "Pepper, Pepper, Pepper",
           1,
           15,
           "American IPA"
          ],
          [
           "Double Lemon Shochu Shandy",
           1,
           16,
           "Pale Lager"
          ],
          [
           "Smoke Rings",
           1,
           17,
           "Kettle Sour"
          ],
          [
           "Hybrid Theory Red Rye IPA",
           1,
           18,
           "Red IPA"
          ],
          [
           "Open Relationship",
           1,
           19,
           "Classic Pilsner Lager"
          ],
          [
           "Krushberry Pi 3.142%",
           1,
           20,
           "Pastry Sour"
          ],
          [
           "Bounty Hunter",
           2,
           21,
           "Imperial Stout"
          ],
          [
           null,
           2,
           22,
           "IPA - White"
          ],
          [
           "Tarte Noir",
           2,
           23,
           "Kettle Sour"
          ],
          [
           "Paradise Pils",
           2,
           24,
           "Classic Pilsner Lager"
          ],
          [
           "Rum Running",
           2,
           25,
           "Specialty Beer"
          ],
          [
           "Nitro Citrus - Blood Orange Chocolate Porter",
           2,
           26,
           "Porter"
          ],
          [
           "Yu Zerious? - Yuzu Russ”",
           2,
           27,
           "Fruit Beer"
          ],
          [
           "Dubbel Dutch",
           2,
           28,
           "Belgian Dubbel"
          ],
          [
           "Soolong Sucka",
           2,
           29,
           "American IPA"
          ],
          [
           "Wise and the Foolish",
           2,
           30,
           "Weizenbock"
          ],
          [
           "Guava Lava Imperial IPL",
           2,
           31,
           "New England (Double) IPA"
          ],
          [
           "Pig Pickin Cake",
           2,
           32,
           "Milkshake IPA"
          ],
          [
           "Hopless - Botanical IPA",
           2,
           33,
           "Gruit"
          ],
          [
           "Wakame Up Before You Gose",
           2,
           34,
           "Gose Sour"
          ],
          [
           "Michelager",
           2,
           35,
           "Lager - Mexican"
          ],
          [
           "Smooth Caffeinator",
           2,
           36,
           "Dulce de Leche Affogato Stout"
          ],
          [
           "Blackberries, Blueberries and Sour Patch kids!",
           2,
           37,
           "Sour - Kettle Sour"
          ],
          [
           "Supermassive Black Hole",
           2,
           38,
           "Stout - Pastry"
          ],
          [
           "Feiladh Mor (\"Great Kilt\")",
           2,
           39,
           "Scotch Ale/Wee Heavy"
          ],
          [
           "Mai TaIPA",
           2,
           40,
           "Fruit Beer"
          ],
          [
           "Haze Train",
           3,
           41,
           "Hazy IPA"
          ],
          [
           "Creature of the Deep",
           3,
           42,
           "Oatmeal Stout"
          ],
          [
           "Triple Sticky",
           3,
           43,
           "Hoppy Lager"
          ],
          [
           "Rose Petal Raspberry Sour",
           3,
           44,
           "Sour"
          ],
          [
           "“Shinigami” - Umami Smoked Porter",
           3,
           45,
           "Smoked Beer (non Rauchbier)"
          ],
          [
           "Sucker Punch Strawberries & Cream Lollipop Sour",
           3,
           46,
           "Pastry Sour"
          ],
          [
           "Aurora Australis Wonder Ale",
           3,
           47,
           "Belgian Dark Strong Ale"
          ],
          [
           "Lazy Bones",
           3,
           48,
           "Brut IPA"
          ],
          [
           "Pandan White Chocolate Stout",
           3,
           49,
           "Pastry Stout"
          ],
          [
           "Sparkling Saison Noir",
           3,
           50,
           "Saison/Farmhouse Ale"
          ],
          [
           "Hop Yearning",
           3,
           51,
           "American IPA"
          ],
          [
           "Pineapple Punch",
           3,
           52,
           "Kettle Sour"
          ],
          [
           "Two Thumbs Toasted Ironbark West Coast IPA",
           3,
           53,
           "American IPA"
          ],
          [
           "Lemon & Key Lime Meringue Pie Sour",
           3,
           54,
           "Kettle Sour"
          ],
          [
           "Angry Fish",
           3,
           55,
           "Baltic Porter"
          ],
          [
           "The Sanga",
           3,
           56,
           "Experimental Beer"
          ],
          [
           "Honey Honey, Joy Joy",
           3,
           57,
           "Specialty Beer"
          ],
          [
           "Pick of the Bunch",
           3,
           58,
           "Specialty Beer"
          ],
          [
           "Black Forest Espresso",
           3,
           59,
           "Pastry Stout"
          ],
          [
           "The Cowboy Slickshake",
           4,
           61,
           "Pastry Stout"
          ],
          [
           "Vanta Manta",
           4,
           63,
           "Schwarzbier"
          ],
          [
           "Slice of Heaven - Thiolised NZ Pilsner",
           4,
           64,
           "New Zealand Pilsner Lager"
          ],
          [
           "Southern Crossed Lovers - ANZIPA",
           4,
           65,
           "Hazy IPA"
          ],
          [
           "Mr. Phantastic",
           4,
           66,
           "Cold IPA"
          ],
          [
           "Spi-ski Margarita Gose",
           4,
           67,
           "Gose Sour"
          ],
          [
           "DDH Unicorn Frappe NEIPA",
           4,
           68,
           "Milkshake IPA"
          ],
          [
           "Slatterpuss Watermelon Sour",
           4,
           69,
           "Fruit Beer"
          ],
          [
           "Daily Tot' - Rum Raisin Brown Ale",
           4,
           70,
           "UK Brown Ale"
          ],
          [
           "Fantastic Sour",
           4,
           71,
           "Kettle Sour"
          ],
          [
           "Vanilla Bean Panna Cotta",
           4,
           72,
           "Stout - White"
          ],
          [
           "ALTernate BIER",
           4,
           73,
           "Altbier"
          ],
          [
           "Double Booti KNEIPA",
           4,
           74,
           "New England (Double) IPA"
          ],
          [
           "Ooray for Gilbert",
           4,
           75,
           "Specialty Beer"
          ],
          [
           "Thicker Than Water (Brazilian Blood Limeaide Sour)",
           4,
           76,
           "Pastry Sour"
          ],
          [
           "Insane Kölche Posse",
           4,
           77,
           "Kölsch"
          ],
          [
           "Biscoff Chocolate Brownie Porter",
           4,
           78,
           "Porter"
          ],
          [
           "Billson's Flavored Sour Beer",
           4,
           79,
           "Specialty Beer"
          ],
          [
           "Golden Roots - Spiced Volcanic Sweet Potato Copper Ale",
           4,
           80,
           "Experimental Beer"
          ],
          [
           "Smoked Kelp Stout",
           5,
           81,
           "Smoked Beer (non Rauchbier)"
          ],
          [
           "The 'H' is Silent",
           5,
           82,
           "Mixed Fermentation Sour"
          ],
          [
           "West coast story",
           5,
           83,
           "Australian IPA"
          ],
          [
           "Simz Spicy Vanilla Gorilla",
           5,
           84,
           "Mixed Fermentation Sour"
          ],
          [
           "The Terpinator",
           5,
           85,
           "IPA - American"
          ],
          [
           "Tradies Breakfast - Vienna Coffee Lager meets Custard Tart",
           5,
           86,
           "Vienna Lager"
          ],
          [
           "Abominable S'Mores Imperial Milk Stout",
           5,
           87,
           "Imperial Stout"
          ],
          [
           "Banana and Blueberry Imperial Maple Maccadamia Pancake Smoothie Sour",
           5,
           88,
           "Pastry Sour"
          ],
          [
           "Apfelstrudle Pastry Hefe",
           5,
           89,
           "Weizen/Weissbier/Hefeweizen"
          ],
          [
           "Rocky road campfire chocolate smoked stout",
           5,
           90,
           "Pastry Stout"
          ],
          [
           "Sweet as Pie",
           5,
           91,
           "Specialty Beer"
          ],
          [
           "SAB Bitter",
           5,
           92,
           "ESB (Extra Special Bitter)"
          ],
          [
           "Smooth Landing - Fruit Punch IPA",
           5,
           93,
           "IPA - Hazy"
          ],
          [
           "Partical Fusion - worlds collide",
           5,
           94,
           "Specialty Beer"
          ],
          [
           "Zombie Imperial Sour",
           5,
           95,
           "Kettle Sour"
          ],
          [
           "Equinox '24",
           5,
           96,
           "Imperial IPA"
          ],
          [
           "Holy Smokes! - Camel Dung Smoked Porter",
           5,
           97,
           "Smoked Beer (non Rauchbier)"
          ],
          [
           "Salvaged Cherry Cola",
           5,
           98,
           "Specialty Beer"
          ],
          [
           "Escape The Heat - Belgian Ale with Jalapeños",
           5,
           99,
           "Belgian Specialty Ale"
          ],
          [
           "Miso Macadamia Stout",
           5,
           100,
           "Porter"
          ],
          [
           "Strawberry Champagne Beer",
           6,
           101,
           "Specialty Beer"
          ],
          [
           "Try And Banh Mi",
           6,
           102,
           "Stout"
          ],
          [
           null,
           6,
           103,
           "Classic Pilsner Lager"
          ],
          [
           "Cereal for Dinner",
           6,
           104,
           "New England IPA"
          ],
          [
           "Black Mamba - Imperial Black Saison",
           6,
           105,
           "Saison/Farmhouse Ale"
          ],
          [
           "Grand Slam' Strawberries & Cream Imperial Sour",
           6,
           106,
           "Kettle Sour"
          ],
          [
           "Big Feelings",
           6,
           107,
           "Hazy IPA"
          ],
          [
           "The Notorious F.I.G.",
           6,
           108,
           "UK Brown Ale"
          ],
          [
           "Flat White Oatmeal stout",
           6,
           109,
           "Oatmeal Stout"
          ],
          [
           "Hellhound",
           6,
           110,
           "Baltic Porter"
          ],
          [
           "Lord Barista",
           6,
           111,
           "Imperial Stout"
          ],
          [
           "Bacon Me Crazy",
           6,
           112,
           "American IPA"
          ],
          [
           "Beer-ria taco lager",
           6,
           113,
           "Rauchbier"
          ],
          [
           "A boy named Tiramisu",
           6,
           114,
           "Pastry Stout"
          ],
          [
           "Raspberry Sherbet Bomb",
           6,
           115,
           "Specialty Beer"
          ],
          [
           "Ginger Monkey",
           6,
           116,
           "Cocktail"
          ],
          [
           null,
           6,
           117,
           "Cocktail"
          ],
          [
           "Eddies Crisp Apple",
           6,
           118,
           "Traditional Cider"
          ],
          [
           "Cloudy Apple & Ginger",
           6,
           119,
           "Specialty Cider"
          ]
         ],
         "hovertemplate": "Year=2024<br>0=%{x}<br>1=%{y}<br>Beer=%{customdata[0]}<br>Section=%{customdata[1]}<br>Number=%{customdata[2]}<br>Style=%{customdata[3]}<extra></extra>",
         "legendgroup": "2024",
         "marker": {
          "color": "#EF553B",
          "symbol": "circle"
         },
         "mode": "markers",
         "name": "2024",
         "orientation": "v",
         "showlegend": true,
         "type": "scatter",
         "x": [
          -0.1053004659260438,
          -0.1656041920813383,
          -0.032651205851248415,
          -0.06612432214380307,
          -0.12416679969916744,
          -0.04883671604053428,
          -0.07425686236100047,
          -0.040361704175564894,
          -0.06116526282722793,
          0.18108294448038484,
          -0.022738464886313158,
          -0.10602004350055588,
          -0.1650858270365467,
          -0.04720501736558997,
          -0.08355394203415763,
          0.01552950715353689,
          0.0738406629681952,
          -0.11471994282174254,
          -0.1032519980946912,
          0.10394619156844148,
          -0.130946289408959,
          -0.10537043059488299,
          0.07524394796179107,
          -0.06225996244759928,
          -0.03397102176764245,
          -0.14529699969006585,
          -0.014712158927618471,
          -0.052618563401691056,
          -0.08501913625567852,
          -0.05721592272751686,
          -0.057269646693939885,
          -0.0222227910644315,
          -0.07673523228809082,
          0.14834352876255152,
          -0.0388582337307486,
          -0.14012431994005578,
          0.2482728758083189,
          -0.09734682573511566,
          -0.031009666839700214,
          -0.018793786122134223,
          -0.059430200543727774,
          -0.13981799420155458,
          -0.057419308255975764,
          0.26793937560007464,
          -0.06765437802752326,
          0.19775283804713906,
          -0.03913498576347168,
          -0.09088360307328668,
          -0.1761919361609879,
          -0.06051492549623221,
          -0.09579502270242586,
          0.22459260663202474,
          -0.12826796806532584,
          0.20041515968811324,
          -0.08262422003539031,
          -0.08614935035776379,
          -0.05865384099572491,
          -0.04455243535998477,
          -0.1056161501173752,
          -0.13645885889411108,
          -0.02879167014641374,
          -0.028165192788137155,
          -0.05934984948980059,
          -0.05021364565655494,
          0.14807163229414985,
          -0.010751874889679812,
          0.03923536665263357,
          -0.05497781801892248,
          0.20200575583244135,
          -0.10423874430972666,
          -0.045143660022636624,
          -0.06181412902259132,
          -0.04492808647998306,
          0.03173207836292272,
          -0.07893864074672396,
          -0.1306711187892993,
          0.056721967389626024,
          -0.09289146831815813,
          -0.12085478244875347,
          0.1787517843368786,
          -0.055374219068962637,
          0.3053015103915466,
          -0.08535595109331588,
          -0.05567721704853293,
          -0.07056750037839528,
          0.1676509657046464,
          -0.00007586546570869733,
          -0.17594936241852727,
          0.013514648147768607,
          -0.05617600054268431,
          -0.11616955438768023,
          -0.09722925721852588,
          0.2407431625179616,
          -0.09840199339628566,
          -0.08603511854433546,
          0.031819679080202126,
          -0.041448021634822044,
          -0.10758634789536808,
          -0.030347692100083753,
          -0.12736947654783135,
          -0.04078765691798751,
          -0.09117121608374648,
          -0.07095675927666366,
          0.22542145698821703,
          -0.06620115708993829,
          -0.06235924336863615,
          -0.16986259416071303,
          -0.08803510572884621,
          -0.15343124059239807,
          -0.09951093147062802,
          -0.071965615388483,
          -0.1548690129850115,
          0.03129278686133826,
          -0.011020503619897168,
          -0.024359037913494426,
          -0.005262324639077959,
          0.0028786245607434354
         ],
         "xaxis": "x",
         "y": [
          -0.20154392621294845,
          0.2725947091946265,
          -0.04428263535774106,
          0.0545711392689317,
          0.18931663481468433,
          0.05534879027369809,
          0.06571470775365172,
          -0.05958251511641982,
          -0.06748946729596106,
          0.007586602576767538,
          -0.01658283864497555,
          -0.25130716030463796,
          0.06727248313731568,
          -0.011553965974606575,
          -0.10719368608328557,
          -0.06402266023465528,
          0.0312648669896839,
          -0.25312462277467207,
          -0.05129146063126961,
          -0.0036026334621189044,
          0.27685978260161265,
          -0.11883740076598098,
          0.039913899226674696,
          -0.025006011496851485,
          -0.008528511776167046,
          0.051112572047267574,
          -0.0711985495104624,
          -0.0035498242353532057,
          -0.14259459757158063,
          -0.023428831032167564,
          -0.02733521828044288,
          -0.08337601199567933,
          -0.19322205493024225,
          0.003093689268444488,
          -0.0352309166399309,
          0.1527906667330443,
          0.004346939253576663,
          0.10220252789942035,
          0.0038697260719139136,
          -0.04271564137863241,
          -0.23532207730465418,
          0.06749953012292391,
          -0.042602595170084516,
          0.048782184927892526,
          -0.004158885237693471,
          0.05673405861134522,
          -0.025110384141815115,
          -0.1576394815811907,
          0.33338142053840303,
          -0.0434257235051848,
          -0.17696255039787379,
          -0.008577381713560853,
          -0.2117019796770695,
          0.025479574438249167,
          0.00036013813050271543,
          0.010459174184276561,
          -0.022588055947608827,
          -0.0009694239915928386,
          0.23009213253532598,
          0.23461407245057506,
          0.001437165089816266,
          -0.0830976317307105,
          -0.12497429938891912,
          -0.040317212609593915,
          -0.002353105246555605,
          -0.14135062802296486,
          -0.0061971992311847445,
          0.03703707572521724,
          0.05669408653181224,
          0.044618634071677064,
          -0.02165061858345548,
          -0.08453316360556774,
          0.0013415677486613778,
          -0.004504976358522411,
          -0.07521068964200839,
          0.060748880604807744,
          -0.01701105022554837,
          0.006276237256970156,
          0.2624894281399661,
          0.04546285319454702,
          -0.21437283614293298,
          0.14783199396199764,
          -0.1485988425243529,
          0.021089199454857658,
          0.18240042447602822,
          0.0918970929350789,
          -0.010392518762796338,
          0.29759784137333545,
          -0.00731139042328674,
          -0.017211592055877925,
          -0.22545628421014074,
          -0.054511564555153075,
          0.06883393557200575,
          -0.039574914448840745,
          0.03717420512606431,
          -0.005444594680932908,
          -0.015140565697039778,
          0.09284520827214457,
          -0.02429026121297049,
          0.10787157500744722,
          -0.04040809171383238,
          -0.03248601512268389,
          0.070679768738871,
          0.06692474756298339,
          -0.19186344909875222,
          -0.010793904082305338,
          0.19148694527926247,
          0.03607205102587229,
          0.20823265209657135,
          -0.10473631837775729,
          -0.0007435346711811557,
          0.21979952163716635,
          -0.011103395960121706,
          -0.024327703314270643,
          -0.03255518462583586,
          -0.05301857382757559,
          -0.05933996015092213
         ],
         "yaxis": "y"
        }
       ],
       "layout": {
        "legend": {
         "title": {
          "text": "Year"
         },
         "tracegroupgap": 0
        },
        "template": {
         "data": {
          "bar": [
           {
            "error_x": {
             "color": "#2a3f5f"
            },
            "error_y": {
             "color": "#2a3f5f"
            },
            "marker": {
             "line": {
              "color": "#E5ECF6",
              "width": 0.5
             },
             "pattern": {
              "fillmode": "overlay",
              "size": 10,
              "solidity": 0.2
             }
            },
            "type": "bar"
           }
          ],
          "barpolar": [
           {
            "marker": {
             "line": {
              "color": "#E5ECF6",
              "width": 0.5
             },
             "pattern": {
              "fillmode": "overlay",
              "size": 10,
              "solidity": 0.2
             }
            },
            "type": "barpolar"
           }
          ],
          "carpet": [
           {
            "aaxis": {
             "endlinecolor": "#2a3f5f",
             "gridcolor": "white",
             "linecolor": "white",
             "minorgridcolor": "white",
             "startlinecolor": "#2a3f5f"
            },
            "baxis": {
             "endlinecolor": "#2a3f5f",
             "gridcolor": "white",
             "linecolor": "white",
             "minorgridcolor": "white",
             "startlinecolor": "#2a3f5f"
            },
            "type": "carpet"
           }
          ],
          "choropleth": [
           {
            "colorbar": {
             "outlinewidth": 0,
             "ticks": ""
            },
            "type": "choropleth"
           }
          ],
          "contour": [
           {
            "colorbar": {
             "outlinewidth": 0,
             "ticks": ""
            },
            "colorscale": [
             [
              0,
              "#0d0887"
             ],
             [
              0.1111111111111111,
              "#46039f"
             ],
             [
              0.2222222222222222,
              "#7201a8"
             ],
             [
              0.3333333333333333,
              "#9c179e"
             ],
             [
              0.4444444444444444,
              "#bd3786"
             ],
             [
              0.5555555555555556,
              "#d8576b"
             ],
             [
              0.6666666666666666,
              "#ed7953"
             ],
             [
              0.7777777777777778,
              "#fb9f3a"
             ],
             [
              0.8888888888888888,
              "#fdca26"
             ],
             [
              1,
              "#f0f921"
             ]
            ],
            "type": "contour"
           }
          ],
          "contourcarpet": [
           {
            "colorbar": {
             "outlinewidth": 0,
             "ticks": ""
            },
            "type": "contourcarpet"
           }
          ],
          "heatmap": [
           {
            "colorbar": {
             "outlinewidth": 0,
             "ticks": ""
            },
            "colorscale": [
             [
              0,
              "#0d0887"
             ],
             [
              0.1111111111111111,
              "#46039f"
             ],
             [
              0.2222222222222222,
              "#7201a8"
             ],
             [
              0.3333333333333333,
              "#9c179e"
             ],
             [
              0.4444444444444444,
              "#bd3786"
             ],
             [
              0.5555555555555556,
              "#d8576b"
             ],
             [
              0.6666666666666666,
              "#ed7953"
             ],
             [
              0.7777777777777778,
              "#fb9f3a"
             ],
             [
              0.8888888888888888,
              "#fdca26"
             ],
             [
              1,
              "#f0f921"
             ]
            ],
            "type": "heatmap"
           }
          ],
          "heatmapgl": [
           {
            "colorbar": {
             "outlinewidth": 0,
             "ticks": ""
            },
            "colorscale": [
             [
              0,
              "#0d0887"
             ],
             [
              0.1111111111111111,
              "#46039f"
             ],
             [
              0.2222222222222222,
              "#7201a8"
             ],
             [
              0.3333333333333333,
              "#9c179e"
             ],
             [
              0.4444444444444444,
              "#bd3786"
             ],
             [
              0.5555555555555556,
              "#d8576b"
             ],
             [
              0.6666666666666666,
              "#ed7953"
             ],
             [
              0.7777777777777778,
              "#fb9f3a"
             ],
             [
              0.8888888888888888,
              "#fdca26"
             ],
             [
              1,
              "#f0f921"
             ]
            ],
            "type": "heatmapgl"
           }
          ],
          "histogram": [
           {
            "marker": {
             "pattern": {
              "fillmode": "overlay",
              "size": 10,
              "solidity": 0.2
             }
            },
            "type": "histogram"
           }
          ],
          "histogram2d": [
           {
            "colorbar": {
             "outlinewidth": 0,
             "ticks": ""
            },
            "colorscale": [
             [
              0,
              "#0d0887"
             ],
             [
              0.1111111111111111,
              "#46039f"
             ],
             [
              0.2222222222222222,
              "#7201a8"
             ],
             [
              0.3333333333333333,
              "#9c179e"
             ],
             [
              0.4444444444444444,
              "#bd3786"
             ],
             [
              0.5555555555555556,
              "#d8576b"
             ],
             [
              0.6666666666666666,
              "#ed7953"
             ],
             [
              0.7777777777777778,
              "#fb9f3a"
             ],
             [
              0.8888888888888888,
              "#fdca26"
             ],
             [
              1,
              "#f0f921"
             ]
            ],
            "type": "histogram2d"
           }
          ],
          "histogram2dcontour": [
           {
            "colorbar": {
             "outlinewidth": 0,
             "ticks": ""
            },
            "colorscale": [
             [
              0,
              "#0d0887"
             ],
             [
              0.1111111111111111,
              "#46039f"
             ],
             [
              0.2222222222222222,
              "#7201a8"
             ],
             [
              0.3333333333333333,
              "#9c179e"
             ],
             [
              0.4444444444444444,
              "#bd3786"
             ],
             [
              0.5555555555555556,
              "#d8576b"
             ],
             [
              0.6666666666666666,
              "#ed7953"
             ],
             [
              0.7777777777777778,
              "#fb9f3a"
             ],
             [
              0.8888888888888888,
              "#fdca26"
             ],
             [
              1,
              "#f0f921"
             ]
            ],
            "type": "histogram2dcontour"
           }
          ],
          "mesh3d": [
           {
            "colorbar": {
             "outlinewidth": 0,
             "ticks": ""
            },
            "type": "mesh3d"
           }
          ],
          "parcoords": [
           {
            "line": {
             "colorbar": {
              "outlinewidth": 0,
              "ticks": ""
             }
            },
            "type": "parcoords"
           }
          ],
          "pie": [
           {
            "automargin": true,
            "type": "pie"
           }
          ],
          "scatter": [
           {
            "fillpattern": {
             "fillmode": "overlay",
             "size": 10,
             "solidity": 0.2
            },
            "type": "scatter"
           }
          ],
          "scatter3d": [
           {
            "line": {
             "colorbar": {
              "outlinewidth": 0,
              "ticks": ""
             }
            },
            "marker": {
             "colorbar": {
              "outlinewidth": 0,
              "ticks": ""
             }
            },
            "type": "scatter3d"
           }
          ],
          "scattercarpet": [
           {
            "marker": {
             "colorbar": {
              "outlinewidth": 0,
              "ticks": ""
             }
            },
            "type": "scattercarpet"
           }
          ],
          "scattergeo": [
           {
            "marker": {
             "colorbar": {
              "outlinewidth": 0,
              "ticks": ""
             }
            },
            "type": "scattergeo"
           }
          ],
          "scattergl": [
           {
            "marker": {
             "colorbar": {
              "outlinewidth": 0,
              "ticks": ""
             }
            },
            "type": "scattergl"
           }
          ],
          "scattermapbox": [
           {
            "marker": {
             "colorbar": {
              "outlinewidth": 0,
              "ticks": ""
             }
            },
            "type": "scattermapbox"
           }
          ],
          "scatterpolar": [
           {
            "marker": {
             "colorbar": {
              "outlinewidth": 0,
              "ticks": ""
             }
            },
            "type": "scatterpolar"
           }
          ],
          "scatterpolargl": [
           {
            "marker": {
             "colorbar": {
              "outlinewidth": 0,
              "ticks": ""
             }
            },
            "type": "scatterpolargl"
           }
          ],
          "scatterternary": [
           {
            "marker": {
             "colorbar": {
              "outlinewidth": 0,
              "ticks": ""
             }
            },
            "type": "scatterternary"
           }
          ],
          "surface": [
           {
            "colorbar": {
             "outlinewidth": 0,
             "ticks": ""
            },
            "colorscale": [
             [
              0,
              "#0d0887"
             ],
             [
              0.1111111111111111,
              "#46039f"
             ],
             [
              0.2222222222222222,
              "#7201a8"
             ],
             [
              0.3333333333333333,
              "#9c179e"
             ],
             [
              0.4444444444444444,
              "#bd3786"
             ],
             [
              0.5555555555555556,
              "#d8576b"
             ],
             [
              0.6666666666666666,
              "#ed7953"
             ],
             [
              0.7777777777777778,
              "#fb9f3a"
             ],
             [
              0.8888888888888888,
              "#fdca26"
             ],
             [
              1,
              "#f0f921"
             ]
            ],
            "type": "surface"
           }
          ],
          "table": [
           {
            "cells": {
             "fill": {
              "color": "#EBF0F8"
             },
             "line": {
              "color": "white"
             }
            },
            "header": {
             "fill": {
              "color": "#C8D4E3"
             },
             "line": {
              "color": "white"
             }
            },
            "type": "table"
           }
          ]
         },
         "layout": {
          "annotationdefaults": {
           "arrowcolor": "#2a3f5f",
           "arrowhead": 0,
           "arrowwidth": 1
          },
          "autotypenumbers": "strict",
          "coloraxis": {
           "colorbar": {
            "outlinewidth": 0,
            "ticks": ""
           }
          },
          "colorscale": {
           "diverging": [
            [
             0,
             "#8e0152"
            ],
            [
             0.1,
             "#c51b7d"
            ],
            [
             0.2,
             "#de77ae"
            ],
            [
             0.3,
             "#f1b6da"
            ],
            [
             0.4,
             "#fde0ef"
            ],
            [
             0.5,
             "#f7f7f7"
            ],
            [
             0.6,
             "#e6f5d0"
            ],
            [
             0.7,
             "#b8e186"
            ],
            [
             0.8,
             "#7fbc41"
            ],
            [
             0.9,
             "#4d9221"
            ],
            [
             1,
             "#276419"
            ]
           ],
           "sequential": [
            [
             0,
             "#0d0887"
            ],
            [
             0.1111111111111111,
             "#46039f"
            ],
            [
             0.2222222222222222,
             "#7201a8"
            ],
            [
             0.3333333333333333,
             "#9c179e"
            ],
            [
             0.4444444444444444,
             "#bd3786"
            ],
            [
             0.5555555555555556,
             "#d8576b"
            ],
            [
             0.6666666666666666,
             "#ed7953"
            ],
            [
             0.7777777777777778,
             "#fb9f3a"
            ],
            [
             0.8888888888888888,
             "#fdca26"
            ],
            [
             1,
             "#f0f921"
            ]
           ],
           "sequentialminus": [
            [
             0,
             "#0d0887"
            ],
            [
             0.1111111111111111,
             "#46039f"
            ],
            [
             0.2222222222222222,
             "#7201a8"
            ],
            [
             0.3333333333333333,
             "#9c179e"
            ],
            [
             0.4444444444444444,
             "#bd3786"
            ],
            [
             0.5555555555555556,
             "#d8576b"
            ],
            [
             0.6666666666666666,
             "#ed7953"
            ],
            [
             0.7777777777777778,
             "#fb9f3a"
            ],
            [
             0.8888888888888888,
             "#fdca26"
            ],
            [
             1,
             "#f0f921"
            ]
           ]
          },
          "colorway": [
           "#636efa",
           "#EF553B",
           "#00cc96",
           "#ab63fa",
           "#FFA15A",
           "#19d3f3",
           "#FF6692",
           "#B6E880",
           "#FF97FF",
           "#FECB52"
          ],
          "font": {
           "color": "#2a3f5f"
          },
          "geo": {
           "bgcolor": "white",
           "lakecolor": "white",
           "landcolor": "#E5ECF6",
           "showlakes": true,
           "showland": true,
           "subunitcolor": "white"
          },
          "hoverlabel": {
           "align": "left"
          },
          "hovermode": "closest",
          "mapbox": {
           "style": "light"
          },
          "paper_bgcolor": "white",
          "plot_bgcolor": "#E5ECF6",
          "polar": {
           "angularaxis": {
            "gridcolor": "white",
            "linecolor": "white",
            "ticks": ""
           },
           "bgcolor": "#E5ECF6",
           "radialaxis": {
            "gridcolor": "white",
            "linecolor": "white",
            "ticks": ""
           }
          },
          "scene": {
           "xaxis": {
            "backgroundcolor": "#E5ECF6",
            "gridcolor": "white",
            "gridwidth": 2,
            "linecolor": "white",
            "showbackground": true,
            "ticks": "",
            "zerolinecolor": "white"
           },
           "yaxis": {
            "backgroundcolor": "#E5ECF6",
            "gridcolor": "white",
            "gridwidth": 2,
            "linecolor": "white",
            "showbackground": true,
            "ticks": "",
            "zerolinecolor": "white"
           },
           "zaxis": {
            "backgroundcolor": "#E5ECF6",
            "gridcolor": "white",
            "gridwidth": 2,
            "linecolor": "white",
            "showbackground": true,
            "ticks": "",
            "zerolinecolor": "white"
           }
          },
          "shapedefaults": {
           "line": {
            "color": "#2a3f5f"
           }
          },
          "ternary": {
           "aaxis": {
            "gridcolor": "white",
            "linecolor": "white",
            "ticks": ""
           },
           "baxis": {
            "gridcolor": "white",
            "linecolor": "white",
            "ticks": ""
           },
           "bgcolor": "#E5ECF6",
           "caxis": {
            "gridcolor": "white",
            "linecolor": "white",
            "ticks": ""
           }
          },
          "title": {
           "x": 0.05
          },
          "xaxis": {
           "automargin": true,
           "gridcolor": "white",
           "linecolor": "white",
           "ticks": "",
           "title": {
            "standoff": 15
           },
           "zerolinecolor": "white",
           "zerolinewidth": 2
          },
          "yaxis": {
           "automargin": true,
           "gridcolor": "white",
           "linecolor": "white",
           "ticks": "",
           "title": {
            "standoff": 15
           },
           "zerolinecolor": "white",
           "zerolinewidth": 2
          }
         }
        },
        "title": {
         "text": "GABS 2023-24 (tf-idf vectorised, PCA reduction to 2-dim)"
        },
        "xaxis": {
         "anchor": "y",
         "domain": [
          0,
          1
         ],
         "title": {
          "text": "0"
         }
        },
        "yaxis": {
         "anchor": "x",
         "domain": [
          0,
          1
         ],
         "title": {
          "text": "1"
         }
        }
       }
      }
     },
     "metadata": {},
     "output_type": "display_data"
    }
   ],
   "source": [
    "# Plot some clusters maybe?\n",
    "pca_arr_all = PCA(n_components=2).fit_transform(np.asarray(X_tfidf.todense()))\n",
    "print(pca_arr_all.shape)\n",
    "\n",
    "\n",
    "pca_df = pd.DataFrame(pca_arr_all).reset_index(drop=True).set_index(df.index)\n",
    "pca_df['Section'] = df['section']\n",
    "pca_df['Number'] = [x[0] for x in df.index]\n",
    "pca_df['Beer'] = df['name']\n",
    "pca_df['Brewery'] = df['brewery']\n",
    "pca_df['Style'] = df['style']\n",
    "pca_df['Year'] = [x[1] for x in df.index]\n",
    "\n",
    "fig = px.scatter(pca_df,\n",
    "                 x=0,\n",
    "                 y=1,\n",
    "                 color=\"Year\",\n",
    "                 hover_data=[\"Beer\", \"Section\", \"Number\", \"Style\"],\n",
    "                 title=\"GABS 2023-24 (tf-idf vectorised, PCA reduction to 2-dim)\"\n",
    "                )\n",
    "fig.show()"
   ]
  },
  {
   "cell_type": "code",
   "execution_count": 118,
   "metadata": {},
   "outputs": [
    {
     "name": "stdout",
     "output_type": "stream",
     "text": [
      "(237, 2)\n"
     ]
    },
    {
     "data": {
      "application/vnd.plotly.v1+json": {
       "config": {
        "plotlyServerURL": "https://plot.ly"
       },
       "data": [
        {
         "customdata": [
          [
           "Boba Beer",
           1,
           1,
           "Sour"
          ],
          [
           "Homestead Blackberry and Apple Pastry Sour",
           1,
           2,
           "Specialty"
          ],
          [
           "Suit Up",
           1,
           3,
           "IPA Black"
          ],
          [
           "Whiskey in the jar",
           1,
           4,
           "Wood Aged Beer"
          ],
          [
           "Marsden Neopolitan Porter",
           1,
           5,
           "Stout Tropical"
          ],
          [
           "Go! Go! Ichigo!",
           1,
           6,
           "Sour"
          ],
          [
           "Market 2023",
           1,
           7,
           "NEIPA"
          ],
          [
           "Barrel Aged Rum Double Choc Brown Ale",
           1,
           8,
           "Specialty"
          ],
          [
           "I am Weiss",
           1,
           9,
           "Wheat"
          ],
          [
           "Tim, Tam & Tom",
           1,
           10,
           "Brown"
          ],
          [
           "Molecular Bubble Tea IPA",
           1,
           11,
           "IPA Milkshake"
          ],
          [
           "Lavender Cheesecake",
           1,
           12,
           "Sour"
          ],
          [
           "SAB Lite",
           1,
           13,
           "Lager"
          ],
          [
           "Don't Go Baking My Heart'",
           1,
           14,
           "Stout"
          ],
          [
           "Cherry Maguire",
           1,
           15,
           "Sour"
          ],
          [
           "The Taverner - All Brut Low Glut",
           1,
           16,
           "IPA White"
          ],
          [
           "The Lover",
           1,
           17,
           "Stout"
          ],
          [
           "Escape with the Schwartz",
           1,
           18,
           "Lager Dark"
          ],
          [
           "OnlyFlans",
           1,
           19,
           "Sour"
          ],
          [
           "Unicorn NEIPA",
           1,
           20,
           "NEIPA"
          ],
          [
           "Calippso Juicy IPA",
           2,
           21,
           "IPA Hazy"
          ],
          [
           "Long Island Iced Tea Sour",
           2,
           22,
           "Sour"
          ],
          [
           "Upper Management",
           2,
           23,
           "IPA Red"
          ],
          [
           "Desert Lime Gimlet IPA",
           2,
           24,
           "Specialty"
          ],
          [
           "Violet Beauregarde's Blueberry Marshmallow Lactose Sour Ale",
           2,
           25,
           "Sour"
          ],
          [
           "Augustus Gloop's Choc Fudge Peanut Brittle Stout",
           2,
           26,
           "Stout"
          ],
          [
           "Red frog, Raspberry dark lager",
           2,
           27,
           "Lager Dark"
          ],
          [
           "Cherry Fruited Braggot",
           2,
           28,
           "Braggot"
          ],
          [
           "Bananarama Pina Colada",
           2,
           29,
           "Sour"
          ],
          [
           "Throwing Haze",
           2,
           30,
           "IPA Hazy"
          ],
          [
           "Sticke Coffee Kolsch",
           2,
           31,
           "Kolsch"
          ],
          [
           "Squishee",
           2,
           32,
           "Sour"
          ],
          [
           "Peanut Butter Brownie Imperial Stout",
           2,
           33,
           "Stout"
          ],
          [
           "The Beery Beer",
           2,
           34,
           "IPA"
          ],
          [
           "Munich Dunkel",
           2,
           35,
           "Dunkel"
          ],
          [
           "Throat Pour",
           2,
           36,
           "Lager"
          ],
          [
           "Black Forrest Cake Sour",
           2,
           37,
           "Sour"
          ],
          [
           "Peak Hype",
           2,
           38,
           "IPA"
          ],
          [
           "Drinkin' Donuts Imperial Jam Donut Golden Ale",
           2,
           39,
           "Experimental"
          ],
          [
           "The Snowball Effect",
           2,
           40,
           "Stout"
          ],
          [
           "Rye Rye Rye Delilah",
           3,
           41,
           "IPA Red"
          ],
          [
           "\"Grandmere's Crumble\" Rhubarb & Custard (Apple) Saison",
           3,
           42,
           "Saison"
          ],
          [
           "Can't Be A Root",
           3,
           43,
           "Lager"
          ],
          [
           "Cotton Candy Sour",
           3,
           44,
           "Sour"
          ],
          [
           "The Craft and Co. WIPA",
           3,
           45,
           "IPA"
          ],
          [
           "Waggle Buzz",
           3,
           46,
           "Braggot"
          ],
          [
           "Bogan Fuel",
           3,
           47,
           "Specialty"
          ],
          [
           "Chrome Fury",
           3,
           48,
           "Sour"
          ],
          [
           "Biscoff Ice Cream Porter",
           3,
           49,
           "Experimental"
          ],
          [
           "Ginger Nut Sparkling IPA",
           3,
           50,
           "IPA"
          ],
          [
           "Imperial Lemon Meringue Tart Sour",
           3,
           51,
           "Sour"
          ],
          [
           "Hop Quad Buns",
           3,
           52,
           "Belgian Quad"
          ],
          [
           "Mulberry Bush Imperial IPA",
           3,
           53,
           "IPA Black"
          ],
          [
           "Take 5 - Choc Caramel Peanut Butter Cup Double Milk Stout",
           3,
           54,
           "Stout"
          ],
          [
           "Salvaged Sour - Apple & Rhubarb Crumble Pastry Imperial Sour",
           3,
           55,
           "Sour"
          ],
          [
           "Bloody Mystic",
           3,
           56,
           "Wheat"
          ],
          [
           "Maple Bacon Pancake Stout",
           3,
           57,
           "Stout"
          ],
          [
           "Lush Guava Beer - Green Beacon x Vodka Cruiser Collaboration",
           3,
           58,
           "Sour"
          ],
          [
           "Elektro Sour Wormhole",
           3,
           59,
           "Sour"
          ],
          [
           "Tha Thiccness Version 2",
           3,
           60,
           "IPA"
          ],
          [
           "Carnival Sour",
           4,
           61,
           "Sour"
          ],
          [
           "The Nugget",
           4,
           62,
           "IPA Wild"
          ],
          [
           "Buck Yeah",
           4,
           63,
           "Eisbock"
          ],
          [
           "Burleigh Black Giraffe Double Shot",
           4,
           64,
           "Lager"
          ],
          [
           "Imperial White Choc & Macadamia Stout",
           4,
           65,
           "Stout"
          ],
          [
           "Weekend At Willies",
           4,
           66,
           "Sour"
          ],
          [
           "Life Can Be Sweet & Sour",
           4,
           67,
           "Saison"
          ],
          [
           "Fists of Fiori",
           4,
           68,
           "IPA"
          ],
          [
           "Barrel-Aged Raspberry Imperial Stout",
           4,
           69,
           "Stout"
          ],
          [
           "Choc Cherry Bomb",
           4,
           70,
           "Sour"
          ],
          [
           "Dayummm",
           4,
           71,
           "Schwarzbier"
          ],
          [
           "Tropo-Thiol",
           4,
           72,
           "IPA"
          ],
          [
           "G and T Gose",
           4,
           73,
           "Sour"
          ],
          [
           "Balloon Animals",
           4,
           74,
           "IPA Milkshake"
          ],
          [
           "Garth's Fave Punch Bowl",
           4,
           75,
           "Specialty"
          ],
          [
           "Mind-bottling, isn't it?",
           4,
           76,
           "Stout"
          ],
          [
           "VoVo Whip",
           4,
           77,
           "Sour"
          ],
          [
           "Mountain Sunset",
           4,
           78,
           "IPA Red"
          ],
          [
           "Mango Stormy",
           4,
           79,
           "Lager Dark"
          ],
          [
           "Barrel Aged Imperial Porter",
           4,
           80,
           "Porter"
          ],
          [
           "Brut IPA",
           5,
           81,
           "IPA"
          ],
          [
           "Smokey Bacon Balls",
           5,
           82,
           "Rauchbier"
          ],
          [
           "Almighty Asam",
           5,
           83,
           "Sour"
          ],
          [
           "Cherry Ripe Porter",
           5,
           84,
           "Porter"
          ],
          [
           "Woolshed Brewery and Vili's Family Bakery Meat Pint",
           5,
           85,
           "Specialty"
          ],
          [
           "Pumpkin of Liberty IPA",
           5,
           86,
           "IPA"
          ],
          [
           "Aztec (Pale Chocolate Lager)",
           5,
           87,
           "Lager"
          ],
          [
           "Pizza beer",
           5,
           88,
           "Sour"
          ],
          [
           "Snowy's Kolsch",
           5,
           89,
           "Kolsch"
          ],
          [
           "Hypster Latte Stout",
           5,
           90,
           "Stout"
          ],
          [
           "Fruits on Fire",
           5,
           91,
           "Sour"
          ],
          [
           "Hawke's Bob Hulk Double Hazy IPA",
           5,
           92,
           "NEIPA"
          ],
          [
           "Feedback",
           5,
           93,
           "Sour"
          ],
          [
           "MSB Chocolate Bubble Imperial Stout",
           5,
           94,
           "Stout"
          ],
          [
           "Barrel Aged Cerveza",
           5,
           95,
           "Lager"
          ],
          [
           "Living the Cream",
           5,
           96,
           "IPA"
          ],
          [
           "YO HO!",
           5,
           97,
           "Porter"
          ],
          [
           "Gulls Just Wanna Have Fun (Fish & Chip Gose)",
           5,
           98,
           "Sour"
          ],
          [
           "Soutini 2.0",
           5,
           99,
           "Stout"
          ],
          [
           "Keeping It Simple",
           5,
           100,
           "IPA"
          ],
          [
           "AWW Duck Yeah!",
           6,
           101,
           "Stout"
          ],
          [
           "THE WAY OF TEA",
           6,
           102,
           "IPA Hazy"
          ],
          [
           "No Place Like Aus",
           6,
           103,
           "IPA"
          ],
          [
           "PROPER GABS",
           6,
           104,
           "NEIPA"
          ],
          [
           "Hail Mary, Hair of the Dog",
           6,
           105,
           "Saison"
          ],
          [
           "Fiery Azzurro Pils",
           6,
           106,
           "Specialty"
          ],
          [
           "Invisible Oranges",
           6,
           107,
           "IPA Black"
          ],
          [
           "Frootie & The Blowfish",
           6,
           108,
           "Sour"
          ],
          [
           "Hold the Pork",
           6,
           109,
           "Specialty"
          ],
          [
           "Raspberry Lemonade",
           6,
           110,
           "Specialty"
          ],
          [
           "Lucky Charms Cereal Milk Stout",
           6,
           111,
           "Stout"
          ],
          [
           "Ronin - Japanese Double IPA",
           6,
           112,
           "IPA"
          ],
          [
           "Spicy Wombat",
           6,
           113,
           "Ginger"
          ],
          [
           "Cherry Nice Graf",
           6,
           114,
           "Cider"
          ],
          [
           "Pinapple Express",
           6,
           115,
           "Seltzer"
          ],
          [
           "Barrel Aged Seltzerita",
           6,
           116,
           "Seltzer"
          ],
          [
           "Apple and Black Currant Cider",
           6,
           117,
           "Cider"
          ],
          [
           "Sour Pineapple Sour",
           6,
           118,
           "Cider"
          ],
          [
           "Eddies Organic Cider - Crisp Apple",
           6,
           119,
           "Cider"
          ],
          [
           "Splicer",
           6,
           120,
           "Cider"
          ]
         ],
         "hovertemplate": "Year=2023<br>0=%{x}<br>1=%{y}<br>Beer=%{customdata[0]}<br>Section=%{customdata[1]}<br>Number=%{customdata[2]}<br>Style=%{customdata[3]}<extra></extra>",
         "legendgroup": "2023",
         "marker": {
          "color": "#636efa",
          "symbol": "circle"
         },
         "mode": "markers",
         "name": "2023",
         "orientation": "v",
         "showlegend": true,
         "type": "scatter",
         "x": [
          -1.6669352846234902,
          -1.2409687420440443,
          -1.340167893087024,
          -1.0960121200851458,
          -1.2694753947702573,
          -2.0899465433394075,
          -1.6890325290007457,
          -1.6637363184390777,
          -0.9599290950181818,
          -1.7674808810043288,
          -1.5658797181277104,
          -2.035429245688294,
          -1.108537286690671,
          -1.6686170957095934,
          -1.6407131976113423,
          -0.8466847918833558,
          -1.2989428841719344,
          -0.02075566680023682,
          -2.0796540577197087,
          -1.2246485601502495,
          -1.8549775836771385,
          -1.3185297961626168,
          -1.2936389111921185,
          -1.9654595995387294,
          -1.7096524021060417,
          -1.5825509869898597,
          -1.5328767664020047,
          -1.6342749065935,
          -2.0273935177490747,
          -1.236817048376098,
          -1.9381301899043142,
          -1.6976025298397879,
          -1.4937760343470763,
          -0.5913727228565279,
          -0.8441744987203971,
          -1.6215866778851251,
          -1.9862860395460087,
          -0.9346400645252525,
          -1.6839294078073979,
          -1.1182194619012675,
          -1.613019727960165,
          -1.9954179078388654,
          -1.8848316586740559,
          -1.260499399838729,
          -0.34656797660405914,
          -1.3830549007067179,
          -1.5974991384257973,
          -1.566960676649943,
          -1.3576302542670664,
          -1.074067238282151,
          -1.6375716237017894,
          -0.25686249719496707,
          -1.7033379340751036,
          -1.5013176705568945,
          -0.9975801203172386,
          -0.9608003975165249,
          -1.08728148013159,
          -1.0501551173661228,
          -0.49032105095398537,
          -1.2974562035915265,
          -1.7635315168942303,
          0.32025658296031245,
          -1.5779432307297558,
          -1.6323326636332394,
          0.25810178954222823,
          -1.0070143496748418,
          -1.3817425285679974,
          -1.2183337700653472,
          -1.753544792334412,
          -1.1844000209732009,
          -0.874841807504337,
          -1.9418669691116828,
          -0.3118311963566469,
          -1.5575573813972245,
          -2.030750699540223,
          -1.1523285179110347,
          -1.6841202719532744,
          -1.9616233585938183,
          -1.9787624549543992,
          -1.4333095239388167,
          -1.5195894303419684,
          -1.7514356442782244,
          -1.7747716589178077,
          -1.5953044900126012,
          -1.2067049571402455,
          -1.2067770950622445,
          -1.7254211809057969,
          -1.8990151634429238,
          -0.8230050658338628,
          -1.5713779885347525,
          -1.6505947261072889,
          -1.2725003567650157,
          -1.7014783918617942,
          -1.8393047628965127,
          -1.7534867623738464,
          -1.3462236035369388,
          -1.3860192044915878,
          -2.0248191317660726,
          -1.9145725285272508,
          -1.1161156749203047,
          -2.0013323069241062,
          -0.14705911075312172,
          -1.0487775239276298,
          -1.2316429272263216,
          0.20715456230608675,
          -1.8709418514933664,
          -1.4733065587822007,
          -0.576740970005722,
          -0.7863800482319978,
          -1.6409652295724262,
          -0.6469580686848074,
          -1.1442596082786713,
          -0.9350011703100777,
          -1.5393405886564062,
          -1.2526730414309555,
          -1.2352881609041029,
          -1.2390567031870188,
          -1.7555316203903284,
          -0.8931447882313608,
          -2.021408347357594
         ],
         "xaxis": "x",
         "y": [
          -0.2819618061722669,
          0.28676450792751956,
          0.49117656569220336,
          -1.1803860204313006,
          -1.1228638070086636,
          -0.6104205417754499,
          0.1932008285452912,
          0.15906920843001485,
          -1.13435994918621,
          -0.3281299703340436,
          0.46094987871894155,
          -0.6123276894026085,
          0.11857421690294793,
          -0.45115883343935637,
          0.09788800300532063,
          -0.9053904133881056,
          -1.0496029176174444,
          0.17383500007592786,
          -0.6026055540219403,
          0.13995766175413119,
          -0.23698991788891513,
          0.5185713606400155,
          0.5369392428458247,
          -0.4657368332280191,
          0.08749413339613717,
          -0.09911412146643532,
          -0.4873613821160566,
          0.25644374206742915,
          -0.5926268231512497,
          -0.26147275169460704,
          -0.5947428477373372,
          0.12963142165409705,
          -0.24457650018672197,
          -0.12749986167758295,
          0.3968987961912269,
          0.17655210691746884,
          -0.6071358943405714,
          -0.1816879603595327,
          -0.42869355222151134,
          -1.369317240765057,
          0.36021669107415827,
          -0.48215053156801496,
          -0.5279874336232323,
          0.11941292699783129,
          0.836015548965923,
          0.4917101364837895,
          0.15321918904302936,
          0.14775381724785153,
          0.3529445206217272,
          0.31393907831375595,
          0.08845484062540462,
          -0.0482052615345704,
          -0.40649334144174354,
          -0.9334079680823355,
          -1.3046722094815622,
          -0.3079097474299411,
          -0.05769906943473957,
          0.13682587762686438,
          -0.5456454217456917,
          0.6264722709910068,
          -0.6317028647922658,
          -0.5956644714831504,
          0.349623709364471,
          -0.31305660254669604,
          -2.094803031896941,
          1.2264401122081472,
          0.3343356332795349,
          -0.1952346464537157,
          -0.8021883059037405,
          -0.4553169946707074,
          0.41764607291479866,
          -0.3092618556940278,
          1.0535337140470553,
          0.31884660126260556,
          -0.6197225452627495,
          0.8132418728550734,
          0.1756085209927717,
          -0.40688778260382585,
          -0.44274047142601436,
          0.17263007339703473,
          0.5132704184621096,
          -0.458458629767742,
          -0.3337387219066264,
          -0.24422762753622976,
          0.5360512395733482,
          -0.11341791374056528,
          -0.5803111255315222,
          -0.5709803688454663,
          0.8182278905528517,
          -0.530463609741797,
          0.04413463863903459,
          1.0541624213783678,
          0.13036050209946276,
          -0.8412872025706324,
          -0.2916376348917713,
          -0.9045410419522938,
          0.4047110181391433,
          -0.546284705109655,
          -0.7821749079633419,
          -0.7732203617141904,
          -0.6479175181433372,
          -0.7773248231747447,
          0.2471749645850884,
          0.9912724524546119,
          -1.1711316483962828,
          -0.5112219718460207,
          0.4093504748434022,
          -1.0834344762994843,
          -0.09352542798342596,
          0.23158259449132676,
          -1.745849980910431,
          0.3213051924911462,
          0.309425084092081,
          -0.21637797481891016,
          -0.2667016022090988,
          0.04967080099112513,
          1.1088461106881307,
          0.07551885176852698,
          0.5505271824095385,
          -0.500010126630155
         ],
         "yaxis": "y"
        },
        {
         "customdata": [
          [
           "HONEY GUM (RED IPA)",
           1,
           1,
           "Red IPA"
          ],
          [
           "Choc à l'orange",
           1,
           2,
           "Imperial Stout"
          ],
          [
           "Spaghetti Saison",
           1,
           3,
           "Saison/Farmhouse Ale"
          ],
          [
           "Cocoa Comet",
           1,
           4,
           "Porter"
          ],
          [
           "Crumbs - Imperial Cookie Stout",
           1,
           5,
           "Imperial Stout"
          ],
          [
           "Unlikely Friends",
           1,
           6,
           "Specialty Beer"
          ],
          [
           "White Forest",
           1,
           7,
           "Cream Ale"
          ],
          [
           "Dank & Stormy",
           1,
           8,
           "American Amber/Red"
          ],
          [
           "Screamin' Peach",
           1,
           9,
           "Fruit Beer"
          ],
          [
           "Funky Gose To Hollywood",
           1,
           10,
           "Gose Sour"
          ],
          [
           "Old Mate",
           1,
           11,
           "Irish Amber/Red"
          ],
          [
           "King River Double Red IPA",
           1,
           12,
           "Red IPA"
          ],
          [
           "Don't Take The Pith",
           1,
           13,
           "Porter"
          ],
          [
           "Brunswick Grape Ale",
           1,
           14,
           "Specialty Beer"
          ],
          [
           "Pepper, Pepper, Pepper",
           1,
           15,
           "American IPA"
          ],
          [
           "Double Lemon Shochu Shandy",
           1,
           16,
           "Pale Lager"
          ],
          [
           "Smoke Rings",
           1,
           17,
           "Kettle Sour"
          ],
          [
           "Hybrid Theory Red Rye IPA",
           1,
           18,
           "Red IPA"
          ],
          [
           "Open Relationship",
           1,
           19,
           "Classic Pilsner Lager"
          ],
          [
           "Krushberry Pi 3.142%",
           1,
           20,
           "Pastry Sour"
          ],
          [
           "Bounty Hunter",
           2,
           21,
           "Imperial Stout"
          ],
          [
           null,
           2,
           22,
           "IPA - White"
          ],
          [
           "Tarte Noir",
           2,
           23,
           "Kettle Sour"
          ],
          [
           "Paradise Pils",
           2,
           24,
           "Classic Pilsner Lager"
          ],
          [
           "Rum Running",
           2,
           25,
           "Specialty Beer"
          ],
          [
           "Nitro Citrus - Blood Orange Chocolate Porter",
           2,
           26,
           "Porter"
          ],
          [
           "Yu Zerious? - Yuzu Russ”",
           2,
           27,
           "Fruit Beer"
          ],
          [
           "Dubbel Dutch",
           2,
           28,
           "Belgian Dubbel"
          ],
          [
           "Soolong Sucka",
           2,
           29,
           "American IPA"
          ],
          [
           "Wise and the Foolish",
           2,
           30,
           "Weizenbock"
          ],
          [
           "Guava Lava Imperial IPL",
           2,
           31,
           "New England (Double) IPA"
          ],
          [
           "Pig Pickin Cake",
           2,
           32,
           "Milkshake IPA"
          ],
          [
           "Hopless - Botanical IPA",
           2,
           33,
           "Gruit"
          ],
          [
           "Wakame Up Before You Gose",
           2,
           34,
           "Gose Sour"
          ],
          [
           "Michelager",
           2,
           35,
           "Lager - Mexican"
          ],
          [
           "Smooth Caffeinator",
           2,
           36,
           "Dulce de Leche Affogato Stout"
          ],
          [
           "Blackberries, Blueberries and Sour Patch kids!",
           2,
           37,
           "Sour - Kettle Sour"
          ],
          [
           "Supermassive Black Hole",
           2,
           38,
           "Stout - Pastry"
          ],
          [
           "Feiladh Mor (\"Great Kilt\")",
           2,
           39,
           "Scotch Ale/Wee Heavy"
          ],
          [
           "Mai TaIPA",
           2,
           40,
           "Fruit Beer"
          ],
          [
           "Haze Train",
           3,
           41,
           "Hazy IPA"
          ],
          [
           "Creature of the Deep",
           3,
           42,
           "Oatmeal Stout"
          ],
          [
           "Triple Sticky",
           3,
           43,
           "Hoppy Lager"
          ],
          [
           "Rose Petal Raspberry Sour",
           3,
           44,
           "Sour"
          ],
          [
           "“Shinigami” - Umami Smoked Porter",
           3,
           45,
           "Smoked Beer (non Rauchbier)"
          ],
          [
           "Sucker Punch Strawberries & Cream Lollipop Sour",
           3,
           46,
           "Pastry Sour"
          ],
          [
           "Aurora Australis Wonder Ale",
           3,
           47,
           "Belgian Dark Strong Ale"
          ],
          [
           "Lazy Bones",
           3,
           48,
           "Brut IPA"
          ],
          [
           "Pandan White Chocolate Stout",
           3,
           49,
           "Pastry Stout"
          ],
          [
           "Sparkling Saison Noir",
           3,
           50,
           "Saison/Farmhouse Ale"
          ],
          [
           "Hop Yearning",
           3,
           51,
           "American IPA"
          ],
          [
           "Pineapple Punch",
           3,
           52,
           "Kettle Sour"
          ],
          [
           "Two Thumbs Toasted Ironbark West Coast IPA",
           3,
           53,
           "American IPA"
          ],
          [
           "Lemon & Key Lime Meringue Pie Sour",
           3,
           54,
           "Kettle Sour"
          ],
          [
           "Angry Fish",
           3,
           55,
           "Baltic Porter"
          ],
          [
           "The Sanga",
           3,
           56,
           "Experimental Beer"
          ],
          [
           "Honey Honey, Joy Joy",
           3,
           57,
           "Specialty Beer"
          ],
          [
           "Pick of the Bunch",
           3,
           58,
           "Specialty Beer"
          ],
          [
           "Black Forest Espresso",
           3,
           59,
           "Pastry Stout"
          ],
          [
           "The Cowboy Slickshake",
           4,
           61,
           "Pastry Stout"
          ],
          [
           "Vanta Manta",
           4,
           63,
           "Schwarzbier"
          ],
          [
           "Slice of Heaven - Thiolised NZ Pilsner",
           4,
           64,
           "New Zealand Pilsner Lager"
          ],
          [
           "Southern Crossed Lovers - ANZIPA",
           4,
           65,
           "Hazy IPA"
          ],
          [
           "Mr. Phantastic",
           4,
           66,
           "Cold IPA"
          ],
          [
           "Spi-ski Margarita Gose",
           4,
           67,
           "Gose Sour"
          ],
          [
           "DDH Unicorn Frappe NEIPA",
           4,
           68,
           "Milkshake IPA"
          ],
          [
           "Slatterpuss Watermelon Sour",
           4,
           69,
           "Fruit Beer"
          ],
          [
           "Daily Tot' - Rum Raisin Brown Ale",
           4,
           70,
           "UK Brown Ale"
          ],
          [
           "Fantastic Sour",
           4,
           71,
           "Kettle Sour"
          ],
          [
           "Vanilla Bean Panna Cotta",
           4,
           72,
           "Stout - White"
          ],
          [
           "ALTernate BIER",
           4,
           73,
           "Altbier"
          ],
          [
           "Double Booti KNEIPA",
           4,
           74,
           "New England (Double) IPA"
          ],
          [
           "Ooray for Gilbert",
           4,
           75,
           "Specialty Beer"
          ],
          [
           "Thicker Than Water (Brazilian Blood Limeaide Sour)",
           4,
           76,
           "Pastry Sour"
          ],
          [
           "Insane Kölche Posse",
           4,
           77,
           "Kölsch"
          ],
          [
           "Biscoff Chocolate Brownie Porter",
           4,
           78,
           "Porter"
          ],
          [
           "Billson's Flavored Sour Beer",
           4,
           79,
           "Specialty Beer"
          ],
          [
           "Golden Roots - Spiced Volcanic Sweet Potato Copper Ale",
           4,
           80,
           "Experimental Beer"
          ],
          [
           "Smoked Kelp Stout",
           5,
           81,
           "Smoked Beer (non Rauchbier)"
          ],
          [
           "The 'H' is Silent",
           5,
           82,
           "Mixed Fermentation Sour"
          ],
          [
           "West coast story",
           5,
           83,
           "Australian IPA"
          ],
          [
           "Simz Spicy Vanilla Gorilla",
           5,
           84,
           "Mixed Fermentation Sour"
          ],
          [
           "The Terpinator",
           5,
           85,
           "IPA - American"
          ],
          [
           "Tradies Breakfast - Vienna Coffee Lager meets Custard Tart",
           5,
           86,
           "Vienna Lager"
          ],
          [
           "Abominable S'Mores Imperial Milk Stout",
           5,
           87,
           "Imperial Stout"
          ],
          [
           "Banana and Blueberry Imperial Maple Maccadamia Pancake Smoothie Sour",
           5,
           88,
           "Pastry Sour"
          ],
          [
           "Apfelstrudle Pastry Hefe",
           5,
           89,
           "Weizen/Weissbier/Hefeweizen"
          ],
          [
           "Rocky road campfire chocolate smoked stout",
           5,
           90,
           "Pastry Stout"
          ],
          [
           "Sweet as Pie",
           5,
           91,
           "Specialty Beer"
          ],
          [
           "SAB Bitter",
           5,
           92,
           "ESB (Extra Special Bitter)"
          ],
          [
           "Smooth Landing - Fruit Punch IPA",
           5,
           93,
           "IPA - Hazy"
          ],
          [
           "Partical Fusion - worlds collide",
           5,
           94,
           "Specialty Beer"
          ],
          [
           "Zombie Imperial Sour",
           5,
           95,
           "Kettle Sour"
          ],
          [
           "Equinox '24",
           5,
           96,
           "Imperial IPA"
          ],
          [
           "Holy Smokes! - Camel Dung Smoked Porter",
           5,
           97,
           "Smoked Beer (non Rauchbier)"
          ],
          [
           "Salvaged Cherry Cola",
           5,
           98,
           "Specialty Beer"
          ],
          [
           "Escape The Heat - Belgian Ale with Jalapeños",
           5,
           99,
           "Belgian Specialty Ale"
          ],
          [
           "Miso Macadamia Stout",
           5,
           100,
           "Porter"
          ],
          [
           "Strawberry Champagne Beer",
           6,
           101,
           "Specialty Beer"
          ],
          [
           "Try And Banh Mi",
           6,
           102,
           "Stout"
          ],
          [
           null,
           6,
           103,
           "Classic Pilsner Lager"
          ],
          [
           "Cereal for Dinner",
           6,
           104,
           "New England IPA"
          ],
          [
           "Black Mamba - Imperial Black Saison",
           6,
           105,
           "Saison/Farmhouse Ale"
          ],
          [
           "Grand Slam' Strawberries & Cream Imperial Sour",
           6,
           106,
           "Kettle Sour"
          ],
          [
           "Big Feelings",
           6,
           107,
           "Hazy IPA"
          ],
          [
           "The Notorious F.I.G.",
           6,
           108,
           "UK Brown Ale"
          ],
          [
           "Flat White Oatmeal stout",
           6,
           109,
           "Oatmeal Stout"
          ],
          [
           "Hellhound",
           6,
           110,
           "Baltic Porter"
          ],
          [
           "Lord Barista",
           6,
           111,
           "Imperial Stout"
          ],
          [
           "Bacon Me Crazy",
           6,
           112,
           "American IPA"
          ],
          [
           "Beer-ria taco lager",
           6,
           113,
           "Rauchbier"
          ],
          [
           "A boy named Tiramisu",
           6,
           114,
           "Pastry Stout"
          ],
          [
           "Raspberry Sherbet Bomb",
           6,
           115,
           "Specialty Beer"
          ],
          [
           "Ginger Monkey",
           6,
           116,
           "Cocktail"
          ],
          [
           null,
           6,
           117,
           "Cocktail"
          ],
          [
           "Eddies Crisp Apple",
           6,
           118,
           "Traditional Cider"
          ],
          [
           "Cloudy Apple & Ginger",
           6,
           119,
           "Specialty Cider"
          ]
         ],
         "hovertemplate": "Year=2024<br>0=%{x}<br>1=%{y}<br>Beer=%{customdata[0]}<br>Section=%{customdata[1]}<br>Number=%{customdata[2]}<br>Style=%{customdata[3]}<extra></extra>",
         "legendgroup": "2024",
         "marker": {
          "color": "#EF553B",
          "symbol": "circle"
         },
         "mode": "markers",
         "name": "2024",
         "orientation": "v",
         "showlegend": true,
         "type": "scatter",
         "x": [
          0.7125100425313651,
          -0.7754660187708672,
          0.7386310516128195,
          -0.546744472955449,
          4.843191424382249,
          1.0210343870783332,
          -0.7585066389578538,
          1.483221365566949,
          1.6015574555114804,
          -0.4761360834702623,
          -1.5607321103901197,
          0.9667749270606264,
          3.940313628226081,
          2.933757754563099,
          2.7100715832763607,
          0.004297529077125193,
          5.120480595403547,
          -0.603085045333975,
          4.412748001769506,
          -0.34562292677179535,
          -0.7878082769813113,
          4.920124568349882,
          0.6975856073613267,
          1.2887961595119677,
          1.3889179187415495,
          5.20388370114562,
          -1.8237270530248557,
          3.65815702859848,
          2.600815753372443,
          2.678812279773865,
          -1.795411478303645,
          0.13396600691315735,
          -0.3153349929701639,
          -0.06754710644240619,
          1.9410517676487058,
          4.335823680311183,
          2.5737975330915654,
          2.757712531394245,
          -0.8053426095202402,
          -1.840376208303949,
          -1.9355293141737746,
          6.230694574388763,
          0.46927154875783156,
          -0.6960835529831692,
          0.35656086959720235,
          1.348055572072158,
          2.2807299749137298,
          1.7070421395571476,
          -1.3062559842372323,
          2.0318340814437272,
          2.5924570747671454,
          0.4644828299556027,
          4.7803770802356675,
          3.1171010647300954,
          1.1054183260878823,
          2.354768763776387,
          3.216542527446306,
          4.542461366617356,
          1.1358553031426397,
          0.05752716581458307,
          0.6278374457615155,
          -0.7451018580776725,
          0.9443384523890408,
          0.4829092843056199,
          -1.4916859013642476,
          2.5656778127203683,
          1.6584013954655181,
          0.37615584091771903,
          1.6910338483940919,
          4.1813017808070265,
          -0.09817128583617302,
          0.6409106893383872,
          2.313238276418798,
          3.721458969684298,
          0.12123410871365954,
          3.480565317536427,
          -0.2501264712619891,
          6.043246080374103,
          -1.632959984140811,
          0.4133192286362808,
          -0.5026644697007406,
          -1.3011800209463806,
          2.3440338072323494,
          1.9249173235782,
          0.6592786123734358,
          -0.8351498867899076,
          1.2092495977495126,
          2.842361496817438,
          0.23521188410340038,
          1.5258000765700148,
          4.619789483894033,
          4.722345406429598,
          -0.012735320337472987,
          1.1912009633522582,
          1.9165871407995847,
          -0.7979480008162894,
          0.8828159146884343,
          0.7240395185529793,
          2.3391865615022365,
          2.318636123761082,
          -1.991088779188075,
          0.4595018889434005,
          4.326774126870417,
          2.0314512151070168,
          1.0039112023500776,
          0.9790049703466603,
          1.0700641542158893,
          2.011948688075539,
          2.5545519517450135,
          4.521526878056568,
          1.5057528752797542,
          1.2818351160919326,
          1.8564659859928463,
          -1.4519446276314956,
          0.6691211794748205,
          2.149820253603164,
          3.5327569932134932
         ],
         "xaxis": "x",
         "y": [
          0.519714666742713,
          -1.5750773921907257,
          0.8823290380938416,
          -0.2772506936608498,
          -1.4387351631353908,
          3.2306422453976533,
          0.14611811418055348,
          -0.3875054038170742,
          0.6311805738417822,
          -1.14872707999195,
          0.16685556013671643,
          1.170589799552828,
          1.4736639996003014,
          -0.355411991800993,
          -0.4316009479347702,
          2.007546587163126,
          -3.2980103058878187,
          -0.6585919574481369,
          -0.26193290824139637,
          -0.18160267010911121,
          0.13438888691632975,
          1.3255686465243481,
          -0.5172499464669807,
          -0.11567089342009071,
          -1.66148587425557,
          -1.7449398133795024,
          -0.3277398796317286,
          -1.4157026500538235,
          4.585106439135936,
          0.47432785060092164,
          -0.5245930860345329,
          0.6670930504055497,
          1.7992390513584202,
          2.2182803536796256,
          0.9454677300384645,
          0.4561314065840962,
          2.1432067914267163,
          1.0786387532631616,
          0.029036734391540923,
          -0.43348930346940634,
          -0.39108637953930775,
          -3.645456639241131,
          -0.26253520568707933,
          1.005541580174774,
          2.94621356147966,
          -1.434295061085216,
          1.9173986817150117,
          -0.6020044167801755,
          -0.020594802132322995,
          0.5481637151444056,
          -0.0906136094168634,
          1.0804193176227532,
          -0.7698008407111756,
          -0.8433228698158566,
          2.1581552855187125,
          -2.288255224245768,
          1.437791534679934,
          -0.4782515635464061,
          -0.26915129655329295,
          -1.302753596589105,
          1.2467660659650723,
          0.5808461576222318,
          1.3209687859958796,
          -1.9961261446649983,
          0.42956033919725917,
          3.4141542378282907,
          -0.7979229912712309,
          0.5451752086777257,
          -0.1277152218108138,
          -0.9653302575919009,
          -0.7146472913183757,
          -0.8995057678007453,
          -1.2225626671000858,
          -1.056991895798193,
          -0.2877447214741172,
          -1.9213007257400798,
          -0.27583675394091045,
          -4.1518393503758855,
          -0.7590917018477151,
          -0.9200836749070774,
          1.2132715691578313,
          0.5250704890172588,
          2.015870191540188,
          0.40992767975428046,
          0.38644781204109646,
          0.046114922680709707,
          2.437186434739764,
          -0.02414315474976816,
          0.46629595096759846,
          0.8860267801314384,
          -0.043890811419187534,
          -1.95748739017949,
          -1.3342918196883093,
          -1.242245559196121,
          2.4376139290110435,
          1.1320645452521547,
          -1.4453779570361616,
          0.6586976091670161,
          -0.043966080591035746,
          2.8443990685495475,
          -0.5289915375989024,
          -0.048638033016557676,
          -2.2658857972611277,
          0.5178159050009487,
          2.806189176256774,
          -0.4505861155095768,
          -0.06396464077732329,
          0.8888474939087765,
          -1.5351535241409224,
          2.173956447946022,
          -0.9463357919282911,
          -0.6390838242757486,
          2.305889958801676,
          -0.5909020970673696,
          0.9519307489336742,
          5.844107625246978,
          1.679821105224169
         ],
         "yaxis": "y"
        }
       ],
       "layout": {
        "legend": {
         "title": {
          "text": "Year"
         },
         "tracegroupgap": 0
        },
        "template": {
         "data": {
          "bar": [
           {
            "error_x": {
             "color": "#2a3f5f"
            },
            "error_y": {
             "color": "#2a3f5f"
            },
            "marker": {
             "line": {
              "color": "#E5ECF6",
              "width": 0.5
             },
             "pattern": {
              "fillmode": "overlay",
              "size": 10,
              "solidity": 0.2
             }
            },
            "type": "bar"
           }
          ],
          "barpolar": [
           {
            "marker": {
             "line": {
              "color": "#E5ECF6",
              "width": 0.5
             },
             "pattern": {
              "fillmode": "overlay",
              "size": 10,
              "solidity": 0.2
             }
            },
            "type": "barpolar"
           }
          ],
          "carpet": [
           {
            "aaxis": {
             "endlinecolor": "#2a3f5f",
             "gridcolor": "white",
             "linecolor": "white",
             "minorgridcolor": "white",
             "startlinecolor": "#2a3f5f"
            },
            "baxis": {
             "endlinecolor": "#2a3f5f",
             "gridcolor": "white",
             "linecolor": "white",
             "minorgridcolor": "white",
             "startlinecolor": "#2a3f5f"
            },
            "type": "carpet"
           }
          ],
          "choropleth": [
           {
            "colorbar": {
             "outlinewidth": 0,
             "ticks": ""
            },
            "type": "choropleth"
           }
          ],
          "contour": [
           {
            "colorbar": {
             "outlinewidth": 0,
             "ticks": ""
            },
            "colorscale": [
             [
              0,
              "#0d0887"
             ],
             [
              0.1111111111111111,
              "#46039f"
             ],
             [
              0.2222222222222222,
              "#7201a8"
             ],
             [
              0.3333333333333333,
              "#9c179e"
             ],
             [
              0.4444444444444444,
              "#bd3786"
             ],
             [
              0.5555555555555556,
              "#d8576b"
             ],
             [
              0.6666666666666666,
              "#ed7953"
             ],
             [
              0.7777777777777778,
              "#fb9f3a"
             ],
             [
              0.8888888888888888,
              "#fdca26"
             ],
             [
              1,
              "#f0f921"
             ]
            ],
            "type": "contour"
           }
          ],
          "contourcarpet": [
           {
            "colorbar": {
             "outlinewidth": 0,
             "ticks": ""
            },
            "type": "contourcarpet"
           }
          ],
          "heatmap": [
           {
            "colorbar": {
             "outlinewidth": 0,
             "ticks": ""
            },
            "colorscale": [
             [
              0,
              "#0d0887"
             ],
             [
              0.1111111111111111,
              "#46039f"
             ],
             [
              0.2222222222222222,
              "#7201a8"
             ],
             [
              0.3333333333333333,
              "#9c179e"
             ],
             [
              0.4444444444444444,
              "#bd3786"
             ],
             [
              0.5555555555555556,
              "#d8576b"
             ],
             [
              0.6666666666666666,
              "#ed7953"
             ],
             [
              0.7777777777777778,
              "#fb9f3a"
             ],
             [
              0.8888888888888888,
              "#fdca26"
             ],
             [
              1,
              "#f0f921"
             ]
            ],
            "type": "heatmap"
           }
          ],
          "heatmapgl": [
           {
            "colorbar": {
             "outlinewidth": 0,
             "ticks": ""
            },
            "colorscale": [
             [
              0,
              "#0d0887"
             ],
             [
              0.1111111111111111,
              "#46039f"
             ],
             [
              0.2222222222222222,
              "#7201a8"
             ],
             [
              0.3333333333333333,
              "#9c179e"
             ],
             [
              0.4444444444444444,
              "#bd3786"
             ],
             [
              0.5555555555555556,
              "#d8576b"
             ],
             [
              0.6666666666666666,
              "#ed7953"
             ],
             [
              0.7777777777777778,
              "#fb9f3a"
             ],
             [
              0.8888888888888888,
              "#fdca26"
             ],
             [
              1,
              "#f0f921"
             ]
            ],
            "type": "heatmapgl"
           }
          ],
          "histogram": [
           {
            "marker": {
             "pattern": {
              "fillmode": "overlay",
              "size": 10,
              "solidity": 0.2
             }
            },
            "type": "histogram"
           }
          ],
          "histogram2d": [
           {
            "colorbar": {
             "outlinewidth": 0,
             "ticks": ""
            },
            "colorscale": [
             [
              0,
              "#0d0887"
             ],
             [
              0.1111111111111111,
              "#46039f"
             ],
             [
              0.2222222222222222,
              "#7201a8"
             ],
             [
              0.3333333333333333,
              "#9c179e"
             ],
             [
              0.4444444444444444,
              "#bd3786"
             ],
             [
              0.5555555555555556,
              "#d8576b"
             ],
             [
              0.6666666666666666,
              "#ed7953"
             ],
             [
              0.7777777777777778,
              "#fb9f3a"
             ],
             [
              0.8888888888888888,
              "#fdca26"
             ],
             [
              1,
              "#f0f921"
             ]
            ],
            "type": "histogram2d"
           }
          ],
          "histogram2dcontour": [
           {
            "colorbar": {
             "outlinewidth": 0,
             "ticks": ""
            },
            "colorscale": [
             [
              0,
              "#0d0887"
             ],
             [
              0.1111111111111111,
              "#46039f"
             ],
             [
              0.2222222222222222,
              "#7201a8"
             ],
             [
              0.3333333333333333,
              "#9c179e"
             ],
             [
              0.4444444444444444,
              "#bd3786"
             ],
             [
              0.5555555555555556,
              "#d8576b"
             ],
             [
              0.6666666666666666,
              "#ed7953"
             ],
             [
              0.7777777777777778,
              "#fb9f3a"
             ],
             [
              0.8888888888888888,
              "#fdca26"
             ],
             [
              1,
              "#f0f921"
             ]
            ],
            "type": "histogram2dcontour"
           }
          ],
          "mesh3d": [
           {
            "colorbar": {
             "outlinewidth": 0,
             "ticks": ""
            },
            "type": "mesh3d"
           }
          ],
          "parcoords": [
           {
            "line": {
             "colorbar": {
              "outlinewidth": 0,
              "ticks": ""
             }
            },
            "type": "parcoords"
           }
          ],
          "pie": [
           {
            "automargin": true,
            "type": "pie"
           }
          ],
          "scatter": [
           {
            "fillpattern": {
             "fillmode": "overlay",
             "size": 10,
             "solidity": 0.2
            },
            "type": "scatter"
           }
          ],
          "scatter3d": [
           {
            "line": {
             "colorbar": {
              "outlinewidth": 0,
              "ticks": ""
             }
            },
            "marker": {
             "colorbar": {
              "outlinewidth": 0,
              "ticks": ""
             }
            },
            "type": "scatter3d"
           }
          ],
          "scattercarpet": [
           {
            "marker": {
             "colorbar": {
              "outlinewidth": 0,
              "ticks": ""
             }
            },
            "type": "scattercarpet"
           }
          ],
          "scattergeo": [
           {
            "marker": {
             "colorbar": {
              "outlinewidth": 0,
              "ticks": ""
             }
            },
            "type": "scattergeo"
           }
          ],
          "scattergl": [
           {
            "marker": {
             "colorbar": {
              "outlinewidth": 0,
              "ticks": ""
             }
            },
            "type": "scattergl"
           }
          ],
          "scattermapbox": [
           {
            "marker": {
             "colorbar": {
              "outlinewidth": 0,
              "ticks": ""
             }
            },
            "type": "scattermapbox"
           }
          ],
          "scatterpolar": [
           {
            "marker": {
             "colorbar": {
              "outlinewidth": 0,
              "ticks": ""
             }
            },
            "type": "scatterpolar"
           }
          ],
          "scatterpolargl": [
           {
            "marker": {
             "colorbar": {
              "outlinewidth": 0,
              "ticks": ""
             }
            },
            "type": "scatterpolargl"
           }
          ],
          "scatterternary": [
           {
            "marker": {
             "colorbar": {
              "outlinewidth": 0,
              "ticks": ""
             }
            },
            "type": "scatterternary"
           }
          ],
          "surface": [
           {
            "colorbar": {
             "outlinewidth": 0,
             "ticks": ""
            },
            "colorscale": [
             [
              0,
              "#0d0887"
             ],
             [
              0.1111111111111111,
              "#46039f"
             ],
             [
              0.2222222222222222,
              "#7201a8"
             ],
             [
              0.3333333333333333,
              "#9c179e"
             ],
             [
              0.4444444444444444,
              "#bd3786"
             ],
             [
              0.5555555555555556,
              "#d8576b"
             ],
             [
              0.6666666666666666,
              "#ed7953"
             ],
             [
              0.7777777777777778,
              "#fb9f3a"
             ],
             [
              0.8888888888888888,
              "#fdca26"
             ],
             [
              1,
              "#f0f921"
             ]
            ],
            "type": "surface"
           }
          ],
          "table": [
           {
            "cells": {
             "fill": {
              "color": "#EBF0F8"
             },
             "line": {
              "color": "white"
             }
            },
            "header": {
             "fill": {
              "color": "#C8D4E3"
             },
             "line": {
              "color": "white"
             }
            },
            "type": "table"
           }
          ]
         },
         "layout": {
          "annotationdefaults": {
           "arrowcolor": "#2a3f5f",
           "arrowhead": 0,
           "arrowwidth": 1
          },
          "autotypenumbers": "strict",
          "coloraxis": {
           "colorbar": {
            "outlinewidth": 0,
            "ticks": ""
           }
          },
          "colorscale": {
           "diverging": [
            [
             0,
             "#8e0152"
            ],
            [
             0.1,
             "#c51b7d"
            ],
            [
             0.2,
             "#de77ae"
            ],
            [
             0.3,
             "#f1b6da"
            ],
            [
             0.4,
             "#fde0ef"
            ],
            [
             0.5,
             "#f7f7f7"
            ],
            [
             0.6,
             "#e6f5d0"
            ],
            [
             0.7,
             "#b8e186"
            ],
            [
             0.8,
             "#7fbc41"
            ],
            [
             0.9,
             "#4d9221"
            ],
            [
             1,
             "#276419"
            ]
           ],
           "sequential": [
            [
             0,
             "#0d0887"
            ],
            [
             0.1111111111111111,
             "#46039f"
            ],
            [
             0.2222222222222222,
             "#7201a8"
            ],
            [
             0.3333333333333333,
             "#9c179e"
            ],
            [
             0.4444444444444444,
             "#bd3786"
            ],
            [
             0.5555555555555556,
             "#d8576b"
            ],
            [
             0.6666666666666666,
             "#ed7953"
            ],
            [
             0.7777777777777778,
             "#fb9f3a"
            ],
            [
             0.8888888888888888,
             "#fdca26"
            ],
            [
             1,
             "#f0f921"
            ]
           ],
           "sequentialminus": [
            [
             0,
             "#0d0887"
            ],
            [
             0.1111111111111111,
             "#46039f"
            ],
            [
             0.2222222222222222,
             "#7201a8"
            ],
            [
             0.3333333333333333,
             "#9c179e"
            ],
            [
             0.4444444444444444,
             "#bd3786"
            ],
            [
             0.5555555555555556,
             "#d8576b"
            ],
            [
             0.6666666666666666,
             "#ed7953"
            ],
            [
             0.7777777777777778,
             "#fb9f3a"
            ],
            [
             0.8888888888888888,
             "#fdca26"
            ],
            [
             1,
             "#f0f921"
            ]
           ]
          },
          "colorway": [
           "#636efa",
           "#EF553B",
           "#00cc96",
           "#ab63fa",
           "#FFA15A",
           "#19d3f3",
           "#FF6692",
           "#B6E880",
           "#FF97FF",
           "#FECB52"
          ],
          "font": {
           "color": "#2a3f5f"
          },
          "geo": {
           "bgcolor": "white",
           "lakecolor": "white",
           "landcolor": "#E5ECF6",
           "showlakes": true,
           "showland": true,
           "subunitcolor": "white"
          },
          "hoverlabel": {
           "align": "left"
          },
          "hovermode": "closest",
          "mapbox": {
           "style": "light"
          },
          "paper_bgcolor": "white",
          "plot_bgcolor": "#E5ECF6",
          "polar": {
           "angularaxis": {
            "gridcolor": "white",
            "linecolor": "white",
            "ticks": ""
           },
           "bgcolor": "#E5ECF6",
           "radialaxis": {
            "gridcolor": "white",
            "linecolor": "white",
            "ticks": ""
           }
          },
          "scene": {
           "xaxis": {
            "backgroundcolor": "#E5ECF6",
            "gridcolor": "white",
            "gridwidth": 2,
            "linecolor": "white",
            "showbackground": true,
            "ticks": "",
            "zerolinecolor": "white"
           },
           "yaxis": {
            "backgroundcolor": "#E5ECF6",
            "gridcolor": "white",
            "gridwidth": 2,
            "linecolor": "white",
            "showbackground": true,
            "ticks": "",
            "zerolinecolor": "white"
           },
           "zaxis": {
            "backgroundcolor": "#E5ECF6",
            "gridcolor": "white",
            "gridwidth": 2,
            "linecolor": "white",
            "showbackground": true,
            "ticks": "",
            "zerolinecolor": "white"
           }
          },
          "shapedefaults": {
           "line": {
            "color": "#2a3f5f"
           }
          },
          "ternary": {
           "aaxis": {
            "gridcolor": "white",
            "linecolor": "white",
            "ticks": ""
           },
           "baxis": {
            "gridcolor": "white",
            "linecolor": "white",
            "ticks": ""
           },
           "bgcolor": "#E5ECF6",
           "caxis": {
            "gridcolor": "white",
            "linecolor": "white",
            "ticks": ""
           }
          },
          "title": {
           "x": 0.05
          },
          "xaxis": {
           "automargin": true,
           "gridcolor": "white",
           "linecolor": "white",
           "ticks": "",
           "title": {
            "standoff": 15
           },
           "zerolinecolor": "white",
           "zerolinewidth": 2
          },
          "yaxis": {
           "automargin": true,
           "gridcolor": "white",
           "linecolor": "white",
           "ticks": "",
           "title": {
            "standoff": 15
           },
           "zerolinecolor": "white",
           "zerolinewidth": 2
          }
         }
        },
        "title": {
         "text": "GABS 2023-24 (Count vectorised, PCA reduction to 2-dim)"
        },
        "xaxis": {
         "anchor": "y",
         "domain": [
          0,
          1
         ],
         "title": {
          "text": "0"
         }
        },
        "yaxis": {
         "anchor": "x",
         "domain": [
          0,
          1
         ],
         "title": {
          "text": "1"
         }
        }
       }
      }
     },
     "metadata": {},
     "output_type": "display_data"
    }
   ],
   "source": [
    "# TF-IDF vectorisation on description to find most unique beers?\n",
    "X_count = CountVectorizer().fit_transform([re.sub(r'[\\s]+', ' ', re.sub(r'[\\W]', ' ', x)).upper().strip() for x in df.words])\n",
    "\n",
    "# Plot some clusters maybe?\n",
    "pca_arr_cnt_all = PCA(n_components=2).fit_transform(np.asarray(X_count.todense()))\n",
    "print(pca_arr_cnt_all.shape)\n",
    "\n",
    "pca_cnt_df = pd.DataFrame(pca_arr_cnt_all).reset_index(drop=True).set_index(df.index)\n",
    "pca_cnt_df['Section'] = df['section']\n",
    "pca_cnt_df['Number'] = [x[0] for x in df.index]\n",
    "pca_cnt_df['Beer'] = df['name']\n",
    "pca_cnt_df['Brewery'] = df['brewery']\n",
    "pca_cnt_df['Style'] = df['style']\n",
    "pca_cnt_df['Year'] = [x[1] for x in df.index]\n",
    "\n",
    "fig = px.scatter(pca_cnt_df,\n",
    "                 x=0,\n",
    "                 y=1,\n",
    "                 color=\"Year\",\n",
    "                 hover_data=[\"Beer\", \"Section\", \"Number\", \"Style\"],\n",
    "                 title=\"GABS 2023-24 (Count vectorised, PCA reduction to 2-dim)\"\n",
    "                )\n",
    "fig.show()"
   ]
  },
  {
   "cell_type": "code",
   "execution_count": 119,
   "metadata": {},
   "outputs": [],
   "source": [
    "# Go back to tf-idf\n",
    "\n",
    "# Compute similarity\n",
    "beer_tfidf_cos_sim = cosine_similarity(X_tfidf)\n",
    "np.fill_diagonal(beer_tfidf_cos_sim, 0)"
   ]
  },
  {
   "cell_type": "code",
   "execution_count": 120,
   "metadata": {},
   "outputs": [
    {
     "data": {
      "text/plain": [
       "array([[0.        , 0.02169606, 0.01263583, ..., 0.01737867, 0.        ,\n",
       "        0.00538614],\n",
       "       [0.02169606, 0.        , 0.0063801 , ..., 0.04891608, 0.08699579,\n",
       "        0.10105386],\n",
       "       [0.01263583, 0.0063801 , 0.        , ..., 0.02631691, 0.01960832,\n",
       "        0.01720581],\n",
       "       ...,\n",
       "       [0.01737867, 0.04891608, 0.02631691, ..., 0.        , 0.0798091 ,\n",
       "        0.05958983],\n",
       "       [0.        , 0.08699579, 0.01960832, ..., 0.0798091 , 0.        ,\n",
       "        0.25689323],\n",
       "       [0.00538614, 0.10105386, 0.01720581, ..., 0.05958983, 0.25689323,\n",
       "        0.        ]])"
      ]
     },
     "execution_count": 120,
     "metadata": {},
     "output_type": "execute_result"
    }
   ],
   "source": [
    "beer_tfidf_cos_sim"
   ]
  },
  {
   "cell_type": "code",
   "execution_count": 122,
   "metadata": {},
   "outputs": [
    {
     "data": {
      "text/plain": [
       "section                                                    6\n",
       "brewery                                     Hiker Brewing Co\n",
       "name                                           Hold the Pork\n",
       "style                                              Specialty\n",
       "desc       Infused with smoked pineapple and szechuan pep...\n",
       "words      HOLD THE PORK SPECIALTY INFUSED WITH SMOKED PI...\n",
       "Name: (109.0, 2023), dtype: object"
      ]
     },
     "metadata": {},
     "output_type": "display_data"
    },
    {
     "data": {
      "text/html": [
       "<div>\n",
       "<style scoped>\n",
       "    .dataframe tbody tr th:only-of-type {\n",
       "        vertical-align: middle;\n",
       "    }\n",
       "\n",
       "    .dataframe tbody tr th {\n",
       "        vertical-align: top;\n",
       "    }\n",
       "\n",
       "    .dataframe thead th {\n",
       "        text-align: right;\n",
       "    }\n",
       "</style>\n",
       "<table border=\"1\" class=\"dataframe\">\n",
       "  <thead>\n",
       "    <tr style=\"text-align: right;\">\n",
       "      <th></th>\n",
       "      <th></th>\n",
       "      <th>section</th>\n",
       "      <th>brewery</th>\n",
       "      <th>name</th>\n",
       "      <th>style</th>\n",
       "      <th>desc</th>\n",
       "      <th>words</th>\n",
       "    </tr>\n",
       "    <tr>\n",
       "      <th>num</th>\n",
       "      <th>year</th>\n",
       "      <th></th>\n",
       "      <th></th>\n",
       "      <th></th>\n",
       "      <th></th>\n",
       "      <th></th>\n",
       "      <th></th>\n",
       "    </tr>\n",
       "  </thead>\n",
       "  <tbody>\n",
       "    <tr>\n",
       "      <th>23.0</th>\n",
       "      <th>2024</th>\n",
       "      <td>2</td>\n",
       "      <td>Precinct Brewing</td>\n",
       "      <td>Tarte Noir</td>\n",
       "      <td>Kettle Sour</td>\n",
       "      <td>Tarte Noir - a black kettle-soured ale full of...</td>\n",
       "      <td>TARTE NOIR KETTLE SOUR TARTE NOIR - A BLACK KE...</td>\n",
       "    </tr>\n",
       "    <tr>\n",
       "      <th>67.0</th>\n",
       "      <th>2023</th>\n",
       "      <td>4</td>\n",
       "      <td>Shark Island Brewing Co</td>\n",
       "      <td>Life Can Be Sweet &amp; Sour</td>\n",
       "      <td>Saison</td>\n",
       "      <td>A zesty Saison infused with Cinnamon and Pinea...</td>\n",
       "      <td>LIFE CAN BE SWEET &amp; SOUR SAISON A ZESTY SAISON...</td>\n",
       "    </tr>\n",
       "    <tr>\n",
       "      <th>17.0</th>\n",
       "      <th>2024</th>\n",
       "      <td>1</td>\n",
       "      <td>Cavalier Brewing</td>\n",
       "      <td>Smoke Rings</td>\n",
       "      <td>Kettle Sour</td>\n",
       "      <td>Inspired by your childhood christmases spent a...</td>\n",
       "      <td>SMOKE RINGS KETTLE SOUR INSPIRED BY YOUR CHILD...</td>\n",
       "    </tr>\n",
       "    <tr>\n",
       "      <th>81.0</th>\n",
       "      <th>2024</th>\n",
       "      <td>5</td>\n",
       "      <td>Morrison Brewery</td>\n",
       "      <td>Smoked Kelp Stout</td>\n",
       "      <td>Smoked Beer (non Rauchbier)</td>\n",
       "      <td>Peat Smoked Kelp Imperial Stout, aged in Islay...</td>\n",
       "      <td>SMOKED KELP STOUT SMOKED BEER (NON RAUCHBIER) ...</td>\n",
       "    </tr>\n",
       "    <tr>\n",
       "      <th>15.0</th>\n",
       "      <th>2024</th>\n",
       "      <td>1</td>\n",
       "      <td>Molly Rose Brewing</td>\n",
       "      <td>Pepper, Pepper, Pepper</td>\n",
       "      <td>American IPA</td>\n",
       "      <td>Using vacuum distillation, we capture the esse...</td>\n",
       "      <td>PEPPER, PEPPER, PEPPER AMERICAN IPA USING VACU...</td>\n",
       "    </tr>\n",
       "  </tbody>\n",
       "</table>\n",
       "</div>"
      ],
      "text/plain": [
       "           section                  brewery                      name  \\\n",
       "num  year                                                               \n",
       "23.0 2024        2         Precinct Brewing                Tarte Noir   \n",
       "67.0 2023        4  Shark Island Brewing Co  Life Can Be Sweet & Sour   \n",
       "17.0 2024        1         Cavalier Brewing               Smoke Rings   \n",
       "81.0 2024        5         Morrison Brewery         Smoked Kelp Stout   \n",
       "15.0 2024        1       Molly Rose Brewing    Pepper, Pepper, Pepper   \n",
       "\n",
       "                                 style  \\\n",
       "num  year                                \n",
       "23.0 2024                  Kettle Sour   \n",
       "67.0 2023                       Saison   \n",
       "17.0 2024                  Kettle Sour   \n",
       "81.0 2024  Smoked Beer (non Rauchbier)   \n",
       "15.0 2024                 American IPA   \n",
       "\n",
       "                                                        desc  \\\n",
       "num  year                                                      \n",
       "23.0 2024  Tarte Noir - a black kettle-soured ale full of...   \n",
       "67.0 2023  A zesty Saison infused with Cinnamon and Pinea...   \n",
       "17.0 2024  Inspired by your childhood christmases spent a...   \n",
       "81.0 2024  Peat Smoked Kelp Imperial Stout, aged in Islay...   \n",
       "15.0 2024  Using vacuum distillation, we capture the esse...   \n",
       "\n",
       "                                                       words  \n",
       "num  year                                                     \n",
       "23.0 2024  TARTE NOIR KETTLE SOUR TARTE NOIR - A BLACK KE...  \n",
       "67.0 2023  LIFE CAN BE SWEET & SOUR SAISON A ZESTY SAISON...  \n",
       "17.0 2024  SMOKE RINGS KETTLE SOUR INSPIRED BY YOUR CHILD...  \n",
       "81.0 2024  SMOKED KELP STOUT SMOKED BEER (NON RAUCHBIER) ...  \n",
       "15.0 2024  PEPPER, PEPPER, PEPPER AMERICAN IPA USING VACU...  "
      ]
     },
     "metadata": {},
     "output_type": "display_data"
    }
   ],
   "source": [
    "test_num = 108\n",
    "display(df.iloc[test_num])\n",
    "display(df.iloc[np.argsort(beer_tfidf_cos_sim[test_num])[-num_recs:]])"
   ]
  },
  {
   "cell_type": "code",
   "execution_count": 123,
   "metadata": {},
   "outputs": [
    {
     "data": {
      "text/plain": [
       "198"
      ]
     },
     "execution_count": 123,
     "metadata": {},
     "output_type": "execute_result"
    }
   ],
   "source": [
    "np.argsort(beer_tfidf_cos_sim[test_num])[-2]"
   ]
  },
  {
   "cell_type": "code",
   "execution_count": 149,
   "metadata": {},
   "outputs": [],
   "source": [
    "def get_same_year_recs(ind, num_recs):\n",
    "    base_year = df.iloc[ind].name[1]\n",
    "    recs = []\n",
    "    rec_inds = np.argsort(beer_tfidf_cos_sim[ind])\n",
    "    i = 1\n",
    "    while len(recs) < num_recs:\n",
    "        rec_ind = rec_inds[-i]\n",
    "        rec_df = df.iloc[rec_ind]\n",
    "        if rec_df.name[1] == base_year:\n",
    "            recs.append(rec_ind)\n",
    "        i += 1\n",
    "\n",
    "    return recs\n",
    "\n",
    "def get_beer_ind(num, year):\n",
    "    df_entry = df.query(f\"num=={int(num)}&year=='{int(year)}'\")\n",
    "    return df.index.get_loc(df_entry.index[0])"
   ]
  },
  {
   "cell_type": "code",
   "execution_count": 152,
   "metadata": {},
   "outputs": [
    {
     "data": {
      "text/plain": [
       "section                                                    6\n",
       "brewery                                     Hiker Brewing Co\n",
       "name                                           Hold the Pork\n",
       "style                                              Specialty\n",
       "desc       Infused with smoked pineapple and szechuan pep...\n",
       "words      HOLD THE PORK SPECIALTY INFUSED WITH SMOKED PI...\n",
       "Name: (109.0, 2023), dtype: object"
      ]
     },
     "metadata": {},
     "output_type": "display_data"
    },
    {
     "data": {
      "text/html": [
       "<div>\n",
       "<style scoped>\n",
       "    .dataframe tbody tr th:only-of-type {\n",
       "        vertical-align: middle;\n",
       "    }\n",
       "\n",
       "    .dataframe tbody tr th {\n",
       "        vertical-align: top;\n",
       "    }\n",
       "\n",
       "    .dataframe thead th {\n",
       "        text-align: right;\n",
       "    }\n",
       "</style>\n",
       "<table border=\"1\" class=\"dataframe\">\n",
       "  <thead>\n",
       "    <tr style=\"text-align: right;\">\n",
       "      <th></th>\n",
       "      <th></th>\n",
       "      <th>section</th>\n",
       "      <th>brewery</th>\n",
       "      <th>name</th>\n",
       "      <th>style</th>\n",
       "      <th>desc</th>\n",
       "      <th>words</th>\n",
       "    </tr>\n",
       "    <tr>\n",
       "      <th>num</th>\n",
       "      <th>year</th>\n",
       "      <th></th>\n",
       "      <th></th>\n",
       "      <th></th>\n",
       "      <th></th>\n",
       "      <th></th>\n",
       "      <th></th>\n",
       "    </tr>\n",
       "  </thead>\n",
       "  <tbody>\n",
       "    <tr>\n",
       "      <th>67.0</th>\n",
       "      <th>2023</th>\n",
       "      <td>4</td>\n",
       "      <td>Shark Island Brewing Co</td>\n",
       "      <td>Life Can Be Sweet &amp; Sour</td>\n",
       "      <td>Saison</td>\n",
       "      <td>A zesty Saison infused with Cinnamon and Pinea...</td>\n",
       "      <td>LIFE CAN BE SWEET &amp; SOUR SAISON A ZESTY SAISON...</td>\n",
       "    </tr>\n",
       "    <tr>\n",
       "      <th>62.0</th>\n",
       "      <th>2023</th>\n",
       "      <td>4</td>\n",
       "      <td>Valley Hops Brewing</td>\n",
       "      <td>The Nugget</td>\n",
       "      <td>IPA Wild</td>\n",
       "      <td>Ripe pineapple, peach and citrus with the righ...</td>\n",
       "      <td>THE NUGGET IPA WILD RIPE PINEAPPLE, PEACH AND ...</td>\n",
       "    </tr>\n",
       "    <tr>\n",
       "      <th>1.0</th>\n",
       "      <th>2023</th>\n",
       "      <td>1</td>\n",
       "      <td>Dad &amp; Dave</td>\n",
       "      <td>Boba Beer</td>\n",
       "      <td>Sour</td>\n",
       "      <td>Tart Grapefruit Beliner Weisse infused with Ja...</td>\n",
       "      <td>BOBA BEER SOUR TART GRAPEFRUIT BELINER WEISSE ...</td>\n",
       "    </tr>\n",
       "    <tr>\n",
       "      <th>120.0</th>\n",
       "      <th>2023</th>\n",
       "      <td>6</td>\n",
       "      <td>Flying Brick Cider Co</td>\n",
       "      <td>Splicer</td>\n",
       "      <td>Cider</td>\n",
       "      <td>Passionfruit, Pineapple &amp; Lime.</td>\n",
       "      <td>SPLICER CIDER PASSIONFRUIT, PINEAPPLE &amp; LIME.</td>\n",
       "    </tr>\n",
       "    <tr>\n",
       "      <th>118.0</th>\n",
       "      <th>2023</th>\n",
       "      <td>6</td>\n",
       "      <td>Spreyton Cider Co</td>\n",
       "      <td>Sour Pineapple Sour</td>\n",
       "      <td>Cider</td>\n",
       "      <td>Sour drops and Warheads!</td>\n",
       "      <td>SOUR PINEAPPLE SOUR CIDER SOUR DROPS AND WARHE...</td>\n",
       "    </tr>\n",
       "  </tbody>\n",
       "</table>\n",
       "</div>"
      ],
      "text/plain": [
       "            section                  brewery                      name  \\\n",
       "num   year                                                               \n",
       "67.0  2023        4  Shark Island Brewing Co  Life Can Be Sweet & Sour   \n",
       "62.0  2023        4      Valley Hops Brewing                The Nugget   \n",
       "1.0   2023        1               Dad & Dave                 Boba Beer   \n",
       "120.0 2023        6    Flying Brick Cider Co                   Splicer   \n",
       "118.0 2023        6        Spreyton Cider Co       Sour Pineapple Sour   \n",
       "\n",
       "               style                                               desc  \\\n",
       "num   year                                                                \n",
       "67.0  2023    Saison  A zesty Saison infused with Cinnamon and Pinea...   \n",
       "62.0  2023  IPA Wild  Ripe pineapple, peach and citrus with the righ...   \n",
       "1.0   2023      Sour  Tart Grapefruit Beliner Weisse infused with Ja...   \n",
       "120.0 2023     Cider                    Passionfruit, Pineapple & Lime.   \n",
       "118.0 2023     Cider                           Sour drops and Warheads!   \n",
       "\n",
       "                                                        words  \n",
       "num   year                                                     \n",
       "67.0  2023  LIFE CAN BE SWEET & SOUR SAISON A ZESTY SAISON...  \n",
       "62.0  2023  THE NUGGET IPA WILD RIPE PINEAPPLE, PEACH AND ...  \n",
       "1.0   2023  BOBA BEER SOUR TART GRAPEFRUIT BELINER WEISSE ...  \n",
       "120.0 2023      SPLICER CIDER PASSIONFRUIT, PINEAPPLE & LIME.  \n",
       "118.0 2023  SOUR PINEAPPLE SOUR CIDER SOUR DROPS AND WARHE...  "
      ]
     },
     "metadata": {},
     "output_type": "display_data"
    }
   ],
   "source": [
    "test_num = 108\n",
    "num_recs = 5\n",
    "\n",
    "display(df.iloc[test_num])\n",
    "display(df.iloc[get_same_year_recs(test_num, num_recs)])"
   ]
  },
  {
   "cell_type": "code",
   "execution_count": 155,
   "metadata": {},
   "outputs": [
    {
     "data": {
      "text/plain": [
       "section                                                    1\n",
       "brewery                                Six String Brewing Co\n",
       "name                                        Spaghetti Saison\n",
       "style                                   Saison/Farmhouse Ale\n",
       "desc       Basil & Peppercorn Saison Bright and pungent, ...\n",
       "words      SPAGHETTI SAISON SAISON/FARMHOUSE ALE BASIL & ...\n",
       "Name: (3.0, 2024), dtype: object"
      ]
     },
     "metadata": {},
     "output_type": "display_data"
    },
    {
     "data": {
      "text/html": [
       "<div>\n",
       "<style scoped>\n",
       "    .dataframe tbody tr th:only-of-type {\n",
       "        vertical-align: middle;\n",
       "    }\n",
       "\n",
       "    .dataframe tbody tr th {\n",
       "        vertical-align: top;\n",
       "    }\n",
       "\n",
       "    .dataframe thead th {\n",
       "        text-align: right;\n",
       "    }\n",
       "</style>\n",
       "<table border=\"1\" class=\"dataframe\">\n",
       "  <thead>\n",
       "    <tr style=\"text-align: right;\">\n",
       "      <th></th>\n",
       "      <th></th>\n",
       "      <th>section</th>\n",
       "      <th>brewery</th>\n",
       "      <th>name</th>\n",
       "      <th>style</th>\n",
       "      <th>desc</th>\n",
       "      <th>words</th>\n",
       "    </tr>\n",
       "    <tr>\n",
       "      <th>num</th>\n",
       "      <th>year</th>\n",
       "      <th></th>\n",
       "      <th></th>\n",
       "      <th></th>\n",
       "      <th></th>\n",
       "      <th></th>\n",
       "      <th></th>\n",
       "    </tr>\n",
       "  </thead>\n",
       "  <tbody>\n",
       "    <tr>\n",
       "      <th>50.0</th>\n",
       "      <th>2024</th>\n",
       "      <td>3</td>\n",
       "      <td>Beereratne Brewing</td>\n",
       "      <td>Sparkling Saison Noir</td>\n",
       "      <td>Saison/Farmhouse Ale</td>\n",
       "      <td>We wanted to make a beer that celebrated where...</td>\n",
       "      <td>SPARKLING SAISON NOIR SAISON/FARMHOUSE ALE WE ...</td>\n",
       "    </tr>\n",
       "    <tr>\n",
       "      <th>105.0</th>\n",
       "      <th>2024</th>\n",
       "      <td>6</td>\n",
       "      <td>Impi Brewers</td>\n",
       "      <td>Black Mamba - Imperial Black Saison</td>\n",
       "      <td>Saison/Farmhouse Ale</td>\n",
       "      <td>Rich black in colour like the mouth of a black...</td>\n",
       "      <td>BLACK MAMBA - IMPERIAL BLACK SAISON SAISON/FAR...</td>\n",
       "    </tr>\n",
       "    <tr>\n",
       "      <th>15.0</th>\n",
       "      <th>2024</th>\n",
       "      <td>1</td>\n",
       "      <td>Molly Rose Brewing</td>\n",
       "      <td>Pepper, Pepper, Pepper</td>\n",
       "      <td>American IPA</td>\n",
       "      <td>Using vacuum distillation, we capture the esse...</td>\n",
       "      <td>PEPPER, PEPPER, PEPPER AMERICAN IPA USING VACU...</td>\n",
       "    </tr>\n",
       "    <tr>\n",
       "      <th>112.0</th>\n",
       "      <th>2024</th>\n",
       "      <td>6</td>\n",
       "      <td>Stoic Brewing</td>\n",
       "      <td>Bacon Me Crazy</td>\n",
       "      <td>American IPA</td>\n",
       "      <td>A bold brew where Smoky bacon aroma dances fro...</td>\n",
       "      <td>BACON ME CRAZY AMERICAN IPA A BOLD BREW WHERE ...</td>\n",
       "    </tr>\n",
       "    <tr>\n",
       "      <th>101.0</th>\n",
       "      <th>2024</th>\n",
       "      <td>6</td>\n",
       "      <td>Lady Burra Brewhouse</td>\n",
       "      <td>Strawberry Champagne Beer</td>\n",
       "      <td>Specialty Beer</td>\n",
       "      <td>Is it wine or beer? We dare not confine such u...</td>\n",
       "      <td>STRAWBERRY CHAMPAGNE BEER SPECIALTY BEER IS IT...</td>\n",
       "    </tr>\n",
       "  </tbody>\n",
       "</table>\n",
       "</div>"
      ],
      "text/plain": [
       "            section               brewery  \\\n",
       "num   year                                  \n",
       "50.0  2024        3    Beereratne Brewing   \n",
       "105.0 2024        6          Impi Brewers   \n",
       "15.0  2024        1    Molly Rose Brewing   \n",
       "112.0 2024        6         Stoic Brewing   \n",
       "101.0 2024        6  Lady Burra Brewhouse   \n",
       "\n",
       "                                           name                 style  \\\n",
       "num   year                                                              \n",
       "50.0  2024                Sparkling Saison Noir  Saison/Farmhouse Ale   \n",
       "105.0 2024  Black Mamba - Imperial Black Saison  Saison/Farmhouse Ale   \n",
       "15.0  2024               Pepper, Pepper, Pepper          American IPA   \n",
       "112.0 2024                       Bacon Me Crazy          American IPA   \n",
       "101.0 2024            Strawberry Champagne Beer        Specialty Beer   \n",
       "\n",
       "                                                         desc  \\\n",
       "num   year                                                      \n",
       "50.0  2024  We wanted to make a beer that celebrated where...   \n",
       "105.0 2024  Rich black in colour like the mouth of a black...   \n",
       "15.0  2024  Using vacuum distillation, we capture the esse...   \n",
       "112.0 2024  A bold brew where Smoky bacon aroma dances fro...   \n",
       "101.0 2024  Is it wine or beer? We dare not confine such u...   \n",
       "\n",
       "                                                        words  \n",
       "num   year                                                     \n",
       "50.0  2024  SPARKLING SAISON NOIR SAISON/FARMHOUSE ALE WE ...  \n",
       "105.0 2024  BLACK MAMBA - IMPERIAL BLACK SAISON SAISON/FAR...  \n",
       "15.0  2024  PEPPER, PEPPER, PEPPER AMERICAN IPA USING VACU...  \n",
       "112.0 2024  BACON ME CRAZY AMERICAN IPA A BOLD BREW WHERE ...  \n",
       "101.0 2024  STRAWBERRY CHAMPAGNE BEER SPECIALTY BEER IS IT...  "
      ]
     },
     "metadata": {},
     "output_type": "display_data"
    }
   ],
   "source": [
    "beer_num = 3\n",
    "year = 2024\n",
    "num_recs = 5\n",
    "\n",
    "test_num = get_beer_ind(beer_num, year)\n",
    "\n",
    "display(df.iloc[test_num])\n",
    "display(df.iloc[get_same_year_recs(test_num, num_recs)])"
   ]
  }
 ],
 "metadata": {
  "kernelspec": {
   "display_name": "beer-recommender-venv",
   "language": "python",
   "name": "python3"
  },
  "language_info": {
   "codemirror_mode": {
    "name": "ipython",
    "version": 3
   },
   "file_extension": ".py",
   "mimetype": "text/x-python",
   "name": "python",
   "nbconvert_exporter": "python",
   "pygments_lexer": "ipython3",
   "version": "3.10.11"
  }
 },
 "nbformat": 4,
 "nbformat_minor": 2
}
