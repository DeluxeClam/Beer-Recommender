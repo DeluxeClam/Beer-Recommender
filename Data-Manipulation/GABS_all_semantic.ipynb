{
 "cells": [
  {
   "cell_type": "code",
   "execution_count": 25,
   "metadata": {},
   "outputs": [],
   "source": [
    "# Preamble\n",
    "import numpy as np\n",
    "import pandas as pd\n",
    "import plotly.express as px\n",
    "import re\n",
    "import os\n",
    "from collections import Counter\n",
    "from sklearn.feature_extraction.text import TfidfVectorizer\n",
    "from sklearn.metrics.pairwise import cosine_similarity\n",
    "from sklearn.decomposition import PCA\n",
    "\n",
    "import spacy\n",
    "from thinc.api import set_gpu_allocator, require_gpu"
   ]
  },
  {
   "cell_type": "code",
   "execution_count": 26,
   "metadata": {},
   "outputs": [],
   "source": [
    "# Load in beer spreadsheet\n",
    "main_file_path = \"../\"\n",
    "\n",
    "# Load in both datasets\n",
    "df_23 = pd.read_csv(main_file_path + \"Data/GABS_2023_Festival_Beers.csv\")\n",
    "df_23['year'] = '2023' # Add year col\n",
    "\n",
    "df_24 = pd.read_csv(main_file_path + \"Data/GABS_2024_Festival_Beers.csv\")\n",
    "df_24['year'] = '2024' # Add year col\n",
    "\n",
    "# Combine into one df\n",
    "df = pd.concat([df_23.rename(columns={'Number':'num', 'Section':'section', 'Brewery':'brewery',\n",
    "                                      'Beer':'name', 'Style':'style', 'Description':'desc'}),\n",
    "                df_24\n",
    "                ]).drop(columns=['abv', 'state', 'Anticipation', 'Anticipation notes',\n",
    "                                 'Reality', 'Reality notes']).set_index(['num', 'year'])\n",
    "\n",
    "# Create a column combining all text descriptor fields\n",
    "df['words'] = [str(name).strip().upper() + ' '\n",
    "               + str(style).strip().upper() + ' '\n",
    "               + str(description).strip().upper()\n",
    "               for name, style, description\n",
    "               in zip(df['name'], df['style'], df['desc'])]"
   ]
  },
  {
   "cell_type": "code",
   "execution_count": 100,
   "metadata": {},
   "outputs": [],
   "source": [
    "# Use the GPU, with memory allocations directed via PyTorch.\n",
    "# This prevents out-of-memory errors that would otherwise occur from competing\n",
    "# memory pools.\n",
    "set_gpu_allocator(\"pytorch\")\n",
    "require_gpu(0)\n",
    "\n",
    "nlp = spacy.load(\"en_core_web_trf\")"
   ]
  },
  {
   "cell_type": "code",
   "execution_count": 101,
   "metadata": {},
   "outputs": [],
   "source": [
    "# Initialise list of embeddings\n",
    "beer_embeddings = []\n",
    "\n",
    "# Populate embeddings\n",
    "for beer in nlp.pipe(df.words):\n",
    "    tokvecs = beer._.trf_data\n",
    "    beer_embeddings.append(np.mean(tokvecs.all_outputs[0].data, axis=0))\n",
    "\n",
    "# make it into a useable thing\n",
    "beer_embeddings = np.stack(beer_embeddings)\n",
    "\n",
    "# Calculate similarity\n",
    "beer_semantic_cos_sim = cosine_similarity(beer_embeddings.get())\n",
    "np.fill_diagonal(beer_semantic_cos_sim, 0)"
   ]
  },
  {
   "cell_type": "code",
   "execution_count": 103,
   "metadata": {},
   "outputs": [
    {
     "name": "stdout",
     "output_type": "stream",
     "text": [
      "(237, 2)\n"
     ]
    },
    {
     "data": {
      "application/vnd.plotly.v1+json": {
       "config": {
        "plotlyServerURL": "https://plot.ly"
       },
       "data": [
        {
         "customdata": [
          [
           "Boba Beer",
           1,
           1,
           "Sour"
          ],
          [
           "Homestead Blackberry and Apple Pastry Sour",
           1,
           2,
           "Specialty"
          ],
          [
           "Suit Up",
           1,
           3,
           "IPA Black"
          ],
          [
           "Whiskey in the jar",
           1,
           4,
           "Wood Aged Beer"
          ],
          [
           "Marsden Neopolitan Porter",
           1,
           5,
           "Stout Tropical"
          ],
          [
           "Go! Go! Ichigo!",
           1,
           6,
           "Sour"
          ],
          [
           "Market 2023",
           1,
           7,
           "NEIPA"
          ],
          [
           "Barrel Aged Rum Double Choc Brown Ale",
           1,
           8,
           "Specialty"
          ],
          [
           "I am Weiss",
           1,
           9,
           "Wheat"
          ],
          [
           "Tim, Tam & Tom",
           1,
           10,
           "Brown"
          ],
          [
           "Molecular Bubble Tea IPA",
           1,
           11,
           "IPA Milkshake"
          ],
          [
           "Lavender Cheesecake",
           1,
           12,
           "Sour"
          ],
          [
           "SAB Lite",
           1,
           13,
           "Lager"
          ],
          [
           "Don't Go Baking My Heart'",
           1,
           14,
           "Stout"
          ],
          [
           "Cherry Maguire",
           1,
           15,
           "Sour"
          ],
          [
           "The Taverner - All Brut Low Glut",
           1,
           16,
           "IPA White"
          ],
          [
           "The Lover",
           1,
           17,
           "Stout"
          ],
          [
           "Escape with the Schwartz",
           1,
           18,
           "Lager Dark"
          ],
          [
           "OnlyFlans",
           1,
           19,
           "Sour"
          ],
          [
           "Unicorn NEIPA",
           1,
           20,
           "NEIPA"
          ],
          [
           "Calippso Juicy IPA",
           2,
           21,
           "IPA Hazy"
          ],
          [
           "Long Island Iced Tea Sour",
           2,
           22,
           "Sour"
          ],
          [
           "Upper Management",
           2,
           23,
           "IPA Red"
          ],
          [
           "Desert Lime Gimlet IPA",
           2,
           24,
           "Specialty"
          ],
          [
           "Violet Beauregarde's Blueberry Marshmallow Lactose Sour Ale",
           2,
           25,
           "Sour"
          ],
          [
           "Augustus Gloop's Choc Fudge Peanut Brittle Stout",
           2,
           26,
           "Stout"
          ],
          [
           "Red frog, Raspberry dark lager",
           2,
           27,
           "Lager Dark"
          ],
          [
           "Cherry Fruited Braggot",
           2,
           28,
           "Braggot"
          ],
          [
           "Bananarama Pina Colada",
           2,
           29,
           "Sour"
          ],
          [
           "Throwing Haze",
           2,
           30,
           "IPA Hazy"
          ],
          [
           "Sticke Coffee Kolsch",
           2,
           31,
           "Kolsch"
          ],
          [
           "Squishee",
           2,
           32,
           "Sour"
          ],
          [
           "Peanut Butter Brownie Imperial Stout",
           2,
           33,
           "Stout"
          ],
          [
           "The Beery Beer",
           2,
           34,
           "IPA"
          ],
          [
           "Munich Dunkel",
           2,
           35,
           "Dunkel"
          ],
          [
           "Throat Pour",
           2,
           36,
           "Lager"
          ],
          [
           "Black Forrest Cake Sour",
           2,
           37,
           "Sour"
          ],
          [
           "Peak Hype",
           2,
           38,
           "IPA"
          ],
          [
           "Drinkin' Donuts Imperial Jam Donut Golden Ale",
           2,
           39,
           "Experimental"
          ],
          [
           "The Snowball Effect",
           2,
           40,
           "Stout"
          ],
          [
           "Rye Rye Rye Delilah",
           3,
           41,
           "IPA Red"
          ],
          [
           "\"Grandmere's Crumble\" Rhubarb & Custard (Apple) Saison",
           3,
           42,
           "Saison"
          ],
          [
           "Can't Be A Root",
           3,
           43,
           "Lager"
          ],
          [
           "Cotton Candy Sour",
           3,
           44,
           "Sour"
          ],
          [
           "The Craft and Co. WIPA",
           3,
           45,
           "IPA"
          ],
          [
           "Waggle Buzz",
           3,
           46,
           "Braggot"
          ],
          [
           "Bogan Fuel",
           3,
           47,
           "Specialty"
          ],
          [
           "Chrome Fury",
           3,
           48,
           "Sour"
          ],
          [
           "Biscoff Ice Cream Porter",
           3,
           49,
           "Experimental"
          ],
          [
           "Ginger Nut Sparkling IPA",
           3,
           50,
           "IPA"
          ],
          [
           "Imperial Lemon Meringue Tart Sour",
           3,
           51,
           "Sour"
          ],
          [
           "Hop Quad Buns",
           3,
           52,
           "Belgian Quad"
          ],
          [
           "Mulberry Bush Imperial IPA",
           3,
           53,
           "IPA Black"
          ],
          [
           "Take 5 - Choc Caramel Peanut Butter Cup Double Milk Stout",
           3,
           54,
           "Stout"
          ],
          [
           "Salvaged Sour - Apple & Rhubarb Crumble Pastry Imperial Sour",
           3,
           55,
           "Sour"
          ],
          [
           "Bloody Mystic",
           3,
           56,
           "Wheat"
          ],
          [
           "Maple Bacon Pancake Stout",
           3,
           57,
           "Stout"
          ],
          [
           "Lush Guava Beer - Green Beacon x Vodka Cruiser Collaboration",
           3,
           58,
           "Sour"
          ],
          [
           "Elektro Sour Wormhole",
           3,
           59,
           "Sour"
          ],
          [
           "Tha Thiccness Version 2",
           3,
           60,
           "IPA"
          ],
          [
           "Carnival Sour",
           4,
           61,
           "Sour"
          ],
          [
           "The Nugget",
           4,
           62,
           "IPA Wild"
          ],
          [
           "Buck Yeah",
           4,
           63,
           "Eisbock"
          ],
          [
           "Burleigh Black Giraffe Double Shot",
           4,
           64,
           "Lager"
          ],
          [
           "Imperial White Choc & Macadamia Stout",
           4,
           65,
           "Stout"
          ],
          [
           "Weekend At Willies",
           4,
           66,
           "Sour"
          ],
          [
           "Life Can Be Sweet & Sour",
           4,
           67,
           "Saison"
          ],
          [
           "Fists of Fiori",
           4,
           68,
           "IPA"
          ],
          [
           "Barrel-Aged Raspberry Imperial Stout",
           4,
           69,
           "Stout"
          ],
          [
           "Choc Cherry Bomb",
           4,
           70,
           "Sour"
          ],
          [
           "Dayummm",
           4,
           71,
           "Schwarzbier"
          ],
          [
           "Tropo-Thiol",
           4,
           72,
           "IPA"
          ],
          [
           "G and T Gose",
           4,
           73,
           "Sour"
          ],
          [
           "Balloon Animals",
           4,
           74,
           "IPA Milkshake"
          ],
          [
           "Garth's Fave Punch Bowl",
           4,
           75,
           "Specialty"
          ],
          [
           "Mind-bottling, isn't it?",
           4,
           76,
           "Stout"
          ],
          [
           "VoVo Whip",
           4,
           77,
           "Sour"
          ],
          [
           "Mountain Sunset",
           4,
           78,
           "IPA Red"
          ],
          [
           "Mango Stormy",
           4,
           79,
           "Lager Dark"
          ],
          [
           "Barrel Aged Imperial Porter",
           4,
           80,
           "Porter"
          ],
          [
           "Brut IPA",
           5,
           81,
           "IPA"
          ],
          [
           "Smokey Bacon Balls",
           5,
           82,
           "Rauchbier"
          ],
          [
           "Almighty Asam",
           5,
           83,
           "Sour"
          ],
          [
           "Cherry Ripe Porter",
           5,
           84,
           "Porter"
          ],
          [
           "Woolshed Brewery and Vili's Family Bakery Meat Pint",
           5,
           85,
           "Specialty"
          ],
          [
           "Pumpkin of Liberty IPA",
           5,
           86,
           "IPA"
          ],
          [
           "Aztec (Pale Chocolate Lager)",
           5,
           87,
           "Lager"
          ],
          [
           "Pizza beer",
           5,
           88,
           "Sour"
          ],
          [
           "Snowy's Kolsch",
           5,
           89,
           "Kolsch"
          ],
          [
           "Hypster Latte Stout",
           5,
           90,
           "Stout"
          ],
          [
           "Fruits on Fire",
           5,
           91,
           "Sour"
          ],
          [
           "Hawke's Bob Hulk Double Hazy IPA",
           5,
           92,
           "NEIPA"
          ],
          [
           "Feedback",
           5,
           93,
           "Sour"
          ],
          [
           "MSB Chocolate Bubble Imperial Stout",
           5,
           94,
           "Stout"
          ],
          [
           "Barrel Aged Cerveza",
           5,
           95,
           "Lager"
          ],
          [
           "Living the Cream",
           5,
           96,
           "IPA"
          ],
          [
           "YO HO!",
           5,
           97,
           "Porter"
          ],
          [
           "Gulls Just Wanna Have Fun (Fish & Chip Gose)",
           5,
           98,
           "Sour"
          ],
          [
           "Soutini 2.0",
           5,
           99,
           "Stout"
          ],
          [
           "Keeping It Simple",
           5,
           100,
           "IPA"
          ],
          [
           "AWW Duck Yeah!",
           6,
           101,
           "Stout"
          ],
          [
           "THE WAY OF TEA",
           6,
           102,
           "IPA Hazy"
          ],
          [
           "No Place Like Aus",
           6,
           103,
           "IPA"
          ],
          [
           "PROPER GABS",
           6,
           104,
           "NEIPA"
          ],
          [
           "Hail Mary, Hair of the Dog",
           6,
           105,
           "Saison"
          ],
          [
           "Fiery Azzurro Pils",
           6,
           106,
           "Specialty"
          ],
          [
           "Invisible Oranges",
           6,
           107,
           "IPA Black"
          ],
          [
           "Frootie & The Blowfish",
           6,
           108,
           "Sour"
          ],
          [
           "Hold the Pork",
           6,
           109,
           "Specialty"
          ],
          [
           "Raspberry Lemonade",
           6,
           110,
           "Specialty"
          ],
          [
           "Lucky Charms Cereal Milk Stout",
           6,
           111,
           "Stout"
          ],
          [
           "Ronin - Japanese Double IPA",
           6,
           112,
           "IPA"
          ],
          [
           "Spicy Wombat",
           6,
           113,
           "Ginger"
          ],
          [
           "Cherry Nice Graf",
           6,
           114,
           "Cider"
          ],
          [
           "Pinapple Express",
           6,
           115,
           "Seltzer"
          ],
          [
           "Barrel Aged Seltzerita",
           6,
           116,
           "Seltzer"
          ],
          [
           "Apple and Black Currant Cider",
           6,
           117,
           "Cider"
          ],
          [
           "Sour Pineapple Sour",
           6,
           118,
           "Cider"
          ],
          [
           "Eddies Organic Cider - Crisp Apple",
           6,
           119,
           "Cider"
          ],
          [
           "Splicer",
           6,
           120,
           "Cider"
          ]
         ],
         "hovertemplate": "Year=2023<br>0=%{x}<br>1=%{y}<br>Beer=%{customdata[0]}<br>Section=%{customdata[1]}<br>Number=%{customdata[2]}<br>Style=%{customdata[3]}<extra></extra>",
         "legendgroup": "2023",
         "marker": {
          "color": "#636efa",
          "symbol": "circle"
         },
         "mode": "markers",
         "name": "2023",
         "orientation": "v",
         "showlegend": true,
         "type": "scatter",
         "x": [
          5.224381446838379,
          -0.923793375492096,
          1.3751481771469116,
          -0.8188830018043518,
          3.7864909172058105,
          0.6795260906219482,
          3.0855655670166016,
          3.4030964374542236,
          -1.972296118736267,
          3.429661273956299,
          4.865997791290283,
          5.980018138885498,
          4.11550235748291,
          -4.71721076965332,
          2.5409505367279053,
          1.423235297203064,
          1.3560185432434082,
          1.5902408361434937,
          5.21478796005249,
          3.5473649501800537,
          3.316840171813965,
          -0.49183863401412964,
          1.4129624366760254,
          5.857327461242676,
          6.0491485595703125,
          5.516910076141357,
          4.240801811218262,
          1.2551181316375732,
          4.355915546417236,
          1.9589582681655884,
          0.9758696556091309,
          1.1155821084976196,
          5.252839088439941,
          -2.378070592880249,
          2.3771939277648926,
          2.717461585998535,
          1.8210461139678955,
          0.4529556334018707,
          2.7138710021972656,
          -1.2804359197616577,
          8.990934371948242,
          4.050030708312988,
          -2.541027069091797,
          1.234952688217163,
          0.6186765432357788,
          0.5661443471908569,
          1.3527482748031616,
          2.675830125808716,
          1.680253267288208,
          4.912294387817383,
          5.621494293212891,
          -0.49262893199920654,
          3.0620055198669434,
          2.0919909477233887,
          0.09747108072042465,
          -0.9330854415893555,
          1.9791491031646729,
          3.511645793914795,
          -2.5464091300964355,
          -0.6956117153167725,
          -0.1950000375509262,
          0.1267206370830536,
          4.738219261169434,
          -0.5569230318069458,
          -0.9180744886398315,
          -0.28307291865348816,
          -1.7231003046035767,
          4.057307720184326,
          -0.39411869645118713,
          -1.6420050859451294,
          -0.7497217059135437,
          6.089670658111572,
          -1.2882088422775269,
          5.588876724243164,
          4.940605640411377,
          0.5275017619132996,
          1.892739176750183,
          4.318279266357422,
          4.366450309753418,
          -1.4118294715881348,
          1.2665637731552124,
          -2.6635773181915283,
          -0.3293483257293701,
          2.487722873687744,
          0.8527719974517822,
          4.0018486976623535,
          -1.1419129371643066,
          4.4980878829956055,
          1.505501389503479,
          0.7116711139678955,
          -0.04282108694314957,
          5.20180606842041,
          2.759594202041626,
          2.735553503036499,
          2.4785451889038086,
          4.837548732757568,
          -1.3264061212539673,
          -0.2058647722005844,
          0.07354788482189178,
          -5.29652214050293,
          3.124911069869995,
          0.7562571167945862,
          0.11484485119581223,
          2.068182945251465,
          1.344855546951294,
          0.7370529770851135,
          4.567237377166748,
          -4.242954254150391,
          -1.7215389013290405,
          1.0220221281051636,
          -0.579587459564209,
          5.6004438400268555,
          -2.9165353775024414,
          -1.9683862924575806,
          -1.4438985586166382,
          2.818955183029175,
          0.6166453957557678,
          -0.1130625456571579,
          0.4305504560470581,
          0.6766675710678101
         ],
         "xaxis": "x",
         "y": [
          2.1767044067382812,
          -1.813177466392517,
          2.0519051551818848,
          0.9867282509803772,
          -1.1536921262741089,
          -3.5326640605926514,
          -2.8077890872955322,
          -4.709720611572266,
          -0.3500264286994934,
          -1.539908766746521,
          3.3974108695983887,
          -1.32490873336792,
          -0.6342152953147888,
          -0.4618251621723175,
          -0.24272985756397247,
          0.6424373388290405,
          -0.06176239997148514,
          -1.4437355995178223,
          -3.0735788345336914,
          -2.1182374954223633,
          2.878270149230957,
          -0.42066672444343567,
          -0.06921738386154175,
          3.24542498588562,
          -1.2846378087997437,
          -4.071671009063721,
          -0.6295493245124817,
          -0.31970322132110596,
          -4.439945220947266,
          1.4569488763809204,
          -1.9669383764266968,
          -3.073324680328369,
          3.464876413345337,
          -0.5798940062522888,
          -1.9946905374526978,
          -3.0481929779052734,
          -0.7634804844856262,
          2.3973140716552734,
          -0.7131347060203552,
          -1.1152629852294922,
          7.8638763427734375,
          -4.377298831939697,
          0.6941688656806946,
          1.9056216478347778,
          -1.2497085332870483,
          -1.7532248497009277,
          -2.090294122695923,
          -0.7930541038513184,
          -4.797889232635498,
          3.8928256034851074,
          4.155337333679199,
          -1.9741886854171753,
          3.6763761043548584,
          1.184763789176941,
          0.9527791142463684,
          -1.0437062978744507,
          -1.5318790674209595,
          1.0258960723876953,
          -0.9453687071800232,
          0.011567207984626293,
          0.3673834800720215,
          -0.1403527855873108,
          -0.49365368485450745,
          -1.3769525289535522,
          -0.1252974271774292,
          -3.727008819580078,
          -0.3645816147327423,
          1.2537422180175781,
          1.7687300443649292,
          -2.7383992671966553,
          -2.927675724029541,
          6.200744152069092,
          -0.21518272161483765,
          5.629490375518799,
          -0.786706805229187,
          -0.7918270826339722,
          -1.2331539392471313,
          1.256428837776184,
          5.101343154907227,
          0.02146887592971325,
          2.274749279022217,
          1.0140048265457153,
          0.042722154408693314,
          -2.0565271377563477,
          -1.3012328147888184,
          1.6161202192306519,
          -1.2837729454040527,
          -1.7169681787490845,
          -3.339097261428833,
          -0.06122947111725807,
          -1.6935386657714844,
          1.0966246128082275,
          -6.593303680419922,
          -1.170920729637146,
          -2.402971029281616,
          3.9058964252471924,
          -1.3659651279449463,
          -0.13049373030662537,
          0.48565226793289185,
          1.8449116945266724,
          -3.660433530807495,
          -0.613014280796051,
          -0.5184102654457092,
          -1.548067569732666,
          -0.8757545351982117,
          -1.778774619102478,
          3.9612643718719482,
          0.12233380973339081,
          0.4899005889892578,
          -1.7135618925094604,
          -0.8075822591781616,
          5.716953277587891,
          -0.16686369478702545,
          -1.066144585609436,
          -0.5460302829742432,
          -1.817828893661499,
          0.7420628070831299,
          -2.0415451526641846,
          -0.7459378838539124,
          -3.2050561904907227
         ],
         "yaxis": "y"
        },
        {
         "customdata": [
          [
           "HONEY GUM (RED IPA)",
           1,
           1,
           "Red IPA"
          ],
          [
           "Choc à l'orange",
           1,
           2,
           "Imperial Stout"
          ],
          [
           "Spaghetti Saison",
           1,
           3,
           "Saison/Farmhouse Ale"
          ],
          [
           "Cocoa Comet",
           1,
           4,
           "Porter"
          ],
          [
           "Crumbs - Imperial Cookie Stout",
           1,
           5,
           "Imperial Stout"
          ],
          [
           "Unlikely Friends",
           1,
           6,
           "Specialty Beer"
          ],
          [
           "White Forest",
           1,
           7,
           "Cream Ale"
          ],
          [
           "Dank & Stormy",
           1,
           8,
           "American Amber/Red"
          ],
          [
           "Screamin' Peach",
           1,
           9,
           "Fruit Beer"
          ],
          [
           "Funky Gose To Hollywood",
           1,
           10,
           "Gose Sour"
          ],
          [
           "Old Mate",
           1,
           11,
           "Irish Amber/Red"
          ],
          [
           "King River Double Red IPA",
           1,
           12,
           "Red IPA"
          ],
          [
           "Don't Take The Pith",
           1,
           13,
           "Porter"
          ],
          [
           "Brunswick Grape Ale",
           1,
           14,
           "Specialty Beer"
          ],
          [
           "Pepper, Pepper, Pepper",
           1,
           15,
           "American IPA"
          ],
          [
           "Double Lemon Shochu Shandy",
           1,
           16,
           "Pale Lager"
          ],
          [
           "Smoke Rings",
           1,
           17,
           "Kettle Sour"
          ],
          [
           "Hybrid Theory Red Rye IPA",
           1,
           18,
           "Red IPA"
          ],
          [
           "Open Relationship",
           1,
           19,
           "Classic Pilsner Lager"
          ],
          [
           "Krushberry Pi 3.142%",
           1,
           20,
           "Pastry Sour"
          ],
          [
           "Bounty Hunter",
           2,
           21,
           "Imperial Stout"
          ],
          [
           null,
           2,
           22,
           "IPA - White"
          ],
          [
           "Tarte Noir",
           2,
           23,
           "Kettle Sour"
          ],
          [
           "Paradise Pils",
           2,
           24,
           "Classic Pilsner Lager"
          ],
          [
           "Rum Running",
           2,
           25,
           "Specialty Beer"
          ],
          [
           "Nitro Citrus - Blood Orange Chocolate Porter",
           2,
           26,
           "Porter"
          ],
          [
           "Yu Zerious? - Yuzu Russ”",
           2,
           27,
           "Fruit Beer"
          ],
          [
           "Dubbel Dutch",
           2,
           28,
           "Belgian Dubbel"
          ],
          [
           "Soolong Sucka",
           2,
           29,
           "American IPA"
          ],
          [
           "Wise and the Foolish",
           2,
           30,
           "Weizenbock"
          ],
          [
           "Guava Lava Imperial IPL",
           2,
           31,
           "New England (Double) IPA"
          ],
          [
           "Pig Pickin Cake",
           2,
           32,
           "Milkshake IPA"
          ],
          [
           "Hopless - Botanical IPA",
           2,
           33,
           "Gruit"
          ],
          [
           "Wakame Up Before You Gose",
           2,
           34,
           "Gose Sour"
          ],
          [
           "Michelager",
           2,
           35,
           "Lager - Mexican"
          ],
          [
           "Smooth Caffeinator",
           2,
           36,
           "Dulce de Leche Affogato Stout"
          ],
          [
           "Blackberries, Blueberries and Sour Patch kids!",
           2,
           37,
           "Sour - Kettle Sour"
          ],
          [
           "Supermassive Black Hole",
           2,
           38,
           "Stout - Pastry"
          ],
          [
           "Feiladh Mor (\"Great Kilt\")",
           2,
           39,
           "Scotch Ale/Wee Heavy"
          ],
          [
           "Mai TaIPA",
           2,
           40,
           "Fruit Beer"
          ],
          [
           "Haze Train",
           3,
           41,
           "Hazy IPA"
          ],
          [
           "Creature of the Deep",
           3,
           42,
           "Oatmeal Stout"
          ],
          [
           "Triple Sticky",
           3,
           43,
           "Hoppy Lager"
          ],
          [
           "Rose Petal Raspberry Sour",
           3,
           44,
           "Sour"
          ],
          [
           "“Shinigami” - Umami Smoked Porter",
           3,
           45,
           "Smoked Beer (non Rauchbier)"
          ],
          [
           "Sucker Punch Strawberries & Cream Lollipop Sour",
           3,
           46,
           "Pastry Sour"
          ],
          [
           "Aurora Australis Wonder Ale",
           3,
           47,
           "Belgian Dark Strong Ale"
          ],
          [
           "Lazy Bones",
           3,
           48,
           "Brut IPA"
          ],
          [
           "Pandan White Chocolate Stout",
           3,
           49,
           "Pastry Stout"
          ],
          [
           "Sparkling Saison Noir",
           3,
           50,
           "Saison/Farmhouse Ale"
          ],
          [
           "Hop Yearning",
           3,
           51,
           "American IPA"
          ],
          [
           "Pineapple Punch",
           3,
           52,
           "Kettle Sour"
          ],
          [
           "Two Thumbs Toasted Ironbark West Coast IPA",
           3,
           53,
           "American IPA"
          ],
          [
           "Lemon & Key Lime Meringue Pie Sour",
           3,
           54,
           "Kettle Sour"
          ],
          [
           "Angry Fish",
           3,
           55,
           "Baltic Porter"
          ],
          [
           "The Sanga",
           3,
           56,
           "Experimental Beer"
          ],
          [
           "Honey Honey, Joy Joy",
           3,
           57,
           "Specialty Beer"
          ],
          [
           "Pick of the Bunch",
           3,
           58,
           "Specialty Beer"
          ],
          [
           "Black Forest Espresso",
           3,
           59,
           "Pastry Stout"
          ],
          [
           "The Cowboy Slickshake",
           4,
           61,
           "Pastry Stout"
          ],
          [
           "Vanta Manta",
           4,
           63,
           "Schwarzbier"
          ],
          [
           "Slice of Heaven - Thiolised NZ Pilsner",
           4,
           64,
           "New Zealand Pilsner Lager"
          ],
          [
           "Southern Crossed Lovers - ANZIPA",
           4,
           65,
           "Hazy IPA"
          ],
          [
           "Mr. Phantastic",
           4,
           66,
           "Cold IPA"
          ],
          [
           "Spi-ski Margarita Gose",
           4,
           67,
           "Gose Sour"
          ],
          [
           "DDH Unicorn Frappe NEIPA",
           4,
           68,
           "Milkshake IPA"
          ],
          [
           "Slatterpuss Watermelon Sour",
           4,
           69,
           "Fruit Beer"
          ],
          [
           "Daily Tot' - Rum Raisin Brown Ale",
           4,
           70,
           "UK Brown Ale"
          ],
          [
           "Fantastic Sour",
           4,
           71,
           "Kettle Sour"
          ],
          [
           "Vanilla Bean Panna Cotta",
           4,
           72,
           "Stout - White"
          ],
          [
           "ALTernate BIER",
           4,
           73,
           "Altbier"
          ],
          [
           "Double Booti KNEIPA",
           4,
           74,
           "New England (Double) IPA"
          ],
          [
           "Ooray for Gilbert",
           4,
           75,
           "Specialty Beer"
          ],
          [
           "Thicker Than Water (Brazilian Blood Limeaide Sour)",
           4,
           76,
           "Pastry Sour"
          ],
          [
           "Insane Kölche Posse",
           4,
           77,
           "Kölsch"
          ],
          [
           "Biscoff Chocolate Brownie Porter",
           4,
           78,
           "Porter"
          ],
          [
           "Billson's Flavored Sour Beer",
           4,
           79,
           "Specialty Beer"
          ],
          [
           "Golden Roots - Spiced Volcanic Sweet Potato Copper Ale",
           4,
           80,
           "Experimental Beer"
          ],
          [
           "Smoked Kelp Stout",
           5,
           81,
           "Smoked Beer (non Rauchbier)"
          ],
          [
           "The 'H' is Silent",
           5,
           82,
           "Mixed Fermentation Sour"
          ],
          [
           "West coast story",
           5,
           83,
           "Australian IPA"
          ],
          [
           "Simz Spicy Vanilla Gorilla",
           5,
           84,
           "Mixed Fermentation Sour"
          ],
          [
           "The Terpinator",
           5,
           85,
           "IPA - American"
          ],
          [
           "Tradies Breakfast - Vienna Coffee Lager meets Custard Tart",
           5,
           86,
           "Vienna Lager"
          ],
          [
           "Abominable S'Mores Imperial Milk Stout",
           5,
           87,
           "Imperial Stout"
          ],
          [
           "Banana and Blueberry Imperial Maple Maccadamia Pancake Smoothie Sour",
           5,
           88,
           "Pastry Sour"
          ],
          [
           "Apfelstrudle Pastry Hefe",
           5,
           89,
           "Weizen/Weissbier/Hefeweizen"
          ],
          [
           "Rocky road campfire chocolate smoked stout",
           5,
           90,
           "Pastry Stout"
          ],
          [
           "Sweet as Pie",
           5,
           91,
           "Specialty Beer"
          ],
          [
           "SAB Bitter",
           5,
           92,
           "ESB (Extra Special Bitter)"
          ],
          [
           "Smooth Landing - Fruit Punch IPA",
           5,
           93,
           "IPA - Hazy"
          ],
          [
           "Partical Fusion - worlds collide",
           5,
           94,
           "Specialty Beer"
          ],
          [
           "Zombie Imperial Sour",
           5,
           95,
           "Kettle Sour"
          ],
          [
           "Equinox '24",
           5,
           96,
           "Imperial IPA"
          ],
          [
           "Holy Smokes! - Camel Dung Smoked Porter",
           5,
           97,
           "Smoked Beer (non Rauchbier)"
          ],
          [
           "Salvaged Cherry Cola",
           5,
           98,
           "Specialty Beer"
          ],
          [
           "Escape The Heat - Belgian Ale with Jalapeños",
           5,
           99,
           "Belgian Specialty Ale"
          ],
          [
           "Miso Macadamia Stout",
           5,
           100,
           "Porter"
          ],
          [
           "Strawberry Champagne Beer",
           6,
           101,
           "Specialty Beer"
          ],
          [
           "Try And Banh Mi",
           6,
           102,
           "Stout"
          ],
          [
           null,
           6,
           103,
           "Classic Pilsner Lager"
          ],
          [
           "Cereal for Dinner",
           6,
           104,
           "New England IPA"
          ],
          [
           "Black Mamba - Imperial Black Saison",
           6,
           105,
           "Saison/Farmhouse Ale"
          ],
          [
           "Grand Slam' Strawberries & Cream Imperial Sour",
           6,
           106,
           "Kettle Sour"
          ],
          [
           "Big Feelings",
           6,
           107,
           "Hazy IPA"
          ],
          [
           "The Notorious F.I.G.",
           6,
           108,
           "UK Brown Ale"
          ],
          [
           "Flat White Oatmeal stout",
           6,
           109,
           "Oatmeal Stout"
          ],
          [
           "Hellhound",
           6,
           110,
           "Baltic Porter"
          ],
          [
           "Lord Barista",
           6,
           111,
           "Imperial Stout"
          ],
          [
           "Bacon Me Crazy",
           6,
           112,
           "American IPA"
          ],
          [
           "Beer-ria taco lager",
           6,
           113,
           "Rauchbier"
          ],
          [
           "A boy named Tiramisu",
           6,
           114,
           "Pastry Stout"
          ],
          [
           "Raspberry Sherbet Bomb",
           6,
           115,
           "Specialty Beer"
          ],
          [
           "Ginger Monkey",
           6,
           116,
           "Cocktail"
          ],
          [
           null,
           6,
           117,
           "Cocktail"
          ],
          [
           "Eddies Crisp Apple",
           6,
           118,
           "Traditional Cider"
          ],
          [
           "Cloudy Apple & Ginger",
           6,
           119,
           "Specialty Cider"
          ]
         ],
         "hovertemplate": "Year=2024<br>0=%{x}<br>1=%{y}<br>Beer=%{customdata[0]}<br>Section=%{customdata[1]}<br>Number=%{customdata[2]}<br>Style=%{customdata[3]}<extra></extra>",
         "legendgroup": "2024",
         "marker": {
          "color": "#EF553B",
          "symbol": "circle"
         },
         "mode": "markers",
         "name": "2024",
         "orientation": "v",
         "showlegend": true,
         "type": "scatter",
         "x": [
          -0.8671811819076538,
          -0.5838333368301392,
          -0.5488635301589966,
          -2.614037275314331,
          -3.1449124813079834,
          -3.694444417953491,
          -0.996284008026123,
          -2.5054290294647217,
          -3.513740062713623,
          -2.3233675956726074,
          2.8298189640045166,
          -2.0325605869293213,
          -2.837986946105957,
          -2.776181697845459,
          -1.608512043952942,
          0.8481882214546204,
          -3.317554473876953,
          3.2990670204162598,
          -3.1434597969055176,
          2.0029125213623047,
          -1.7193622589111328,
          -3.361480474472046,
          -1.8756808042526245,
          -2.9919469356536865,
          -3.184264898300171,
          -2.084888458251953,
          3.89510440826416,
          -3.015580892562866,
          -2.122678518295288,
          -3.425854206085205,
          0.3745790719985962,
          -1.265915870666504,
          -4.196889400482178,
          -3.4995338916778564,
          -2.25646710395813,
          -1.3075655698776245,
          -4.136007785797119,
          -4.5785417556762695,
          -0.5773739218711853,
          8.249703407287598,
          4.844027519226074,
          -4.449235916137695,
          -3.5816192626953125,
          -0.47375333309173584,
          -1.1175625324249268,
          -2.3007619380950928,
          -2.6784324645996094,
          -0.7682850360870361,
          2.5773258209228516,
          -1.9285701513290405,
          -3.2678234577178955,
          -1.1956595182418823,
          -0.7067031264305115,
          -1.8965528011322021,
          -3.6026852130889893,
          0.15341249108314514,
          -4.380350589752197,
          -1.9299982786178589,
          -0.6765453219413757,
          -0.4285411536693573,
          -2.4629385471343994,
          -1.8228214979171753,
          -1.007061243057251,
          -1.8253939151763916,
          2.410748243331909,
          -1.0175807476043701,
          -2.282125949859619,
          -1.0939931869506836,
          -2.7662553787231445,
          -2.3512489795684814,
          -4.533949851989746,
          -0.21742475032806396,
          -3.4346139430999756,
          -4.157670497894287,
          -0.5572633147239685,
          -1.6146531105041504,
          -2.8132753372192383,
          -2.6976401805877686,
          0.6298240423202515,
          -1.3038246631622314,
          1.6713414192199707,
          -0.266042560338974,
          -2.6318840980529785,
          -1.6888842582702637,
          -1.3838454484939575,
          1.4162641763687134,
          -1.0239503383636475,
          -1.876258373260498,
          -4.166500091552734,
          -2.840310573577881,
          -2.0628511905670166,
          -3.1295006275177,
          -2.5789854526519775,
          -1.6792060136795044,
          -1.7897312641143799,
          -4.151019096374512,
          -1.482718825340271,
          -1.2595529556274414,
          -3.3346776962280273,
          -4.435354709625244,
          5.310993671417236,
          -3.1661577224731445,
          -2.762669801712036,
          -1.4620323181152344,
          -1.2464934587478638,
          -1.0646215677261353,
          -3.6576709747314453,
          -2.660053253173828,
          -1.2478187084197998,
          -1.975337266921997,
          -0.700040876865387,
          -2.9773688316345215,
          -1.170425295829773,
          2.163358688354492,
          -2.2490177154541016,
          -2.3513987064361572,
          -3.197427749633789
         ],
         "xaxis": "x",
         "y": [
          0.7181324362754822,
          -0.2720929980278015,
          -1.302980899810791,
          -0.2740236818790436,
          0.026437515392899513,
          1.7002930641174316,
          1.5639526844024658,
          -0.5034118294715881,
          1.499709129333496,
          -0.38065192103385925,
          -0.07551442831754684,
          1.347063660621643,
          0.7783151865005493,
          1.0905041694641113,
          1.487448811531067,
          1.8473026752471924,
          0.5274307727813721,
          3.3175950050354004,
          -0.4602699875831604,
          1.5079796314239502,
          -0.1783597767353058,
          -0.23220930993556976,
          0.48499542474746704,
          0.5449183583259583,
          0.48453131318092346,
          -0.10943057388067245,
          -2.8702948093414307,
          0.7131779193878174,
          1.3932362794876099,
          0.16270212829113007,
          2.415118455886841,
          2.9531056880950928,
          0.3643265664577484,
          0.13767355680465698,
          0.3490618169307709,
          -0.06700361520051956,
          0.7297028303146362,
          1.244954228401184,
          -0.08146388083696365,
          0.9307295083999634,
          0.23224295675754547,
          0.8157246708869934,
          1.1648904085159302,
          0.7819820642471313,
          -0.9684928059577942,
          -0.7821581363677979,
          0.10248363763093948,
          1.2367068529129028,
          -0.610181450843811,
          -0.3861117959022522,
          0.4821777939796448,
          0.854404866695404,
          1.374151349067688,
          0.308406263589859,
          1.46946120262146,
          -0.3614662289619446,
          -0.05699494853615761,
          0.733402669429779,
          0.22410793602466583,
          0.3891025185585022,
          -0.05980105325579643,
          -2.0794360637664795,
          0.10186421126127243,
          -0.9293327331542969,
          -2.425241470336914,
          2.198359489440918,
          1.2758355140686035,
          -0.6425817608833313,
          1.587469220161438,
          -0.26721370220184326,
          0.8490914702415466,
          2.1333746910095215,
          0.19219942390918732,
          0.6504947543144226,
          1.7506803274154663,
          0.7170538902282715,
          1.5714764595031738,
          1.9879229068756104,
          0.8367496132850647,
          -2.5196022987365723,
          -1.019210696220398,
          -1.9215725660324097,
          1.5170762538909912,
          -0.4827120006084442,
          0.9330776333808899,
          -3.837649345397949,
          0.38088807463645935,
          0.08354031294584274,
          1.562090277671814,
          1.1890084743499756,
          1.3038663864135742,
          0.03423020988702774,
          0.48053812980651855,
          0.1613519936800003,
          -0.30285343527793884,
          0.7380432486534119,
          -0.683831512928009,
          2.1408591270446777,
          0.7283182740211487,
          -0.6396291255950928,
          -4.127232074737549,
          0.5760812163352966,
          -0.3573581278324127,
          -0.21710330247879028,
          0.7049946784973145,
          0.5598637461662292,
          0.4543684422969818,
          -0.5066532492637634,
          -0.0826147273182869,
          1.0574222803115845,
          1.4025242328643799,
          0.782174289226532,
          1.0366967916488647,
          -5.591371059417725,
          1.3303860425949097,
          0.08675216138362885,
          -0.43733951449394226
         ],
         "yaxis": "y"
        }
       ],
       "layout": {
        "legend": {
         "title": {
          "text": "Year"
         },
         "tracegroupgap": 0
        },
        "template": {
         "data": {
          "bar": [
           {
            "error_x": {
             "color": "#2a3f5f"
            },
            "error_y": {
             "color": "#2a3f5f"
            },
            "marker": {
             "line": {
              "color": "#E5ECF6",
              "width": 0.5
             },
             "pattern": {
              "fillmode": "overlay",
              "size": 10,
              "solidity": 0.2
             }
            },
            "type": "bar"
           }
          ],
          "barpolar": [
           {
            "marker": {
             "line": {
              "color": "#E5ECF6",
              "width": 0.5
             },
             "pattern": {
              "fillmode": "overlay",
              "size": 10,
              "solidity": 0.2
             }
            },
            "type": "barpolar"
           }
          ],
          "carpet": [
           {
            "aaxis": {
             "endlinecolor": "#2a3f5f",
             "gridcolor": "white",
             "linecolor": "white",
             "minorgridcolor": "white",
             "startlinecolor": "#2a3f5f"
            },
            "baxis": {
             "endlinecolor": "#2a3f5f",
             "gridcolor": "white",
             "linecolor": "white",
             "minorgridcolor": "white",
             "startlinecolor": "#2a3f5f"
            },
            "type": "carpet"
           }
          ],
          "choropleth": [
           {
            "colorbar": {
             "outlinewidth": 0,
             "ticks": ""
            },
            "type": "choropleth"
           }
          ],
          "contour": [
           {
            "colorbar": {
             "outlinewidth": 0,
             "ticks": ""
            },
            "colorscale": [
             [
              0,
              "#0d0887"
             ],
             [
              0.1111111111111111,
              "#46039f"
             ],
             [
              0.2222222222222222,
              "#7201a8"
             ],
             [
              0.3333333333333333,
              "#9c179e"
             ],
             [
              0.4444444444444444,
              "#bd3786"
             ],
             [
              0.5555555555555556,
              "#d8576b"
             ],
             [
              0.6666666666666666,
              "#ed7953"
             ],
             [
              0.7777777777777778,
              "#fb9f3a"
             ],
             [
              0.8888888888888888,
              "#fdca26"
             ],
             [
              1,
              "#f0f921"
             ]
            ],
            "type": "contour"
           }
          ],
          "contourcarpet": [
           {
            "colorbar": {
             "outlinewidth": 0,
             "ticks": ""
            },
            "type": "contourcarpet"
           }
          ],
          "heatmap": [
           {
            "colorbar": {
             "outlinewidth": 0,
             "ticks": ""
            },
            "colorscale": [
             [
              0,
              "#0d0887"
             ],
             [
              0.1111111111111111,
              "#46039f"
             ],
             [
              0.2222222222222222,
              "#7201a8"
             ],
             [
              0.3333333333333333,
              "#9c179e"
             ],
             [
              0.4444444444444444,
              "#bd3786"
             ],
             [
              0.5555555555555556,
              "#d8576b"
             ],
             [
              0.6666666666666666,
              "#ed7953"
             ],
             [
              0.7777777777777778,
              "#fb9f3a"
             ],
             [
              0.8888888888888888,
              "#fdca26"
             ],
             [
              1,
              "#f0f921"
             ]
            ],
            "type": "heatmap"
           }
          ],
          "heatmapgl": [
           {
            "colorbar": {
             "outlinewidth": 0,
             "ticks": ""
            },
            "colorscale": [
             [
              0,
              "#0d0887"
             ],
             [
              0.1111111111111111,
              "#46039f"
             ],
             [
              0.2222222222222222,
              "#7201a8"
             ],
             [
              0.3333333333333333,
              "#9c179e"
             ],
             [
              0.4444444444444444,
              "#bd3786"
             ],
             [
              0.5555555555555556,
              "#d8576b"
             ],
             [
              0.6666666666666666,
              "#ed7953"
             ],
             [
              0.7777777777777778,
              "#fb9f3a"
             ],
             [
              0.8888888888888888,
              "#fdca26"
             ],
             [
              1,
              "#f0f921"
             ]
            ],
            "type": "heatmapgl"
           }
          ],
          "histogram": [
           {
            "marker": {
             "pattern": {
              "fillmode": "overlay",
              "size": 10,
              "solidity": 0.2
             }
            },
            "type": "histogram"
           }
          ],
          "histogram2d": [
           {
            "colorbar": {
             "outlinewidth": 0,
             "ticks": ""
            },
            "colorscale": [
             [
              0,
              "#0d0887"
             ],
             [
              0.1111111111111111,
              "#46039f"
             ],
             [
              0.2222222222222222,
              "#7201a8"
             ],
             [
              0.3333333333333333,
              "#9c179e"
             ],
             [
              0.4444444444444444,
              "#bd3786"
             ],
             [
              0.5555555555555556,
              "#d8576b"
             ],
             [
              0.6666666666666666,
              "#ed7953"
             ],
             [
              0.7777777777777778,
              "#fb9f3a"
             ],
             [
              0.8888888888888888,
              "#fdca26"
             ],
             [
              1,
              "#f0f921"
             ]
            ],
            "type": "histogram2d"
           }
          ],
          "histogram2dcontour": [
           {
            "colorbar": {
             "outlinewidth": 0,
             "ticks": ""
            },
            "colorscale": [
             [
              0,
              "#0d0887"
             ],
             [
              0.1111111111111111,
              "#46039f"
             ],
             [
              0.2222222222222222,
              "#7201a8"
             ],
             [
              0.3333333333333333,
              "#9c179e"
             ],
             [
              0.4444444444444444,
              "#bd3786"
             ],
             [
              0.5555555555555556,
              "#d8576b"
             ],
             [
              0.6666666666666666,
              "#ed7953"
             ],
             [
              0.7777777777777778,
              "#fb9f3a"
             ],
             [
              0.8888888888888888,
              "#fdca26"
             ],
             [
              1,
              "#f0f921"
             ]
            ],
            "type": "histogram2dcontour"
           }
          ],
          "mesh3d": [
           {
            "colorbar": {
             "outlinewidth": 0,
             "ticks": ""
            },
            "type": "mesh3d"
           }
          ],
          "parcoords": [
           {
            "line": {
             "colorbar": {
              "outlinewidth": 0,
              "ticks": ""
             }
            },
            "type": "parcoords"
           }
          ],
          "pie": [
           {
            "automargin": true,
            "type": "pie"
           }
          ],
          "scatter": [
           {
            "fillpattern": {
             "fillmode": "overlay",
             "size": 10,
             "solidity": 0.2
            },
            "type": "scatter"
           }
          ],
          "scatter3d": [
           {
            "line": {
             "colorbar": {
              "outlinewidth": 0,
              "ticks": ""
             }
            },
            "marker": {
             "colorbar": {
              "outlinewidth": 0,
              "ticks": ""
             }
            },
            "type": "scatter3d"
           }
          ],
          "scattercarpet": [
           {
            "marker": {
             "colorbar": {
              "outlinewidth": 0,
              "ticks": ""
             }
            },
            "type": "scattercarpet"
           }
          ],
          "scattergeo": [
           {
            "marker": {
             "colorbar": {
              "outlinewidth": 0,
              "ticks": ""
             }
            },
            "type": "scattergeo"
           }
          ],
          "scattergl": [
           {
            "marker": {
             "colorbar": {
              "outlinewidth": 0,
              "ticks": ""
             }
            },
            "type": "scattergl"
           }
          ],
          "scattermapbox": [
           {
            "marker": {
             "colorbar": {
              "outlinewidth": 0,
              "ticks": ""
             }
            },
            "type": "scattermapbox"
           }
          ],
          "scatterpolar": [
           {
            "marker": {
             "colorbar": {
              "outlinewidth": 0,
              "ticks": ""
             }
            },
            "type": "scatterpolar"
           }
          ],
          "scatterpolargl": [
           {
            "marker": {
             "colorbar": {
              "outlinewidth": 0,
              "ticks": ""
             }
            },
            "type": "scatterpolargl"
           }
          ],
          "scatterternary": [
           {
            "marker": {
             "colorbar": {
              "outlinewidth": 0,
              "ticks": ""
             }
            },
            "type": "scatterternary"
           }
          ],
          "surface": [
           {
            "colorbar": {
             "outlinewidth": 0,
             "ticks": ""
            },
            "colorscale": [
             [
              0,
              "#0d0887"
             ],
             [
              0.1111111111111111,
              "#46039f"
             ],
             [
              0.2222222222222222,
              "#7201a8"
             ],
             [
              0.3333333333333333,
              "#9c179e"
             ],
             [
              0.4444444444444444,
              "#bd3786"
             ],
             [
              0.5555555555555556,
              "#d8576b"
             ],
             [
              0.6666666666666666,
              "#ed7953"
             ],
             [
              0.7777777777777778,
              "#fb9f3a"
             ],
             [
              0.8888888888888888,
              "#fdca26"
             ],
             [
              1,
              "#f0f921"
             ]
            ],
            "type": "surface"
           }
          ],
          "table": [
           {
            "cells": {
             "fill": {
              "color": "#EBF0F8"
             },
             "line": {
              "color": "white"
             }
            },
            "header": {
             "fill": {
              "color": "#C8D4E3"
             },
             "line": {
              "color": "white"
             }
            },
            "type": "table"
           }
          ]
         },
         "layout": {
          "annotationdefaults": {
           "arrowcolor": "#2a3f5f",
           "arrowhead": 0,
           "arrowwidth": 1
          },
          "autotypenumbers": "strict",
          "coloraxis": {
           "colorbar": {
            "outlinewidth": 0,
            "ticks": ""
           }
          },
          "colorscale": {
           "diverging": [
            [
             0,
             "#8e0152"
            ],
            [
             0.1,
             "#c51b7d"
            ],
            [
             0.2,
             "#de77ae"
            ],
            [
             0.3,
             "#f1b6da"
            ],
            [
             0.4,
             "#fde0ef"
            ],
            [
             0.5,
             "#f7f7f7"
            ],
            [
             0.6,
             "#e6f5d0"
            ],
            [
             0.7,
             "#b8e186"
            ],
            [
             0.8,
             "#7fbc41"
            ],
            [
             0.9,
             "#4d9221"
            ],
            [
             1,
             "#276419"
            ]
           ],
           "sequential": [
            [
             0,
             "#0d0887"
            ],
            [
             0.1111111111111111,
             "#46039f"
            ],
            [
             0.2222222222222222,
             "#7201a8"
            ],
            [
             0.3333333333333333,
             "#9c179e"
            ],
            [
             0.4444444444444444,
             "#bd3786"
            ],
            [
             0.5555555555555556,
             "#d8576b"
            ],
            [
             0.6666666666666666,
             "#ed7953"
            ],
            [
             0.7777777777777778,
             "#fb9f3a"
            ],
            [
             0.8888888888888888,
             "#fdca26"
            ],
            [
             1,
             "#f0f921"
            ]
           ],
           "sequentialminus": [
            [
             0,
             "#0d0887"
            ],
            [
             0.1111111111111111,
             "#46039f"
            ],
            [
             0.2222222222222222,
             "#7201a8"
            ],
            [
             0.3333333333333333,
             "#9c179e"
            ],
            [
             0.4444444444444444,
             "#bd3786"
            ],
            [
             0.5555555555555556,
             "#d8576b"
            ],
            [
             0.6666666666666666,
             "#ed7953"
            ],
            [
             0.7777777777777778,
             "#fb9f3a"
            ],
            [
             0.8888888888888888,
             "#fdca26"
            ],
            [
             1,
             "#f0f921"
            ]
           ]
          },
          "colorway": [
           "#636efa",
           "#EF553B",
           "#00cc96",
           "#ab63fa",
           "#FFA15A",
           "#19d3f3",
           "#FF6692",
           "#B6E880",
           "#FF97FF",
           "#FECB52"
          ],
          "font": {
           "color": "#2a3f5f"
          },
          "geo": {
           "bgcolor": "white",
           "lakecolor": "white",
           "landcolor": "#E5ECF6",
           "showlakes": true,
           "showland": true,
           "subunitcolor": "white"
          },
          "hoverlabel": {
           "align": "left"
          },
          "hovermode": "closest",
          "mapbox": {
           "style": "light"
          },
          "paper_bgcolor": "white",
          "plot_bgcolor": "#E5ECF6",
          "polar": {
           "angularaxis": {
            "gridcolor": "white",
            "linecolor": "white",
            "ticks": ""
           },
           "bgcolor": "#E5ECF6",
           "radialaxis": {
            "gridcolor": "white",
            "linecolor": "white",
            "ticks": ""
           }
          },
          "scene": {
           "xaxis": {
            "backgroundcolor": "#E5ECF6",
            "gridcolor": "white",
            "gridwidth": 2,
            "linecolor": "white",
            "showbackground": true,
            "ticks": "",
            "zerolinecolor": "white"
           },
           "yaxis": {
            "backgroundcolor": "#E5ECF6",
            "gridcolor": "white",
            "gridwidth": 2,
            "linecolor": "white",
            "showbackground": true,
            "ticks": "",
            "zerolinecolor": "white"
           },
           "zaxis": {
            "backgroundcolor": "#E5ECF6",
            "gridcolor": "white",
            "gridwidth": 2,
            "linecolor": "white",
            "showbackground": true,
            "ticks": "",
            "zerolinecolor": "white"
           }
          },
          "shapedefaults": {
           "line": {
            "color": "#2a3f5f"
           }
          },
          "ternary": {
           "aaxis": {
            "gridcolor": "white",
            "linecolor": "white",
            "ticks": ""
           },
           "baxis": {
            "gridcolor": "white",
            "linecolor": "white",
            "ticks": ""
           },
           "bgcolor": "#E5ECF6",
           "caxis": {
            "gridcolor": "white",
            "linecolor": "white",
            "ticks": ""
           }
          },
          "title": {
           "x": 0.05
          },
          "xaxis": {
           "automargin": true,
           "gridcolor": "white",
           "linecolor": "white",
           "ticks": "",
           "title": {
            "standoff": 15
           },
           "zerolinecolor": "white",
           "zerolinewidth": 2
          },
          "yaxis": {
           "automargin": true,
           "gridcolor": "white",
           "linecolor": "white",
           "ticks": "",
           "title": {
            "standoff": 15
           },
           "zerolinecolor": "white",
           "zerolinewidth": 2
          }
         }
        },
        "title": {
         "text": "GABS 2023-24 (Semantic embeddings, PCA reduction to 2-dim)"
        },
        "xaxis": {
         "anchor": "y",
         "domain": [
          0,
          1
         ],
         "title": {
          "text": "0"
         }
        },
        "yaxis": {
         "anchor": "x",
         "domain": [
          0,
          1
         ],
         "title": {
          "text": "1"
         }
        }
       }
      }
     },
     "metadata": {},
     "output_type": "display_data"
    }
   ],
   "source": [
    "# Plot some clusters maybe?\n",
    "pca_arr_all = PCA(n_components=2).fit_transform(beer_embeddings.get())\n",
    "print(pca_arr_all.shape)\n",
    "\n",
    "pca_df = pd.DataFrame(pca_arr_all).reset_index(drop=True).set_index(df.index)\n",
    "pca_df['Section'] = df['section']\n",
    "pca_df['Number'] = [x[0] for x in df.index]\n",
    "pca_df['Beer'] = df['name']\n",
    "pca_df['Brewery'] = df['brewery']\n",
    "pca_df['Style'] = df['style']\n",
    "pca_df['Year'] = [x[1] for x in df.index]\n",
    "\n",
    "fig = px.scatter(pca_df,\n",
    "                 x=0,\n",
    "                 y=1,\n",
    "                 color=\"Year\",\n",
    "                 hover_data=[\"Beer\", \"Section\", \"Number\", \"Style\"],\n",
    "                 title=\"GABS 2023-24 (Semantic embeddings, PCA reduction to 2-dim)\"\n",
    "                )\n",
    "fig.show()"
   ]
  },
  {
   "cell_type": "code",
   "execution_count": 105,
   "metadata": {},
   "outputs": [
    {
     "data": {
      "text/plain": [
       "(237, 237)"
      ]
     },
     "execution_count": 105,
     "metadata": {},
     "output_type": "execute_result"
    }
   ],
   "source": [
    "beer_semantic_cos_sim.shape"
   ]
  },
  {
   "cell_type": "code",
   "execution_count": 107,
   "metadata": {},
   "outputs": [
    {
     "data": {
      "text/plain": [
       "section                                                    6\n",
       "brewery                                     Hiker Brewing Co\n",
       "name                                           Hold the Pork\n",
       "style                                              Specialty\n",
       "desc       Infused with smoked pineapple and szechuan pep...\n",
       "words      HOLD THE PORK SPECIALTY INFUSED WITH SMOKED PI...\n",
       "Name: (109.0, 2023), dtype: object"
      ]
     },
     "metadata": {},
     "output_type": "display_data"
    },
    {
     "data": {
      "text/html": [
       "<div>\n",
       "<style scoped>\n",
       "    .dataframe tbody tr th:only-of-type {\n",
       "        vertical-align: middle;\n",
       "    }\n",
       "\n",
       "    .dataframe tbody tr th {\n",
       "        vertical-align: top;\n",
       "    }\n",
       "\n",
       "    .dataframe thead th {\n",
       "        text-align: right;\n",
       "    }\n",
       "</style>\n",
       "<table border=\"1\" class=\"dataframe\">\n",
       "  <thead>\n",
       "    <tr style=\"text-align: right;\">\n",
       "      <th></th>\n",
       "      <th></th>\n",
       "      <th>section</th>\n",
       "      <th>brewery</th>\n",
       "      <th>name</th>\n",
       "      <th>style</th>\n",
       "      <th>desc</th>\n",
       "      <th>words</th>\n",
       "    </tr>\n",
       "    <tr>\n",
       "      <th>num</th>\n",
       "      <th>year</th>\n",
       "      <th></th>\n",
       "      <th></th>\n",
       "      <th></th>\n",
       "      <th></th>\n",
       "      <th></th>\n",
       "      <th></th>\n",
       "    </tr>\n",
       "  </thead>\n",
       "  <tbody>\n",
       "    <tr>\n",
       "      <th>85.0</th>\n",
       "      <th>2024</th>\n",
       "      <td>5</td>\n",
       "      <td>Wolf of the Willows</td>\n",
       "      <td>The Terpinator</td>\n",
       "      <td>IPA - American</td>\n",
       "      <td>Dry hopped with at a massive zero g/L, all the...</td>\n",
       "      <td>THE TERPINATOR IPA - AMERICAN DRY HOPPED WITH ...</td>\n",
       "    </tr>\n",
       "    <tr>\n",
       "      <th>112.0</th>\n",
       "      <th>2024</th>\n",
       "      <td>6</td>\n",
       "      <td>Stoic Brewing</td>\n",
       "      <td>Bacon Me Crazy</td>\n",
       "      <td>American IPA</td>\n",
       "      <td>A bold brew where Smoky bacon aroma dances fro...</td>\n",
       "      <td>BACON ME CRAZY AMERICAN IPA A BOLD BREW WHERE ...</td>\n",
       "    </tr>\n",
       "    <tr>\n",
       "      <th>58.0</th>\n",
       "      <th>2024</th>\n",
       "      <td>3</td>\n",
       "      <td>Slipstream Brewing Co.</td>\n",
       "      <td>Pick of the Bunch</td>\n",
       "      <td>Specialty Beer</td>\n",
       "      <td>Capturing the essence of Banana Cream Pie, thi...</td>\n",
       "      <td>PICK OF THE BUNCH SPECIALTY BEER CAPTURING THE...</td>\n",
       "    </tr>\n",
       "    <tr>\n",
       "      <th>90.0</th>\n",
       "      <th>2024</th>\n",
       "      <td>5</td>\n",
       "      <td>Blackman's</td>\n",
       "      <td>Rocky road campfire chocolate smoked stout</td>\n",
       "      <td>Pastry Stout</td>\n",
       "      <td>A dessert stout made to take to you to the ima...</td>\n",
       "      <td>ROCKY ROAD CAMPFIRE CHOCOLATE SMOKED STOUT PAS...</td>\n",
       "    </tr>\n",
       "    <tr>\n",
       "      <th>17.0</th>\n",
       "      <th>2024</th>\n",
       "      <td>1</td>\n",
       "      <td>Cavalier Brewing</td>\n",
       "      <td>Smoke Rings</td>\n",
       "      <td>Kettle Sour</td>\n",
       "      <td>Inspired by your childhood christmases spent a...</td>\n",
       "      <td>SMOKE RINGS KETTLE SOUR INSPIRED BY YOUR CHILD...</td>\n",
       "    </tr>\n",
       "  </tbody>\n",
       "</table>\n",
       "</div>"
      ],
      "text/plain": [
       "            section                 brewery  \\\n",
       "num   year                                    \n",
       "85.0  2024        5     Wolf of the Willows   \n",
       "112.0 2024        6           Stoic Brewing   \n",
       "58.0  2024        3  Slipstream Brewing Co.   \n",
       "90.0  2024        5              Blackman's   \n",
       "17.0  2024        1        Cavalier Brewing   \n",
       "\n",
       "                                                  name           style  \\\n",
       "num   year                                                               \n",
       "85.0  2024                              The Terpinator  IPA - American   \n",
       "112.0 2024                              Bacon Me Crazy    American IPA   \n",
       "58.0  2024                           Pick of the Bunch  Specialty Beer   \n",
       "90.0  2024  Rocky road campfire chocolate smoked stout    Pastry Stout   \n",
       "17.0  2024                                 Smoke Rings     Kettle Sour   \n",
       "\n",
       "                                                         desc  \\\n",
       "num   year                                                      \n",
       "85.0  2024  Dry hopped with at a massive zero g/L, all the...   \n",
       "112.0 2024  A bold brew where Smoky bacon aroma dances fro...   \n",
       "58.0  2024  Capturing the essence of Banana Cream Pie, thi...   \n",
       "90.0  2024  A dessert stout made to take to you to the ima...   \n",
       "17.0  2024  Inspired by your childhood christmases spent a...   \n",
       "\n",
       "                                                        words  \n",
       "num   year                                                     \n",
       "85.0  2024  THE TERPINATOR IPA - AMERICAN DRY HOPPED WITH ...  \n",
       "112.0 2024  BACON ME CRAZY AMERICAN IPA A BOLD BREW WHERE ...  \n",
       "58.0  2024  PICK OF THE BUNCH SPECIALTY BEER CAPTURING THE...  \n",
       "90.0  2024  ROCKY ROAD CAMPFIRE CHOCOLATE SMOKED STOUT PAS...  \n",
       "17.0  2024  SMOKE RINGS KETTLE SOUR INSPIRED BY YOUR CHILD...  "
      ]
     },
     "metadata": {},
     "output_type": "display_data"
    }
   ],
   "source": [
    "test_num = 108\n",
    "num_recs = 5\n",
    "display(df.iloc[test_num])\n",
    "display(df.iloc[np.argsort(beer_semantic_cos_sim[test_num])[-num_recs:]])"
   ]
  },
  {
   "cell_type": "code",
   "execution_count": 110,
   "metadata": {},
   "outputs": [],
   "source": [
    "def get_same_year_recs(ind, num_recs):\n",
    "    base_year = df.iloc[ind].name[1]\n",
    "    recs = []\n",
    "    rec_inds = np.argsort(beer_semantic_cos_sim[ind])\n",
    "    i = 1\n",
    "    while len(recs) < num_recs:\n",
    "        rec_ind = rec_inds[-i]\n",
    "        rec_df = df.iloc[rec_ind]\n",
    "        if rec_df.name[1] == base_year:\n",
    "            recs.append(rec_ind)\n",
    "        i += 1\n",
    "\n",
    "    return recs\n",
    "\n",
    "def get_beer_ind(num, year):\n",
    "    df_entry = df.query(f\"num=={int(num)}&year=='{int(year)}'\")\n",
    "    return df.index.get_loc(df_entry.index[0])"
   ]
  },
  {
   "cell_type": "code",
   "execution_count": 111,
   "metadata": {},
   "outputs": [
    {
     "data": {
      "text/plain": [
       "section                                                    6\n",
       "brewery                                     Hiker Brewing Co\n",
       "name                                           Hold the Pork\n",
       "style                                              Specialty\n",
       "desc       Infused with smoked pineapple and szechuan pep...\n",
       "words      HOLD THE PORK SPECIALTY INFUSED WITH SMOKED PI...\n",
       "Name: (109.0, 2023), dtype: object"
      ]
     },
     "metadata": {},
     "output_type": "display_data"
    },
    {
     "data": {
      "text/html": [
       "<div>\n",
       "<style scoped>\n",
       "    .dataframe tbody tr th:only-of-type {\n",
       "        vertical-align: middle;\n",
       "    }\n",
       "\n",
       "    .dataframe tbody tr th {\n",
       "        vertical-align: top;\n",
       "    }\n",
       "\n",
       "    .dataframe thead th {\n",
       "        text-align: right;\n",
       "    }\n",
       "</style>\n",
       "<table border=\"1\" class=\"dataframe\">\n",
       "  <thead>\n",
       "    <tr style=\"text-align: right;\">\n",
       "      <th></th>\n",
       "      <th></th>\n",
       "      <th>section</th>\n",
       "      <th>brewery</th>\n",
       "      <th>name</th>\n",
       "      <th>style</th>\n",
       "      <th>desc</th>\n",
       "      <th>words</th>\n",
       "    </tr>\n",
       "    <tr>\n",
       "      <th>num</th>\n",
       "      <th>year</th>\n",
       "      <th></th>\n",
       "      <th></th>\n",
       "      <th></th>\n",
       "      <th></th>\n",
       "      <th></th>\n",
       "      <th></th>\n",
       "    </tr>\n",
       "  </thead>\n",
       "  <tbody>\n",
       "    <tr>\n",
       "      <th>67.0</th>\n",
       "      <th>2023</th>\n",
       "      <td>4</td>\n",
       "      <td>Shark Island Brewing Co</td>\n",
       "      <td>Life Can Be Sweet &amp; Sour</td>\n",
       "      <td>Saison</td>\n",
       "      <td>A zesty Saison infused with Cinnamon and Pinea...</td>\n",
       "      <td>LIFE CAN BE SWEET &amp; SOUR SAISON A ZESTY SAISON...</td>\n",
       "    </tr>\n",
       "    <tr>\n",
       "      <th>45.0</th>\n",
       "      <th>2023</th>\n",
       "      <td>3</td>\n",
       "      <td>Craft and Co</td>\n",
       "      <td>The Craft and Co. WIPA</td>\n",
       "      <td>IPA</td>\n",
       "      <td>Bursting with bright citrus, stone fruit, and ...</td>\n",
       "      <td>THE CRAFT AND CO. WIPA IPA BURSTING WITH BRIGH...</td>\n",
       "    </tr>\n",
       "    <tr>\n",
       "      <th>69.0</th>\n",
       "      <th>2023</th>\n",
       "      <td>4</td>\n",
       "      <td>Jetty Road Brewery</td>\n",
       "      <td>Barrel-Aged Raspberry Imperial Stout</td>\n",
       "      <td>Stout</td>\n",
       "      <td>Just like a Black Forrest cake your nan made f...</td>\n",
       "      <td>BARREL-AGED RASPBERRY IMPERIAL STOUT STOUT JUS...</td>\n",
       "    </tr>\n",
       "    <tr>\n",
       "      <th>98.0</th>\n",
       "      <th>2023</th>\n",
       "      <td>5</td>\n",
       "      <td>Boatrocker Brewers &amp; Distillers</td>\n",
       "      <td>Gulls Just Wanna Have Fun (Fish &amp; Chip Gose)</td>\n",
       "      <td>Sour</td>\n",
       "      <td>Sea harvest ingredients, fresh lemon peel &amp; ma...</td>\n",
       "      <td>GULLS JUST WANNA HAVE FUN (FISH &amp; CHIP GOSE) S...</td>\n",
       "    </tr>\n",
       "    <tr>\n",
       "      <th>46.0</th>\n",
       "      <th>2023</th>\n",
       "      <td>3</td>\n",
       "      <td>Tallboy and Moose</td>\n",
       "      <td>Waggle Buzz</td>\n",
       "      <td>Braggot</td>\n",
       "      <td>Honey undertones mingle with caramel and biscu...</td>\n",
       "      <td>WAGGLE BUZZ BRAGGOT HONEY UNDERTONES MINGLE WI...</td>\n",
       "    </tr>\n",
       "  </tbody>\n",
       "</table>\n",
       "</div>"
      ],
      "text/plain": [
       "           section                          brewery  \\\n",
       "num  year                                             \n",
       "67.0 2023        4          Shark Island Brewing Co   \n",
       "45.0 2023        3                     Craft and Co   \n",
       "69.0 2023        4               Jetty Road Brewery   \n",
       "98.0 2023        5  Boatrocker Brewers & Distillers   \n",
       "46.0 2023        3                Tallboy and Moose   \n",
       "\n",
       "                                                   name    style  \\\n",
       "num  year                                                          \n",
       "67.0 2023                      Life Can Be Sweet & Sour   Saison   \n",
       "45.0 2023                        The Craft and Co. WIPA      IPA   \n",
       "69.0 2023          Barrel-Aged Raspberry Imperial Stout    Stout   \n",
       "98.0 2023  Gulls Just Wanna Have Fun (Fish & Chip Gose)     Sour   \n",
       "46.0 2023                                   Waggle Buzz  Braggot   \n",
       "\n",
       "                                                        desc  \\\n",
       "num  year                                                      \n",
       "67.0 2023  A zesty Saison infused with Cinnamon and Pinea...   \n",
       "45.0 2023  Bursting with bright citrus, stone fruit, and ...   \n",
       "69.0 2023  Just like a Black Forrest cake your nan made f...   \n",
       "98.0 2023  Sea harvest ingredients, fresh lemon peel & ma...   \n",
       "46.0 2023  Honey undertones mingle with caramel and biscu...   \n",
       "\n",
       "                                                       words  \n",
       "num  year                                                     \n",
       "67.0 2023  LIFE CAN BE SWEET & SOUR SAISON A ZESTY SAISON...  \n",
       "45.0 2023  THE CRAFT AND CO. WIPA IPA BURSTING WITH BRIGH...  \n",
       "69.0 2023  BARREL-AGED RASPBERRY IMPERIAL STOUT STOUT JUS...  \n",
       "98.0 2023  GULLS JUST WANNA HAVE FUN (FISH & CHIP GOSE) S...  \n",
       "46.0 2023  WAGGLE BUZZ BRAGGOT HONEY UNDERTONES MINGLE WI...  "
      ]
     },
     "metadata": {},
     "output_type": "display_data"
    }
   ],
   "source": [
    "test_num = 108\n",
    "num_recs = 5\n",
    "\n",
    "display(df.iloc[test_num])\n",
    "display(df.iloc[get_same_year_recs(test_num, num_recs)])"
   ]
  }
 ],
 "metadata": {
  "kernelspec": {
   "display_name": "beer-recommender-venv",
   "language": "python",
   "name": "python3"
  },
  "language_info": {
   "codemirror_mode": {
    "name": "ipython",
    "version": 3
   },
   "file_extension": ".py",
   "mimetype": "text/x-python",
   "name": "python",
   "nbconvert_exporter": "python",
   "pygments_lexer": "ipython3",
   "version": "3.10.11"
  }
 },
 "nbformat": 4,
 "nbformat_minor": 2
}
