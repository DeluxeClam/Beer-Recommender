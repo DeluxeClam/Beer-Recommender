{
 "cells": [
  {
   "cell_type": "code",
   "execution_count": 38,
   "id": "90661907-eed8-4ca7-ba1c-e735ed65bcf3",
   "metadata": {
    "tags": []
   },
   "outputs": [],
   "source": [
    "# Preamble\n",
    "import numpy as np\n",
    "import pandas as pd\n",
    "import plotly.express as px\n",
    "import re\n",
    "from collections import Counter\n",
    "from sklearn.feature_extraction.text import TfidfVectorizer\n",
    "from sklearn.metrics.pairwise import cosine_similarity\n",
    "from sklearn.metrics.pairwise import euclidean_distances\n",
    "from sklearn.decomposition import PCA\n",
    "from sklearn.manifold import TSNE\n",
    "from sklearn.cluster import DBSCAN\n",
    "from sklearn.preprocessing import normalize\n",
    "from sklearn.neighbors import NearestNeighbors"
   ]
  },
  {
   "cell_type": "code",
   "execution_count": 8,
   "id": "08bb239d-ec4c-4ce8-92f9-86989b39390c",
   "metadata": {
    "tags": []
   },
   "outputs": [],
   "source": [
    "# Load in beer spreadsheet\n",
    "main_file_path = \"C:/Users/JB/Documents/Git_Repositories/Beer-Recommender/\"\n",
    "\n",
    "df = pd.read_csv(main_file_path + \"Data/GABS_2023_Festival_Beers.csv\").set_index(\"Number\")"
   ]
  },
  {
   "cell_type": "code",
   "execution_count": 9,
   "id": "f7471d76-fdb0-42b0-b354-131939bc4aef",
   "metadata": {
    "tags": []
   },
   "outputs": [
    {
     "data": {
      "text/html": [
       "<div>\n",
       "<style scoped>\n",
       "    .dataframe tbody tr th:only-of-type {\n",
       "        vertical-align: middle;\n",
       "    }\n",
       "\n",
       "    .dataframe tbody tr th {\n",
       "        vertical-align: top;\n",
       "    }\n",
       "\n",
       "    .dataframe thead th {\n",
       "        text-align: right;\n",
       "    }\n",
       "</style>\n",
       "<table border=\"1\" class=\"dataframe\">\n",
       "  <thead>\n",
       "    <tr style=\"text-align: right;\">\n",
       "      <th></th>\n",
       "      <th>Section</th>\n",
       "      <th>Brewery</th>\n",
       "      <th>Beer</th>\n",
       "      <th>Style</th>\n",
       "      <th>Description</th>\n",
       "      <th>Anticipation</th>\n",
       "      <th>Anticipation notes</th>\n",
       "      <th>Reality</th>\n",
       "      <th>Reality notes</th>\n",
       "    </tr>\n",
       "    <tr>\n",
       "      <th>Number</th>\n",
       "      <th></th>\n",
       "      <th></th>\n",
       "      <th></th>\n",
       "      <th></th>\n",
       "      <th></th>\n",
       "      <th></th>\n",
       "      <th></th>\n",
       "      <th></th>\n",
       "      <th></th>\n",
       "    </tr>\n",
       "  </thead>\n",
       "  <tbody>\n",
       "    <tr>\n",
       "      <th>1</th>\n",
       "      <td>1</td>\n",
       "      <td>Dad &amp; Dave</td>\n",
       "      <td>Boba Beer</td>\n",
       "      <td>Sour</td>\n",
       "      <td>Tart Grapefruit Beliner Weisse infused with Ja...</td>\n",
       "      <td>5</td>\n",
       "      <td>Weird, but probs boring</td>\n",
       "      <td>NaN</td>\n",
       "      <td>NaN</td>\n",
       "    </tr>\n",
       "    <tr>\n",
       "      <th>2</th>\n",
       "      <td>1</td>\n",
       "      <td>The Coastal Brewing Company</td>\n",
       "      <td>Homestead Blackberry and Apple Pastry Sour</td>\n",
       "      <td>Specialty</td>\n",
       "      <td>Perfect for an autumn or winter evening bringi...</td>\n",
       "      <td>6</td>\n",
       "      <td>Will have if nothing else</td>\n",
       "      <td>NaN</td>\n",
       "      <td>NaN</td>\n",
       "    </tr>\n",
       "    <tr>\n",
       "      <th>3</th>\n",
       "      <td>1</td>\n",
       "      <td>7th Day Brewery</td>\n",
       "      <td>Suit Up</td>\n",
       "      <td>IPA Black</td>\n",
       "      <td>Choc &amp; raisins mingle with piney resin and cit...</td>\n",
       "      <td>7</td>\n",
       "      <td>Sounds good</td>\n",
       "      <td>NaN</td>\n",
       "      <td>NaN</td>\n",
       "    </tr>\n",
       "    <tr>\n",
       "      <th>4</th>\n",
       "      <td>1</td>\n",
       "      <td>Six String Brewing Co</td>\n",
       "      <td>Whiskey in the jar</td>\n",
       "      <td>Wood Aged Beer</td>\n",
       "      <td>A barrel aged, American-Style Imperial Stout.</td>\n",
       "      <td>8</td>\n",
       "      <td>Yep</td>\n",
       "      <td>NaN</td>\n",
       "      <td>NaN</td>\n",
       "    </tr>\n",
       "    <tr>\n",
       "      <th>5</th>\n",
       "      <td>1</td>\n",
       "      <td>The Marsden Brewhouse</td>\n",
       "      <td>Marsden Neopolitan Porter</td>\n",
       "      <td>Stout Tropical</td>\n",
       "      <td>Just like the ice cream, Berry - Vanilla - Cho...</td>\n",
       "      <td>10</td>\n",
       "      <td>Weird stout, no way I'm not</td>\n",
       "      <td>NaN</td>\n",
       "      <td>NaN</td>\n",
       "    </tr>\n",
       "  </tbody>\n",
       "</table>\n",
       "</div>"
      ],
      "text/plain": [
       "        Section                      Brewery   \n",
       "Number                                         \n",
       "1             1                   Dad & Dave  \\\n",
       "2             1  The Coastal Brewing Company   \n",
       "3             1              7th Day Brewery   \n",
       "4             1        Six String Brewing Co   \n",
       "5             1        The Marsden Brewhouse   \n",
       "\n",
       "                                              Beer           Style   \n",
       "Number                                                               \n",
       "1                                        Boba Beer            Sour  \\\n",
       "2       Homestead Blackberry and Apple Pastry Sour       Specialty   \n",
       "3                                          Suit Up       IPA Black   \n",
       "4                               Whiskey in the jar  Wood Aged Beer   \n",
       "5                        Marsden Neopolitan Porter  Stout Tropical   \n",
       "\n",
       "                                              Description  Anticipation   \n",
       "Number                                                                    \n",
       "1       Tart Grapefruit Beliner Weisse infused with Ja...             5  \\\n",
       "2       Perfect for an autumn or winter evening bringi...             6   \n",
       "3       Choc & raisins mingle with piney resin and cit...             7   \n",
       "4           A barrel aged, American-Style Imperial Stout.             8   \n",
       "5       Just like the ice cream, Berry - Vanilla - Cho...            10   \n",
       "\n",
       "                 Anticipation notes  Reality Reality notes  \n",
       "Number                                                      \n",
       "1           Weird, but probs boring      NaN           NaN  \n",
       "2         Will have if nothing else      NaN           NaN  \n",
       "3                       Sounds good      NaN           NaN  \n",
       "4                               Yep      NaN           NaN  \n",
       "5       Weird stout, no way I'm not      NaN           NaN  "
      ]
     },
     "execution_count": 9,
     "metadata": {},
     "output_type": "execute_result"
    }
   ],
   "source": [
    "# Inspect data\n",
    "df.head()"
   ]
  },
  {
   "cell_type": "code",
   "execution_count": 7,
   "id": "cff35723-2287-4639-9596-a19d0a1c78a1",
   "metadata": {
    "tags": []
   },
   "outputs": [
    {
     "data": {
      "text/plain": [
       "Section\n",
       "1    4.673684\n",
       "2    5.368421\n",
       "3    4.326316\n",
       "4    2.210526\n",
       "5    2.852632\n",
       "6    5.397368\n",
       "Name: Anticipation, dtype: float64"
      ]
     },
     "metadata": {},
     "output_type": "display_data"
    }
   ],
   "source": [
    "# Calculate std dev for each section\n",
    "std_df = df.groupby(\"Section\")[\"Anticipation\"].agg(np.var)#.reset_index()\n",
    "display(std_df)"
   ]
  },
  {
   "cell_type": "code",
   "execution_count": 10,
   "id": "24782a89-1a64-427a-b6b1-28bb02652e3b",
   "metadata": {
    "tags": []
   },
   "outputs": [],
   "source": [
    "# Best paddles from each section\n",
    "# display(df.groupby(\"Section\")[\"Anticipation\"].nlargest(5, keep=\"all\").sort_index())\n",
    "\n",
    "# Create a column combining all text descriptor fields\n",
    "df['words'] = [str(name).strip().upper() + ' '\n",
    "               + str(style).strip().upper() + ' '\n",
    "               + str(description).strip().upper()\n",
    "               for name, style, description\n",
    "               in zip(df.Beer, df.Style, df.Description)]\n",
    "\n",
    "# TF-IDF vectorisation on description to find most unique beers?\n",
    "X = TfidfVectorizer().fit_transform([re.sub(r'[\\s]+', ' ', re.sub(r'[\\W]', ' ', x)).upper().strip() for x in df.words])\n",
    "# Average of TF-IDF?\n",
    "beer_uniqueness_mean = pd.Series(np.array(np.mean(X, axis=1)).flatten())\n",
    "# Cosine similarity? (and then average)\n",
    "beer_uniqueness_cos = pd.Series(1 - np.mean(cosine_similarity(X), axis=1))\n",
    "# Euclidean distances? (and then average)\n",
    "beer_uniqueness_euc = pd.Series(np.mean(euclidean_distances(X), axis=1))\n",
    "\n",
    "# Choose one\n",
    "df['beer_uniqueness'] = beer_uniqueness_cos\n",
    "\n"
   ]
  },
  {
   "cell_type": "code",
   "execution_count": 11,
   "id": "7448eb81-64db-4f34-920d-fb71a3d4dc38",
   "metadata": {
    "tags": []
   },
   "outputs": [
    {
     "data": {
      "text/plain": [
       "array([[0.        , 1.40062675, 1.39903301, ..., 1.34528002, 1.40116494,\n",
       "        1.41421356],\n",
       "       [1.40062675, 0.        , 1.40774371, ..., 1.35143153, 1.37489009,\n",
       "        1.41421356],\n",
       "       [1.39903301, 1.40774371, 0.        , ..., 1.4034707 , 1.39515329,\n",
       "        1.41421356],\n",
       "       ...,\n",
       "       [1.34528002, 1.35143153, 1.4034707 , ..., 0.        , 1.24936986,\n",
       "        1.22322965],\n",
       "       [1.40116494, 1.37489009, 1.39515329, ..., 1.24936986, 0.        ,\n",
       "        1.22221938],\n",
       "       [1.41421356, 1.41421356, 1.41421356, ..., 1.22322965, 1.22221938,\n",
       "        0.        ]])"
      ]
     },
     "execution_count": 11,
     "metadata": {},
     "output_type": "execute_result"
    }
   ],
   "source": [
    "euclidean_distances(X)"
   ]
  },
  {
   "cell_type": "code",
   "execution_count": 12,
   "id": "36d0b591-c535-4290-8311-c9c279079681",
   "metadata": {
    "tags": []
   },
   "outputs": [
    {
     "name": "stdout",
     "output_type": "stream",
     "text": [
      "1:  ('Section 2', [40, 34, 39, 29, 22])\n",
      "2:  ('Section 3', [57, 49, 52, 42, 41])\n",
      "3:  ('Section 4', [76, 80, 69, 74, 73])\n",
      "4:  ('Section 5', [88, 91, 96, 98, 83])\n",
      "5:  ('Section 6', [109, 106, 111, 101, 105])\n",
      "6:  ('Section 3', [47, 59, 51, 43, 56])\n",
      "7:  ('Section 1', [5, 19, 15, 7, 14])\n",
      "8:  ('Section 5', [95, 86, 85, 84, 82])\n",
      "9:  ('Section 4', [70, 67, 65, 63, 75])\n",
      "10:  ('Section 6', [107, 108, 110, 118, 112])\n",
      "11:  ('Section 2', [23, 28, 33, 37, 30])\n",
      "12:  ('Section 4', [68, 64, 61, 62, 77])\n",
      "13:  ('Section 1', [4, 17, 8, 11, 12])\n",
      "14:  ('Section 5', [93, 90, 97, 99, 94])\n",
      "15:  ('Section 3', [44, 55, 46, 53, 50])\n",
      "16:  ('Section 6', [103, 104, 116, 102, 113])\n",
      "17:  ('Section 2', [27, 26, 24, 31, 35])\n",
      "18:  ('Section 1', [3, 18, 6, 16, 10])\n",
      "19:  ('Section 4', [79, 66, 72, 78, 71])\n",
      "20:  ('Section 5', [92, 87, 81, 100, 89])\n",
      "21:  ('Section 3', [54, 48, 60, 58, 45])\n",
      "22:  ('Section 1', [20, 2, 1, 9, 13])\n",
      "23:  ('Section 2', [25, 21, 38, 32, 36])\n",
      "24:  ('Section 6', [114, 117, 120, 115, 119])\n"
     ]
    }
   ],
   "source": [
    "# Interesting, I might maximise utility by getting a second paddle\n",
    "# from a section before the first from another.\n",
    "\n",
    "# Not ideal, but a while loop I guess?\n",
    "all_beers = set(df.index)\n",
    "paddle_index = 1\n",
    "paddle_list = dict()\n",
    "while len(all_beers) > 0:\n",
    "    \n",
    "    # Subset beer list\n",
    "    temp_df = df[df.index.isin(list(all_beers))]\n",
    "    \n",
    "    # Find the section with the best paddle\n",
    "    sec = temp_df.sort_values(\"beer_uniqueness\", ascending=False) \\\n",
    "            .groupby(\"Section\")[\"Anticipation\"].nlargest(5).reset_index() \\\n",
    "            .groupby(\"Section\") \\\n",
    "            .agg(\"sum\") \\\n",
    "            .join(pd.DataFrame(std_df).rename(columns={\"Anticipation\":\"std\"}), on=\"Section\") \\\n",
    "            .sort_values([\"Anticipation\", \"std\"], ascending=False) \\\n",
    "            .index[0]\n",
    "    \n",
    "    # Get that paddle\n",
    "    paddle = list(temp_df[temp_df.Section==sec].sort_values([\"Anticipation\", \"beer_uniqueness\"], ascending=[False, False]).head(5).reset_index().Number)\n",
    "    \n",
    "    # Store that paddle\n",
    "    paddle_list[str(paddle_index)] = (f'Section {sec}', paddle)\n",
    "    \n",
    "    # Increment paddle index\n",
    "    paddle_index += 1\n",
    "    \n",
    "    # Update remaining beers\n",
    "    all_beers = all_beers - set(paddle)\n",
    "\n",
    "# Display results\n",
    "for key, value in paddle_list.items():\n",
    "    print(f'{key}: ', value)"
   ]
  },
  {
   "cell_type": "code",
   "execution_count": 168,
   "id": "a6112a7c-6a7a-47cc-b58e-a25fdb1148bb",
   "metadata": {
    "tags": []
   },
   "outputs": [
    {
     "data": {
      "text/html": [
       "<div>\n",
       "<style scoped>\n",
       "    .dataframe tbody tr th:only-of-type {\n",
       "        vertical-align: middle;\n",
       "    }\n",
       "\n",
       "    .dataframe tbody tr th {\n",
       "        vertical-align: top;\n",
       "    }\n",
       "\n",
       "    .dataframe thead th {\n",
       "        text-align: right;\n",
       "    }\n",
       "</style>\n",
       "<table border=\"1\" class=\"dataframe\">\n",
       "  <thead>\n",
       "    <tr style=\"text-align: right;\">\n",
       "      <th></th>\n",
       "      <th>Rank</th>\n",
       "      <th>Section</th>\n",
       "      <th>Beer 1</th>\n",
       "      <th>Beer 2</th>\n",
       "      <th>Beer 3</th>\n",
       "      <th>Beer 4</th>\n",
       "      <th>Beer 5</th>\n",
       "    </tr>\n",
       "  </thead>\n",
       "  <tbody>\n",
       "    <tr>\n",
       "      <th>0</th>\n",
       "      <td>1</td>\n",
       "      <td>Section 2</td>\n",
       "      <td>40</td>\n",
       "      <td>34</td>\n",
       "      <td>39</td>\n",
       "      <td>29</td>\n",
       "      <td>22</td>\n",
       "    </tr>\n",
       "    <tr>\n",
       "      <th>1</th>\n",
       "      <td>2</td>\n",
       "      <td>Section 3</td>\n",
       "      <td>57</td>\n",
       "      <td>49</td>\n",
       "      <td>52</td>\n",
       "      <td>42</td>\n",
       "      <td>41</td>\n",
       "    </tr>\n",
       "    <tr>\n",
       "      <th>2</th>\n",
       "      <td>3</td>\n",
       "      <td>Section 4</td>\n",
       "      <td>76</td>\n",
       "      <td>80</td>\n",
       "      <td>69</td>\n",
       "      <td>74</td>\n",
       "      <td>73</td>\n",
       "    </tr>\n",
       "    <tr>\n",
       "      <th>3</th>\n",
       "      <td>4</td>\n",
       "      <td>Section 5</td>\n",
       "      <td>88</td>\n",
       "      <td>91</td>\n",
       "      <td>96</td>\n",
       "      <td>98</td>\n",
       "      <td>83</td>\n",
       "    </tr>\n",
       "    <tr>\n",
       "      <th>4</th>\n",
       "      <td>5</td>\n",
       "      <td>Section 6</td>\n",
       "      <td>109</td>\n",
       "      <td>106</td>\n",
       "      <td>111</td>\n",
       "      <td>101</td>\n",
       "      <td>105</td>\n",
       "    </tr>\n",
       "    <tr>\n",
       "      <th>5</th>\n",
       "      <td>6</td>\n",
       "      <td>Section 3</td>\n",
       "      <td>47</td>\n",
       "      <td>59</td>\n",
       "      <td>51</td>\n",
       "      <td>43</td>\n",
       "      <td>56</td>\n",
       "    </tr>\n",
       "    <tr>\n",
       "      <th>6</th>\n",
       "      <td>7</td>\n",
       "      <td>Section 1</td>\n",
       "      <td>5</td>\n",
       "      <td>19</td>\n",
       "      <td>15</td>\n",
       "      <td>7</td>\n",
       "      <td>14</td>\n",
       "    </tr>\n",
       "    <tr>\n",
       "      <th>7</th>\n",
       "      <td>8</td>\n",
       "      <td>Section 5</td>\n",
       "      <td>95</td>\n",
       "      <td>86</td>\n",
       "      <td>85</td>\n",
       "      <td>84</td>\n",
       "      <td>82</td>\n",
       "    </tr>\n",
       "    <tr>\n",
       "      <th>8</th>\n",
       "      <td>9</td>\n",
       "      <td>Section 4</td>\n",
       "      <td>70</td>\n",
       "      <td>67</td>\n",
       "      <td>65</td>\n",
       "      <td>63</td>\n",
       "      <td>75</td>\n",
       "    </tr>\n",
       "    <tr>\n",
       "      <th>9</th>\n",
       "      <td>10</td>\n",
       "      <td>Section 6</td>\n",
       "      <td>107</td>\n",
       "      <td>108</td>\n",
       "      <td>110</td>\n",
       "      <td>118</td>\n",
       "      <td>112</td>\n",
       "    </tr>\n",
       "    <tr>\n",
       "      <th>10</th>\n",
       "      <td>11</td>\n",
       "      <td>Section 2</td>\n",
       "      <td>23</td>\n",
       "      <td>28</td>\n",
       "      <td>33</td>\n",
       "      <td>37</td>\n",
       "      <td>30</td>\n",
       "    </tr>\n",
       "    <tr>\n",
       "      <th>11</th>\n",
       "      <td>12</td>\n",
       "      <td>Section 4</td>\n",
       "      <td>68</td>\n",
       "      <td>64</td>\n",
       "      <td>61</td>\n",
       "      <td>62</td>\n",
       "      <td>77</td>\n",
       "    </tr>\n",
       "    <tr>\n",
       "      <th>12</th>\n",
       "      <td>13</td>\n",
       "      <td>Section 1</td>\n",
       "      <td>4</td>\n",
       "      <td>17</td>\n",
       "      <td>8</td>\n",
       "      <td>11</td>\n",
       "      <td>12</td>\n",
       "    </tr>\n",
       "    <tr>\n",
       "      <th>13</th>\n",
       "      <td>14</td>\n",
       "      <td>Section 5</td>\n",
       "      <td>93</td>\n",
       "      <td>90</td>\n",
       "      <td>97</td>\n",
       "      <td>99</td>\n",
       "      <td>94</td>\n",
       "    </tr>\n",
       "    <tr>\n",
       "      <th>14</th>\n",
       "      <td>15</td>\n",
       "      <td>Section 3</td>\n",
       "      <td>44</td>\n",
       "      <td>55</td>\n",
       "      <td>46</td>\n",
       "      <td>53</td>\n",
       "      <td>50</td>\n",
       "    </tr>\n",
       "    <tr>\n",
       "      <th>15</th>\n",
       "      <td>16</td>\n",
       "      <td>Section 6</td>\n",
       "      <td>103</td>\n",
       "      <td>104</td>\n",
       "      <td>116</td>\n",
       "      <td>102</td>\n",
       "      <td>113</td>\n",
       "    </tr>\n",
       "    <tr>\n",
       "      <th>16</th>\n",
       "      <td>17</td>\n",
       "      <td>Section 2</td>\n",
       "      <td>27</td>\n",
       "      <td>26</td>\n",
       "      <td>24</td>\n",
       "      <td>31</td>\n",
       "      <td>35</td>\n",
       "    </tr>\n",
       "    <tr>\n",
       "      <th>17</th>\n",
       "      <td>18</td>\n",
       "      <td>Section 1</td>\n",
       "      <td>3</td>\n",
       "      <td>18</td>\n",
       "      <td>6</td>\n",
       "      <td>16</td>\n",
       "      <td>10</td>\n",
       "    </tr>\n",
       "    <tr>\n",
       "      <th>18</th>\n",
       "      <td>19</td>\n",
       "      <td>Section 4</td>\n",
       "      <td>79</td>\n",
       "      <td>66</td>\n",
       "      <td>72</td>\n",
       "      <td>78</td>\n",
       "      <td>71</td>\n",
       "    </tr>\n",
       "    <tr>\n",
       "      <th>19</th>\n",
       "      <td>20</td>\n",
       "      <td>Section 5</td>\n",
       "      <td>92</td>\n",
       "      <td>87</td>\n",
       "      <td>81</td>\n",
       "      <td>100</td>\n",
       "      <td>89</td>\n",
       "    </tr>\n",
       "    <tr>\n",
       "      <th>20</th>\n",
       "      <td>21</td>\n",
       "      <td>Section 3</td>\n",
       "      <td>54</td>\n",
       "      <td>48</td>\n",
       "      <td>60</td>\n",
       "      <td>58</td>\n",
       "      <td>45</td>\n",
       "    </tr>\n",
       "    <tr>\n",
       "      <th>21</th>\n",
       "      <td>22</td>\n",
       "      <td>Section 1</td>\n",
       "      <td>20</td>\n",
       "      <td>2</td>\n",
       "      <td>1</td>\n",
       "      <td>9</td>\n",
       "      <td>13</td>\n",
       "    </tr>\n",
       "    <tr>\n",
       "      <th>22</th>\n",
       "      <td>23</td>\n",
       "      <td>Section 2</td>\n",
       "      <td>25</td>\n",
       "      <td>21</td>\n",
       "      <td>38</td>\n",
       "      <td>32</td>\n",
       "      <td>36</td>\n",
       "    </tr>\n",
       "    <tr>\n",
       "      <th>23</th>\n",
       "      <td>24</td>\n",
       "      <td>Section 6</td>\n",
       "      <td>114</td>\n",
       "      <td>117</td>\n",
       "      <td>120</td>\n",
       "      <td>115</td>\n",
       "      <td>119</td>\n",
       "    </tr>\n",
       "  </tbody>\n",
       "</table>\n",
       "</div>"
      ],
      "text/plain": [
       "   Rank    Section  Beer 1  Beer 2  Beer 3  Beer 4  Beer 5\n",
       "0     1  Section 2      40      34      39      29      22\n",
       "1     2  Section 3      57      49      52      42      41\n",
       "2     3  Section 4      76      80      69      74      73\n",
       "3     4  Section 5      88      91      96      98      83\n",
       "4     5  Section 6     109     106     111     101     105\n",
       "5     6  Section 3      47      59      51      43      56\n",
       "6     7  Section 1       5      19      15       7      14\n",
       "7     8  Section 5      95      86      85      84      82\n",
       "8     9  Section 4      70      67      65      63      75\n",
       "9    10  Section 6     107     108     110     118     112\n",
       "10   11  Section 2      23      28      33      37      30\n",
       "11   12  Section 4      68      64      61      62      77\n",
       "12   13  Section 1       4      17       8      11      12\n",
       "13   14  Section 5      93      90      97      99      94\n",
       "14   15  Section 3      44      55      46      53      50\n",
       "15   16  Section 6     103     104     116     102     113\n",
       "16   17  Section 2      27      26      24      31      35\n",
       "17   18  Section 1       3      18       6      16      10\n",
       "18   19  Section 4      79      66      72      78      71\n",
       "19   20  Section 5      92      87      81     100      89\n",
       "20   21  Section 3      54      48      60      58      45\n",
       "21   22  Section 1      20       2       1       9      13\n",
       "22   23  Section 2      25      21      38      32      36\n",
       "23   24  Section 6     114     117     120     115     119"
      ]
     },
     "metadata": {},
     "output_type": "display_data"
    }
   ],
   "source": [
    "# Display Results\n",
    "rank = []\n",
    "section = []\n",
    "beer1 = []\n",
    "beer2 = []\n",
    "beer3 = []\n",
    "beer4 = []\n",
    "beer5 = []\n",
    "for key, value in paddle_list.items():\n",
    "    rank.append(key)\n",
    "    section.append(value[0])\n",
    "    beer1.append(value[1][0])\n",
    "    beer2.append(value[1][1])\n",
    "    beer3.append(value[1][2])\n",
    "    beer4.append(value[1][3])\n",
    "    beer5.append(value[1][4])\n",
    "    \n",
    "god_tier_paddle_tiers_df = pd.DataFrame({\"Rank\":rank,\n",
    "                                         \"Section\":section,\n",
    "                                         \"Beer 1\":beer1,\n",
    "                                         \"Beer 2\":beer2,\n",
    "                                         \"Beer 3\":beer3,\n",
    "                                         \"Beer 4\":beer4,\n",
    "                                         \"Beer 5\":beer5})\n",
    "\n",
    "display(god_tier_paddle_tiers_df)"
   ]
  },
  {
   "cell_type": "code",
   "execution_count": 13,
   "id": "0a2c2af7-d6ad-4824-9fd2-12b60248bb19",
   "metadata": {
    "tags": []
   },
   "outputs": [
    {
     "data": {
      "application/vnd.plotly.v1+json": {
       "config": {
        "plotlyServerURL": "https://plot.ly"
       },
       "data": [
        {
         "alignmentgroup": "True",
         "hovertemplate": "Section=%{x}<br>Anticipation=%{y}<extra></extra>",
         "legendgroup": "",
         "marker": {
          "color": "#636efa"
         },
         "name": "",
         "notched": false,
         "offsetgroup": "",
         "orientation": "v",
         "showlegend": false,
         "type": "box",
         "x": [
          1,
          1,
          1,
          1,
          1,
          1,
          1,
          1,
          1,
          1,
          1,
          1,
          1,
          1,
          1,
          1,
          1,
          1,
          1,
          1,
          2,
          2,
          2,
          2,
          2,
          2,
          2,
          2,
          2,
          2,
          2,
          2,
          2,
          2,
          2,
          2,
          2,
          2,
          2,
          2,
          3,
          3,
          3,
          3,
          3,
          3,
          3,
          3,
          3,
          3,
          3,
          3,
          3,
          3,
          3,
          3,
          3,
          3,
          3,
          3,
          4,
          4,
          4,
          4,
          4,
          4,
          4,
          4,
          4,
          4,
          4,
          4,
          4,
          4,
          4,
          4,
          4,
          4,
          4,
          4,
          5,
          5,
          5,
          5,
          5,
          5,
          5,
          5,
          5,
          5,
          5,
          5,
          5,
          5,
          5,
          5,
          5,
          5,
          5,
          5,
          6,
          6,
          6,
          6,
          6,
          6,
          6,
          6,
          6,
          6,
          6,
          6,
          6,
          6,
          6,
          6,
          6,
          6,
          6,
          6
         ],
         "x0": " ",
         "xaxis": "x",
         "y": [
          5,
          6,
          7,
          8,
          10,
          6,
          8,
          7,
          3,
          6,
          7,
          7,
          0,
          8,
          8,
          6,
          8,
          7,
          9,
          6,
          5,
          9,
          8,
          7,
          6,
          7,
          7,
          8,
          9,
          7,
          7,
          3,
          8,
          10,
          6,
          2,
          8,
          3,
          10,
          10,
          9,
          9,
          9,
          8,
          1,
          7,
          9,
          6,
          10,
          7,
          9,
          10,
          7,
          7,
          7,
          8,
          10,
          6,
          9,
          6,
          8,
          7,
          8,
          8,
          9,
          7,
          9,
          8,
          10,
          9,
          4,
          7,
          9,
          9,
          8,
          10,
          7,
          6,
          7,
          10,
          5,
          8,
          9,
          8,
          9,
          9,
          6,
          10,
          4,
          8,
          10,
          7,
          8,
          7,
          9,
          9,
          7,
          9,
          7,
          5,
          9,
          7,
          7,
          7,
          8,
          10,
          8,
          8,
          10,
          8,
          9,
          7,
          6,
          6,
          3,
          7,
          4,
          8,
          1,
          4
         ],
         "y0": " ",
         "yaxis": "y"
        }
       ],
       "layout": {
        "boxmode": "group",
        "legend": {
         "tracegroupgap": 0
        },
        "margin": {
         "t": 60
        },
        "template": {
         "data": {
          "bar": [
           {
            "error_x": {
             "color": "#2a3f5f"
            },
            "error_y": {
             "color": "#2a3f5f"
            },
            "marker": {
             "line": {
              "color": "#E5ECF6",
              "width": 0.5
             },
             "pattern": {
              "fillmode": "overlay",
              "size": 10,
              "solidity": 0.2
             }
            },
            "type": "bar"
           }
          ],
          "barpolar": [
           {
            "marker": {
             "line": {
              "color": "#E5ECF6",
              "width": 0.5
             },
             "pattern": {
              "fillmode": "overlay",
              "size": 10,
              "solidity": 0.2
             }
            },
            "type": "barpolar"
           }
          ],
          "carpet": [
           {
            "aaxis": {
             "endlinecolor": "#2a3f5f",
             "gridcolor": "white",
             "linecolor": "white",
             "minorgridcolor": "white",
             "startlinecolor": "#2a3f5f"
            },
            "baxis": {
             "endlinecolor": "#2a3f5f",
             "gridcolor": "white",
             "linecolor": "white",
             "minorgridcolor": "white",
             "startlinecolor": "#2a3f5f"
            },
            "type": "carpet"
           }
          ],
          "choropleth": [
           {
            "colorbar": {
             "outlinewidth": 0,
             "ticks": ""
            },
            "type": "choropleth"
           }
          ],
          "contour": [
           {
            "colorbar": {
             "outlinewidth": 0,
             "ticks": ""
            },
            "colorscale": [
             [
              0,
              "#0d0887"
             ],
             [
              0.1111111111111111,
              "#46039f"
             ],
             [
              0.2222222222222222,
              "#7201a8"
             ],
             [
              0.3333333333333333,
              "#9c179e"
             ],
             [
              0.4444444444444444,
              "#bd3786"
             ],
             [
              0.5555555555555556,
              "#d8576b"
             ],
             [
              0.6666666666666666,
              "#ed7953"
             ],
             [
              0.7777777777777778,
              "#fb9f3a"
             ],
             [
              0.8888888888888888,
              "#fdca26"
             ],
             [
              1,
              "#f0f921"
             ]
            ],
            "type": "contour"
           }
          ],
          "contourcarpet": [
           {
            "colorbar": {
             "outlinewidth": 0,
             "ticks": ""
            },
            "type": "contourcarpet"
           }
          ],
          "heatmap": [
           {
            "colorbar": {
             "outlinewidth": 0,
             "ticks": ""
            },
            "colorscale": [
             [
              0,
              "#0d0887"
             ],
             [
              0.1111111111111111,
              "#46039f"
             ],
             [
              0.2222222222222222,
              "#7201a8"
             ],
             [
              0.3333333333333333,
              "#9c179e"
             ],
             [
              0.4444444444444444,
              "#bd3786"
             ],
             [
              0.5555555555555556,
              "#d8576b"
             ],
             [
              0.6666666666666666,
              "#ed7953"
             ],
             [
              0.7777777777777778,
              "#fb9f3a"
             ],
             [
              0.8888888888888888,
              "#fdca26"
             ],
             [
              1,
              "#f0f921"
             ]
            ],
            "type": "heatmap"
           }
          ],
          "heatmapgl": [
           {
            "colorbar": {
             "outlinewidth": 0,
             "ticks": ""
            },
            "colorscale": [
             [
              0,
              "#0d0887"
             ],
             [
              0.1111111111111111,
              "#46039f"
             ],
             [
              0.2222222222222222,
              "#7201a8"
             ],
             [
              0.3333333333333333,
              "#9c179e"
             ],
             [
              0.4444444444444444,
              "#bd3786"
             ],
             [
              0.5555555555555556,
              "#d8576b"
             ],
             [
              0.6666666666666666,
              "#ed7953"
             ],
             [
              0.7777777777777778,
              "#fb9f3a"
             ],
             [
              0.8888888888888888,
              "#fdca26"
             ],
             [
              1,
              "#f0f921"
             ]
            ],
            "type": "heatmapgl"
           }
          ],
          "histogram": [
           {
            "marker": {
             "pattern": {
              "fillmode": "overlay",
              "size": 10,
              "solidity": 0.2
             }
            },
            "type": "histogram"
           }
          ],
          "histogram2d": [
           {
            "colorbar": {
             "outlinewidth": 0,
             "ticks": ""
            },
            "colorscale": [
             [
              0,
              "#0d0887"
             ],
             [
              0.1111111111111111,
              "#46039f"
             ],
             [
              0.2222222222222222,
              "#7201a8"
             ],
             [
              0.3333333333333333,
              "#9c179e"
             ],
             [
              0.4444444444444444,
              "#bd3786"
             ],
             [
              0.5555555555555556,
              "#d8576b"
             ],
             [
              0.6666666666666666,
              "#ed7953"
             ],
             [
              0.7777777777777778,
              "#fb9f3a"
             ],
             [
              0.8888888888888888,
              "#fdca26"
             ],
             [
              1,
              "#f0f921"
             ]
            ],
            "type": "histogram2d"
           }
          ],
          "histogram2dcontour": [
           {
            "colorbar": {
             "outlinewidth": 0,
             "ticks": ""
            },
            "colorscale": [
             [
              0,
              "#0d0887"
             ],
             [
              0.1111111111111111,
              "#46039f"
             ],
             [
              0.2222222222222222,
              "#7201a8"
             ],
             [
              0.3333333333333333,
              "#9c179e"
             ],
             [
              0.4444444444444444,
              "#bd3786"
             ],
             [
              0.5555555555555556,
              "#d8576b"
             ],
             [
              0.6666666666666666,
              "#ed7953"
             ],
             [
              0.7777777777777778,
              "#fb9f3a"
             ],
             [
              0.8888888888888888,
              "#fdca26"
             ],
             [
              1,
              "#f0f921"
             ]
            ],
            "type": "histogram2dcontour"
           }
          ],
          "mesh3d": [
           {
            "colorbar": {
             "outlinewidth": 0,
             "ticks": ""
            },
            "type": "mesh3d"
           }
          ],
          "parcoords": [
           {
            "line": {
             "colorbar": {
              "outlinewidth": 0,
              "ticks": ""
             }
            },
            "type": "parcoords"
           }
          ],
          "pie": [
           {
            "automargin": true,
            "type": "pie"
           }
          ],
          "scatter": [
           {
            "fillpattern": {
             "fillmode": "overlay",
             "size": 10,
             "solidity": 0.2
            },
            "type": "scatter"
           }
          ],
          "scatter3d": [
           {
            "line": {
             "colorbar": {
              "outlinewidth": 0,
              "ticks": ""
             }
            },
            "marker": {
             "colorbar": {
              "outlinewidth": 0,
              "ticks": ""
             }
            },
            "type": "scatter3d"
           }
          ],
          "scattercarpet": [
           {
            "marker": {
             "colorbar": {
              "outlinewidth": 0,
              "ticks": ""
             }
            },
            "type": "scattercarpet"
           }
          ],
          "scattergeo": [
           {
            "marker": {
             "colorbar": {
              "outlinewidth": 0,
              "ticks": ""
             }
            },
            "type": "scattergeo"
           }
          ],
          "scattergl": [
           {
            "marker": {
             "colorbar": {
              "outlinewidth": 0,
              "ticks": ""
             }
            },
            "type": "scattergl"
           }
          ],
          "scattermapbox": [
           {
            "marker": {
             "colorbar": {
              "outlinewidth": 0,
              "ticks": ""
             }
            },
            "type": "scattermapbox"
           }
          ],
          "scatterpolar": [
           {
            "marker": {
             "colorbar": {
              "outlinewidth": 0,
              "ticks": ""
             }
            },
            "type": "scatterpolar"
           }
          ],
          "scatterpolargl": [
           {
            "marker": {
             "colorbar": {
              "outlinewidth": 0,
              "ticks": ""
             }
            },
            "type": "scatterpolargl"
           }
          ],
          "scatterternary": [
           {
            "marker": {
             "colorbar": {
              "outlinewidth": 0,
              "ticks": ""
             }
            },
            "type": "scatterternary"
           }
          ],
          "surface": [
           {
            "colorbar": {
             "outlinewidth": 0,
             "ticks": ""
            },
            "colorscale": [
             [
              0,
              "#0d0887"
             ],
             [
              0.1111111111111111,
              "#46039f"
             ],
             [
              0.2222222222222222,
              "#7201a8"
             ],
             [
              0.3333333333333333,
              "#9c179e"
             ],
             [
              0.4444444444444444,
              "#bd3786"
             ],
             [
              0.5555555555555556,
              "#d8576b"
             ],
             [
              0.6666666666666666,
              "#ed7953"
             ],
             [
              0.7777777777777778,
              "#fb9f3a"
             ],
             [
              0.8888888888888888,
              "#fdca26"
             ],
             [
              1,
              "#f0f921"
             ]
            ],
            "type": "surface"
           }
          ],
          "table": [
           {
            "cells": {
             "fill": {
              "color": "#EBF0F8"
             },
             "line": {
              "color": "white"
             }
            },
            "header": {
             "fill": {
              "color": "#C8D4E3"
             },
             "line": {
              "color": "white"
             }
            },
            "type": "table"
           }
          ]
         },
         "layout": {
          "annotationdefaults": {
           "arrowcolor": "#2a3f5f",
           "arrowhead": 0,
           "arrowwidth": 1
          },
          "autotypenumbers": "strict",
          "coloraxis": {
           "colorbar": {
            "outlinewidth": 0,
            "ticks": ""
           }
          },
          "colorscale": {
           "diverging": [
            [
             0,
             "#8e0152"
            ],
            [
             0.1,
             "#c51b7d"
            ],
            [
             0.2,
             "#de77ae"
            ],
            [
             0.3,
             "#f1b6da"
            ],
            [
             0.4,
             "#fde0ef"
            ],
            [
             0.5,
             "#f7f7f7"
            ],
            [
             0.6,
             "#e6f5d0"
            ],
            [
             0.7,
             "#b8e186"
            ],
            [
             0.8,
             "#7fbc41"
            ],
            [
             0.9,
             "#4d9221"
            ],
            [
             1,
             "#276419"
            ]
           ],
           "sequential": [
            [
             0,
             "#0d0887"
            ],
            [
             0.1111111111111111,
             "#46039f"
            ],
            [
             0.2222222222222222,
             "#7201a8"
            ],
            [
             0.3333333333333333,
             "#9c179e"
            ],
            [
             0.4444444444444444,
             "#bd3786"
            ],
            [
             0.5555555555555556,
             "#d8576b"
            ],
            [
             0.6666666666666666,
             "#ed7953"
            ],
            [
             0.7777777777777778,
             "#fb9f3a"
            ],
            [
             0.8888888888888888,
             "#fdca26"
            ],
            [
             1,
             "#f0f921"
            ]
           ],
           "sequentialminus": [
            [
             0,
             "#0d0887"
            ],
            [
             0.1111111111111111,
             "#46039f"
            ],
            [
             0.2222222222222222,
             "#7201a8"
            ],
            [
             0.3333333333333333,
             "#9c179e"
            ],
            [
             0.4444444444444444,
             "#bd3786"
            ],
            [
             0.5555555555555556,
             "#d8576b"
            ],
            [
             0.6666666666666666,
             "#ed7953"
            ],
            [
             0.7777777777777778,
             "#fb9f3a"
            ],
            [
             0.8888888888888888,
             "#fdca26"
            ],
            [
             1,
             "#f0f921"
            ]
           ]
          },
          "colorway": [
           "#636efa",
           "#EF553B",
           "#00cc96",
           "#ab63fa",
           "#FFA15A",
           "#19d3f3",
           "#FF6692",
           "#B6E880",
           "#FF97FF",
           "#FECB52"
          ],
          "font": {
           "color": "#2a3f5f"
          },
          "geo": {
           "bgcolor": "white",
           "lakecolor": "white",
           "landcolor": "#E5ECF6",
           "showlakes": true,
           "showland": true,
           "subunitcolor": "white"
          },
          "hoverlabel": {
           "align": "left"
          },
          "hovermode": "closest",
          "mapbox": {
           "style": "light"
          },
          "paper_bgcolor": "white",
          "plot_bgcolor": "#E5ECF6",
          "polar": {
           "angularaxis": {
            "gridcolor": "white",
            "linecolor": "white",
            "ticks": ""
           },
           "bgcolor": "#E5ECF6",
           "radialaxis": {
            "gridcolor": "white",
            "linecolor": "white",
            "ticks": ""
           }
          },
          "scene": {
           "xaxis": {
            "backgroundcolor": "#E5ECF6",
            "gridcolor": "white",
            "gridwidth": 2,
            "linecolor": "white",
            "showbackground": true,
            "ticks": "",
            "zerolinecolor": "white"
           },
           "yaxis": {
            "backgroundcolor": "#E5ECF6",
            "gridcolor": "white",
            "gridwidth": 2,
            "linecolor": "white",
            "showbackground": true,
            "ticks": "",
            "zerolinecolor": "white"
           },
           "zaxis": {
            "backgroundcolor": "#E5ECF6",
            "gridcolor": "white",
            "gridwidth": 2,
            "linecolor": "white",
            "showbackground": true,
            "ticks": "",
            "zerolinecolor": "white"
           }
          },
          "shapedefaults": {
           "line": {
            "color": "#2a3f5f"
           }
          },
          "ternary": {
           "aaxis": {
            "gridcolor": "white",
            "linecolor": "white",
            "ticks": ""
           },
           "baxis": {
            "gridcolor": "white",
            "linecolor": "white",
            "ticks": ""
           },
           "bgcolor": "#E5ECF6",
           "caxis": {
            "gridcolor": "white",
            "linecolor": "white",
            "ticks": ""
           }
          },
          "title": {
           "x": 0.05
          },
          "xaxis": {
           "automargin": true,
           "gridcolor": "white",
           "linecolor": "white",
           "ticks": "",
           "title": {
            "standoff": 15
           },
           "zerolinecolor": "white",
           "zerolinewidth": 2
          },
          "yaxis": {
           "automargin": true,
           "gridcolor": "white",
           "linecolor": "white",
           "ticks": "",
           "title": {
            "standoff": 15
           },
           "zerolinecolor": "white",
           "zerolinewidth": 2
          }
         }
        },
        "xaxis": {
         "anchor": "y",
         "domain": [
          0,
          1
         ],
         "title": {
          "text": "Section"
         }
        },
        "yaxis": {
         "anchor": "x",
         "domain": [
          0,
          1
         ],
         "title": {
          "text": "Anticipation"
         }
        }
       }
      }
     },
     "metadata": {},
     "output_type": "display_data"
    }
   ],
   "source": [
    "fig = px.box(df,\n",
    "             x=\"Section\",\n",
    "             y=\"Anticipation\")\n",
    "fig.show()"
   ]
  },
  {
   "cell_type": "code",
   "execution_count": 14,
   "id": "5751878a-7809-4b52-9916-3d94ddb40181",
   "metadata": {
    "tags": []
   },
   "outputs": [
    {
     "data": {
      "text/html": [
       "<div>\n",
       "<style scoped>\n",
       "    .dataframe tbody tr th:only-of-type {\n",
       "        vertical-align: middle;\n",
       "    }\n",
       "\n",
       "    .dataframe tbody tr th {\n",
       "        vertical-align: top;\n",
       "    }\n",
       "\n",
       "    .dataframe thead th {\n",
       "        text-align: right;\n",
       "    }\n",
       "</style>\n",
       "<table border=\"1\" class=\"dataframe\">\n",
       "  <thead>\n",
       "    <tr style=\"text-align: right;\">\n",
       "      <th></th>\n",
       "      <th>Section</th>\n",
       "      <th>Anticipation</th>\n",
       "    </tr>\n",
       "  </thead>\n",
       "  <tbody>\n",
       "    <tr>\n",
       "      <th>0</th>\n",
       "      <td>1</td>\n",
       "      <td>2.161871</td>\n",
       "    </tr>\n",
       "    <tr>\n",
       "      <th>1</th>\n",
       "      <td>2</td>\n",
       "      <td>2.316985</td>\n",
       "    </tr>\n",
       "    <tr>\n",
       "      <th>2</th>\n",
       "      <td>3</td>\n",
       "      <td>2.079980</td>\n",
       "    </tr>\n",
       "    <tr>\n",
       "      <th>3</th>\n",
       "      <td>4</td>\n",
       "      <td>1.486784</td>\n",
       "    </tr>\n",
       "    <tr>\n",
       "      <th>4</th>\n",
       "      <td>5</td>\n",
       "      <td>1.688974</td>\n",
       "    </tr>\n",
       "    <tr>\n",
       "      <th>5</th>\n",
       "      <td>6</td>\n",
       "      <td>2.323224</td>\n",
       "    </tr>\n",
       "  </tbody>\n",
       "</table>\n",
       "</div>"
      ],
      "text/plain": [
       "   Section  Anticipation\n",
       "0        1      2.161871\n",
       "1        2      2.316985\n",
       "2        3      2.079980\n",
       "3        4      1.486784\n",
       "4        5      1.688974\n",
       "5        6      2.323224"
      ]
     },
     "execution_count": 14,
     "metadata": {},
     "output_type": "execute_result"
    }
   ],
   "source": [
    "df.groupby(\"Section\")[\"Anticipation\"].agg(np.std).reset_index()"
   ]
  },
  {
   "cell_type": "code",
   "execution_count": 45,
   "id": "08d7c441-b48c-4147-8010-f37225dde0ea",
   "metadata": {
    "tags": []
   },
   "outputs": [
    {
     "data": {
      "application/vnd.plotly.v1+json": {
       "config": {
        "plotlyServerURL": "https://plot.ly"
       },
       "data": [
        {
         "alignmentgroup": "True",
         "hovertemplate": "Section=%{x}<br>Anticipation Std Dev=%{y}<extra></extra>",
         "legendgroup": "",
         "marker": {
          "color": "#636efa",
          "pattern": {
           "shape": ""
          }
         },
         "name": "",
         "offsetgroup": "",
         "orientation": "v",
         "showlegend": false,
         "textposition": "auto",
         "type": "bar",
         "x": [
          1,
          2,
          3,
          4,
          5,
          6
         ],
         "xaxis": "x",
         "y": [
          4.673684210526316,
          5.368421052631579,
          4.326315789473685,
          2.210526315789474,
          2.8526315789473684,
          5.39736842105263
         ],
         "yaxis": "y"
        }
       ],
       "layout": {
        "autosize": true,
        "barmode": "relative",
        "legend": {
         "tracegroupgap": 0
        },
        "template": {
         "data": {
          "bar": [
           {
            "error_x": {
             "color": "#2a3f5f"
            },
            "error_y": {
             "color": "#2a3f5f"
            },
            "marker": {
             "line": {
              "color": "#E5ECF6",
              "width": 0.5
             },
             "pattern": {
              "fillmode": "overlay",
              "size": 10,
              "solidity": 0.2
             }
            },
            "type": "bar"
           }
          ],
          "barpolar": [
           {
            "marker": {
             "line": {
              "color": "#E5ECF6",
              "width": 0.5
             },
             "pattern": {
              "fillmode": "overlay",
              "size": 10,
              "solidity": 0.2
             }
            },
            "type": "barpolar"
           }
          ],
          "carpet": [
           {
            "aaxis": {
             "endlinecolor": "#2a3f5f",
             "gridcolor": "white",
             "linecolor": "white",
             "minorgridcolor": "white",
             "startlinecolor": "#2a3f5f"
            },
            "baxis": {
             "endlinecolor": "#2a3f5f",
             "gridcolor": "white",
             "linecolor": "white",
             "minorgridcolor": "white",
             "startlinecolor": "#2a3f5f"
            },
            "type": "carpet"
           }
          ],
          "choropleth": [
           {
            "colorbar": {
             "outlinewidth": 0,
             "ticks": ""
            },
            "type": "choropleth"
           }
          ],
          "contour": [
           {
            "colorbar": {
             "outlinewidth": 0,
             "ticks": ""
            },
            "colorscale": [
             [
              0,
              "#0d0887"
             ],
             [
              0.1111111111111111,
              "#46039f"
             ],
             [
              0.2222222222222222,
              "#7201a8"
             ],
             [
              0.3333333333333333,
              "#9c179e"
             ],
             [
              0.4444444444444444,
              "#bd3786"
             ],
             [
              0.5555555555555556,
              "#d8576b"
             ],
             [
              0.6666666666666666,
              "#ed7953"
             ],
             [
              0.7777777777777778,
              "#fb9f3a"
             ],
             [
              0.8888888888888888,
              "#fdca26"
             ],
             [
              1,
              "#f0f921"
             ]
            ],
            "type": "contour"
           }
          ],
          "contourcarpet": [
           {
            "colorbar": {
             "outlinewidth": 0,
             "ticks": ""
            },
            "type": "contourcarpet"
           }
          ],
          "heatmap": [
           {
            "colorbar": {
             "outlinewidth": 0,
             "ticks": ""
            },
            "colorscale": [
             [
              0,
              "#0d0887"
             ],
             [
              0.1111111111111111,
              "#46039f"
             ],
             [
              0.2222222222222222,
              "#7201a8"
             ],
             [
              0.3333333333333333,
              "#9c179e"
             ],
             [
              0.4444444444444444,
              "#bd3786"
             ],
             [
              0.5555555555555556,
              "#d8576b"
             ],
             [
              0.6666666666666666,
              "#ed7953"
             ],
             [
              0.7777777777777778,
              "#fb9f3a"
             ],
             [
              0.8888888888888888,
              "#fdca26"
             ],
             [
              1,
              "#f0f921"
             ]
            ],
            "type": "heatmap"
           }
          ],
          "heatmapgl": [
           {
            "colorbar": {
             "outlinewidth": 0,
             "ticks": ""
            },
            "colorscale": [
             [
              0,
              "#0d0887"
             ],
             [
              0.1111111111111111,
              "#46039f"
             ],
             [
              0.2222222222222222,
              "#7201a8"
             ],
             [
              0.3333333333333333,
              "#9c179e"
             ],
             [
              0.4444444444444444,
              "#bd3786"
             ],
             [
              0.5555555555555556,
              "#d8576b"
             ],
             [
              0.6666666666666666,
              "#ed7953"
             ],
             [
              0.7777777777777778,
              "#fb9f3a"
             ],
             [
              0.8888888888888888,
              "#fdca26"
             ],
             [
              1,
              "#f0f921"
             ]
            ],
            "type": "heatmapgl"
           }
          ],
          "histogram": [
           {
            "marker": {
             "pattern": {
              "fillmode": "overlay",
              "size": 10,
              "solidity": 0.2
             }
            },
            "type": "histogram"
           }
          ],
          "histogram2d": [
           {
            "colorbar": {
             "outlinewidth": 0,
             "ticks": ""
            },
            "colorscale": [
             [
              0,
              "#0d0887"
             ],
             [
              0.1111111111111111,
              "#46039f"
             ],
             [
              0.2222222222222222,
              "#7201a8"
             ],
             [
              0.3333333333333333,
              "#9c179e"
             ],
             [
              0.4444444444444444,
              "#bd3786"
             ],
             [
              0.5555555555555556,
              "#d8576b"
             ],
             [
              0.6666666666666666,
              "#ed7953"
             ],
             [
              0.7777777777777778,
              "#fb9f3a"
             ],
             [
              0.8888888888888888,
              "#fdca26"
             ],
             [
              1,
              "#f0f921"
             ]
            ],
            "type": "histogram2d"
           }
          ],
          "histogram2dcontour": [
           {
            "colorbar": {
             "outlinewidth": 0,
             "ticks": ""
            },
            "colorscale": [
             [
              0,
              "#0d0887"
             ],
             [
              0.1111111111111111,
              "#46039f"
             ],
             [
              0.2222222222222222,
              "#7201a8"
             ],
             [
              0.3333333333333333,
              "#9c179e"
             ],
             [
              0.4444444444444444,
              "#bd3786"
             ],
             [
              0.5555555555555556,
              "#d8576b"
             ],
             [
              0.6666666666666666,
              "#ed7953"
             ],
             [
              0.7777777777777778,
              "#fb9f3a"
             ],
             [
              0.8888888888888888,
              "#fdca26"
             ],
             [
              1,
              "#f0f921"
             ]
            ],
            "type": "histogram2dcontour"
           }
          ],
          "mesh3d": [
           {
            "colorbar": {
             "outlinewidth": 0,
             "ticks": ""
            },
            "type": "mesh3d"
           }
          ],
          "parcoords": [
           {
            "line": {
             "colorbar": {
              "outlinewidth": 0,
              "ticks": ""
             }
            },
            "type": "parcoords"
           }
          ],
          "pie": [
           {
            "automargin": true,
            "type": "pie"
           }
          ],
          "scatter": [
           {
            "fillpattern": {
             "fillmode": "overlay",
             "size": 10,
             "solidity": 0.2
            },
            "type": "scatter"
           }
          ],
          "scatter3d": [
           {
            "line": {
             "colorbar": {
              "outlinewidth": 0,
              "ticks": ""
             }
            },
            "marker": {
             "colorbar": {
              "outlinewidth": 0,
              "ticks": ""
             }
            },
            "type": "scatter3d"
           }
          ],
          "scattercarpet": [
           {
            "marker": {
             "colorbar": {
              "outlinewidth": 0,
              "ticks": ""
             }
            },
            "type": "scattercarpet"
           }
          ],
          "scattergeo": [
           {
            "marker": {
             "colorbar": {
              "outlinewidth": 0,
              "ticks": ""
             }
            },
            "type": "scattergeo"
           }
          ],
          "scattergl": [
           {
            "marker": {
             "colorbar": {
              "outlinewidth": 0,
              "ticks": ""
             }
            },
            "type": "scattergl"
           }
          ],
          "scattermapbox": [
           {
            "marker": {
             "colorbar": {
              "outlinewidth": 0,
              "ticks": ""
             }
            },
            "type": "scattermapbox"
           }
          ],
          "scatterpolar": [
           {
            "marker": {
             "colorbar": {
              "outlinewidth": 0,
              "ticks": ""
             }
            },
            "type": "scatterpolar"
           }
          ],
          "scatterpolargl": [
           {
            "marker": {
             "colorbar": {
              "outlinewidth": 0,
              "ticks": ""
             }
            },
            "type": "scatterpolargl"
           }
          ],
          "scatterternary": [
           {
            "marker": {
             "colorbar": {
              "outlinewidth": 0,
              "ticks": ""
             }
            },
            "type": "scatterternary"
           }
          ],
          "surface": [
           {
            "colorbar": {
             "outlinewidth": 0,
             "ticks": ""
            },
            "colorscale": [
             [
              0,
              "#0d0887"
             ],
             [
              0.1111111111111111,
              "#46039f"
             ],
             [
              0.2222222222222222,
              "#7201a8"
             ],
             [
              0.3333333333333333,
              "#9c179e"
             ],
             [
              0.4444444444444444,
              "#bd3786"
             ],
             [
              0.5555555555555556,
              "#d8576b"
             ],
             [
              0.6666666666666666,
              "#ed7953"
             ],
             [
              0.7777777777777778,
              "#fb9f3a"
             ],
             [
              0.8888888888888888,
              "#fdca26"
             ],
             [
              1,
              "#f0f921"
             ]
            ],
            "type": "surface"
           }
          ],
          "table": [
           {
            "cells": {
             "fill": {
              "color": "#EBF0F8"
             },
             "line": {
              "color": "white"
             }
            },
            "header": {
             "fill": {
              "color": "#C8D4E3"
             },
             "line": {
              "color": "white"
             }
            },
            "type": "table"
           }
          ]
         },
         "layout": {
          "annotationdefaults": {
           "arrowcolor": "#2a3f5f",
           "arrowhead": 0,
           "arrowwidth": 1
          },
          "autotypenumbers": "strict",
          "coloraxis": {
           "colorbar": {
            "outlinewidth": 0,
            "ticks": ""
           }
          },
          "colorscale": {
           "diverging": [
            [
             0,
             "#8e0152"
            ],
            [
             0.1,
             "#c51b7d"
            ],
            [
             0.2,
             "#de77ae"
            ],
            [
             0.3,
             "#f1b6da"
            ],
            [
             0.4,
             "#fde0ef"
            ],
            [
             0.5,
             "#f7f7f7"
            ],
            [
             0.6,
             "#e6f5d0"
            ],
            [
             0.7,
             "#b8e186"
            ],
            [
             0.8,
             "#7fbc41"
            ],
            [
             0.9,
             "#4d9221"
            ],
            [
             1,
             "#276419"
            ]
           ],
           "sequential": [
            [
             0,
             "#0d0887"
            ],
            [
             0.1111111111111111,
             "#46039f"
            ],
            [
             0.2222222222222222,
             "#7201a8"
            ],
            [
             0.3333333333333333,
             "#9c179e"
            ],
            [
             0.4444444444444444,
             "#bd3786"
            ],
            [
             0.5555555555555556,
             "#d8576b"
            ],
            [
             0.6666666666666666,
             "#ed7953"
            ],
            [
             0.7777777777777778,
             "#fb9f3a"
            ],
            [
             0.8888888888888888,
             "#fdca26"
            ],
            [
             1,
             "#f0f921"
            ]
           ],
           "sequentialminus": [
            [
             0,
             "#0d0887"
            ],
            [
             0.1111111111111111,
             "#46039f"
            ],
            [
             0.2222222222222222,
             "#7201a8"
            ],
            [
             0.3333333333333333,
             "#9c179e"
            ],
            [
             0.4444444444444444,
             "#bd3786"
            ],
            [
             0.5555555555555556,
             "#d8576b"
            ],
            [
             0.6666666666666666,
             "#ed7953"
            ],
            [
             0.7777777777777778,
             "#fb9f3a"
            ],
            [
             0.8888888888888888,
             "#fdca26"
            ],
            [
             1,
             "#f0f921"
            ]
           ]
          },
          "colorway": [
           "#636efa",
           "#EF553B",
           "#00cc96",
           "#ab63fa",
           "#FFA15A",
           "#19d3f3",
           "#FF6692",
           "#B6E880",
           "#FF97FF",
           "#FECB52"
          ],
          "font": {
           "color": "#2a3f5f"
          },
          "geo": {
           "bgcolor": "white",
           "lakecolor": "white",
           "landcolor": "#E5ECF6",
           "showlakes": true,
           "showland": true,
           "subunitcolor": "white"
          },
          "hoverlabel": {
           "align": "left"
          },
          "hovermode": "closest",
          "mapbox": {
           "style": "light"
          },
          "paper_bgcolor": "white",
          "plot_bgcolor": "#E5ECF6",
          "polar": {
           "angularaxis": {
            "gridcolor": "white",
            "linecolor": "white",
            "ticks": ""
           },
           "bgcolor": "#E5ECF6",
           "radialaxis": {
            "gridcolor": "white",
            "linecolor": "white",
            "ticks": ""
           }
          },
          "scene": {
           "xaxis": {
            "backgroundcolor": "#E5ECF6",
            "gridcolor": "white",
            "gridwidth": 2,
            "linecolor": "white",
            "showbackground": true,
            "ticks": "",
            "zerolinecolor": "white"
           },
           "yaxis": {
            "backgroundcolor": "#E5ECF6",
            "gridcolor": "white",
            "gridwidth": 2,
            "linecolor": "white",
            "showbackground": true,
            "ticks": "",
            "zerolinecolor": "white"
           },
           "zaxis": {
            "backgroundcolor": "#E5ECF6",
            "gridcolor": "white",
            "gridwidth": 2,
            "linecolor": "white",
            "showbackground": true,
            "ticks": "",
            "zerolinecolor": "white"
           }
          },
          "shapedefaults": {
           "line": {
            "color": "#2a3f5f"
           }
          },
          "ternary": {
           "aaxis": {
            "gridcolor": "white",
            "linecolor": "white",
            "ticks": ""
           },
           "baxis": {
            "gridcolor": "white",
            "linecolor": "white",
            "ticks": ""
           },
           "bgcolor": "#E5ECF6",
           "caxis": {
            "gridcolor": "white",
            "linecolor": "white",
            "ticks": ""
           }
          },
          "title": {
           "x": 0.05
          },
          "xaxis": {
           "automargin": true,
           "gridcolor": "white",
           "linecolor": "white",
           "ticks": "",
           "title": {
            "standoff": 15
           },
           "zerolinecolor": "white",
           "zerolinewidth": 2
          },
          "yaxis": {
           "automargin": true,
           "gridcolor": "white",
           "linecolor": "white",
           "ticks": "",
           "title": {
            "standoff": 15
           },
           "zerolinecolor": "white",
           "zerolinewidth": 2
          }
         }
        },
        "title": {
         "text": "Std Dev of Section Scores"
        },
        "xaxis": {
         "anchor": "y",
         "autorange": true,
         "domain": [
          0,
          1
         ],
         "range": [
          0.5,
          6.5
         ],
         "title": {
          "text": "Section"
         },
         "type": "linear"
        },
        "yaxis": {
         "anchor": "x",
         "autorange": true,
         "domain": [
          0,
          1
         ],
         "range": [
          0,
          5.681440443213295
         ],
         "title": {
          "text": "Anticipation Std Dev"
         },
         "type": "linear"
        }
       }
      },
      "image/png": "[encoded data removed]",
      "text/html": [
       "<div>                            <div id=\"02083a8d-d7af-464a-9a89-4e3967d08626\" class=\"plotly-graph-div\" style=\"height:525px; width:100%;\"></div>            <script type=\"text/javascript\">                require([\"plotly\"], function(Plotly) {                    window.PLOTLYENV=window.PLOTLYENV || {};                                    if (document.getElementById(\"02083a8d-d7af-464a-9a89-4e3967d08626\")) {                    Plotly.newPlot(                        \"02083a8d-d7af-464a-9a89-4e3967d08626\",                        [{\"alignmentgroup\":\"True\",\"hovertemplate\":\"Section=%{x}\\u003cbr\\u003eAnticipation Std Dev=%{y}\\u003cextra\\u003e\\u003c\\u002fextra\\u003e\",\"legendgroup\":\"\",\"marker\":{\"color\":\"#636efa\",\"pattern\":{\"shape\":\"\"}},\"name\":\"\",\"offsetgroup\":\"\",\"orientation\":\"v\",\"showlegend\":false,\"textposition\":\"auto\",\"x\":[1,2,3,4,5,6],\"xaxis\":\"x\",\"y\":[4.673684210526316,5.368421052631579,4.326315789473685,2.210526315789474,2.8526315789473684,5.39736842105263],\"yaxis\":\"y\",\"type\":\"bar\"}],                        {\"template\":{\"data\":{\"histogram2dcontour\":[{\"type\":\"histogram2dcontour\",\"colorbar\":{\"outlinewidth\":0,\"ticks\":\"\"},\"colorscale\":[[0.0,\"#0d0887\"],[0.1111111111111111,\"#46039f\"],[0.2222222222222222,\"#7201a8\"],[0.3333333333333333,\"#9c179e\"],[0.4444444444444444,\"#bd3786\"],[0.5555555555555556,\"#d8576b\"],[0.6666666666666666,\"#ed7953\"],[0.7777777777777778,\"#fb9f3a\"],[0.8888888888888888,\"#fdca26\"],[1.0,\"#f0f921\"]]}],\"choropleth\":[{\"type\":\"choropleth\",\"colorbar\":{\"outlinewidth\":0,\"ticks\":\"\"}}],\"histogram2d\":[{\"type\":\"histogram2d\",\"colorbar\":{\"outlinewidth\":0,\"ticks\":\"\"},\"colorscale\":[[0.0,\"#0d0887\"],[0.1111111111111111,\"#46039f\"],[0.2222222222222222,\"#7201a8\"],[0.3333333333333333,\"#9c179e\"],[0.4444444444444444,\"#bd3786\"],[0.5555555555555556,\"#d8576b\"],[0.6666666666666666,\"#ed7953\"],[0.7777777777777778,\"#fb9f3a\"],[0.8888888888888888,\"#fdca26\"],[1.0,\"#f0f921\"]]}],\"heatmap\":[{\"type\":\"heatmap\",\"colorbar\":{\"outlinewidth\":0,\"ticks\":\"\"},\"colorscale\":[[0.0,\"#0d0887\"],[0.1111111111111111,\"#46039f\"],[0.2222222222222222,\"#7201a8\"],[0.3333333333333333,\"#9c179e\"],[0.4444444444444444,\"#bd3786\"],[0.5555555555555556,\"#d8576b\"],[0.6666666666666666,\"#ed7953\"],[0.7777777777777778,\"#fb9f3a\"],[0.8888888888888888,\"#fdca26\"],[1.0,\"#f0f921\"]]}],\"heatmapgl\":[{\"type\":\"heatmapgl\",\"colorbar\":{\"outlinewidth\":0,\"ticks\":\"\"},\"colorscale\":[[0.0,\"#0d0887\"],[0.1111111111111111,\"#46039f\"],[0.2222222222222222,\"#7201a8\"],[0.3333333333333333,\"#9c179e\"],[0.4444444444444444,\"#bd3786\"],[0.5555555555555556,\"#d8576b\"],[0.6666666666666666,\"#ed7953\"],[0.7777777777777778,\"#fb9f3a\"],[0.8888888888888888,\"#fdca26\"],[1.0,\"#f0f921\"]]}],\"contourcarpet\":[{\"type\":\"contourcarpet\",\"colorbar\":{\"outlinewidth\":0,\"ticks\":\"\"}}],\"contour\":[{\"type\":\"contour\",\"colorbar\":{\"outlinewidth\":0,\"ticks\":\"\"},\"colorscale\":[[0.0,\"#0d0887\"],[0.1111111111111111,\"#46039f\"],[0.2222222222222222,\"#7201a8\"],[0.3333333333333333,\"#9c179e\"],[0.4444444444444444,\"#bd3786\"],[0.5555555555555556,\"#d8576b\"],[0.6666666666666666,\"#ed7953\"],[0.7777777777777778,\"#fb9f3a\"],[0.8888888888888888,\"#fdca26\"],[1.0,\"#f0f921\"]]}],\"surface\":[{\"type\":\"surface\",\"colorbar\":{\"outlinewidth\":0,\"ticks\":\"\"},\"colorscale\":[[0.0,\"#0d0887\"],[0.1111111111111111,\"#46039f\"],[0.2222222222222222,\"#7201a8\"],[0.3333333333333333,\"#9c179e\"],[0.4444444444444444,\"#bd3786\"],[0.5555555555555556,\"#d8576b\"],[0.6666666666666666,\"#ed7953\"],[0.7777777777777778,\"#fb9f3a\"],[0.8888888888888888,\"#fdca26\"],[1.0,\"#f0f921\"]]}],\"mesh3d\":[{\"type\":\"mesh3d\",\"colorbar\":{\"outlinewidth\":0,\"ticks\":\"\"}}],\"scatter\":[{\"fillpattern\":{\"fillmode\":\"overlay\",\"size\":10,\"solidity\":0.2},\"type\":\"scatter\"}],\"parcoords\":[{\"type\":\"parcoords\",\"line\":{\"colorbar\":{\"outlinewidth\":0,\"ticks\":\"\"}}}],\"scatterpolargl\":[{\"type\":\"scatterpolargl\",\"marker\":{\"colorbar\":{\"outlinewidth\":0,\"ticks\":\"\"}}}],\"bar\":[{\"error_x\":{\"color\":\"#2a3f5f\"},\"error_y\":{\"color\":\"#2a3f5f\"},\"marker\":{\"line\":{\"color\":\"#E5ECF6\",\"width\":0.5},\"pattern\":{\"fillmode\":\"overlay\",\"size\":10,\"solidity\":0.2}},\"type\":\"bar\"}],\"scattergeo\":[{\"type\":\"scattergeo\",\"marker\":{\"colorbar\":{\"outlinewidth\":0,\"ticks\":\"\"}}}],\"scatterpolar\":[{\"type\":\"scatterpolar\",\"marker\":{\"colorbar\":{\"outlinewidth\":0,\"ticks\":\"\"}}}],\"histogram\":[{\"marker\":{\"pattern\":{\"fillmode\":\"overlay\",\"size\":10,\"solidity\":0.2}},\"type\":\"histogram\"}],\"scattergl\":[{\"type\":\"scattergl\",\"marker\":{\"colorbar\":{\"outlinewidth\":0,\"ticks\":\"\"}}}],\"scatter3d\":[{\"type\":\"scatter3d\",\"line\":{\"colorbar\":{\"outlinewidth\":0,\"ticks\":\"\"}},\"marker\":{\"colorbar\":{\"outlinewidth\":0,\"ticks\":\"\"}}}],\"scattermapbox\":[{\"type\":\"scattermapbox\",\"marker\":{\"colorbar\":{\"outlinewidth\":0,\"ticks\":\"\"}}}],\"scatterternary\":[{\"type\":\"scatterternary\",\"marker\":{\"colorbar\":{\"outlinewidth\":0,\"ticks\":\"\"}}}],\"scattercarpet\":[{\"type\":\"scattercarpet\",\"marker\":{\"colorbar\":{\"outlinewidth\":0,\"ticks\":\"\"}}}],\"carpet\":[{\"aaxis\":{\"endlinecolor\":\"#2a3f5f\",\"gridcolor\":\"white\",\"linecolor\":\"white\",\"minorgridcolor\":\"white\",\"startlinecolor\":\"#2a3f5f\"},\"baxis\":{\"endlinecolor\":\"#2a3f5f\",\"gridcolor\":\"white\",\"linecolor\":\"white\",\"minorgridcolor\":\"white\",\"startlinecolor\":\"#2a3f5f\"},\"type\":\"carpet\"}],\"table\":[{\"cells\":{\"fill\":{\"color\":\"#EBF0F8\"},\"line\":{\"color\":\"white\"}},\"header\":{\"fill\":{\"color\":\"#C8D4E3\"},\"line\":{\"color\":\"white\"}},\"type\":\"table\"}],\"barpolar\":[{\"marker\":{\"line\":{\"color\":\"#E5ECF6\",\"width\":0.5},\"pattern\":{\"fillmode\":\"overlay\",\"size\":10,\"solidity\":0.2}},\"type\":\"barpolar\"}],\"pie\":[{\"automargin\":true,\"type\":\"pie\"}]},\"layout\":{\"autotypenumbers\":\"strict\",\"colorway\":[\"#636efa\",\"#EF553B\",\"#00cc96\",\"#ab63fa\",\"#FFA15A\",\"#19d3f3\",\"#FF6692\",\"#B6E880\",\"#FF97FF\",\"#FECB52\"],\"font\":{\"color\":\"#2a3f5f\"},\"hovermode\":\"closest\",\"hoverlabel\":{\"align\":\"left\"},\"paper_bgcolor\":\"white\",\"plot_bgcolor\":\"#E5ECF6\",\"polar\":{\"bgcolor\":\"#E5ECF6\",\"angularaxis\":{\"gridcolor\":\"white\",\"linecolor\":\"white\",\"ticks\":\"\"},\"radialaxis\":{\"gridcolor\":\"white\",\"linecolor\":\"white\",\"ticks\":\"\"}},\"ternary\":{\"bgcolor\":\"#E5ECF6\",\"aaxis\":{\"gridcolor\":\"white\",\"linecolor\":\"white\",\"ticks\":\"\"},\"baxis\":{\"gridcolor\":\"white\",\"linecolor\":\"white\",\"ticks\":\"\"},\"caxis\":{\"gridcolor\":\"white\",\"linecolor\":\"white\",\"ticks\":\"\"}},\"coloraxis\":{\"colorbar\":{\"outlinewidth\":0,\"ticks\":\"\"}},\"colorscale\":{\"sequential\":[[0.0,\"#0d0887\"],[0.1111111111111111,\"#46039f\"],[0.2222222222222222,\"#7201a8\"],[0.3333333333333333,\"#9c179e\"],[0.4444444444444444,\"#bd3786\"],[0.5555555555555556,\"#d8576b\"],[0.6666666666666666,\"#ed7953\"],[0.7777777777777778,\"#fb9f3a\"],[0.8888888888888888,\"#fdca26\"],[1.0,\"#f0f921\"]],\"sequentialminus\":[[0.0,\"#0d0887\"],[0.1111111111111111,\"#46039f\"],[0.2222222222222222,\"#7201a8\"],[0.3333333333333333,\"#9c179e\"],[0.4444444444444444,\"#bd3786\"],[0.5555555555555556,\"#d8576b\"],[0.6666666666666666,\"#ed7953\"],[0.7777777777777778,\"#fb9f3a\"],[0.8888888888888888,\"#fdca26\"],[1.0,\"#f0f921\"]],\"diverging\":[[0,\"#8e0152\"],[0.1,\"#c51b7d\"],[0.2,\"#de77ae\"],[0.3,\"#f1b6da\"],[0.4,\"#fde0ef\"],[0.5,\"#f7f7f7\"],[0.6,\"#e6f5d0\"],[0.7,\"#b8e186\"],[0.8,\"#7fbc41\"],[0.9,\"#4d9221\"],[1,\"#276419\"]]},\"xaxis\":{\"gridcolor\":\"white\",\"linecolor\":\"white\",\"ticks\":\"\",\"title\":{\"standoff\":15},\"zerolinecolor\":\"white\",\"automargin\":true,\"zerolinewidth\":2},\"yaxis\":{\"gridcolor\":\"white\",\"linecolor\":\"white\",\"ticks\":\"\",\"title\":{\"standoff\":15},\"zerolinecolor\":\"white\",\"automargin\":true,\"zerolinewidth\":2},\"scene\":{\"xaxis\":{\"backgroundcolor\":\"#E5ECF6\",\"gridcolor\":\"white\",\"linecolor\":\"white\",\"showbackground\":true,\"ticks\":\"\",\"zerolinecolor\":\"white\",\"gridwidth\":2},\"yaxis\":{\"backgroundcolor\":\"#E5ECF6\",\"gridcolor\":\"white\",\"linecolor\":\"white\",\"showbackground\":true,\"ticks\":\"\",\"zerolinecolor\":\"white\",\"gridwidth\":2},\"zaxis\":{\"backgroundcolor\":\"#E5ECF6\",\"gridcolor\":\"white\",\"linecolor\":\"white\",\"showbackground\":true,\"ticks\":\"\",\"zerolinecolor\":\"white\",\"gridwidth\":2}},\"shapedefaults\":{\"line\":{\"color\":\"#2a3f5f\"}},\"annotationdefaults\":{\"arrowcolor\":\"#2a3f5f\",\"arrowhead\":0,\"arrowwidth\":1},\"geo\":{\"bgcolor\":\"white\",\"landcolor\":\"#E5ECF6\",\"subunitcolor\":\"white\",\"showland\":true,\"showlakes\":true,\"lakecolor\":\"white\"},\"title\":{\"x\":0.05},\"mapbox\":{\"style\":\"light\"}}},\"xaxis\":{\"anchor\":\"y\",\"domain\":[0.0,1.0],\"title\":{\"text\":\"Section\"}},\"yaxis\":{\"anchor\":\"x\",\"domain\":[0.0,1.0],\"title\":{\"text\":\"Anticipation Std Dev\"}},\"legend\":{\"tracegroupgap\":0},\"title\":{\"text\":\"Std Dev of Section Scores\"},\"barmode\":\"relative\"},                        {\"responsive\": true}                    ).then(function(){\n",
       "                            \n",
       "var gd = document.getElementById('02083a8d-d7af-464a-9a89-4e3967d08626');\n",
       "var x = new MutationObserver(function (mutations, observer) {{\n",
       "        var display = window.getComputedStyle(gd).display;\n",
       "        if (!display || display === 'none') {{\n",
       "            console.log([gd, 'removed!']);\n",
       "            Plotly.purge(gd);\n",
       "            observer.disconnect();\n",
       "        }}\n",
       "}});\n",
       "\n",
       "// Listen for the removal of the full notebook cells\n",
       "var notebookContainer = gd.closest('#notebook-container');\n",
       "if (notebookContainer) {{\n",
       "    x.observe(notebookContainer, {childList: true});\n",
       "}}\n",
       "\n",
       "// Listen for the clearing of the current output cell\n",
       "var outputEl = gd.closest('.output');\n",
       "if (outputEl) {{\n",
       "    x.observe(outputEl, {childList: true});\n",
       "}}\n",
       "\n",
       "                        })                };                });            </script>        </div>"
      ]
     },
     "metadata": {},
     "output_type": "display_data"
    }
   ],
   "source": [
    "fig = px.bar(std_df.reset_index(),\n",
    "             x=\"Section\", y=\"Anticipation\",\n",
    "             labels={\"Anticipation\":\"Anticipation Std Dev\"},\n",
    "             title=\"Std Dev of Section Scores\")\n",
    "fig.show()"
   ]
  },
  {
   "cell_type": "code",
   "execution_count": 15,
   "id": "95b01ac9-d108-4e91-b129-f8d298767b4e",
   "metadata": {
    "tags": []
   },
   "outputs": [
    {
     "data": {
      "application/vnd.plotly.v1+json": {
       "config": {
        "plotlyServerURL": "https://plot.ly"
       },
       "data": [
        {
         "alignmentgroup": "True",
         "hovertemplate": "Section=%{x}<br>Anticipation Std Dev=%{y}<extra></extra>",
         "legendgroup": "",
         "marker": {
          "color": "#636efa",
          "pattern": {
           "shape": ""
          }
         },
         "name": "",
         "offsetgroup": "",
         "orientation": "v",
         "showlegend": false,
         "textposition": "auto",
         "type": "bar",
         "x": [
          1,
          2,
          3,
          4,
          5,
          6
         ],
         "xaxis": "x",
         "y": [
          4.673684210526316,
          5.368421052631579,
          1.9415204678362568,
          2.210526315789474,
          2.8526315789473684,
          5.39736842105263
         ],
         "yaxis": "y"
        }
       ],
       "layout": {
        "barmode": "relative",
        "legend": {
         "tracegroupgap": 0
        },
        "template": {
         "data": {
          "bar": [
           {
            "error_x": {
             "color": "#2a3f5f"
            },
            "error_y": {
             "color": "#2a3f5f"
            },
            "marker": {
             "line": {
              "color": "#E5ECF6",
              "width": 0.5
             },
             "pattern": {
              "fillmode": "overlay",
              "size": 10,
              "solidity": 0.2
             }
            },
            "type": "bar"
           }
          ],
          "barpolar": [
           {
            "marker": {
             "line": {
              "color": "#E5ECF6",
              "width": 0.5
             },
             "pattern": {
              "fillmode": "overlay",
              "size": 10,
              "solidity": 0.2
             }
            },
            "type": "barpolar"
           }
          ],
          "carpet": [
           {
            "aaxis": {
             "endlinecolor": "#2a3f5f",
             "gridcolor": "white",
             "linecolor": "white",
             "minorgridcolor": "white",
             "startlinecolor": "#2a3f5f"
            },
            "baxis": {
             "endlinecolor": "#2a3f5f",
             "gridcolor": "white",
             "linecolor": "white",
             "minorgridcolor": "white",
             "startlinecolor": "#2a3f5f"
            },
            "type": "carpet"
           }
          ],
          "choropleth": [
           {
            "colorbar": {
             "outlinewidth": 0,
             "ticks": ""
            },
            "type": "choropleth"
           }
          ],
          "contour": [
           {
            "colorbar": {
             "outlinewidth": 0,
             "ticks": ""
            },
            "colorscale": [
             [
              0,
              "#0d0887"
             ],
             [
              0.1111111111111111,
              "#46039f"
             ],
             [
              0.2222222222222222,
              "#7201a8"
             ],
             [
              0.3333333333333333,
              "#9c179e"
             ],
             [
              0.4444444444444444,
              "#bd3786"
             ],
             [
              0.5555555555555556,
              "#d8576b"
             ],
             [
              0.6666666666666666,
              "#ed7953"
             ],
             [
              0.7777777777777778,
              "#fb9f3a"
             ],
             [
              0.8888888888888888,
              "#fdca26"
             ],
             [
              1,
              "#f0f921"
             ]
            ],
            "type": "contour"
           }
          ],
          "contourcarpet": [
           {
            "colorbar": {
             "outlinewidth": 0,
             "ticks": ""
            },
            "type": "contourcarpet"
           }
          ],
          "heatmap": [
           {
            "colorbar": {
             "outlinewidth": 0,
             "ticks": ""
            },
            "colorscale": [
             [
              0,
              "#0d0887"
             ],
             [
              0.1111111111111111,
              "#46039f"
             ],
             [
              0.2222222222222222,
              "#7201a8"
             ],
             [
              0.3333333333333333,
              "#9c179e"
             ],
             [
              0.4444444444444444,
              "#bd3786"
             ],
             [
              0.5555555555555556,
              "#d8576b"
             ],
             [
              0.6666666666666666,
              "#ed7953"
             ],
             [
              0.7777777777777778,
              "#fb9f3a"
             ],
             [
              0.8888888888888888,
              "#fdca26"
             ],
             [
              1,
              "#f0f921"
             ]
            ],
            "type": "heatmap"
           }
          ],
          "heatmapgl": [
           {
            "colorbar": {
             "outlinewidth": 0,
             "ticks": ""
            },
            "colorscale": [
             [
              0,
              "#0d0887"
             ],
             [
              0.1111111111111111,
              "#46039f"
             ],
             [
              0.2222222222222222,
              "#7201a8"
             ],
             [
              0.3333333333333333,
              "#9c179e"
             ],
             [
              0.4444444444444444,
              "#bd3786"
             ],
             [
              0.5555555555555556,
              "#d8576b"
             ],
             [
              0.6666666666666666,
              "#ed7953"
             ],
             [
              0.7777777777777778,
              "#fb9f3a"
             ],
             [
              0.8888888888888888,
              "#fdca26"
             ],
             [
              1,
              "#f0f921"
             ]
            ],
            "type": "heatmapgl"
           }
          ],
          "histogram": [
           {
            "marker": {
             "pattern": {
              "fillmode": "overlay",
              "size": 10,
              "solidity": 0.2
             }
            },
            "type": "histogram"
           }
          ],
          "histogram2d": [
           {
            "colorbar": {
             "outlinewidth": 0,
             "ticks": ""
            },
            "colorscale": [
             [
              0,
              "#0d0887"
             ],
             [
              0.1111111111111111,
              "#46039f"
             ],
             [
              0.2222222222222222,
              "#7201a8"
             ],
             [
              0.3333333333333333,
              "#9c179e"
             ],
             [
              0.4444444444444444,
              "#bd3786"
             ],
             [
              0.5555555555555556,
              "#d8576b"
             ],
             [
              0.6666666666666666,
              "#ed7953"
             ],
             [
              0.7777777777777778,
              "#fb9f3a"
             ],
             [
              0.8888888888888888,
              "#fdca26"
             ],
             [
              1,
              "#f0f921"
             ]
            ],
            "type": "histogram2d"
           }
          ],
          "histogram2dcontour": [
           {
            "colorbar": {
             "outlinewidth": 0,
             "ticks": ""
            },
            "colorscale": [
             [
              0,
              "#0d0887"
             ],
             [
              0.1111111111111111,
              "#46039f"
             ],
             [
              0.2222222222222222,
              "#7201a8"
             ],
             [
              0.3333333333333333,
              "#9c179e"
             ],
             [
              0.4444444444444444,
              "#bd3786"
             ],
             [
              0.5555555555555556,
              "#d8576b"
             ],
             [
              0.6666666666666666,
              "#ed7953"
             ],
             [
              0.7777777777777778,
              "#fb9f3a"
             ],
             [
              0.8888888888888888,
              "#fdca26"
             ],
             [
              1,
              "#f0f921"
             ]
            ],
            "type": "histogram2dcontour"
           }
          ],
          "mesh3d": [
           {
            "colorbar": {
             "outlinewidth": 0,
             "ticks": ""
            },
            "type": "mesh3d"
           }
          ],
          "parcoords": [
           {
            "line": {
             "colorbar": {
              "outlinewidth": 0,
              "ticks": ""
             }
            },
            "type": "parcoords"
           }
          ],
          "pie": [
           {
            "automargin": true,
            "type": "pie"
           }
          ],
          "scatter": [
           {
            "fillpattern": {
             "fillmode": "overlay",
             "size": 10,
             "solidity": 0.2
            },
            "type": "scatter"
           }
          ],
          "scatter3d": [
           {
            "line": {
             "colorbar": {
              "outlinewidth": 0,
              "ticks": ""
             }
            },
            "marker": {
             "colorbar": {
              "outlinewidth": 0,
              "ticks": ""
             }
            },
            "type": "scatter3d"
           }
          ],
          "scattercarpet": [
           {
            "marker": {
             "colorbar": {
              "outlinewidth": 0,
              "ticks": ""
             }
            },
            "type": "scattercarpet"
           }
          ],
          "scattergeo": [
           {
            "marker": {
             "colorbar": {
              "outlinewidth": 0,
              "ticks": ""
             }
            },
            "type": "scattergeo"
           }
          ],
          "scattergl": [
           {
            "marker": {
             "colorbar": {
              "outlinewidth": 0,
              "ticks": ""
             }
            },
            "type": "scattergl"
           }
          ],
          "scattermapbox": [
           {
            "marker": {
             "colorbar": {
              "outlinewidth": 0,
              "ticks": ""
             }
            },
            "type": "scattermapbox"
           }
          ],
          "scatterpolar": [
           {
            "marker": {
             "colorbar": {
              "outlinewidth": 0,
              "ticks": ""
             }
            },
            "type": "scatterpolar"
           }
          ],
          "scatterpolargl": [
           {
            "marker": {
             "colorbar": {
              "outlinewidth": 0,
              "ticks": ""
             }
            },
            "type": "scatterpolargl"
           }
          ],
          "scatterternary": [
           {
            "marker": {
             "colorbar": {
              "outlinewidth": 0,
              "ticks": ""
             }
            },
            "type": "scatterternary"
           }
          ],
          "surface": [
           {
            "colorbar": {
             "outlinewidth": 0,
             "ticks": ""
            },
            "colorscale": [
             [
              0,
              "#0d0887"
             ],
             [
              0.1111111111111111,
              "#46039f"
             ],
             [
              0.2222222222222222,
              "#7201a8"
             ],
             [
              0.3333333333333333,
              "#9c179e"
             ],
             [
              0.4444444444444444,
              "#bd3786"
             ],
             [
              0.5555555555555556,
              "#d8576b"
             ],
             [
              0.6666666666666666,
              "#ed7953"
             ],
             [
              0.7777777777777778,
              "#fb9f3a"
             ],
             [
              0.8888888888888888,
              "#fdca26"
             ],
             [
              1,
              "#f0f921"
             ]
            ],
            "type": "surface"
           }
          ],
          "table": [
           {
            "cells": {
             "fill": {
              "color": "#EBF0F8"
             },
             "line": {
              "color": "white"
             }
            },
            "header": {
             "fill": {
              "color": "#C8D4E3"
             },
             "line": {
              "color": "white"
             }
            },
            "type": "table"
           }
          ]
         },
         "layout": {
          "annotationdefaults": {
           "arrowcolor": "#2a3f5f",
           "arrowhead": 0,
           "arrowwidth": 1
          },
          "autotypenumbers": "strict",
          "coloraxis": {
           "colorbar": {
            "outlinewidth": 0,
            "ticks": ""
           }
          },
          "colorscale": {
           "diverging": [
            [
             0,
             "#8e0152"
            ],
            [
             0.1,
             "#c51b7d"
            ],
            [
             0.2,
             "#de77ae"
            ],
            [
             0.3,
             "#f1b6da"
            ],
            [
             0.4,
             "#fde0ef"
            ],
            [
             0.5,
             "#f7f7f7"
            ],
            [
             0.6,
             "#e6f5d0"
            ],
            [
             0.7,
             "#b8e186"
            ],
            [
             0.8,
             "#7fbc41"
            ],
            [
             0.9,
             "#4d9221"
            ],
            [
             1,
             "#276419"
            ]
           ],
           "sequential": [
            [
             0,
             "#0d0887"
            ],
            [
             0.1111111111111111,
             "#46039f"
            ],
            [
             0.2222222222222222,
             "#7201a8"
            ],
            [
             0.3333333333333333,
             "#9c179e"
            ],
            [
             0.4444444444444444,
             "#bd3786"
            ],
            [
             0.5555555555555556,
             "#d8576b"
            ],
            [
             0.6666666666666666,
             "#ed7953"
            ],
            [
             0.7777777777777778,
             "#fb9f3a"
            ],
            [
             0.8888888888888888,
             "#fdca26"
            ],
            [
             1,
             "#f0f921"
            ]
           ],
           "sequentialminus": [
            [
             0,
             "#0d0887"
            ],
            [
             0.1111111111111111,
             "#46039f"
            ],
            [
             0.2222222222222222,
             "#7201a8"
            ],
            [
             0.3333333333333333,
             "#9c179e"
            ],
            [
             0.4444444444444444,
             "#bd3786"
            ],
            [
             0.5555555555555556,
             "#d8576b"
            ],
            [
             0.6666666666666666,
             "#ed7953"
            ],
            [
             0.7777777777777778,
             "#fb9f3a"
            ],
            [
             0.8888888888888888,
             "#fdca26"
            ],
            [
             1,
             "#f0f921"
            ]
           ]
          },
          "colorway": [
           "#636efa",
           "#EF553B",
           "#00cc96",
           "#ab63fa",
           "#FFA15A",
           "#19d3f3",
           "#FF6692",
           "#B6E880",
           "#FF97FF",
           "#FECB52"
          ],
          "font": {
           "color": "#2a3f5f"
          },
          "geo": {
           "bgcolor": "white",
           "lakecolor": "white",
           "landcolor": "#E5ECF6",
           "showlakes": true,
           "showland": true,
           "subunitcolor": "white"
          },
          "hoverlabel": {
           "align": "left"
          },
          "hovermode": "closest",
          "mapbox": {
           "style": "light"
          },
          "paper_bgcolor": "white",
          "plot_bgcolor": "#E5ECF6",
          "polar": {
           "angularaxis": {
            "gridcolor": "white",
            "linecolor": "white",
            "ticks": ""
           },
           "bgcolor": "#E5ECF6",
           "radialaxis": {
            "gridcolor": "white",
            "linecolor": "white",
            "ticks": ""
           }
          },
          "scene": {
           "xaxis": {
            "backgroundcolor": "#E5ECF6",
            "gridcolor": "white",
            "gridwidth": 2,
            "linecolor": "white",
            "showbackground": true,
            "ticks": "",
            "zerolinecolor": "white"
           },
           "yaxis": {
            "backgroundcolor": "#E5ECF6",
            "gridcolor": "white",
            "gridwidth": 2,
            "linecolor": "white",
            "showbackground": true,
            "ticks": "",
            "zerolinecolor": "white"
           },
           "zaxis": {
            "backgroundcolor": "#E5ECF6",
            "gridcolor": "white",
            "gridwidth": 2,
            "linecolor": "white",
            "showbackground": true,
            "ticks": "",
            "zerolinecolor": "white"
           }
          },
          "shapedefaults": {
           "line": {
            "color": "#2a3f5f"
           }
          },
          "ternary": {
           "aaxis": {
            "gridcolor": "white",
            "linecolor": "white",
            "ticks": ""
           },
           "baxis": {
            "gridcolor": "white",
            "linecolor": "white",
            "ticks": ""
           },
           "bgcolor": "#E5ECF6",
           "caxis": {
            "gridcolor": "white",
            "linecolor": "white",
            "ticks": ""
           }
          },
          "title": {
           "x": 0.05
          },
          "xaxis": {
           "automargin": true,
           "gridcolor": "white",
           "linecolor": "white",
           "ticks": "",
           "title": {
            "standoff": 15
           },
           "zerolinecolor": "white",
           "zerolinewidth": 2
          },
          "yaxis": {
           "automargin": true,
           "gridcolor": "white",
           "linecolor": "white",
           "ticks": "",
           "title": {
            "standoff": 15
           },
           "zerolinecolor": "white",
           "zerolinewidth": 2
          }
         }
        },
        "title": {
         "text": "Std Dev of Section Scores (one bad beer removed)"
        },
        "xaxis": {
         "anchor": "y",
         "domain": [
          0,
          1
         ],
         "title": {
          "text": "Section"
         }
        },
        "yaxis": {
         "anchor": "x",
         "domain": [
          0,
          1
         ],
         "title": {
          "text": "Anticipation Std Dev"
         }
        }
       }
      }
     },
     "metadata": {},
     "output_type": "display_data"
    }
   ],
   "source": [
    "fig = px.bar(df[df.index!=45].groupby(\"Section\")[\"Anticipation\"].agg(np.var).reset_index(),\n",
    "             x=\"Section\", y=\"Anticipation\",\n",
    "             labels={\"Anticipation\":\"Anticipation Std Dev\"},\n",
    "             title=\"Std Dev of Section Scores (one bad beer removed)\")\n",
    "fig.show()"
   ]
  },
  {
   "cell_type": "code",
   "execution_count": 20,
   "id": "ce18bf70",
   "metadata": {},
   "outputs": [
    {
     "name": "stdout",
     "output_type": "stream",
     "text": [
      "(120, 2)\n"
     ]
    },
    {
     "data": {
      "application/vnd.plotly.v1+json": {
       "config": {
        "plotlyServerURL": "https://plot.ly"
       },
       "data": [
        {
         "customdata": [
          [
           "Boba Beer",
           1,
           1
          ],
          [
           "Go! Go! Ichigo!",
           1,
           6
          ],
          [
           "Lavender Cheesecake",
           1,
           12
          ],
          [
           "Cherry Maguire",
           1,
           15
          ],
          [
           "OnlyFlans",
           1,
           19
          ],
          [
           "Long Island Iced Tea Sour",
           2,
           22
          ],
          [
           "Violet Beauregarde's Blueberry Marshmallow Lactose Sour Ale",
           2,
           25
          ],
          [
           "Bananarama Pina Colada",
           2,
           29
          ],
          [
           "Squishee",
           2,
           32
          ],
          [
           "Black Forrest Cake Sour",
           2,
           37
          ],
          [
           "Cotton Candy Sour",
           3,
           44
          ],
          [
           "Chrome Fury",
           3,
           48
          ],
          [
           "Imperial Lemon Meringue Tart Sour",
           3,
           51
          ],
          [
           "Salvaged Sour - Apple & Rhubarb Crumble Pastry Imperial Sour",
           3,
           55
          ],
          [
           "Lush Guava Beer - Green Beacon x Vodka Cruiser Collaboration",
           3,
           58
          ],
          [
           "Elektro Sour Wormhole",
           3,
           59
          ],
          [
           "Carnival Sour",
           4,
           61
          ],
          [
           "Weekend At Willies",
           4,
           66
          ],
          [
           "Choc Cherry Bomb",
           4,
           70
          ],
          [
           "G and T Gose",
           4,
           73
          ],
          [
           "VoVo Whip",
           4,
           77
          ],
          [
           "Almighty Asam",
           5,
           83
          ],
          [
           "Pizza beer",
           5,
           88
          ],
          [
           "Fruits on Fire",
           5,
           91
          ],
          [
           "Feedback",
           5,
           93
          ],
          [
           "Gulls Just Wanna Have Fun (Fish & Chip Gose)",
           5,
           98
          ],
          [
           "Frootie & The Blowfish",
           6,
           108
          ]
         ],
         "hovertemplate": "Style=Sour<br>0=%{x}<br>1=%{y}<br>Beer=%{customdata[0]}<br>Section=%{customdata[1]}<br>Number=%{customdata[2]}<extra></extra>",
         "legendgroup": "Sour",
         "marker": {
          "color": "#636efa",
          "symbol": "circle"
         },
         "mode": "markers",
         "name": "Sour",
         "orientation": "v",
         "showlegend": true,
         "type": "scatter",
         "x": [
          0.1433388137503497,
          0.32190063223430954,
          0.23813488741469727,
          0.15930601124093413,
          0.4232856024760488,
          0.19766224923160738,
          0.28712232423969325,
          0.18010351995658344,
          0.34134273089701506,
          0.21520202510996822,
          0.4757074867315496,
          0.12976142403261026,
          0.2815406263560361,
          0.4566203451319469,
          0.10571911723186819,
          0.36914523993393955,
          0.42713090218528654,
          0.11191737131436601,
          0.04618088758786809,
          0.18576457199179425,
          0.22715418441465704,
          0.13410406875542238,
          0.1275404386414558,
          0.4165821465010666,
          0.2398935615154758,
          0.1082825727540877,
          0.06773926343436769
         ],
         "xaxis": "x",
         "y": [
          -0.004652889232505006,
          0.07260689899600524,
          0.03838700862853363,
          0.06708377283826752,
          0.1291534475858392,
          -0.051532942862613035,
          0.04136713676289758,
          0.015274782481747665,
          0.025402109721365685,
          0.1414509697556593,
          0.09302427437980285,
          0.03833893112730105,
          0.09373594374421569,
          0.13628458294965226,
          0.0066796524968310705,
          0.07282111675635575,
          0.10021014902552237,
          -0.04238291677295201,
          0.048377126530891754,
          -0.0036285800701157133,
          0.03051963007921594,
          -0.007403539942610688,
          0.03182245366754514,
          0.028159749519718006,
          0.08492072591486241,
          0.041446549513715625,
          0.015549474508376565
         ],
         "yaxis": "y"
        },
        {
         "customdata": [
          [
           "Homestead Blackberry and Apple Pastry Sour",
           1,
           2
          ],
          [
           "Barrel Aged Rum Double Choc Brown Ale",
           1,
           8
          ],
          [
           "Desert Lime Gimlet IPA",
           2,
           24
          ],
          [
           "Bogan Fuel",
           3,
           47
          ],
          [
           "Garth's Fave Punch Bowl",
           4,
           75
          ],
          [
           "Woolshed Brewery and Vili's Family Bakery Meat Pint",
           5,
           85
          ],
          [
           "Fiery Azzurro Pils",
           6,
           106
          ],
          [
           "Hold the Pork",
           6,
           109
          ],
          [
           "Raspberry Lemonade",
           6,
           110
          ]
         ],
         "hovertemplate": "Style=Specialty<br>0=%{x}<br>1=%{y}<br>Beer=%{customdata[0]}<br>Section=%{customdata[1]}<br>Number=%{customdata[2]}<extra></extra>",
         "legendgroup": "Specialty",
         "marker": {
          "color": "#EF553B",
          "symbol": "circle"
         },
         "mode": "markers",
         "name": "Specialty",
         "orientation": "v",
         "showlegend": true,
         "type": "scatter",
         "x": [
          0.16309163889029415,
          -0.06951738769968388,
          -0.021194174231723675,
          -0.014442426126337818,
          0.09340597679869034,
          -0.04853969914095797,
          -0.03607964234917822,
          -0.007428795283806847,
          -0.0052726585399098785
         ],
         "xaxis": "x",
         "y": [
          0.055761362810910944,
          0.06877291399719924,
          -0.09051117356282325,
          -0.013054133763264315,
          0.0644641378028697,
          -0.056005613530634386,
          0.018779333493343108,
          -0.06941516844929237,
          -0.006612366749730285
         ],
         "yaxis": "y"
        },
        {
         "customdata": [
          [
           "Suit Up",
           1,
           3
          ],
          [
           "Mulberry Bush Imperial IPA",
           3,
           53
          ],
          [
           "Invisible Oranges",
           6,
           107
          ]
         ],
         "hovertemplate": "Style=IPA Black<br>0=%{x}<br>1=%{y}<br>Beer=%{customdata[0]}<br>Section=%{customdata[1]}<br>Number=%{customdata[2]}<extra></extra>",
         "legendgroup": "IPA Black",
         "marker": {
          "color": "#00cc96",
          "symbol": "circle"
         },
         "mode": "markers",
         "name": "IPA Black",
         "orientation": "v",
         "showlegend": true,
         "type": "scatter",
         "x": [
          -0.1045148402482405,
          0.06346558339018042,
          -0.11914867538544459
         ],
         "xaxis": "x",
         "y": [
          -0.13320226124668438,
          -0.08307991273356087,
          -0.1418328994896524
         ],
         "yaxis": "y"
        },
        {
         "customdata": [
          [
           "Whiskey in the jar",
           1,
           4
          ]
         ],
         "hovertemplate": "Style=Wood Aged Beer<br>0=%{x}<br>1=%{y}<br>Beer=%{customdata[0]}<br>Section=%{customdata[1]}<br>Number=%{customdata[2]}<extra></extra>",
         "legendgroup": "Wood Aged Beer",
         "marker": {
          "color": "#ab63fa",
          "symbol": "circle"
         },
         "mode": "markers",
         "name": "Wood Aged Beer",
         "orientation": "v",
         "showlegend": true,
         "type": "scatter",
         "x": [
          -0.16785697819865755
         ],
         "xaxis": "x",
         "y": [
          0.2802371671925159
         ],
         "yaxis": "y"
        },
        {
         "customdata": [
          [
           "Marsden Neopolitan Porter",
           1,
           5
          ]
         ],
         "hovertemplate": "Style=Stout Tropical<br>0=%{x}<br>1=%{y}<br>Beer=%{customdata[0]}<br>Section=%{customdata[1]}<br>Number=%{customdata[2]}<extra></extra>",
         "legendgroup": "Stout Tropical",
         "marker": {
          "color": "#FFA15A",
          "symbol": "circle"
         },
         "mode": "markers",
         "name": "Stout Tropical",
         "orientation": "v",
         "showlegend": true,
         "type": "scatter",
         "x": [
          -0.18165507435709016
         ],
         "xaxis": "x",
         "y": [
          0.23476531243272375
         ],
         "yaxis": "y"
        },
        {
         "customdata": [
          [
           "Market 2023",
           1,
           7
          ],
          [
           "Unicorn NEIPA",
           1,
           20
          ],
          [
           "Hawke's Bob Hulk Double Hazy IPA",
           5,
           92
          ],
          [
           "PROPER GABS",
           6,
           104
          ]
         ],
         "hovertemplate": "Style=NEIPA<br>0=%{x}<br>1=%{y}<br>Beer=%{customdata[0]}<br>Section=%{customdata[1]}<br>Number=%{customdata[2]}<extra></extra>",
         "legendgroup": "NEIPA",
         "marker": {
          "color": "#19d3f3",
          "symbol": "circle"
         },
         "mode": "markers",
         "name": "NEIPA",
         "orientation": "v",
         "showlegend": true,
         "type": "scatter",
         "x": [
          -0.0038584426394581138,
          -0.06881889843704783,
          -0.05872783579004707,
          -0.015816494794494793
         ],
         "xaxis": "x",
         "y": [
          -0.06517608176316043,
          -0.1590028514692079,
          -0.2193167003890924,
          -0.02817519138926174
         ],
         "yaxis": "y"
        },
        {
         "customdata": [
          [
           "I am Weiss",
           1,
           9
          ],
          [
           "Bloody Mystic",
           3,
           56
          ]
         ],
         "hovertemplate": "Style=Wheat<br>0=%{x}<br>1=%{y}<br>Beer=%{customdata[0]}<br>Section=%{customdata[1]}<br>Number=%{customdata[2]}<extra></extra>",
         "legendgroup": "Wheat",
         "marker": {
          "color": "#FF6692",
          "symbol": "circle"
         },
         "mode": "markers",
         "name": "Wheat",
         "orientation": "v",
         "showlegend": true,
         "type": "scatter",
         "x": [
          -0.06678652450104643,
          -0.04565857315680164
         ],
         "xaxis": "x",
         "y": [
          -0.021615890633812505,
          -0.05103960477696201
         ],
         "yaxis": "y"
        },
        {
         "customdata": [
          [
           "Tim, Tam & Tom",
           1,
           10
          ]
         ],
         "hovertemplate": "Style=Brown<br>0=%{x}<br>1=%{y}<br>Beer=%{customdata[0]}<br>Section=%{customdata[1]}<br>Number=%{customdata[2]}<extra></extra>",
         "legendgroup": "Brown",
         "marker": {
          "color": "#B6E880",
          "symbol": "circle"
         },
         "mode": "markers",
         "name": "Brown",
         "orientation": "v",
         "showlegend": true,
         "type": "scatter",
         "x": [
          -0.04223262399414654
         ],
         "xaxis": "x",
         "y": [
          -0.027952894008344782
         ],
         "yaxis": "y"
        },
        {
         "customdata": [
          [
           "Molecular Bubble Tea IPA",
           1,
           11
          ],
          [
           "Balloon Animals",
           4,
           74
          ]
         ],
         "hovertemplate": "Style=IPA Milkshake<br>0=%{x}<br>1=%{y}<br>Beer=%{customdata[0]}<br>Section=%{customdata[1]}<br>Number=%{customdata[2]}<extra></extra>",
         "legendgroup": "IPA Milkshake",
         "marker": {
          "color": "#FF97FF",
          "symbol": "circle"
         },
         "mode": "markers",
         "name": "IPA Milkshake",
         "orientation": "v",
         "showlegend": true,
         "type": "scatter",
         "x": [
          -0.11774154320657705,
          -0.08215384024131854
         ],
         "xaxis": "x",
         "y": [
          -0.15926819679821183,
          -0.07336880218475549
         ],
         "yaxis": "y"
        },
        {
         "customdata": [
          [
           "SAB Lite",
           1,
           13
          ],
          [
           "Throat Pour",
           2,
           36
          ],
          [
           "Can't Be A Root",
           3,
           43
          ],
          [
           "Burleigh Black Giraffe Double Shot",
           4,
           64
          ],
          [
           "Aztec (Pale Chocolate Lager)",
           5,
           87
          ],
          [
           "Barrel Aged Cerveza",
           5,
           95
          ]
         ],
         "hovertemplate": "Style=Lager<br>0=%{x}<br>1=%{y}<br>Beer=%{customdata[0]}<br>Section=%{customdata[1]}<br>Number=%{customdata[2]}<extra></extra>",
         "legendgroup": "Lager",
         "marker": {
          "color": "#FECB52",
          "symbol": "circle"
         },
         "mode": "markers",
         "name": "Lager",
         "orientation": "v",
         "showlegend": true,
         "type": "scatter",
         "x": [
          -0.07048847773818255,
          -0.043675622233078075,
          -0.013054065994066362,
          -0.09674353936770098,
          -0.06779616490474977,
          -0.07417845613694647
         ],
         "xaxis": "x",
         "y": [
          -0.10894763356701685,
          -0.06193496754635622,
          -0.018189560925951198,
          0.00023485786971205803,
          0.015920876427022775,
          -0.014131345443314665
         ],
         "yaxis": "y"
        },
        {
         "customdata": [
          [
           "Don't Go Baking My Heart'",
           1,
           14
          ],
          [
           "The Lover",
           1,
           17
          ],
          [
           "Augustus Gloop's Choc Fudge Peanut Brittle Stout",
           2,
           26
          ],
          [
           "Peanut Butter Brownie Imperial Stout",
           2,
           33
          ],
          [
           "The Snowball Effect",
           2,
           40
          ],
          [
           "Take 5 - Choc Caramel Peanut Butter Cup Double Milk Stout",
           3,
           54
          ],
          [
           "Maple Bacon Pancake Stout",
           3,
           57
          ],
          [
           "Imperial White Choc & Macadamia Stout",
           4,
           65
          ],
          [
           "Barrel-Aged Raspberry Imperial Stout",
           4,
           69
          ],
          [
           "Mind-bottling, isn't it?",
           4,
           76
          ],
          [
           "Hypster Latte Stout",
           5,
           90
          ],
          [
           "MSB Chocolate Bubble Imperial Stout",
           5,
           94
          ],
          [
           "Soutini 2.0",
           5,
           99
          ],
          [
           "AWW Duck Yeah!",
           6,
           101
          ],
          [
           "Lucky Charms Cereal Milk Stout",
           6,
           111
          ]
         ],
         "hovertemplate": "Style=Stout<br>0=%{x}<br>1=%{y}<br>Beer=%{customdata[0]}<br>Section=%{customdata[1]}<br>Number=%{customdata[2]}<extra></extra>",
         "legendgroup": "Stout",
         "marker": {
          "color": "#636efa",
          "symbol": "circle"
         },
         "mode": "markers",
         "name": "Stout",
         "orientation": "v",
         "showlegend": true,
         "type": "scatter",
         "x": [
          -0.09155419666114158,
          -0.17440428211683678,
          -0.21539318782015757,
          -0.2715676903267902,
          -0.21766737899063002,
          -0.24091351923513393,
          -0.13453257289922804,
          -0.2692060803685781,
          -0.18159079397588876,
          -0.10666072056642592,
          -0.14092509832431688,
          -0.2360274086837885,
          -0.21020438879751938,
          -0.10395632600386008,
          -0.16271207589083916
         ],
         "xaxis": "x",
         "y": [
          0.1271882009274789,
          0.24101515300799625,
          0.38996452726116243,
          0.4984613960135897,
          0.3960305210478355,
          0.3352635351999093,
          0.2273027327629201,
          0.34344160189975464,
          0.35122854849177604,
          0.12407250273154248,
          0.2200761796967082,
          0.4319586135682169,
          0.3254786496040712,
          0.17422479262344068,
          0.28810960216839304
         ],
         "yaxis": "y"
        },
        {
         "customdata": [
          [
           "The Taverner - All Brut Low Glut",
           1,
           16
          ]
         ],
         "hovertemplate": "Style=IPA White<br>0=%{x}<br>1=%{y}<br>Beer=%{customdata[0]}<br>Section=%{customdata[1]}<br>Number=%{customdata[2]}<extra></extra>",
         "legendgroup": "IPA White",
         "marker": {
          "color": "#EF553B",
          "symbol": "circle"
         },
         "mode": "markers",
         "name": "IPA White",
         "orientation": "v",
         "showlegend": true,
         "type": "scatter",
         "x": [
          -0.13222611275151158
         ],
         "xaxis": "x",
         "y": [
          -0.13030065036627803
         ],
         "yaxis": "y"
        },
        {
         "customdata": [
          [
           "Escape with the Schwartz",
           1,
           18
          ],
          [
           "Red frog, Raspberry dark lager",
           2,
           27
          ],
          [
           "Mango Stormy",
           4,
           79
          ]
         ],
         "hovertemplate": "Style=Lager Dark<br>0=%{x}<br>1=%{y}<br>Beer=%{customdata[0]}<br>Section=%{customdata[1]}<br>Number=%{customdata[2]}<extra></extra>",
         "legendgroup": "Lager Dark",
         "marker": {
          "color": "#00cc96",
          "symbol": "circle"
         },
         "mode": "markers",
         "name": "Lager Dark",
         "orientation": "v",
         "showlegend": true,
         "type": "scatter",
         "x": [
          -0.11089903320890547,
          -0.11699441797083941,
          -0.05676403104128219
         ],
         "xaxis": "x",
         "y": [
          -0.15611369346967272,
          -0.052350802419260475,
          -0.07110239279445298
         ],
         "yaxis": "y"
        },
        {
         "customdata": [
          [
           "Calippso Juicy IPA",
           2,
           21
          ],
          [
           "Throwing Haze",
           2,
           30
          ],
          [
           "THE WAY OF TEA",
           6,
           102
          ]
         ],
         "hovertemplate": "Style=IPA Hazy<br>0=%{x}<br>1=%{y}<br>Beer=%{customdata[0]}<br>Section=%{customdata[1]}<br>Number=%{customdata[2]}<extra></extra>",
         "legendgroup": "IPA Hazy",
         "marker": {
          "color": "#ab63fa",
          "symbol": "circle"
         },
         "mode": "markers",
         "name": "IPA Hazy",
         "orientation": "v",
         "showlegend": true,
         "type": "scatter",
         "x": [
          -0.10638974580390609,
          -0.11266784212063703,
          -0.12351816699996056
         ],
         "xaxis": "x",
         "y": [
          -0.28517377123976306,
          -0.1856227758827316,
          -0.23203750019013275
         ],
         "yaxis": "y"
        },
        {
         "customdata": [
          [
           "Upper Management",
           2,
           23
          ],
          [
           "Rye Rye Rye Delilah",
           3,
           41
          ],
          [
           "Mountain Sunset",
           4,
           78
          ]
         ],
         "hovertemplate": "Style=IPA Red<br>0=%{x}<br>1=%{y}<br>Beer=%{customdata[0]}<br>Section=%{customdata[1]}<br>Number=%{customdata[2]}<extra></extra>",
         "legendgroup": "IPA Red",
         "marker": {
          "color": "#FFA15A",
          "symbol": "circle"
         },
         "mode": "markers",
         "name": "IPA Red",
         "orientation": "v",
         "showlegend": true,
         "type": "scatter",
         "x": [
          -0.0907706632527745,
          -0.06115348291541167,
          -0.05932914979532493
         ],
         "xaxis": "x",
         "y": [
          -0.15937936503968886,
          -0.1093432289833062,
          -0.20409979834255956
         ],
         "yaxis": "y"
        },
        {
         "customdata": [
          [
           "Cherry Fruited Braggot",
           2,
           28
          ],
          [
           "Waggle Buzz",
           3,
           46
          ]
         ],
         "hovertemplate": "Style=Braggot<br>0=%{x}<br>1=%{y}<br>Beer=%{customdata[0]}<br>Section=%{customdata[1]}<br>Number=%{customdata[2]}<extra></extra>",
         "legendgroup": "Braggot",
         "marker": {
          "color": "#19d3f3",
          "symbol": "circle"
         },
         "mode": "markers",
         "name": "Braggot",
         "orientation": "v",
         "showlegend": true,
         "type": "scatter",
         "x": [
          0.028698461806261698,
          -0.04411888265217795
         ],
         "xaxis": "x",
         "y": [
          0.020186129931742305,
          0.0012660575735220457
         ],
         "yaxis": "y"
        },
        {
         "customdata": [
          [
           "Sticke Coffee Kolsch",
           2,
           31
          ],
          [
           "Snowy's Kolsch",
           5,
           89
          ]
         ],
         "hovertemplate": "Style=Kolsch<br>0=%{x}<br>1=%{y}<br>Beer=%{customdata[0]}<br>Section=%{customdata[1]}<br>Number=%{customdata[2]}<extra></extra>",
         "legendgroup": "Kolsch",
         "marker": {
          "color": "#FF6692",
          "symbol": "circle"
         },
         "mode": "markers",
         "name": "Kolsch",
         "orientation": "v",
         "showlegend": true,
         "type": "scatter",
         "x": [
          -0.06478869785015312,
          -0.01805729596410432
         ],
         "xaxis": "x",
         "y": [
          -0.00068807609628133,
          -0.13370400669755503
         ],
         "yaxis": "y"
        },
        {
         "customdata": [
          [
           "The Beery Beer",
           2,
           34
          ],
          [
           "Peak Hype",
           2,
           38
          ],
          [
           "The Craft and Co. WIPA",
           3,
           45
          ],
          [
           "Ginger Nut Sparkling IPA",
           3,
           50
          ],
          [
           "Tha Thiccness Version 2",
           3,
           60
          ],
          [
           "Fists of Fiori",
           4,
           68
          ],
          [
           "Tropo-Thiol",
           4,
           72
          ],
          [
           "Brut IPA",
           5,
           81
          ],
          [
           "Pumpkin of Liberty IPA",
           5,
           86
          ],
          [
           "Living the Cream",
           5,
           96
          ],
          [
           "Keeping It Simple",
           5,
           100
          ],
          [
           "No Place Like Aus",
           6,
           103
          ],
          [
           "Ronin - Japanese Double IPA",
           6,
           112
          ]
         ],
         "hovertemplate": "Style=IPA<br>0=%{x}<br>1=%{y}<br>Beer=%{customdata[0]}<br>Section=%{customdata[1]}<br>Number=%{customdata[2]}<extra></extra>",
         "legendgroup": "IPA",
         "marker": {
          "color": "#B6E880",
          "symbol": "circle"
         },
         "mode": "markers",
         "name": "IPA",
         "orientation": "v",
         "showlegend": true,
         "type": "scatter",
         "x": [
          -0.06664347006638219,
          -0.10098465949909986,
          -0.10764176296018031,
          -0.1102339569129865,
          -0.06427255629901084,
          -0.17957866849866932,
          -0.1492240916986344,
          -0.11340218256967023,
          -0.16479820164610337,
          -0.05647599122958644,
          -0.06614028585107509,
          -0.08638891528768593,
          -0.11184632253912777
         ],
         "xaxis": "x",
         "y": [
          -0.08279255401712765,
          -0.15202692339343285,
          -0.2060342694355225,
          -0.2272647171960839,
          -0.14436629418870858,
          -0.2844203651212068,
          -0.27993253259707207,
          -0.27818964716180095,
          -0.319581147908501,
          -0.04370639717864258,
          -0.08254802490234711,
          -0.17961309688673321,
          -0.1965969175743431
         ],
         "yaxis": "y"
        },
        {
         "customdata": [
          [
           "Munich Dunkel",
           2,
           35
          ]
         ],
         "hovertemplate": "Style=Dunkel<br>0=%{x}<br>1=%{y}<br>Beer=%{customdata[0]}<br>Section=%{customdata[1]}<br>Number=%{customdata[2]}<extra></extra>",
         "legendgroup": "Dunkel",
         "marker": {
          "color": "#FF97FF",
          "symbol": "circle"
         },
         "mode": "markers",
         "name": "Dunkel",
         "orientation": "v",
         "showlegend": true,
         "type": "scatter",
         "x": [
          -0.0492003025416559
         ],
         "xaxis": "x",
         "y": [
          -0.08576073016628974
         ],
         "yaxis": "y"
        },
        {
         "customdata": [
          [
           "Drinkin' Donuts Imperial Jam Donut Golden Ale",
           2,
           39
          ],
          [
           "Biscoff Ice Cream Porter",
           3,
           49
          ]
         ],
         "hovertemplate": "Style=Experimental<br>0=%{x}<br>1=%{y}<br>Beer=%{customdata[0]}<br>Section=%{customdata[1]}<br>Number=%{customdata[2]}<extra></extra>",
         "legendgroup": "Experimental",
         "marker": {
          "color": "#FECB52",
          "symbol": "circle"
         },
         "mode": "markers",
         "name": "Experimental",
         "orientation": "v",
         "showlegend": true,
         "type": "scatter",
         "x": [
          -0.039522113986199134,
          -0.05431796299891628
         ],
         "xaxis": "x",
         "y": [
          0.03253302817677968,
          0.025568432400625004
         ],
         "yaxis": "y"
        },
        {
         "customdata": [
          [
           "\"Grandmere's Crumble\" Rhubarb & Custard (Apple) Saison",
           3,
           42
          ],
          [
           "Life Can Be Sweet & Sour",
           4,
           67
          ],
          [
           "Hail Mary, Hair of the Dog",
           6,
           105
          ]
         ],
         "hovertemplate": "Style=Saison<br>0=%{x}<br>1=%{y}<br>Beer=%{customdata[0]}<br>Section=%{customdata[1]}<br>Number=%{customdata[2]}<extra></extra>",
         "legendgroup": "Saison",
         "marker": {
          "color": "#636efa",
          "symbol": "circle"
         },
         "mode": "markers",
         "name": "Saison",
         "orientation": "v",
         "showlegend": true,
         "type": "scatter",
         "x": [
          0.08348778916541374,
          0.15565055198238825,
          -0.08025636207200523
         ],
         "xaxis": "x",
         "y": [
          0.018158200640078996,
          -0.05445267724734507,
          -0.06686147045256442
         ],
         "yaxis": "y"
        },
        {
         "customdata": [
          [
           "Hop Quad Buns",
           3,
           52
          ]
         ],
         "hovertemplate": "Style=Belgian Quad<br>0=%{x}<br>1=%{y}<br>Beer=%{customdata[0]}<br>Section=%{customdata[1]}<br>Number=%{customdata[2]}<extra></extra>",
         "legendgroup": "Belgian Quad",
         "marker": {
          "color": "#EF553B",
          "symbol": "circle"
         },
         "mode": "markers",
         "name": "Belgian Quad",
         "orientation": "v",
         "showlegend": true,
         "type": "scatter",
         "x": [
          -0.07271296390206038
         ],
         "xaxis": "x",
         "y": [
          -0.07875708293150273
         ],
         "yaxis": "y"
        },
        {
         "customdata": [
          [
           "The Nugget",
           4,
           62
          ]
         ],
         "hovertemplate": "Style=IPA Wild<br>0=%{x}<br>1=%{y}<br>Beer=%{customdata[0]}<br>Section=%{customdata[1]}<br>Number=%{customdata[2]}<extra></extra>",
         "legendgroup": "IPA Wild",
         "marker": {
          "color": "#00cc96",
          "symbol": "circle"
         },
         "mode": "markers",
         "name": "IPA Wild",
         "orientation": "v",
         "showlegend": true,
         "type": "scatter",
         "x": [
          -0.10107619526965125
         ],
         "xaxis": "x",
         "y": [
          -0.19287689775588418
         ],
         "yaxis": "y"
        },
        {
         "customdata": [
          [
           "Buck Yeah",
           4,
           63
          ]
         ],
         "hovertemplate": "Style=Eisbock<br>0=%{x}<br>1=%{y}<br>Beer=%{customdata[0]}<br>Section=%{customdata[1]}<br>Number=%{customdata[2]}<extra></extra>",
         "legendgroup": "Eisbock",
         "marker": {
          "color": "#ab63fa",
          "symbol": "circle"
         },
         "mode": "markers",
         "name": "Eisbock",
         "orientation": "v",
         "showlegend": true,
         "type": "scatter",
         "x": [
          -0.06433129235912505
         ],
         "xaxis": "x",
         "y": [
          -0.044331313064816975
         ],
         "yaxis": "y"
        },
        {
         "customdata": [
          [
           "Dayummm",
           4,
           71
          ]
         ],
         "hovertemplate": "Style=Schwarzbier<br>0=%{x}<br>1=%{y}<br>Beer=%{customdata[0]}<br>Section=%{customdata[1]}<br>Number=%{customdata[2]}<extra></extra>",
         "legendgroup": "Schwarzbier",
         "marker": {
          "color": "#FFA15A",
          "symbol": "circle"
         },
         "mode": "markers",
         "name": "Schwarzbier",
         "orientation": "v",
         "showlegend": true,
         "type": "scatter",
         "x": [
          -0.12447849215906136
         ],
         "xaxis": "x",
         "y": [
          -0.0737791530927065
         ],
         "yaxis": "y"
        },
        {
         "customdata": [
          [
           "Barrel Aged Imperial Porter",
           4,
           80
          ],
          [
           "Cherry Ripe Porter",
           5,
           84
          ],
          [
           "YO HO!",
           5,
           97
          ]
         ],
         "hovertemplate": "Style=Porter<br>0=%{x}<br>1=%{y}<br>Beer=%{customdata[0]}<br>Section=%{customdata[1]}<br>Number=%{customdata[2]}<extra></extra>",
         "legendgroup": "Porter",
         "marker": {
          "color": "#19d3f3",
          "symbol": "circle"
         },
         "mode": "markers",
         "name": "Porter",
         "orientation": "v",
         "showlegend": true,
         "type": "scatter",
         "x": [
          -0.07440705537327426,
          -0.08215968196007586,
          -0.053706123427010755
         ],
         "xaxis": "x",
         "y": [
          0.13664448701000195,
          0.06736990691864492,
          -0.011860261466453288
         ],
         "yaxis": "y"
        },
        {
         "customdata": [
          [
           "Smokey Bacon Balls",
           5,
           82
          ]
         ],
         "hovertemplate": "Style=Rauchbier<br>0=%{x}<br>1=%{y}<br>Beer=%{customdata[0]}<br>Section=%{customdata[1]}<br>Number=%{customdata[2]}<extra></extra>",
         "legendgroup": "Rauchbier",
         "marker": {
          "color": "#FF6692",
          "symbol": "circle"
         },
         "mode": "markers",
         "name": "Rauchbier",
         "orientation": "v",
         "showlegend": true,
         "type": "scatter",
         "x": [
          0.002531251580533912
         ],
         "xaxis": "x",
         "y": [
          0.045992973796796385
         ],
         "yaxis": "y"
        },
        {
         "customdata": [
          [
           "Spicy Wombat",
           6,
           113
          ]
         ],
         "hovertemplate": "Style=Ginger<br>0=%{x}<br>1=%{y}<br>Beer=%{customdata[0]}<br>Section=%{customdata[1]}<br>Number=%{customdata[2]}<extra></extra>",
         "legendgroup": "Ginger",
         "marker": {
          "color": "#B6E880",
          "symbol": "circle"
         },
         "mode": "markers",
         "name": "Ginger",
         "orientation": "v",
         "showlegend": true,
         "type": "scatter",
         "x": [
          0.027407066153934925
         ],
         "xaxis": "x",
         "y": [
          -0.016179999971350997
         ],
         "yaxis": "y"
        },
        {
         "customdata": [
          [
           "Cherry Nice Graf",
           6,
           114
          ],
          [
           "Apple and Black Currant Cider",
           6,
           117
          ],
          [
           "Sour Pineapple Sour",
           6,
           118
          ],
          [
           "Eddies Organic Cider - Crisp Apple",
           6,
           119
          ],
          [
           "Splicer",
           6,
           120
          ]
         ],
         "hovertemplate": "Style=Cider<br>0=%{x}<br>1=%{y}<br>Beer=%{customdata[0]}<br>Section=%{customdata[1]}<br>Number=%{customdata[2]}<extra></extra>",
         "legendgroup": "Cider",
         "marker": {
          "color": "#FF97FF",
          "symbol": "circle"
         },
         "mode": "markers",
         "name": "Cider",
         "orientation": "v",
         "showlegend": true,
         "type": "scatter",
         "x": [
          0.04033495043751248,
          0.04923740508967318,
          0.551423570993287,
          0.029527527694653864,
          0.09311533863091499
         ],
         "xaxis": "x",
         "y": [
          -0.0260830680123586,
          -0.06614717477197035,
          0.041290806560025116,
          -0.1264597183296894,
          -0.09313744401863722
         ],
         "yaxis": "y"
        },
        {
         "customdata": [
          [
           "Pinapple Express",
           6,
           115
          ],
          [
           "Barrel Aged Seltzerita",
           6,
           116
          ]
         ],
         "hovertemplate": "Style=Seltzer<br>0=%{x}<br>1=%{y}<br>Beer=%{customdata[0]}<br>Section=%{customdata[1]}<br>Number=%{customdata[2]}<extra></extra>",
         "legendgroup": "Seltzer",
         "marker": {
          "color": "#FECB52",
          "symbol": "circle"
         },
         "mode": "markers",
         "name": "Seltzer",
         "orientation": "v",
         "showlegend": true,
         "type": "scatter",
         "x": [
          -0.07816304035730669,
          -0.049222768529373954
         ],
         "xaxis": "x",
         "y": [
          -0.11343372092580366,
          0.004164751568830535
         ],
         "yaxis": "y"
        }
       ],
       "layout": {
        "legend": {
         "title": {
          "text": "Style"
         },
         "tracegroupgap": 0
        },
        "margin": {
         "t": 60
        },
        "template": {
         "data": {
          "bar": [
           {
            "error_x": {
             "color": "#2a3f5f"
            },
            "error_y": {
             "color": "#2a3f5f"
            },
            "marker": {
             "line": {
              "color": "#E5ECF6",
              "width": 0.5
             },
             "pattern": {
              "fillmode": "overlay",
              "size": 10,
              "solidity": 0.2
             }
            },
            "type": "bar"
           }
          ],
          "barpolar": [
           {
            "marker": {
             "line": {
              "color": "#E5ECF6",
              "width": 0.5
             },
             "pattern": {
              "fillmode": "overlay",
              "size": 10,
              "solidity": 0.2
             }
            },
            "type": "barpolar"
           }
          ],
          "carpet": [
           {
            "aaxis": {
             "endlinecolor": "#2a3f5f",
             "gridcolor": "white",
             "linecolor": "white",
             "minorgridcolor": "white",
             "startlinecolor": "#2a3f5f"
            },
            "baxis": {
             "endlinecolor": "#2a3f5f",
             "gridcolor": "white",
             "linecolor": "white",
             "minorgridcolor": "white",
             "startlinecolor": "#2a3f5f"
            },
            "type": "carpet"
           }
          ],
          "choropleth": [
           {
            "colorbar": {
             "outlinewidth": 0,
             "ticks": ""
            },
            "type": "choropleth"
           }
          ],
          "contour": [
           {
            "colorbar": {
             "outlinewidth": 0,
             "ticks": ""
            },
            "colorscale": [
             [
              0,
              "#0d0887"
             ],
             [
              0.1111111111111111,
              "#46039f"
             ],
             [
              0.2222222222222222,
              "#7201a8"
             ],
             [
              0.3333333333333333,
              "#9c179e"
             ],
             [
              0.4444444444444444,
              "#bd3786"
             ],
             [
              0.5555555555555556,
              "#d8576b"
             ],
             [
              0.6666666666666666,
              "#ed7953"
             ],
             [
              0.7777777777777778,
              "#fb9f3a"
             ],
             [
              0.8888888888888888,
              "#fdca26"
             ],
             [
              1,
              "#f0f921"
             ]
            ],
            "type": "contour"
           }
          ],
          "contourcarpet": [
           {
            "colorbar": {
             "outlinewidth": 0,
             "ticks": ""
            },
            "type": "contourcarpet"
           }
          ],
          "heatmap": [
           {
            "colorbar": {
             "outlinewidth": 0,
             "ticks": ""
            },
            "colorscale": [
             [
              0,
              "#0d0887"
             ],
             [
              0.1111111111111111,
              "#46039f"
             ],
             [
              0.2222222222222222,
              "#7201a8"
             ],
             [
              0.3333333333333333,
              "#9c179e"
             ],
             [
              0.4444444444444444,
              "#bd3786"
             ],
             [
              0.5555555555555556,
              "#d8576b"
             ],
             [
              0.6666666666666666,
              "#ed7953"
             ],
             [
              0.7777777777777778,
              "#fb9f3a"
             ],
             [
              0.8888888888888888,
              "#fdca26"
             ],
             [
              1,
              "#f0f921"
             ]
            ],
            "type": "heatmap"
           }
          ],
          "heatmapgl": [
           {
            "colorbar": {
             "outlinewidth": 0,
             "ticks": ""
            },
            "colorscale": [
             [
              0,
              "#0d0887"
             ],
             [
              0.1111111111111111,
              "#46039f"
             ],
             [
              0.2222222222222222,
              "#7201a8"
             ],
             [
              0.3333333333333333,
              "#9c179e"
             ],
             [
              0.4444444444444444,
              "#bd3786"
             ],
             [
              0.5555555555555556,
              "#d8576b"
             ],
             [
              0.6666666666666666,
              "#ed7953"
             ],
             [
              0.7777777777777778,
              "#fb9f3a"
             ],
             [
              0.8888888888888888,
              "#fdca26"
             ],
             [
              1,
              "#f0f921"
             ]
            ],
            "type": "heatmapgl"
           }
          ],
          "histogram": [
           {
            "marker": {
             "pattern": {
              "fillmode": "overlay",
              "size": 10,
              "solidity": 0.2
             }
            },
            "type": "histogram"
           }
          ],
          "histogram2d": [
           {
            "colorbar": {
             "outlinewidth": 0,
             "ticks": ""
            },
            "colorscale": [
             [
              0,
              "#0d0887"
             ],
             [
              0.1111111111111111,
              "#46039f"
             ],
             [
              0.2222222222222222,
              "#7201a8"
             ],
             [
              0.3333333333333333,
              "#9c179e"
             ],
             [
              0.4444444444444444,
              "#bd3786"
             ],
             [
              0.5555555555555556,
              "#d8576b"
             ],
             [
              0.6666666666666666,
              "#ed7953"
             ],
             [
              0.7777777777777778,
              "#fb9f3a"
             ],
             [
              0.8888888888888888,
              "#fdca26"
             ],
             [
              1,
              "#f0f921"
             ]
            ],
            "type": "histogram2d"
           }
          ],
          "histogram2dcontour": [
           {
            "colorbar": {
             "outlinewidth": 0,
             "ticks": ""
            },
            "colorscale": [
             [
              0,
              "#0d0887"
             ],
             [
              0.1111111111111111,
              "#46039f"
             ],
             [
              0.2222222222222222,
              "#7201a8"
             ],
             [
              0.3333333333333333,
              "#9c179e"
             ],
             [
              0.4444444444444444,
              "#bd3786"
             ],
             [
              0.5555555555555556,
              "#d8576b"
             ],
             [
              0.6666666666666666,
              "#ed7953"
             ],
             [
              0.7777777777777778,
              "#fb9f3a"
             ],
             [
              0.8888888888888888,
              "#fdca26"
             ],
             [
              1,
              "#f0f921"
             ]
            ],
            "type": "histogram2dcontour"
           }
          ],
          "mesh3d": [
           {
            "colorbar": {
             "outlinewidth": 0,
             "ticks": ""
            },
            "type": "mesh3d"
           }
          ],
          "parcoords": [
           {
            "line": {
             "colorbar": {
              "outlinewidth": 0,
              "ticks": ""
             }
            },
            "type": "parcoords"
           }
          ],
          "pie": [
           {
            "automargin": true,
            "type": "pie"
           }
          ],
          "scatter": [
           {
            "fillpattern": {
             "fillmode": "overlay",
             "size": 10,
             "solidity": 0.2
            },
            "type": "scatter"
           }
          ],
          "scatter3d": [
           {
            "line": {
             "colorbar": {
              "outlinewidth": 0,
              "ticks": ""
             }
            },
            "marker": {
             "colorbar": {
              "outlinewidth": 0,
              "ticks": ""
             }
            },
            "type": "scatter3d"
           }
          ],
          "scattercarpet": [
           {
            "marker": {
             "colorbar": {
              "outlinewidth": 0,
              "ticks": ""
             }
            },
            "type": "scattercarpet"
           }
          ],
          "scattergeo": [
           {
            "marker": {
             "colorbar": {
              "outlinewidth": 0,
              "ticks": ""
             }
            },
            "type": "scattergeo"
           }
          ],
          "scattergl": [
           {
            "marker": {
             "colorbar": {
              "outlinewidth": 0,
              "ticks": ""
             }
            },
            "type": "scattergl"
           }
          ],
          "scattermapbox": [
           {
            "marker": {
             "colorbar": {
              "outlinewidth": 0,
              "ticks": ""
             }
            },
            "type": "scattermapbox"
           }
          ],
          "scatterpolar": [
           {
            "marker": {
             "colorbar": {
              "outlinewidth": 0,
              "ticks": ""
             }
            },
            "type": "scatterpolar"
           }
          ],
          "scatterpolargl": [
           {
            "marker": {
             "colorbar": {
              "outlinewidth": 0,
              "ticks": ""
             }
            },
            "type": "scatterpolargl"
           }
          ],
          "scatterternary": [
           {
            "marker": {
             "colorbar": {
              "outlinewidth": 0,
              "ticks": ""
             }
            },
            "type": "scatterternary"
           }
          ],
          "surface": [
           {
            "colorbar": {
             "outlinewidth": 0,
             "ticks": ""
            },
            "colorscale": [
             [
              0,
              "#0d0887"
             ],
             [
              0.1111111111111111,
              "#46039f"
             ],
             [
              0.2222222222222222,
              "#7201a8"
             ],
             [
              0.3333333333333333,
              "#9c179e"
             ],
             [
              0.4444444444444444,
              "#bd3786"
             ],
             [
              0.5555555555555556,
              "#d8576b"
             ],
             [
              0.6666666666666666,
              "#ed7953"
             ],
             [
              0.7777777777777778,
              "#fb9f3a"
             ],
             [
              0.8888888888888888,
              "#fdca26"
             ],
             [
              1,
              "#f0f921"
             ]
            ],
            "type": "surface"
           }
          ],
          "table": [
           {
            "cells": {
             "fill": {
              "color": "#EBF0F8"
             },
             "line": {
              "color": "white"
             }
            },
            "header": {
             "fill": {
              "color": "#C8D4E3"
             },
             "line": {
              "color": "white"
             }
            },
            "type": "table"
           }
          ]
         },
         "layout": {
          "annotationdefaults": {
           "arrowcolor": "#2a3f5f",
           "arrowhead": 0,
           "arrowwidth": 1
          },
          "autotypenumbers": "strict",
          "coloraxis": {
           "colorbar": {
            "outlinewidth": 0,
            "ticks": ""
           }
          },
          "colorscale": {
           "diverging": [
            [
             0,
             "#8e0152"
            ],
            [
             0.1,
             "#c51b7d"
            ],
            [
             0.2,
             "#de77ae"
            ],
            [
             0.3,
             "#f1b6da"
            ],
            [
             0.4,
             "#fde0ef"
            ],
            [
             0.5,
             "#f7f7f7"
            ],
            [
             0.6,
             "#e6f5d0"
            ],
            [
             0.7,
             "#b8e186"
            ],
            [
             0.8,
             "#7fbc41"
            ],
            [
             0.9,
             "#4d9221"
            ],
            [
             1,
             "#276419"
            ]
           ],
           "sequential": [
            [
             0,
             "#0d0887"
            ],
            [
             0.1111111111111111,
             "#46039f"
            ],
            [
             0.2222222222222222,
             "#7201a8"
            ],
            [
             0.3333333333333333,
             "#9c179e"
            ],
            [
             0.4444444444444444,
             "#bd3786"
            ],
            [
             0.5555555555555556,
             "#d8576b"
            ],
            [
             0.6666666666666666,
             "#ed7953"
            ],
            [
             0.7777777777777778,
             "#fb9f3a"
            ],
            [
             0.8888888888888888,
             "#fdca26"
            ],
            [
             1,
             "#f0f921"
            ]
           ],
           "sequentialminus": [
            [
             0,
             "#0d0887"
            ],
            [
             0.1111111111111111,
             "#46039f"
            ],
            [
             0.2222222222222222,
             "#7201a8"
            ],
            [
             0.3333333333333333,
             "#9c179e"
            ],
            [
             0.4444444444444444,
             "#bd3786"
            ],
            [
             0.5555555555555556,
             "#d8576b"
            ],
            [
             0.6666666666666666,
             "#ed7953"
            ],
            [
             0.7777777777777778,
             "#fb9f3a"
            ],
            [
             0.8888888888888888,
             "#fdca26"
            ],
            [
             1,
             "#f0f921"
            ]
           ]
          },
          "colorway": [
           "#636efa",
           "#EF553B",
           "#00cc96",
           "#ab63fa",
           "#FFA15A",
           "#19d3f3",
           "#FF6692",
           "#B6E880",
           "#FF97FF",
           "#FECB52"
          ],
          "font": {
           "color": "#2a3f5f"
          },
          "geo": {
           "bgcolor": "white",
           "lakecolor": "white",
           "landcolor": "#E5ECF6",
           "showlakes": true,
           "showland": true,
           "subunitcolor": "white"
          },
          "hoverlabel": {
           "align": "left"
          },
          "hovermode": "closest",
          "mapbox": {
           "style": "light"
          },
          "paper_bgcolor": "white",
          "plot_bgcolor": "#E5ECF6",
          "polar": {
           "angularaxis": {
            "gridcolor": "white",
            "linecolor": "white",
            "ticks": ""
           },
           "bgcolor": "#E5ECF6",
           "radialaxis": {
            "gridcolor": "white",
            "linecolor": "white",
            "ticks": ""
           }
          },
          "scene": {
           "xaxis": {
            "backgroundcolor": "#E5ECF6",
            "gridcolor": "white",
            "gridwidth": 2,
            "linecolor": "white",
            "showbackground": true,
            "ticks": "",
            "zerolinecolor": "white"
           },
           "yaxis": {
            "backgroundcolor": "#E5ECF6",
            "gridcolor": "white",
            "gridwidth": 2,
            "linecolor": "white",
            "showbackground": true,
            "ticks": "",
            "zerolinecolor": "white"
           },
           "zaxis": {
            "backgroundcolor": "#E5ECF6",
            "gridcolor": "white",
            "gridwidth": 2,
            "linecolor": "white",
            "showbackground": true,
            "ticks": "",
            "zerolinecolor": "white"
           }
          },
          "shapedefaults": {
           "line": {
            "color": "#2a3f5f"
           }
          },
          "ternary": {
           "aaxis": {
            "gridcolor": "white",
            "linecolor": "white",
            "ticks": ""
           },
           "baxis": {
            "gridcolor": "white",
            "linecolor": "white",
            "ticks": ""
           },
           "bgcolor": "#E5ECF6",
           "caxis": {
            "gridcolor": "white",
            "linecolor": "white",
            "ticks": ""
           }
          },
          "title": {
           "x": 0.05
          },
          "xaxis": {
           "automargin": true,
           "gridcolor": "white",
           "linecolor": "white",
           "ticks": "",
           "title": {
            "standoff": 15
           },
           "zerolinecolor": "white",
           "zerolinewidth": 2
          },
          "yaxis": {
           "automargin": true,
           "gridcolor": "white",
           "linecolor": "white",
           "ticks": "",
           "title": {
            "standoff": 15
           },
           "zerolinecolor": "white",
           "zerolinewidth": 2
          }
         }
        },
        "xaxis": {
         "anchor": "y",
         "domain": [
          0,
          1
         ],
         "title": {
          "text": "0"
         }
        },
        "yaxis": {
         "anchor": "x",
         "domain": [
          0,
          1
         ],
         "title": {
          "text": "1"
         }
        }
       }
      }
     },
     "metadata": {},
     "output_type": "display_data"
    }
   ],
   "source": [
    "# Plot some clusters maybe?\n",
    "pca_arr_all = PCA(n_components=2).fit_transform(np.asarray(X.todense()))\n",
    "print(pca_arr_all.shape)\n",
    "\n",
    "\n",
    "pca_df = pd.DataFrame(pca_arr_all).reset_index(drop=True).set_index(df.index)\n",
    "pca_df['Section'] = df.Section\n",
    "pca_df['Number'] = df.index\n",
    "pca_df['Beer'] = df.Beer\n",
    "pca_df['Brewery'] = df.Brewery\n",
    "pca_df['Style'] = df.Style\n",
    "pca_df['Anticipation'] = df.Anticipation\n",
    "\n",
    "fig = px.scatter(pca_df,\n",
    "                 x=0,\n",
    "                 y=1,\n",
    "                 color=\"Style\",\n",
    "                 hover_data=[\"Beer\", \"Section\", \"Number\"]\n",
    "                )\n",
    "fig.show()"
   ]
  },
  {
   "cell_type": "code",
   "execution_count": 21,
   "id": "0495ee0d-9b8a-4fdf-97d3-f9a50bb38c20",
   "metadata": {
    "tags": []
   },
   "outputs": [
    {
     "name": "stdout",
     "output_type": "stream",
     "text": [
      "(120, 50)\n",
      "(120, 2)\n"
     ]
    }
   ],
   "source": [
    "# t-SNE?\n",
    "pca_arr = PCA(n_components=50).fit_transform(np.asarray(X.todense()))\n",
    "print(pca_arr.shape)\n",
    "tsne_arr = TSNE().fit_transform(pca_arr)\n",
    "print(tsne_arr.shape)\n",
    "\n",
    "tsne_df = pd.DataFrame(tsne_arr).reset_index(drop=True).set_index(df.index)\n",
    "tsne_df['Section'] = df.Section\n",
    "tsne_df['Number'] = df.index\n",
    "tsne_df['Beer'] = df.Beer\n",
    "tsne_df['Brewery'] = df.Brewery\n",
    "tsne_df['Style'] = df.Style\n",
    "tsne_df['Anticipation'] = df.Anticipation\n"
   ]
  },
  {
   "cell_type": "code",
   "execution_count": 22,
   "id": "f2efca59-251d-48b7-82ba-bbc789d2a130",
   "metadata": {
    "tags": []
   },
   "outputs": [
    {
     "data": {
      "text/html": [
       "<div>\n",
       "<style scoped>\n",
       "    .dataframe tbody tr th:only-of-type {\n",
       "        vertical-align: middle;\n",
       "    }\n",
       "\n",
       "    .dataframe tbody tr th {\n",
       "        vertical-align: top;\n",
       "    }\n",
       "\n",
       "    .dataframe thead th {\n",
       "        text-align: right;\n",
       "    }\n",
       "</style>\n",
       "<table border=\"1\" class=\"dataframe\">\n",
       "  <thead>\n",
       "    <tr style=\"text-align: right;\">\n",
       "      <th></th>\n",
       "      <th>0</th>\n",
       "      <th>1</th>\n",
       "      <th>Section</th>\n",
       "      <th>Number</th>\n",
       "      <th>Beer</th>\n",
       "      <th>Brewery</th>\n",
       "      <th>Style</th>\n",
       "      <th>Anticipation</th>\n",
       "    </tr>\n",
       "    <tr>\n",
       "      <th>Number</th>\n",
       "      <th></th>\n",
       "      <th></th>\n",
       "      <th></th>\n",
       "      <th></th>\n",
       "      <th></th>\n",
       "      <th></th>\n",
       "      <th></th>\n",
       "      <th></th>\n",
       "    </tr>\n",
       "  </thead>\n",
       "  <tbody>\n",
       "    <tr>\n",
       "      <th>1</th>\n",
       "      <td>-6.479331</td>\n",
       "      <td>-4.309200</td>\n",
       "      <td>1</td>\n",
       "      <td>1</td>\n",
       "      <td>Boba Beer</td>\n",
       "      <td>Dad &amp; Dave</td>\n",
       "      <td>Sour</td>\n",
       "      <td>5</td>\n",
       "    </tr>\n",
       "    <tr>\n",
       "      <th>2</th>\n",
       "      <td>-6.194849</td>\n",
       "      <td>-0.036571</td>\n",
       "      <td>1</td>\n",
       "      <td>2</td>\n",
       "      <td>Homestead Blackberry and Apple Pastry Sour</td>\n",
       "      <td>The Coastal Brewing Company</td>\n",
       "      <td>Specialty</td>\n",
       "      <td>6</td>\n",
       "    </tr>\n",
       "    <tr>\n",
       "      <th>3</th>\n",
       "      <td>5.666737</td>\n",
       "      <td>4.686922</td>\n",
       "      <td>1</td>\n",
       "      <td>3</td>\n",
       "      <td>Suit Up</td>\n",
       "      <td>7th Day Brewery</td>\n",
       "      <td>IPA Black</td>\n",
       "      <td>7</td>\n",
       "    </tr>\n",
       "    <tr>\n",
       "      <th>4</th>\n",
       "      <td>3.303320</td>\n",
       "      <td>-2.941264</td>\n",
       "      <td>1</td>\n",
       "      <td>4</td>\n",
       "      <td>Whiskey in the jar</td>\n",
       "      <td>Six String Brewing Co</td>\n",
       "      <td>Wood Aged Beer</td>\n",
       "      <td>8</td>\n",
       "    </tr>\n",
       "    <tr>\n",
       "      <th>5</th>\n",
       "      <td>1.870356</td>\n",
       "      <td>-7.959568</td>\n",
       "      <td>1</td>\n",
       "      <td>5</td>\n",
       "      <td>Marsden Neopolitan Porter</td>\n",
       "      <td>The Marsden Brewhouse</td>\n",
       "      <td>Stout Tropical</td>\n",
       "      <td>10</td>\n",
       "    </tr>\n",
       "    <tr>\n",
       "      <th>...</th>\n",
       "      <td>...</td>\n",
       "      <td>...</td>\n",
       "      <td>...</td>\n",
       "      <td>...</td>\n",
       "      <td>...</td>\n",
       "      <td>...</td>\n",
       "      <td>...</td>\n",
       "      <td>...</td>\n",
       "    </tr>\n",
       "    <tr>\n",
       "      <th>116</th>\n",
       "      <td>3.358276</td>\n",
       "      <td>-0.855311</td>\n",
       "      <td>6</td>\n",
       "      <td>116</td>\n",
       "      <td>Barrel Aged Seltzerita</td>\n",
       "      <td>Felons Brewing Co</td>\n",
       "      <td>Seltzer</td>\n",
       "      <td>7</td>\n",
       "    </tr>\n",
       "    <tr>\n",
       "      <th>117</th>\n",
       "      <td>-6.692358</td>\n",
       "      <td>4.713624</td>\n",
       "      <td>6</td>\n",
       "      <td>117</td>\n",
       "      <td>Apple and Black Currant Cider</td>\n",
       "      <td>Cedar Creek Cider</td>\n",
       "      <td>Cider</td>\n",
       "      <td>4</td>\n",
       "    </tr>\n",
       "    <tr>\n",
       "      <th>118</th>\n",
       "      <td>-3.126622</td>\n",
       "      <td>0.777409</td>\n",
       "      <td>6</td>\n",
       "      <td>118</td>\n",
       "      <td>Sour Pineapple Sour</td>\n",
       "      <td>Spreyton Cider Co</td>\n",
       "      <td>Cider</td>\n",
       "      <td>8</td>\n",
       "    </tr>\n",
       "    <tr>\n",
       "      <th>119</th>\n",
       "      <td>-6.089064</td>\n",
       "      <td>4.560779</td>\n",
       "      <td>6</td>\n",
       "      <td>119</td>\n",
       "      <td>Eddies Organic Cider - Crisp Apple</td>\n",
       "      <td>Eddies Cider</td>\n",
       "      <td>Cider</td>\n",
       "      <td>1</td>\n",
       "    </tr>\n",
       "    <tr>\n",
       "      <th>120</th>\n",
       "      <td>1.276825</td>\n",
       "      <td>0.865415</td>\n",
       "      <td>6</td>\n",
       "      <td>120</td>\n",
       "      <td>Splicer</td>\n",
       "      <td>Flying Brick Cider Co</td>\n",
       "      <td>Cider</td>\n",
       "      <td>4</td>\n",
       "    </tr>\n",
       "  </tbody>\n",
       "</table>\n",
       "<p>120 rows × 8 columns</p>\n",
       "</div>"
      ],
      "text/plain": [
       "               0         1  Section  Number   \n",
       "Number                                        \n",
       "1      -6.479331 -4.309200        1       1  \\\n",
       "2      -6.194849 -0.036571        1       2   \n",
       "3       5.666737  4.686922        1       3   \n",
       "4       3.303320 -2.941264        1       4   \n",
       "5       1.870356 -7.959568        1       5   \n",
       "...          ...       ...      ...     ...   \n",
       "116     3.358276 -0.855311        6     116   \n",
       "117    -6.692358  4.713624        6     117   \n",
       "118    -3.126622  0.777409        6     118   \n",
       "119    -6.089064  4.560779        6     119   \n",
       "120     1.276825  0.865415        6     120   \n",
       "\n",
       "                                              Beer   \n",
       "Number                                               \n",
       "1                                        Boba Beer  \\\n",
       "2       Homestead Blackberry and Apple Pastry Sour   \n",
       "3                                          Suit Up   \n",
       "4                               Whiskey in the jar   \n",
       "5                        Marsden Neopolitan Porter   \n",
       "...                                            ...   \n",
       "116                         Barrel Aged Seltzerita   \n",
       "117                  Apple and Black Currant Cider   \n",
       "118                            Sour Pineapple Sour   \n",
       "119             Eddies Organic Cider - Crisp Apple   \n",
       "120                                        Splicer   \n",
       "\n",
       "                            Brewery           Style  Anticipation  \n",
       "Number                                                             \n",
       "1                        Dad & Dave            Sour             5  \n",
       "2       The Coastal Brewing Company       Specialty             6  \n",
       "3                   7th Day Brewery       IPA Black             7  \n",
       "4             Six String Brewing Co  Wood Aged Beer             8  \n",
       "5             The Marsden Brewhouse  Stout Tropical            10  \n",
       "...                             ...             ...           ...  \n",
       "116               Felons Brewing Co         Seltzer             7  \n",
       "117               Cedar Creek Cider           Cider             4  \n",
       "118               Spreyton Cider Co           Cider             8  \n",
       "119                    Eddies Cider           Cider             1  \n",
       "120           Flying Brick Cider Co           Cider             4  \n",
       "\n",
       "[120 rows x 8 columns]"
      ]
     },
     "metadata": {},
     "output_type": "display_data"
    }
   ],
   "source": [
    "display(tsne_df)"
   ]
  },
  {
   "cell_type": "code",
   "execution_count": 23,
   "id": "228ccc76-90fe-4fef-84ce-48387f3c423b",
   "metadata": {
    "tags": []
   },
   "outputs": [
    {
     "data": {
      "application/vnd.plotly.v1+json": {
       "config": {
        "plotlyServerURL": "https://plot.ly"
       },
       "data": [
        {
         "customdata": [
          [
           "Boba Beer",
           1,
           1
          ],
          [
           "Go! Go! Ichigo!",
           1,
           6
          ],
          [
           "Lavender Cheesecake",
           1,
           12
          ],
          [
           "Cherry Maguire",
           1,
           15
          ],
          [
           "OnlyFlans",
           1,
           19
          ],
          [
           "Long Island Iced Tea Sour",
           2,
           22
          ],
          [
           "Violet Beauregarde's Blueberry Marshmallow Lactose Sour Ale",
           2,
           25
          ],
          [
           "Bananarama Pina Colada",
           2,
           29
          ],
          [
           "Squishee",
           2,
           32
          ],
          [
           "Black Forrest Cake Sour",
           2,
           37
          ],
          [
           "Cotton Candy Sour",
           3,
           44
          ],
          [
           "Chrome Fury",
           3,
           48
          ],
          [
           "Imperial Lemon Meringue Tart Sour",
           3,
           51
          ],
          [
           "Salvaged Sour - Apple & Rhubarb Crumble Pastry Imperial Sour",
           3,
           55
          ],
          [
           "Lush Guava Beer - Green Beacon x Vodka Cruiser Collaboration",
           3,
           58
          ],
          [
           "Elektro Sour Wormhole",
           3,
           59
          ],
          [
           "Carnival Sour",
           4,
           61
          ],
          [
           "Weekend At Willies",
           4,
           66
          ],
          [
           "Choc Cherry Bomb",
           4,
           70
          ],
          [
           "G and T Gose",
           4,
           73
          ],
          [
           "VoVo Whip",
           4,
           77
          ],
          [
           "Almighty Asam",
           5,
           83
          ],
          [
           "Pizza beer",
           5,
           88
          ],
          [
           "Fruits on Fire",
           5,
           91
          ],
          [
           "Feedback",
           5,
           93
          ],
          [
           "Gulls Just Wanna Have Fun (Fish & Chip Gose)",
           5,
           98
          ],
          [
           "Frootie & The Blowfish",
           6,
           108
          ]
         ],
         "hovertemplate": "Style=Sour<br>0=%{x}<br>1=%{y}<br>Beer=%{customdata[0]}<br>Section=%{customdata[1]}<br>Number=%{customdata[2]}<extra></extra>",
         "legendgroup": "Sour",
         "marker": {
          "color": "#636efa",
          "symbol": "circle"
         },
         "mode": "markers",
         "name": "Sour",
         "orientation": "v",
         "showlegend": true,
         "type": "scatter",
         "x": [
          -6.479331016540527,
          9.269948959350586,
          -10.10604190826416,
          -6.5207600593566895,
          -4.835434436798096,
          7.207495212554932,
          -8.63468074798584,
          -0.7146202325820923,
          8.589085578918457,
          -1.4131898880004883,
          -2.720893144607544,
          9.361730575561523,
          7.825469493865967,
          -5.392544269561768,
          -7.353471279144287,
          -3.5507454872131348,
          -2.6801488399505615,
          -1.123189926147461,
          -4.971521854400635,
          -8.91848373413086,
          -8.048785209655762,
          6.223537921905518,
          -4.601990699768066,
          8.407360076904297,
          -8.56331729888916,
          8.461166381835938,
          -3.6093461513519287
         ],
         "xaxis": "x",
         "y": [
          -4.309199810028076,
          -5.853066921234131,
          2.0947744846343994,
          8.555001258850098,
          1.2857457399368286,
          9.765777587890625,
          -1.009535312652588,
          0.522881269454956,
          -4.706423759460449,
          7.210059642791748,
          -0.9790060520172119,
          2.5681490898132324,
          7.331697463989258,
          0.25048112869262695,
          -4.163542747497559,
          -0.12733431160449982,
          -0.7472207546234131,
          2.2054190635681152,
          7.443663120269775,
          -3.8526055812835693,
          -3.956387758255005,
          -2.0427606105804443,
          -2.559509754180908,
          -4.500123023986816,
          -0.8762902617454529,
          7.571588039398193,
          3.296661853790283
         ],
         "yaxis": "y"
        },
        {
         "customdata": [
          [
           "Homestead Blackberry and Apple Pastry Sour",
           1,
           2
          ],
          [
           "Barrel Aged Rum Double Choc Brown Ale",
           1,
           8
          ],
          [
           "Desert Lime Gimlet IPA",
           2,
           24
          ],
          [
           "Bogan Fuel",
           3,
           47
          ],
          [
           "Garth's Fave Punch Bowl",
           4,
           75
          ],
          [
           "Woolshed Brewery and Vili's Family Bakery Meat Pint",
           5,
           85
          ],
          [
           "Fiery Azzurro Pils",
           6,
           106
          ],
          [
           "Hold the Pork",
           6,
           109
          ],
          [
           "Raspberry Lemonade",
           6,
           110
          ]
         ],
         "hovertemplate": "Style=Specialty<br>0=%{x}<br>1=%{y}<br>Beer=%{customdata[0]}<br>Section=%{customdata[1]}<br>Number=%{customdata[2]}<extra></extra>",
         "legendgroup": "Specialty",
         "marker": {
          "color": "#EF553B",
          "symbol": "circle"
         },
         "mode": "markers",
         "name": "Specialty",
         "orientation": "v",
         "showlegend": true,
         "type": "scatter",
         "x": [
          -6.194848537445068,
          -2.0268516540527344,
          -10.313366889953613,
          -1.3658522367477417,
          -2.4752867221832275,
          -3.6958224773406982,
          2.7444891929626465,
          0.7589017748832703,
          -5.347704887390137
         ],
         "xaxis": "x",
         "y": [
          -0.036571353673934937,
          -8.781943321228027,
          2.172794818878174,
          -7.532688140869141,
          -8.461064338684082,
          -4.949130058288574,
          -11.394279479980469,
          -0.7710998058319092,
          -7.9049787521362305
         ],
         "yaxis": "y"
        },
        {
         "customdata": [
          [
           "Suit Up",
           1,
           3
          ],
          [
           "Mulberry Bush Imperial IPA",
           3,
           53
          ],
          [
           "Invisible Oranges",
           6,
           107
          ]
         ],
         "hovertemplate": "Style=IPA Black<br>0=%{x}<br>1=%{y}<br>Beer=%{customdata[0]}<br>Section=%{customdata[1]}<br>Number=%{customdata[2]}<extra></extra>",
         "legendgroup": "IPA Black",
         "marker": {
          "color": "#00cc96",
          "symbol": "circle"
         },
         "mode": "markers",
         "name": "IPA Black",
         "orientation": "v",
         "showlegend": true,
         "type": "scatter",
         "x": [
          5.666736602783203,
          0.557104766368866,
          -0.8900348544120789
         ],
         "xaxis": "x",
         "y": [
          4.6869215965271,
          6.856400012969971,
          6.0270676612854
         ],
         "yaxis": "y"
        },
        {
         "customdata": [
          [
           "Whiskey in the jar",
           1,
           4
          ]
         ],
         "hovertemplate": "Style=Wood Aged Beer<br>0=%{x}<br>1=%{y}<br>Beer=%{customdata[0]}<br>Section=%{customdata[1]}<br>Number=%{customdata[2]}<extra></extra>",
         "legendgroup": "Wood Aged Beer",
         "marker": {
          "color": "#ab63fa",
          "symbol": "circle"
         },
         "mode": "markers",
         "name": "Wood Aged Beer",
         "orientation": "v",
         "showlegend": true,
         "type": "scatter",
         "x": [
          3.3033201694488525
         ],
         "xaxis": "x",
         "y": [
          -2.9412643909454346
         ],
         "yaxis": "y"
        },
        {
         "customdata": [
          [
           "Marsden Neopolitan Porter",
           1,
           5
          ]
         ],
         "hovertemplate": "Style=Stout Tropical<br>0=%{x}<br>1=%{y}<br>Beer=%{customdata[0]}<br>Section=%{customdata[1]}<br>Number=%{customdata[2]}<extra></extra>",
         "legendgroup": "Stout Tropical",
         "marker": {
          "color": "#FFA15A",
          "symbol": "circle"
         },
         "mode": "markers",
         "name": "Stout Tropical",
         "orientation": "v",
         "showlegend": true,
         "type": "scatter",
         "x": [
          1.8703556060791016
         ],
         "xaxis": "x",
         "y": [
          -7.959567546844482
         ],
         "yaxis": "y"
        },
        {
         "customdata": [
          [
           "Market 2023",
           1,
           7
          ],
          [
           "Unicorn NEIPA",
           1,
           20
          ],
          [
           "Hawke's Bob Hulk Double Hazy IPA",
           5,
           92
          ],
          [
           "PROPER GABS",
           6,
           104
          ]
         ],
         "hovertemplate": "Style=NEIPA<br>0=%{x}<br>1=%{y}<br>Beer=%{customdata[0]}<br>Section=%{customdata[1]}<br>Number=%{customdata[2]}<extra></extra>",
         "legendgroup": "NEIPA",
         "marker": {
          "color": "#19d3f3",
          "symbol": "circle"
         },
         "mode": "markers",
         "name": "NEIPA",
         "orientation": "v",
         "showlegend": true,
         "type": "scatter",
         "x": [
          11.054107666015625,
          10.873872756958008,
          10.256368637084961,
          11.468445777893066
         ],
         "xaxis": "x",
         "y": [
          2.6484272480010986,
          4.714750289916992,
          4.056881427764893,
          5.391375541687012
         ],
         "yaxis": "y"
        },
        {
         "customdata": [
          [
           "I am Weiss",
           1,
           9
          ],
          [
           "Bloody Mystic",
           3,
           56
          ]
         ],
         "hovertemplate": "Style=Wheat<br>0=%{x}<br>1=%{y}<br>Beer=%{customdata[0]}<br>Section=%{customdata[1]}<br>Number=%{customdata[2]}<extra></extra>",
         "legendgroup": "Wheat",
         "marker": {
          "color": "#FF6692",
          "symbol": "circle"
         },
         "mode": "markers",
         "name": "Wheat",
         "orientation": "v",
         "showlegend": true,
         "type": "scatter",
         "x": [
          -5.395843029022217,
          6.890869140625
         ],
         "xaxis": "x",
         "y": [
          -9.190322875976562,
          9.998114585876465
         ],
         "yaxis": "y"
        },
        {
         "customdata": [
          [
           "Tim, Tam & Tom",
           1,
           10
          ]
         ],
         "hovertemplate": "Style=Brown<br>0=%{x}<br>1=%{y}<br>Beer=%{customdata[0]}<br>Section=%{customdata[1]}<br>Number=%{customdata[2]}<extra></extra>",
         "legendgroup": "Brown",
         "marker": {
          "color": "#B6E880",
          "symbol": "circle"
         },
         "mode": "markers",
         "name": "Brown",
         "orientation": "v",
         "showlegend": true,
         "type": "scatter",
         "x": [
          -2.9121930599212646
         ],
         "xaxis": "x",
         "y": [
          -10.471714973449707
         ],
         "yaxis": "y"
        },
        {
         "customdata": [
          [
           "Molecular Bubble Tea IPA",
           1,
           11
          ],
          [
           "Balloon Animals",
           4,
           74
          ]
         ],
         "hovertemplate": "Style=IPA Milkshake<br>0=%{x}<br>1=%{y}<br>Beer=%{customdata[0]}<br>Section=%{customdata[1]}<br>Number=%{customdata[2]}<extra></extra>",
         "legendgroup": "IPA Milkshake",
         "marker": {
          "color": "#FF97FF",
          "symbol": "circle"
         },
         "mode": "markers",
         "name": "IPA Milkshake",
         "orientation": "v",
         "showlegend": true,
         "type": "scatter",
         "x": [
          4.578641414642334,
          -3.5941202640533447
         ],
         "xaxis": "x",
         "y": [
          6.4773430824279785,
          10.945086479187012
         ],
         "yaxis": "y"
        },
        {
         "customdata": [
          [
           "SAB Lite",
           1,
           13
          ],
          [
           "Throat Pour",
           2,
           36
          ],
          [
           "Can't Be A Root",
           3,
           43
          ],
          [
           "Burleigh Black Giraffe Double Shot",
           4,
           64
          ],
          [
           "Aztec (Pale Chocolate Lager)",
           5,
           87
          ],
          [
           "Barrel Aged Cerveza",
           5,
           95
          ]
         ],
         "hovertemplate": "Style=Lager<br>0=%{x}<br>1=%{y}<br>Beer=%{customdata[0]}<br>Section=%{customdata[1]}<br>Number=%{customdata[2]}<extra></extra>",
         "legendgroup": "Lager",
         "marker": {
          "color": "#FECB52",
          "symbol": "circle"
         },
         "mode": "markers",
         "name": "Lager",
         "orientation": "v",
         "showlegend": true,
         "type": "scatter",
         "x": [
          6.463728904724121,
          6.609416484832764,
          11.308677673339844,
          -0.4887862503528595,
          7.522132873535156,
          3.5780136585235596
         ],
         "xaxis": "x",
         "y": [
          0.013609226793050766,
          -0.8526054620742798,
          -1.732345461845398,
          9.156737327575684,
          -1.3815281391143799,
          -0.8336443305015564
         ],
         "yaxis": "y"
        },
        {
         "customdata": [
          [
           "Don't Go Baking My Heart'",
           1,
           14
          ],
          [
           "The Lover",
           1,
           17
          ],
          [
           "Augustus Gloop's Choc Fudge Peanut Brittle Stout",
           2,
           26
          ],
          [
           "Peanut Butter Brownie Imperial Stout",
           2,
           33
          ],
          [
           "The Snowball Effect",
           2,
           40
          ],
          [
           "Take 5 - Choc Caramel Peanut Butter Cup Double Milk Stout",
           3,
           54
          ],
          [
           "Maple Bacon Pancake Stout",
           3,
           57
          ],
          [
           "Imperial White Choc & Macadamia Stout",
           4,
           65
          ],
          [
           "Barrel-Aged Raspberry Imperial Stout",
           4,
           69
          ],
          [
           "Mind-bottling, isn't it?",
           4,
           76
          ],
          [
           "Hypster Latte Stout",
           5,
           90
          ],
          [
           "MSB Chocolate Bubble Imperial Stout",
           5,
           94
          ],
          [
           "Soutini 2.0",
           5,
           99
          ],
          [
           "AWW Duck Yeah!",
           6,
           101
          ],
          [
           "Lucky Charms Cereal Milk Stout",
           6,
           111
          ]
         ],
         "hovertemplate": "Style=Stout<br>0=%{x}<br>1=%{y}<br>Beer=%{customdata[0]}<br>Section=%{customdata[1]}<br>Number=%{customdata[2]}<extra></extra>",
         "legendgroup": "Stout",
         "marker": {
          "color": "#636efa",
          "symbol": "circle"
         },
         "mode": "markers",
         "name": "Stout",
         "orientation": "v",
         "showlegend": true,
         "type": "scatter",
         "x": [
          9.624953269958496,
          3.127133846282959,
          5.0915021896362305,
          5.639803409576416,
          2.9094018936157227,
          5.7078118324279785,
          0.6371273994445801,
          2.377333402633667,
          2.107192277908325,
          -0.2849579453468323,
          5.782342433929443,
          3.957995653152466,
          -0.8453816175460815,
          -1.8556504249572754,
          4.376087665557861
         ],
         "xaxis": "x",
         "y": [
          -6.6956586837768555,
          -6.2809882164001465,
          -7.602257251739502,
          -7.673438549041748,
          -3.4864845275878906,
          -8.259001731872559,
          -4.352327346801758,
          -4.453741550445557,
          -2.86645245552063,
          -6.557462692260742,
          -2.7918498516082764,
          -5.755854606628418,
          9.904825210571289,
          10.40233039855957,
          -5.036908149719238
         ],
         "yaxis": "y"
        },
        {
         "customdata": [
          [
           "The Taverner - All Brut Low Glut",
           1,
           16
          ]
         ],
         "hovertemplate": "Style=IPA White<br>0=%{x}<br>1=%{y}<br>Beer=%{customdata[0]}<br>Section=%{customdata[1]}<br>Number=%{customdata[2]}<extra></extra>",
         "legendgroup": "IPA White",
         "marker": {
          "color": "#EF553B",
          "symbol": "circle"
         },
         "mode": "markers",
         "name": "IPA White",
         "orientation": "v",
         "showlegend": true,
         "type": "scatter",
         "x": [
          0.18639111518859863
         ],
         "xaxis": "x",
         "y": [
          2.8597311973571777
         ],
         "yaxis": "y"
        },
        {
         "customdata": [
          [
           "Escape with the Schwartz",
           1,
           18
          ],
          [
           "Red frog, Raspberry dark lager",
           2,
           27
          ],
          [
           "Mango Stormy",
           4,
           79
          ]
         ],
         "hovertemplate": "Style=Lager Dark<br>0=%{x}<br>1=%{y}<br>Beer=%{customdata[0]}<br>Section=%{customdata[1]}<br>Number=%{customdata[2]}<extra></extra>",
         "legendgroup": "Lager Dark",
         "marker": {
          "color": "#00cc96",
          "symbol": "circle"
         },
         "mode": "markers",
         "name": "Lager Dark",
         "orientation": "v",
         "showlegend": true,
         "type": "scatter",
         "x": [
          -3.755415201187134,
          7.978323459625244,
          9.400959968566895
         ],
         "xaxis": "x",
         "y": [
          6.623683452606201,
          1.1814184188842773,
          2.036937713623047
         ],
         "yaxis": "y"
        },
        {
         "customdata": [
          [
           "Calippso Juicy IPA",
           2,
           21
          ],
          [
           "Throwing Haze",
           2,
           30
          ],
          [
           "THE WAY OF TEA",
           6,
           102
          ]
         ],
         "hovertemplate": "Style=IPA Hazy<br>0=%{x}<br>1=%{y}<br>Beer=%{customdata[0]}<br>Section=%{customdata[1]}<br>Number=%{customdata[2]}<extra></extra>",
         "legendgroup": "IPA Hazy",
         "marker": {
          "color": "#ab63fa",
          "symbol": "circle"
         },
         "mode": "markers",
         "name": "IPA Hazy",
         "orientation": "v",
         "showlegend": true,
         "type": "scatter",
         "x": [
          4.28945779800415,
          4.816844463348389,
          2.051642656326294
         ],
         "xaxis": "x",
         "y": [
          8.904969215393066,
          1.9244368076324463,
          4.847543716430664
         ],
         "yaxis": "y"
        },
        {
         "customdata": [
          [
           "Upper Management",
           2,
           23
          ],
          [
           "Rye Rye Rye Delilah",
           3,
           41
          ],
          [
           "Mountain Sunset",
           4,
           78
          ]
         ],
         "hovertemplate": "Style=IPA Red<br>0=%{x}<br>1=%{y}<br>Beer=%{customdata[0]}<br>Section=%{customdata[1]}<br>Number=%{customdata[2]}<extra></extra>",
         "legendgroup": "IPA Red",
         "marker": {
          "color": "#FFA15A",
          "symbol": "circle"
         },
         "mode": "markers",
         "name": "IPA Red",
         "orientation": "v",
         "showlegend": true,
         "type": "scatter",
         "x": [
          6.2094316482543945,
          6.7557373046875,
          2.4287171363830566
         ],
         "xaxis": "x",
         "y": [
          3.1125731468200684,
          3.094733476638794,
          1.7320964336395264
         ],
         "yaxis": "y"
        },
        {
         "customdata": [
          [
           "Cherry Fruited Braggot",
           2,
           28
          ],
          [
           "Waggle Buzz",
           3,
           46
          ]
         ],
         "hovertemplate": "Style=Braggot<br>0=%{x}<br>1=%{y}<br>Beer=%{customdata[0]}<br>Section=%{customdata[1]}<br>Number=%{customdata[2]}<extra></extra>",
         "legendgroup": "Braggot",
         "marker": {
          "color": "#19d3f3",
          "symbol": "circle"
         },
         "mode": "markers",
         "name": "Braggot",
         "orientation": "v",
         "showlegend": true,
         "type": "scatter",
         "x": [
          -8.48965835571289,
          -8.819146156311035
         ],
         "xaxis": "x",
         "y": [
          8.762679100036621,
          8.805124282836914
         ],
         "yaxis": "y"
        },
        {
         "customdata": [
          [
           "Sticke Coffee Kolsch",
           2,
           31
          ],
          [
           "Snowy's Kolsch",
           5,
           89
          ]
         ],
         "hovertemplate": "Style=Kolsch<br>0=%{x}<br>1=%{y}<br>Beer=%{customdata[0]}<br>Section=%{customdata[1]}<br>Number=%{customdata[2]}<extra></extra>",
         "legendgroup": "Kolsch",
         "marker": {
          "color": "#FF6692",
          "symbol": "circle"
         },
         "mode": "markers",
         "name": "Kolsch",
         "orientation": "v",
         "showlegend": true,
         "type": "scatter",
         "x": [
          0.49675217270851135,
          0.6385356187820435
         ],
         "xaxis": "x",
         "y": [
          12.811348915100098,
          13.011046409606934
         ],
         "yaxis": "y"
        },
        {
         "customdata": [
          [
           "The Beery Beer",
           2,
           34
          ],
          [
           "Peak Hype",
           2,
           38
          ],
          [
           "The Craft and Co. WIPA",
           3,
           45
          ],
          [
           "Ginger Nut Sparkling IPA",
           3,
           50
          ],
          [
           "Tha Thiccness Version 2",
           3,
           60
          ],
          [
           "Fists of Fiori",
           4,
           68
          ],
          [
           "Tropo-Thiol",
           4,
           72
          ],
          [
           "Brut IPA",
           5,
           81
          ],
          [
           "Pumpkin of Liberty IPA",
           5,
           86
          ],
          [
           "Living the Cream",
           5,
           96
          ],
          [
           "Keeping It Simple",
           5,
           100
          ],
          [
           "No Place Like Aus",
           6,
           103
          ],
          [
           "Ronin - Japanese Double IPA",
           6,
           112
          ]
         ],
         "hovertemplate": "Style=IPA<br>0=%{x}<br>1=%{y}<br>Beer=%{customdata[0]}<br>Section=%{customdata[1]}<br>Number=%{customdata[2]}<extra></extra>",
         "legendgroup": "IPA",
         "marker": {
          "color": "#B6E880",
          "symbol": "circle"
         },
         "mode": "markers",
         "name": "IPA",
         "orientation": "v",
         "showlegend": true,
         "type": "scatter",
         "x": [
          -2.1648244857788086,
          4.72913122177124,
          0.10988324880599976,
          4.360568523406982,
          6.319449424743652,
          2.1611216068267822,
          3.630763053894043,
          1.9410245418548584,
          2.344947099685669,
          -5.080761909484863,
          -1.1337451934814453,
          0.8879127502441406,
          3.0789730548858643
         ],
         "xaxis": "x",
         "y": [
          -3.995382785797119,
          2.398552417755127,
          3.378401517868042,
          6.519934177398682,
          5.563715934753418,
          7.142994403839111,
          8.921357154846191,
          8.106549263000488,
          6.654204368591309,
          10.410526275634766,
          -1.7334880828857422,
          4.843628883361816,
          9.900323867797852
         ],
         "yaxis": "y"
        },
        {
         "customdata": [
          [
           "Munich Dunkel",
           2,
           35
          ]
         ],
         "hovertemplate": "Style=Dunkel<br>0=%{x}<br>1=%{y}<br>Beer=%{customdata[0]}<br>Section=%{customdata[1]}<br>Number=%{customdata[2]}<extra></extra>",
         "legendgroup": "Dunkel",
         "marker": {
          "color": "#FF97FF",
          "symbol": "circle"
         },
         "mode": "markers",
         "name": "Dunkel",
         "orientation": "v",
         "showlegend": true,
         "type": "scatter",
         "x": [
          4.034919738769531
         ],
         "xaxis": "x",
         "y": [
          3.691835403442383
         ],
         "yaxis": "y"
        },
        {
         "customdata": [
          [
           "Drinkin' Donuts Imperial Jam Donut Golden Ale",
           2,
           39
          ],
          [
           "Biscoff Ice Cream Porter",
           3,
           49
          ]
         ],
         "hovertemplate": "Style=Experimental<br>0=%{x}<br>1=%{y}<br>Beer=%{customdata[0]}<br>Section=%{customdata[1]}<br>Number=%{customdata[2]}<extra></extra>",
         "legendgroup": "Experimental",
         "marker": {
          "color": "#FECB52",
          "symbol": "circle"
         },
         "mode": "markers",
         "name": "Experimental",
         "orientation": "v",
         "showlegend": true,
         "type": "scatter",
         "x": [
          -4.625039577484131,
          1.4940733909606934
         ],
         "xaxis": "x",
         "y": [
          -7.316225051879883,
          -8.283315658569336
         ],
         "yaxis": "y"
        },
        {
         "customdata": [
          [
           "\"Grandmere's Crumble\" Rhubarb & Custard (Apple) Saison",
           3,
           42
          ],
          [
           "Life Can Be Sweet & Sour",
           4,
           67
          ],
          [
           "Hail Mary, Hair of the Dog",
           6,
           105
          ]
         ],
         "hovertemplate": "Style=Saison<br>0=%{x}<br>1=%{y}<br>Beer=%{customdata[0]}<br>Section=%{customdata[1]}<br>Number=%{customdata[2]}<extra></extra>",
         "legendgroup": "Saison",
         "marker": {
          "color": "#636efa",
          "symbol": "circle"
         },
         "mode": "markers",
         "name": "Saison",
         "orientation": "v",
         "showlegend": true,
         "type": "scatter",
         "x": [
          -6.333761692047119,
          10.705286979675293,
          -4.760923385620117
         ],
         "xaxis": "x",
         "y": [
          1.7465646266937256,
          -1.7216110229492188,
          -2.5109260082244873
         ],
         "yaxis": "y"
        },
        {
         "customdata": [
          [
           "Hop Quad Buns",
           3,
           52
          ]
         ],
         "hovertemplate": "Style=Belgian Quad<br>0=%{x}<br>1=%{y}<br>Beer=%{customdata[0]}<br>Section=%{customdata[1]}<br>Number=%{customdata[2]}<extra></extra>",
         "legendgroup": "Belgian Quad",
         "marker": {
          "color": "#EF553B",
          "symbol": "circle"
         },
         "mode": "markers",
         "name": "Belgian Quad",
         "orientation": "v",
         "showlegend": true,
         "type": "scatter",
         "x": [
          -3.395594596862793
         ],
         "xaxis": "x",
         "y": [
          3.632862091064453
         ],
         "yaxis": "y"
        },
        {
         "customdata": [
          [
           "The Nugget",
           4,
           62
          ]
         ],
         "hovertemplate": "Style=IPA Wild<br>0=%{x}<br>1=%{y}<br>Beer=%{customdata[0]}<br>Section=%{customdata[1]}<br>Number=%{customdata[2]}<extra></extra>",
         "legendgroup": "IPA Wild",
         "marker": {
          "color": "#00cc96",
          "symbol": "circle"
         },
         "mode": "markers",
         "name": "IPA Wild",
         "orientation": "v",
         "showlegend": true,
         "type": "scatter",
         "x": [
          1.7278915643692017
         ],
         "xaxis": "x",
         "y": [
          2.872525930404663
         ],
         "yaxis": "y"
        },
        {
         "customdata": [
          [
           "Buck Yeah",
           4,
           63
          ]
         ],
         "hovertemplate": "Style=Eisbock<br>0=%{x}<br>1=%{y}<br>Beer=%{customdata[0]}<br>Section=%{customdata[1]}<br>Number=%{customdata[2]}<extra></extra>",
         "legendgroup": "Eisbock",
         "marker": {
          "color": "#ab63fa",
          "symbol": "circle"
         },
         "mode": "markers",
         "name": "Eisbock",
         "orientation": "v",
         "showlegend": true,
         "type": "scatter",
         "x": [
          -2.059299945831299
         ],
         "xaxis": "x",
         "y": [
          4.978872299194336
         ],
         "yaxis": "y"
        },
        {
         "customdata": [
          [
           "Dayummm",
           4,
           71
          ]
         ],
         "hovertemplate": "Style=Schwarzbier<br>0=%{x}<br>1=%{y}<br>Beer=%{customdata[0]}<br>Section=%{customdata[1]}<br>Number=%{customdata[2]}<extra></extra>",
         "legendgroup": "Schwarzbier",
         "marker": {
          "color": "#FFA15A",
          "symbol": "circle"
         },
         "mode": "markers",
         "name": "Schwarzbier",
         "orientation": "v",
         "showlegend": true,
         "type": "scatter",
         "x": [
          -4.070528984069824
         ],
         "xaxis": "x",
         "y": [
          6.995552062988281
         ],
         "yaxis": "y"
        },
        {
         "customdata": [
          [
           "Barrel Aged Imperial Porter",
           4,
           80
          ],
          [
           "Cherry Ripe Porter",
           5,
           84
          ],
          [
           "YO HO!",
           5,
           97
          ]
         ],
         "hovertemplate": "Style=Porter<br>0=%{x}<br>1=%{y}<br>Beer=%{customdata[0]}<br>Section=%{customdata[1]}<br>Number=%{customdata[2]}<extra></extra>",
         "legendgroup": "Porter",
         "marker": {
          "color": "#19d3f3",
          "symbol": "circle"
         },
         "mode": "markers",
         "name": "Porter",
         "orientation": "v",
         "showlegend": true,
         "type": "scatter",
         "x": [
          1.4877251386642456,
          0.7433251142501831,
          0.1833658367395401
         ],
         "xaxis": "x",
         "y": [
          -10.348971366882324,
          -9.995619773864746,
          -9.088850021362305
         ],
         "yaxis": "y"
        },
        {
         "customdata": [
          [
           "Smokey Bacon Balls",
           5,
           82
          ]
         ],
         "hovertemplate": "Style=Rauchbier<br>0=%{x}<br>1=%{y}<br>Beer=%{customdata[0]}<br>Section=%{customdata[1]}<br>Number=%{customdata[2]}<extra></extra>",
         "legendgroup": "Rauchbier",
         "marker": {
          "color": "#FF6692",
          "symbol": "circle"
         },
         "mode": "markers",
         "name": "Rauchbier",
         "orientation": "v",
         "showlegend": true,
         "type": "scatter",
         "x": [
          -0.5639732480049133
         ],
         "xaxis": "x",
         "y": [
          -3.902340888977051
         ],
         "yaxis": "y"
        },
        {
         "customdata": [
          [
           "Spicy Wombat",
           6,
           113
          ]
         ],
         "hovertemplate": "Style=Ginger<br>0=%{x}<br>1=%{y}<br>Beer=%{customdata[0]}<br>Section=%{customdata[1]}<br>Number=%{customdata[2]}<extra></extra>",
         "legendgroup": "Ginger",
         "marker": {
          "color": "#B6E880",
          "symbol": "circle"
         },
         "mode": "markers",
         "name": "Ginger",
         "orientation": "v",
         "showlegend": true,
         "type": "scatter",
         "x": [
          -2.56562876701355
         ],
         "xaxis": "x",
         "y": [
          -4.239130020141602
         ],
         "yaxis": "y"
        },
        {
         "customdata": [
          [
           "Cherry Nice Graf",
           6,
           114
          ],
          [
           "Apple and Black Currant Cider",
           6,
           117
          ],
          [
           "Sour Pineapple Sour",
           6,
           118
          ],
          [
           "Eddies Organic Cider - Crisp Apple",
           6,
           119
          ],
          [
           "Splicer",
           6,
           120
          ]
         ],
         "hovertemplate": "Style=Cider<br>0=%{x}<br>1=%{y}<br>Beer=%{customdata[0]}<br>Section=%{customdata[1]}<br>Number=%{customdata[2]}<extra></extra>",
         "legendgroup": "Cider",
         "marker": {
          "color": "#FF97FF",
          "symbol": "circle"
         },
         "mode": "markers",
         "name": "Cider",
         "orientation": "v",
         "showlegend": true,
         "type": "scatter",
         "x": [
          -7.304535865783691,
          -6.692358016967773,
          -3.126621961593628,
          -6.08906364440918,
          1.276824712753296
         ],
         "xaxis": "x",
         "y": [
          5.006279945373535,
          4.713623523712158,
          0.7774091958999634,
          4.560779094696045,
          0.8654152154922485
         ],
         "yaxis": "y"
        },
        {
         "customdata": [
          [
           "Pinapple Express",
           6,
           115
          ],
          [
           "Barrel Aged Seltzerita",
           6,
           116
          ]
         ],
         "hovertemplate": "Style=Seltzer<br>0=%{x}<br>1=%{y}<br>Beer=%{customdata[0]}<br>Section=%{customdata[1]}<br>Number=%{customdata[2]}<extra></extra>",
         "legendgroup": "Seltzer",
         "marker": {
          "color": "#FECB52",
          "symbol": "circle"
         },
         "mode": "markers",
         "name": "Seltzer",
         "orientation": "v",
         "showlegend": true,
         "type": "scatter",
         "x": [
          -1.175642728805542,
          3.358275890350342
         ],
         "xaxis": "x",
         "y": [
          3.758741617202759,
          -0.8553114533424377
         ],
         "yaxis": "y"
        }
       ],
       "layout": {
        "legend": {
         "title": {
          "text": "Style"
         },
         "tracegroupgap": 0
        },
        "margin": {
         "t": 60
        },
        "template": {
         "data": {
          "bar": [
           {
            "error_x": {
             "color": "#2a3f5f"
            },
            "error_y": {
             "color": "#2a3f5f"
            },
            "marker": {
             "line": {
              "color": "#E5ECF6",
              "width": 0.5
             },
             "pattern": {
              "fillmode": "overlay",
              "size": 10,
              "solidity": 0.2
             }
            },
            "type": "bar"
           }
          ],
          "barpolar": [
           {
            "marker": {
             "line": {
              "color": "#E5ECF6",
              "width": 0.5
             },
             "pattern": {
              "fillmode": "overlay",
              "size": 10,
              "solidity": 0.2
             }
            },
            "type": "barpolar"
           }
          ],
          "carpet": [
           {
            "aaxis": {
             "endlinecolor": "#2a3f5f",
             "gridcolor": "white",
             "linecolor": "white",
             "minorgridcolor": "white",
             "startlinecolor": "#2a3f5f"
            },
            "baxis": {
             "endlinecolor": "#2a3f5f",
             "gridcolor": "white",
             "linecolor": "white",
             "minorgridcolor": "white",
             "startlinecolor": "#2a3f5f"
            },
            "type": "carpet"
           }
          ],
          "choropleth": [
           {
            "colorbar": {
             "outlinewidth": 0,
             "ticks": ""
            },
            "type": "choropleth"
           }
          ],
          "contour": [
           {
            "colorbar": {
             "outlinewidth": 0,
             "ticks": ""
            },
            "colorscale": [
             [
              0,
              "#0d0887"
             ],
             [
              0.1111111111111111,
              "#46039f"
             ],
             [
              0.2222222222222222,
              "#7201a8"
             ],
             [
              0.3333333333333333,
              "#9c179e"
             ],
             [
              0.4444444444444444,
              "#bd3786"
             ],
             [
              0.5555555555555556,
              "#d8576b"
             ],
             [
              0.6666666666666666,
              "#ed7953"
             ],
             [
              0.7777777777777778,
              "#fb9f3a"
             ],
             [
              0.8888888888888888,
              "#fdca26"
             ],
             [
              1,
              "#f0f921"
             ]
            ],
            "type": "contour"
           }
          ],
          "contourcarpet": [
           {
            "colorbar": {
             "outlinewidth": 0,
             "ticks": ""
            },
            "type": "contourcarpet"
           }
          ],
          "heatmap": [
           {
            "colorbar": {
             "outlinewidth": 0,
             "ticks": ""
            },
            "colorscale": [
             [
              0,
              "#0d0887"
             ],
             [
              0.1111111111111111,
              "#46039f"
             ],
             [
              0.2222222222222222,
              "#7201a8"
             ],
             [
              0.3333333333333333,
              "#9c179e"
             ],
             [
              0.4444444444444444,
              "#bd3786"
             ],
             [
              0.5555555555555556,
              "#d8576b"
             ],
             [
              0.6666666666666666,
              "#ed7953"
             ],
             [
              0.7777777777777778,
              "#fb9f3a"
             ],
             [
              0.8888888888888888,
              "#fdca26"
             ],
             [
              1,
              "#f0f921"
             ]
            ],
            "type": "heatmap"
           }
          ],
          "heatmapgl": [
           {
            "colorbar": {
             "outlinewidth": 0,
             "ticks": ""
            },
            "colorscale": [
             [
              0,
              "#0d0887"
             ],
             [
              0.1111111111111111,
              "#46039f"
             ],
             [
              0.2222222222222222,
              "#7201a8"
             ],
             [
              0.3333333333333333,
              "#9c179e"
             ],
             [
              0.4444444444444444,
              "#bd3786"
             ],
             [
              0.5555555555555556,
              "#d8576b"
             ],
             [
              0.6666666666666666,
              "#ed7953"
             ],
             [
              0.7777777777777778,
              "#fb9f3a"
             ],
             [
              0.8888888888888888,
              "#fdca26"
             ],
             [
              1,
              "#f0f921"
             ]
            ],
            "type": "heatmapgl"
           }
          ],
          "histogram": [
           {
            "marker": {
             "pattern": {
              "fillmode": "overlay",
              "size": 10,
              "solidity": 0.2
             }
            },
            "type": "histogram"
           }
          ],
          "histogram2d": [
           {
            "colorbar": {
             "outlinewidth": 0,
             "ticks": ""
            },
            "colorscale": [
             [
              0,
              "#0d0887"
             ],
             [
              0.1111111111111111,
              "#46039f"
             ],
             [
              0.2222222222222222,
              "#7201a8"
             ],
             [
              0.3333333333333333,
              "#9c179e"
             ],
             [
              0.4444444444444444,
              "#bd3786"
             ],
             [
              0.5555555555555556,
              "#d8576b"
             ],
             [
              0.6666666666666666,
              "#ed7953"
             ],
             [
              0.7777777777777778,
              "#fb9f3a"
             ],
             [
              0.8888888888888888,
              "#fdca26"
             ],
             [
              1,
              "#f0f921"
             ]
            ],
            "type": "histogram2d"
           }
          ],
          "histogram2dcontour": [
           {
            "colorbar": {
             "outlinewidth": 0,
             "ticks": ""
            },
            "colorscale": [
             [
              0,
              "#0d0887"
             ],
             [
              0.1111111111111111,
              "#46039f"
             ],
             [
              0.2222222222222222,
              "#7201a8"
             ],
             [
              0.3333333333333333,
              "#9c179e"
             ],
             [
              0.4444444444444444,
              "#bd3786"
             ],
             [
              0.5555555555555556,
              "#d8576b"
             ],
             [
              0.6666666666666666,
              "#ed7953"
             ],
             [
              0.7777777777777778,
              "#fb9f3a"
             ],
             [
              0.8888888888888888,
              "#fdca26"
             ],
             [
              1,
              "#f0f921"
             ]
            ],
            "type": "histogram2dcontour"
           }
          ],
          "mesh3d": [
           {
            "colorbar": {
             "outlinewidth": 0,
             "ticks": ""
            },
            "type": "mesh3d"
           }
          ],
          "parcoords": [
           {
            "line": {
             "colorbar": {
              "outlinewidth": 0,
              "ticks": ""
             }
            },
            "type": "parcoords"
           }
          ],
          "pie": [
           {
            "automargin": true,
            "type": "pie"
           }
          ],
          "scatter": [
           {
            "fillpattern": {
             "fillmode": "overlay",
             "size": 10,
             "solidity": 0.2
            },
            "type": "scatter"
           }
          ],
          "scatter3d": [
           {
            "line": {
             "colorbar": {
              "outlinewidth": 0,
              "ticks": ""
             }
            },
            "marker": {
             "colorbar": {
              "outlinewidth": 0,
              "ticks": ""
             }
            },
            "type": "scatter3d"
           }
          ],
          "scattercarpet": [
           {
            "marker": {
             "colorbar": {
              "outlinewidth": 0,
              "ticks": ""
             }
            },
            "type": "scattercarpet"
           }
          ],
          "scattergeo": [
           {
            "marker": {
             "colorbar": {
              "outlinewidth": 0,
              "ticks": ""
             }
            },
            "type": "scattergeo"
           }
          ],
          "scattergl": [
           {
            "marker": {
             "colorbar": {
              "outlinewidth": 0,
              "ticks": ""
             }
            },
            "type": "scattergl"
           }
          ],
          "scattermapbox": [
           {
            "marker": {
             "colorbar": {
              "outlinewidth": 0,
              "ticks": ""
             }
            },
            "type": "scattermapbox"
           }
          ],
          "scatterpolar": [
           {
            "marker": {
             "colorbar": {
              "outlinewidth": 0,
              "ticks": ""
             }
            },
            "type": "scatterpolar"
           }
          ],
          "scatterpolargl": [
           {
            "marker": {
             "colorbar": {
              "outlinewidth": 0,
              "ticks": ""
             }
            },
            "type": "scatterpolargl"
           }
          ],
          "scatterternary": [
           {
            "marker": {
             "colorbar": {
              "outlinewidth": 0,
              "ticks": ""
             }
            },
            "type": "scatterternary"
           }
          ],
          "surface": [
           {
            "colorbar": {
             "outlinewidth": 0,
             "ticks": ""
            },
            "colorscale": [
             [
              0,
              "#0d0887"
             ],
             [
              0.1111111111111111,
              "#46039f"
             ],
             [
              0.2222222222222222,
              "#7201a8"
             ],
             [
              0.3333333333333333,
              "#9c179e"
             ],
             [
              0.4444444444444444,
              "#bd3786"
             ],
             [
              0.5555555555555556,
              "#d8576b"
             ],
             [
              0.6666666666666666,
              "#ed7953"
             ],
             [
              0.7777777777777778,
              "#fb9f3a"
             ],
             [
              0.8888888888888888,
              "#fdca26"
             ],
             [
              1,
              "#f0f921"
             ]
            ],
            "type": "surface"
           }
          ],
          "table": [
           {
            "cells": {
             "fill": {
              "color": "#EBF0F8"
             },
             "line": {
              "color": "white"
             }
            },
            "header": {
             "fill": {
              "color": "#C8D4E3"
             },
             "line": {
              "color": "white"
             }
            },
            "type": "table"
           }
          ]
         },
         "layout": {
          "annotationdefaults": {
           "arrowcolor": "#2a3f5f",
           "arrowhead": 0,
           "arrowwidth": 1
          },
          "autotypenumbers": "strict",
          "coloraxis": {
           "colorbar": {
            "outlinewidth": 0,
            "ticks": ""
           }
          },
          "colorscale": {
           "diverging": [
            [
             0,
             "#8e0152"
            ],
            [
             0.1,
             "#c51b7d"
            ],
            [
             0.2,
             "#de77ae"
            ],
            [
             0.3,
             "#f1b6da"
            ],
            [
             0.4,
             "#fde0ef"
            ],
            [
             0.5,
             "#f7f7f7"
            ],
            [
             0.6,
             "#e6f5d0"
            ],
            [
             0.7,
             "#b8e186"
            ],
            [
             0.8,
             "#7fbc41"
            ],
            [
             0.9,
             "#4d9221"
            ],
            [
             1,
             "#276419"
            ]
           ],
           "sequential": [
            [
             0,
             "#0d0887"
            ],
            [
             0.1111111111111111,
             "#46039f"
            ],
            [
             0.2222222222222222,
             "#7201a8"
            ],
            [
             0.3333333333333333,
             "#9c179e"
            ],
            [
             0.4444444444444444,
             "#bd3786"
            ],
            [
             0.5555555555555556,
             "#d8576b"
            ],
            [
             0.6666666666666666,
             "#ed7953"
            ],
            [
             0.7777777777777778,
             "#fb9f3a"
            ],
            [
             0.8888888888888888,
             "#fdca26"
            ],
            [
             1,
             "#f0f921"
            ]
           ],
           "sequentialminus": [
            [
             0,
             "#0d0887"
            ],
            [
             0.1111111111111111,
             "#46039f"
            ],
            [
             0.2222222222222222,
             "#7201a8"
            ],
            [
             0.3333333333333333,
             "#9c179e"
            ],
            [
             0.4444444444444444,
             "#bd3786"
            ],
            [
             0.5555555555555556,
             "#d8576b"
            ],
            [
             0.6666666666666666,
             "#ed7953"
            ],
            [
             0.7777777777777778,
             "#fb9f3a"
            ],
            [
             0.8888888888888888,
             "#fdca26"
            ],
            [
             1,
             "#f0f921"
            ]
           ]
          },
          "colorway": [
           "#636efa",
           "#EF553B",
           "#00cc96",
           "#ab63fa",
           "#FFA15A",
           "#19d3f3",
           "#FF6692",
           "#B6E880",
           "#FF97FF",
           "#FECB52"
          ],
          "font": {
           "color": "#2a3f5f"
          },
          "geo": {
           "bgcolor": "white",
           "lakecolor": "white",
           "landcolor": "#E5ECF6",
           "showlakes": true,
           "showland": true,
           "subunitcolor": "white"
          },
          "hoverlabel": {
           "align": "left"
          },
          "hovermode": "closest",
          "mapbox": {
           "style": "light"
          },
          "paper_bgcolor": "white",
          "plot_bgcolor": "#E5ECF6",
          "polar": {
           "angularaxis": {
            "gridcolor": "white",
            "linecolor": "white",
            "ticks": ""
           },
           "bgcolor": "#E5ECF6",
           "radialaxis": {
            "gridcolor": "white",
            "linecolor": "white",
            "ticks": ""
           }
          },
          "scene": {
           "xaxis": {
            "backgroundcolor": "#E5ECF6",
            "gridcolor": "white",
            "gridwidth": 2,
            "linecolor": "white",
            "showbackground": true,
            "ticks": "",
            "zerolinecolor": "white"
           },
           "yaxis": {
            "backgroundcolor": "#E5ECF6",
            "gridcolor": "white",
            "gridwidth": 2,
            "linecolor": "white",
            "showbackground": true,
            "ticks": "",
            "zerolinecolor": "white"
           },
           "zaxis": {
            "backgroundcolor": "#E5ECF6",
            "gridcolor": "white",
            "gridwidth": 2,
            "linecolor": "white",
            "showbackground": true,
            "ticks": "",
            "zerolinecolor": "white"
           }
          },
          "shapedefaults": {
           "line": {
            "color": "#2a3f5f"
           }
          },
          "ternary": {
           "aaxis": {
            "gridcolor": "white",
            "linecolor": "white",
            "ticks": ""
           },
           "baxis": {
            "gridcolor": "white",
            "linecolor": "white",
            "ticks": ""
           },
           "bgcolor": "#E5ECF6",
           "caxis": {
            "gridcolor": "white",
            "linecolor": "white",
            "ticks": ""
           }
          },
          "title": {
           "x": 0.05
          },
          "xaxis": {
           "automargin": true,
           "gridcolor": "white",
           "linecolor": "white",
           "ticks": "",
           "title": {
            "standoff": 15
           },
           "zerolinecolor": "white",
           "zerolinewidth": 2
          },
          "yaxis": {
           "automargin": true,
           "gridcolor": "white",
           "linecolor": "white",
           "ticks": "",
           "title": {
            "standoff": 15
           },
           "zerolinecolor": "white",
           "zerolinewidth": 2
          }
         }
        },
        "xaxis": {
         "anchor": "y",
         "domain": [
          0,
          1
         ],
         "title": {
          "text": "0"
         }
        },
        "yaxis": {
         "anchor": "x",
         "domain": [
          0,
          1
         ],
         "title": {
          "text": "1"
         }
        }
       }
      }
     },
     "metadata": {},
     "output_type": "display_data"
    }
   ],
   "source": [
    "fig = px.scatter(tsne_df,\n",
    "                 x=0,\n",
    "                 y=1,\n",
    "                 color=\"Style\",\n",
    "                 hover_data=[\"Beer\", \"Section\", \"Number\"]\n",
    "                )\n",
    "fig.show()"
   ]
  },
  {
   "cell_type": "code",
   "execution_count": 222,
   "id": "2ca9643c-99c7-4b65-bbec-cb00a1e05345",
   "metadata": {
    "tags": []
   },
   "outputs": [],
   "source": [
    "tsne_df.to_csv(main_file_path + \"Data/GABS_embedding.csv\")"
   ]
  },
  {
   "cell_type": "code",
   "execution_count": 36,
   "id": "2d117ddb",
   "metadata": {},
   "outputs": [
    {
     "data": {
      "text/html": [
       "<div>\n",
       "<style scoped>\n",
       "    .dataframe tbody tr th:only-of-type {\n",
       "        vertical-align: middle;\n",
       "    }\n",
       "\n",
       "    .dataframe tbody tr th {\n",
       "        vertical-align: top;\n",
       "    }\n",
       "\n",
       "    .dataframe thead th {\n",
       "        text-align: right;\n",
       "    }\n",
       "</style>\n",
       "<table border=\"1\" class=\"dataframe\">\n",
       "  <thead>\n",
       "    <tr style=\"text-align: right;\">\n",
       "      <th></th>\n",
       "      <th>1</th>\n",
       "      <th>2</th>\n",
       "      <th>3</th>\n",
       "      <th>4</th>\n",
       "      <th>5</th>\n",
       "      <th>6</th>\n",
       "      <th>7</th>\n",
       "      <th>8</th>\n",
       "      <th>9</th>\n",
       "      <th>10</th>\n",
       "      <th>...</th>\n",
       "      <th>117</th>\n",
       "      <th>118</th>\n",
       "      <th>119</th>\n",
       "      <th>120</th>\n",
       "      <th>Section</th>\n",
       "      <th>Number</th>\n",
       "      <th>Beer</th>\n",
       "      <th>Brewery</th>\n",
       "      <th>Style</th>\n",
       "      <th>Anticipation</th>\n",
       "    </tr>\n",
       "    <tr>\n",
       "      <th>Number</th>\n",
       "      <th></th>\n",
       "      <th></th>\n",
       "      <th></th>\n",
       "      <th></th>\n",
       "      <th></th>\n",
       "      <th></th>\n",
       "      <th></th>\n",
       "      <th></th>\n",
       "      <th></th>\n",
       "      <th></th>\n",
       "      <th></th>\n",
       "      <th></th>\n",
       "      <th></th>\n",
       "      <th></th>\n",
       "      <th></th>\n",
       "      <th></th>\n",
       "      <th></th>\n",
       "      <th></th>\n",
       "      <th></th>\n",
       "      <th></th>\n",
       "      <th></th>\n",
       "    </tr>\n",
       "  </thead>\n",
       "  <tbody>\n",
       "    <tr>\n",
       "      <th>1</th>\n",
       "      <td>0.000000</td>\n",
       "      <td>0.092180</td>\n",
       "      <td>0.092075</td>\n",
       "      <td>0.090823</td>\n",
       "      <td>0.093074</td>\n",
       "      <td>0.090693</td>\n",
       "      <td>0.093074</td>\n",
       "      <td>0.093074</td>\n",
       "      <td>0.093074</td>\n",
       "      <td>0.092131</td>\n",
       "      <td>...</td>\n",
       "      <td>0.093074</td>\n",
       "      <td>0.088538</td>\n",
       "      <td>0.092216</td>\n",
       "      <td>0.093074</td>\n",
       "      <td>1</td>\n",
       "      <td>1</td>\n",
       "      <td>Boba Beer</td>\n",
       "      <td>Dad &amp; Dave</td>\n",
       "      <td>Sour</td>\n",
       "      <td>5</td>\n",
       "    </tr>\n",
       "    <tr>\n",
       "      <th>2</th>\n",
       "      <td>0.092026</td>\n",
       "      <td>0.000000</td>\n",
       "      <td>0.092493</td>\n",
       "      <td>0.092919</td>\n",
       "      <td>0.092919</td>\n",
       "      <td>0.091068</td>\n",
       "      <td>0.092497</td>\n",
       "      <td>0.090799</td>\n",
       "      <td>0.092919</td>\n",
       "      <td>0.092919</td>\n",
       "      <td>...</td>\n",
       "      <td>0.089530</td>\n",
       "      <td>0.088794</td>\n",
       "      <td>0.090335</td>\n",
       "      <td>0.092919</td>\n",
       "      <td>1</td>\n",
       "      <td>2</td>\n",
       "      <td>Homestead Blackberry and Apple Pastry Sour</td>\n",
       "      <td>The Coastal Brewing Company</td>\n",
       "      <td>Specialty</td>\n",
       "      <td>6</td>\n",
       "    </tr>\n",
       "    <tr>\n",
       "      <th>3</th>\n",
       "      <td>0.092244</td>\n",
       "      <td>0.092819</td>\n",
       "      <td>0.000000</td>\n",
       "      <td>0.093245</td>\n",
       "      <td>0.093245</td>\n",
       "      <td>0.093245</td>\n",
       "      <td>0.092735</td>\n",
       "      <td>0.090391</td>\n",
       "      <td>0.093245</td>\n",
       "      <td>0.092355</td>\n",
       "      <td>...</td>\n",
       "      <td>0.089564</td>\n",
       "      <td>0.092537</td>\n",
       "      <td>0.091989</td>\n",
       "      <td>0.093245</td>\n",
       "      <td>1</td>\n",
       "      <td>3</td>\n",
       "      <td>Suit Up</td>\n",
       "      <td>7th Day Brewery</td>\n",
       "      <td>IPA Black</td>\n",
       "      <td>7</td>\n",
       "    </tr>\n",
       "    <tr>\n",
       "      <th>4</th>\n",
       "      <td>0.090990</td>\n",
       "      <td>0.093245</td>\n",
       "      <td>0.093245</td>\n",
       "      <td>0.000000</td>\n",
       "      <td>0.090094</td>\n",
       "      <td>0.093245</td>\n",
       "      <td>0.093245</td>\n",
       "      <td>0.085901</td>\n",
       "      <td>0.091853</td>\n",
       "      <td>0.093245</td>\n",
       "      <td>...</td>\n",
       "      <td>0.093245</td>\n",
       "      <td>0.093245</td>\n",
       "      <td>0.093245</td>\n",
       "      <td>0.093245</td>\n",
       "      <td>1</td>\n",
       "      <td>4</td>\n",
       "      <td>Whiskey in the jar</td>\n",
       "      <td>Six String Brewing Co</td>\n",
       "      <td>Wood Aged Beer</td>\n",
       "      <td>8</td>\n",
       "    </tr>\n",
       "    <tr>\n",
       "      <th>5</th>\n",
       "      <td>0.093532</td>\n",
       "      <td>0.093532</td>\n",
       "      <td>0.093532</td>\n",
       "      <td>0.090371</td>\n",
       "      <td>0.000000</td>\n",
       "      <td>0.093532</td>\n",
       "      <td>0.093532</td>\n",
       "      <td>0.091766</td>\n",
       "      <td>0.092032</td>\n",
       "      <td>0.093532</td>\n",
       "      <td>...</td>\n",
       "      <td>0.093532</td>\n",
       "      <td>0.093532</td>\n",
       "      <td>0.093532</td>\n",
       "      <td>0.093532</td>\n",
       "      <td>1</td>\n",
       "      <td>5</td>\n",
       "      <td>Marsden Neopolitan Porter</td>\n",
       "      <td>The Marsden Brewhouse</td>\n",
       "      <td>Stout Tropical</td>\n",
       "      <td>10</td>\n",
       "    </tr>\n",
       "  </tbody>\n",
       "</table>\n",
       "<p>5 rows × 126 columns</p>\n",
       "</div>"
      ],
      "text/plain": [
       "               1         2         3         4         5         6         7   \n",
       "Number                                                                         \n",
       "1       0.000000  0.092180  0.092075  0.090823  0.093074  0.090693  0.093074  \\\n",
       "2       0.092026  0.000000  0.092493  0.092919  0.092919  0.091068  0.092497   \n",
       "3       0.092244  0.092819  0.000000  0.093245  0.093245  0.093245  0.092735   \n",
       "4       0.090990  0.093245  0.093245  0.000000  0.090094  0.093245  0.093245   \n",
       "5       0.093532  0.093532  0.093532  0.090371  0.000000  0.093532  0.093532   \n",
       "\n",
       "               8         9        10  ...       117       118       119   \n",
       "Number                                ...                                 \n",
       "1       0.093074  0.093074  0.092131  ...  0.093074  0.088538  0.092216  \\\n",
       "2       0.090799  0.092919  0.092919  ...  0.089530  0.088794  0.090335   \n",
       "3       0.090391  0.093245  0.092355  ...  0.089564  0.092537  0.091989   \n",
       "4       0.085901  0.091853  0.093245  ...  0.093245  0.093245  0.093245   \n",
       "5       0.091766  0.092032  0.093532  ...  0.093532  0.093532  0.093532   \n",
       "\n",
       "             120  Section  Number                                        Beer   \n",
       "Number                                                                          \n",
       "1       0.093074        1       1                                   Boba Beer  \\\n",
       "2       0.092919        1       2  Homestead Blackberry and Apple Pastry Sour   \n",
       "3       0.093245        1       3                                     Suit Up   \n",
       "4       0.093245        1       4                          Whiskey in the jar   \n",
       "5       0.093532        1       5                   Marsden Neopolitan Porter   \n",
       "\n",
       "                            Brewery           Style  Anticipation  \n",
       "Number                                                             \n",
       "1                        Dad & Dave            Sour             5  \n",
       "2       The Coastal Brewing Company       Specialty             6  \n",
       "3                   7th Day Brewery       IPA Black             7  \n",
       "4             Six String Brewing Co  Wood Aged Beer             8  \n",
       "5             The Marsden Brewhouse  Stout Tropical            10  \n",
       "\n",
       "[5 rows x 126 columns]"
      ]
     },
     "execution_count": 36,
     "metadata": {},
     "output_type": "execute_result"
    }
   ],
   "source": [
    "# Create distance matrix\n",
    "\n",
    "column_name_dict = {}\n",
    "i = 0\n",
    "for j in df.index:\n",
    "    column_name_dict[i] = j\n",
    "    i += 1\n",
    "\n",
    "distance_df = pd.DataFrame(normalize(euclidean_distances(X))).rename(columns=column_name_dict).reset_index(drop=True).set_index(df.index)\n",
    "\n",
    "distance_df['Section'] = df.Section\n",
    "distance_df['Number'] = df.index\n",
    "distance_df['Beer'] = df.Beer\n",
    "distance_df['Brewery'] = df.Brewery\n",
    "distance_df['Style'] = df.Style\n",
    "distance_df['Anticipation'] = df.Anticipation\n",
    "\n",
    "distance_df.head()"
   ]
  },
  {
   "cell_type": "code",
   "execution_count": 37,
   "id": "fb94ebca",
   "metadata": {},
   "outputs": [],
   "source": [
    "distance_df.to_csv(main_file_path + \"Data/GABS_distances.csv\")"
   ]
  },
  {
   "cell_type": "code",
   "execution_count": 50,
   "id": "a31292ca",
   "metadata": {},
   "outputs": [],
   "source": [
    "nn = NearestNeighbors(n_neighbors=10, metric='precomputed')\n",
    "nn.fit(euclidean_distances(X))\n",
    "\n",
    "distances, indexes = nn.kneighbors()\n"
   ]
  },
  {
   "cell_type": "code",
   "execution_count": 56,
   "id": "53f6887a",
   "metadata": {},
   "outputs": [
    {
     "name": "stdout",
     "output_type": "stream",
     "text": [
      "10\n",
      "[1, 2, 3, 4, 5, 6, 7, 8, 9]\n"
     ]
    }
   ],
   "source": [
    "print(len(list(indexes[0])))\n",
    "\n",
    "print(list(range(1, 10)))"
   ]
  },
  {
   "cell_type": "code",
   "execution_count": 59,
   "id": "276c95a8",
   "metadata": {},
   "outputs": [
    {
     "data": {
      "text/html": [
       "<div>\n",
       "<style scoped>\n",
       "    .dataframe tbody tr th:only-of-type {\n",
       "        vertical-align: middle;\n",
       "    }\n",
       "\n",
       "    .dataframe tbody tr th {\n",
       "        vertical-align: top;\n",
       "    }\n",
       "\n",
       "    .dataframe thead th {\n",
       "        text-align: right;\n",
       "    }\n",
       "</style>\n",
       "<table border=\"1\" class=\"dataframe\">\n",
       "  <thead>\n",
       "    <tr style=\"text-align: right;\">\n",
       "      <th></th>\n",
       "      <th>Beer</th>\n",
       "      <th>Sim_Rank</th>\n",
       "      <th>Sim_Beer</th>\n",
       "    </tr>\n",
       "  </thead>\n",
       "  <tbody>\n",
       "    <tr>\n",
       "      <th>0</th>\n",
       "      <td>1</td>\n",
       "      <td>1</td>\n",
       "      <td>58</td>\n",
       "    </tr>\n",
       "    <tr>\n",
       "      <th>1</th>\n",
       "      <td>1</td>\n",
       "      <td>2</td>\n",
       "      <td>102</td>\n",
       "    </tr>\n",
       "    <tr>\n",
       "      <th>2</th>\n",
       "      <td>1</td>\n",
       "      <td>3</td>\n",
       "      <td>67</td>\n",
       "    </tr>\n",
       "    <tr>\n",
       "      <th>3</th>\n",
       "      <td>1</td>\n",
       "      <td>4</td>\n",
       "      <td>44</td>\n",
       "    </tr>\n",
       "    <tr>\n",
       "      <th>4</th>\n",
       "      <td>1</td>\n",
       "      <td>5</td>\n",
       "      <td>109</td>\n",
       "    </tr>\n",
       "    <tr>\n",
       "      <th>...</th>\n",
       "      <td>...</td>\n",
       "      <td>...</td>\n",
       "      <td>...</td>\n",
       "    </tr>\n",
       "    <tr>\n",
       "      <th>5</th>\n",
       "      <td>120</td>\n",
       "      <td>6</td>\n",
       "      <td>91</td>\n",
       "    </tr>\n",
       "    <tr>\n",
       "      <th>6</th>\n",
       "      <td>120</td>\n",
       "      <td>7</td>\n",
       "      <td>114</td>\n",
       "    </tr>\n",
       "    <tr>\n",
       "      <th>7</th>\n",
       "      <td>120</td>\n",
       "      <td>8</td>\n",
       "      <td>32</td>\n",
       "    </tr>\n",
       "    <tr>\n",
       "      <th>8</th>\n",
       "      <td>120</td>\n",
       "      <td>9</td>\n",
       "      <td>116</td>\n",
       "    </tr>\n",
       "    <tr>\n",
       "      <th>9</th>\n",
       "      <td>120</td>\n",
       "      <td>10</td>\n",
       "      <td>95</td>\n",
       "    </tr>\n",
       "  </tbody>\n",
       "</table>\n",
       "<p>1200 rows × 3 columns</p>\n",
       "</div>"
      ],
      "text/plain": [
       "   Beer Sim_Rank Sim_Beer\n",
       "0     1        1       58\n",
       "1     1        2      102\n",
       "2     1        3       67\n",
       "3     1        4       44\n",
       "4     1        5      109\n",
       "..  ...      ...      ...\n",
       "5   120        6       91\n",
       "6   120        7      114\n",
       "7   120        8       32\n",
       "8   120        9      116\n",
       "9   120       10       95\n",
       "\n",
       "[1200 rows x 3 columns]"
      ]
     },
     "metadata": {},
     "output_type": "display_data"
    }
   ],
   "source": [
    "sim_df = pd.DataFrame(columns=['Beer', 'Sim_Rank', 'Sim_Beer'])\n",
    "\n",
    "for beer in df.index:\n",
    "    sim_list = list(indexes[beer-1]+1)\n",
    "    beer_list = [beer for _ in sim_list]\n",
    "    sim_rank = list(range(1, len(sim_list)+1))\n",
    "    temp_df = pd.DataFrame({'Beer':beer_list, 'Sim_Rank':sim_rank, 'Sim_Beer':sim_list})\n",
    "    sim_df = pd.concat([sim_df, temp_df])\n",
    "\n",
    "display(sim_df)\n",
    "sim_df.to_csv(main_file_path + \"Data/GABS_sim_neighbours.csv\")\n",
    "\n"
   ]
  }
 ],
 "metadata": {
  "kernelspec": {
   "display_name": "Python 3 (ipykernel)",
   "language": "python",
   "name": "python3"
  },
  "language_info": {
   "codemirror_mode": {
    "name": "ipython",
    "version": 3
   },
   "file_extension": ".py",
   "mimetype": "text/x-python",
   "name": "python",
   "nbconvert_exporter": "python",
   "pygments_lexer": "ipython3",
   "version": "3.11.3"
  }
 },
 "nbformat": 4,
 "nbformat_minor": 5
}
