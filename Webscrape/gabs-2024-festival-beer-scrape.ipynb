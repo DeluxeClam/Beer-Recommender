{
 "cells": [
  {
   "cell_type": "code",
   "execution_count": 38,
   "metadata": {},
   "outputs": [],
   "source": [
    "import numpy as np\n",
    "import pandas as pd\n",
    "\n",
    "import urllib.request as r\n",
    "\n",
    "from bs4 import BeautifulSoup\n",
    "\n",
    "import re\n"
   ]
  },
  {
   "cell_type": "code",
   "execution_count": 8,
   "metadata": {},
   "outputs": [],
   "source": [
    "# # Get festival beers webpage\n",
    "# beer_url = \"https://gabsfestival.com/festival-beers/\"\n",
    "# beer_page = r.urlopen(beer_url)\n",
    "# beer_html = beer_page.read().decode('utf-8')\n",
    "\n",
    "# http error 403: access denied\n",
    "# Going to do the stupid thing and ctrl+a the source text:\n",
    "# 1. Go to https://gabsfestival.com/festival-beers/\n",
    "# 2. Right click -> view page source\n",
    "# 3. Ctrl+a, ctrl+c to copy all\n",
    "# 4. Paste to file named beer.html or some such thing\n"
   ]
  },
  {
   "cell_type": "code",
   "execution_count": 13,
   "metadata": {},
   "outputs": [],
   "source": [
    "# Load contents of html file to text\n",
    "with open(\"beer_page.html\", encoding='utf-8') as beer_page:\n",
    "    beer_html = beer_page.read()\n",
    "\n",
    "# Make the beer soup\n",
    "beer_soup = BeautifulSoup(beer_html)"
   ]
  },
  {
   "cell_type": "code",
   "execution_count": 57,
   "metadata": {},
   "outputs": [
    {
     "name": "stdout",
     "output_type": "stream",
     "text": [
      "118\n"
     ]
    },
    {
     "name": "stderr",
     "output_type": "stream",
     "text": [
      "C:\\Users\\JB\\AppData\\Local\\Temp\\ipykernel_1628\\2640229373.py:10: FutureWarning: unique with argument that is not not a Series, Index, ExtensionArray, or np.ndarray is deprecated and will raise in a future version.\n",
      "  beer_titles = pd.unique(beer_titles)\n"
     ]
    }
   ],
   "source": [
    "# Initialise list of titles\n",
    "beer_titles = []\n",
    "\n",
    "# Loop through h3 objects (and h2 for some dumb idiot reason)\n",
    "for beer_title in beer_soup.find_all(['h3', 'h2']):\n",
    "    if '#' in beer_title.string:\n",
    "        beer_titles.append(beer_title.string.strip())\n",
    "\n",
    "# Create unique list (there are duplicates in the web page??)\n",
    "beer_titles = pd.unique(beer_titles)\n",
    "\n",
    "# Check length of list (should be 120 eventually, but only 118 beers now)\n",
    "print(len(beer_titles))"
   ]
  },
  {
   "cell_type": "code",
   "execution_count": 58,
   "metadata": {},
   "outputs": [
    {
     "name": "stdout",
     "output_type": "stream",
     "text": [
      "#1 Clifton Hill Brewing (VIC) HONEY GUM (RED IPA)\n",
      "#2 Brewmanity Beer Co (VIC) Choc à l'orange\n",
      "#3 Six String Brewing Co (NSW) Spaghetti Saison\n",
      "#4 The Brew Baron Beer Co. (QLD) Cocoa Comet\n",
      "#5 8 Wired (NZ) Crumbs - Imperial Cookie Stout\n",
      "#6 Aetheon Brewing (WA) Unlikely Friends\n",
      "#7 Red Duck (VIC) White Forest\n",
      "#8 Akasha Brewing Co. (NSW) Dank & Stormy\n",
      "#9 Canobolas Brewing Co (NSW) Screamin' Peach\n",
      "#10 Wandana Brewing Co (NSW) Funky Gose To Hollywood\n",
      "#11 Jetty Road Brewery (VIC) Old Mate\n",
      "#12 King River Brewing (VIC) King River Double Red IPA\n",
      "#13 Hiker Brewing Co (QLD) Don't Take The Pith\n",
      "#14 Temple Brewing Co (VIC) Brunswick Grape Ale\n",
      "#15 Molly Rose Brewing (VIC) Pepper, Pepper, Pepper\n",
      "#16 Stomping Ground Brewing Co (VIC) Double Lemon Shochu Shandy\n",
      "#17 Cavalier Brewing (VIC) Smoke Rings\n",
      "#18 Rusty Penny Brewing (NSW) Hybrid Theory Red Rye IPA\n",
      "#19 Devilbend Farm Beer Co.  (VIC) Open Relationship\n",
      "#20 KAIJU! Beer (VIC) Krushberry Pi 3.142%\n",
      "#21 Seeker Brewing (NSW) Bounty Hunter\n",
      "#22 Bridge Road Brewers (VIC)\n",
      "#23 Precinct Brewing (QLD) Tarte Noir\n",
      "#24 Freshwater Brewing Co (NSW) Paradise Pils\n",
      "#25 Smiley Brewing (VIC) Rum Running\n",
      "#26 Blackflag Brewery (QLD) Nitro Citrus - Blood Orange Chocolate Porter\n",
      "#27 Urban Alley Brewery (VIC) Yu Zerious? - Yuzu Russ”\n",
      "#28 Hop Hen Brewing (VIC) Dubbel Dutch\n",
      "#29 Bowden Brewing (SA) Soolong Sucka\n",
      "#30 Captain Bligh's Brewery (TAS) Wise and the Foolish\n",
      "#31 7th Day Brewery (NSW) Guava Lava Imperial IPL\n",
      "#32 Ocean Reach Brewing (VIC) Pig Pickin Cake\n",
      "#33 Sauce Brewing Co (NSW) Hopless - Botanical IPA\n",
      "#34 TWØBAYS Brewing Co. (VIC) Wakame Up Before You Gose\n",
      "#35 Black Hops Brewing (QLD) Michelager\n",
      "#36 King Tide Brewing (NSW) Smooth Caffeinator\n",
      "#37 BOBs Beer(QLD) Blackberries, Blueberries and Sour Patch kids!\n",
      "#38 Deeds Brewing (VIC) Supermassive Black Hole\n",
      "#39 Badlands Brewery (NSW) Feiladh Mor (\"Great Kilt\")\n",
      "#40 Wayward Brewing Co. (NSW) Mai TaIPA\n",
      "#41 Shelter Brewing Co. (WA) Haze Train\n",
      "#42 Aether Brewing (QLD) Creature of the Deep\n",
      "#43 Forrest Brewing Co (VIC) Triple Sticky\n",
      "#44 Broulee Brewhouse (NSW) Rose Petal Raspberry Sour\n",
      "#45 Powder Monkey Australia (NSW) “Shinigami” - Umami Smoked Porter\n",
      "#46 Working Title Brew Co. (QLD) Sucker Punch Strawberries & Cream Lollipop Sour\n",
      "#47 Frenchies Brewery (NSW) Aurora Australis Wonder Ale\n",
      "#48 Valley Hops Brewing (QLD) Lazy Bones\n",
      "#49 Rocks Brewing Co (NSW) Pandan White Chocolate Stout\n",
      "#50 Beereratne Brewing (VIC) Sparkling Saison Noir\n",
      "#51 Westside Ale Works (VIC) Hop Yearning\n",
      "#52 Common Ground Brewing (QLD) Pineapple Punch\n",
      "#53 Newstead Brewing Co (QLD) Two Thumbs Toasted Ironbark West Coast IPA\n",
      "#54 Good Folk Brewing (NSW) Lemon & Key Lime Meringue Pie Sour\n",
      "#55 Noisy Minor (QLD) Angry Fish\n",
      "#56 Soapbox Beer (QLD) The Sanga\n",
      "#57 Ramblers Ale Works (VIC) Honey Honey, Joy Joy\n",
      "#58 Slipstream Brewing Co. (QLD) Pick of the Bunch\n",
      "#59 The Mill Brewery (VIC) Black Forest Espresso\n",
      "#61 Good Land Brewing Co (VIC) The Cowboy Slickshake\n",
      "#62 Behemoth Brewing Company (NZ) Lemon and Cool little Town\n",
      "#63 Straddie Brewing Co (QLD) Vanta Manta\n",
      "#64 Dad & Dave's Brewing (NSW) Slice of Heaven - Thiolised NZ Pilsner\n",
      "#65 Shout Brewing Co (NSW) Southern Crossed Lovers - ANZIPA\n",
      "#66 Dangerous Ales (NSW) Mr. Phantastic\n",
      "#67 Mountain Goat Beer (VIC) Spi-ski Margarita Gose\n",
      "#68 Green Beacon (QLD) DDH Unicorn Frappe NEIPA\n",
      "#69 Copperlode Brewing Co. (QLD) Slatterpuss Watermelon Sour\n",
      "#70 Boatrocker Brewers & Distillers (VIC) Daily Tot' - Rum Raisin Brown Ale\n",
      "#71 Revel Brewing Co. (QLD) Fantastic Sour\n",
      "#72 Your Mates Brewing Co. (QLD) Vanilla Bean Panna Cotta\n",
      "#73 Bucket Brewery (NSW) ALTernate BIER\n",
      "#74 The Coastal Brewing Company  (NSW) Double Booti KNEIPA\n",
      "#75 The Social Brewers (NSW) Ooray for Gilbert\n",
      "#76 Noodledoof (VIC) Thicker Than Water (Brazilian Blood Limeaide Sour)\n",
      "#77 Psycho suzies brewing (QLD) Insane Kölche Posse\n",
      "#78 Bad Shepherd Brewing Co (VIC) Biscoff Chocolate Brownie Porter\n",
      "#79 Billson's Brewery (VIC) Billson's Flavored Sour Beer\n",
      "#80 Earth Beer Company (NSW) Golden Roots - Spiced Volcanic Sweet Potato Copper Ale\n",
      "#81 Morrison Brewery (TAS) Smoked Kelp Stout\n",
      "#82 Reckless Brewing Co (NSW) The 'H' is Silent\n",
      "#83 Prickly pete and the wolf brewing co (NSW) West coast story\n",
      "#84 Dollar Bill Brewing (VIC) Simz Spicy Vanilla Gorilla\n",
      "#85 Wolf of the Willows (VIC) The Terpinator\n",
      "#86 The Suburban Brew (SA) Tradies Breakfast - Vienna Coffee Lager meets Custard Tart\n",
      "#87 Bright Brewery (VIC) Abominable S'Mores Imperial Milk Stout\n",
      "#88 Monkey Shoulder\n",
      "#89 Mismatch Brewing Co (SA) Apfelstrudle Pastry Hefe\n",
      "#90 Blackman's (VIC) Rocky road campfire chocolate smoked stout\n",
      "#91 Future Magic Brewing Co. (QLD) Sweet as Pie\n",
      "#92 St Andrews Beach Brewery (VIC) SAB Bitter\n",
      "#93 Mountain Culture (NSW) Smooth Landing - Fruit Punch IPA\n",
      "#94 Three Tails Brewing (NSW) Partical Fusion - worlds collide\n",
      "#95 Batch Brewing Company (NSW) Zombie Imperial Sour\n",
      "#96 Heroes and Villains (WA) Equinox '24\n",
      "#97 Robe Town Brewery (SA) Holy Smokes! - Camel Dung Smoked Porter\n",
      "#98 Capital Brewing Co (ACT) Salvaged Cherry Cola\n",
      "#99 Escape Brewing (VIC) Escape The Heat - Belgian Ale with Jalapeños\n",
      "#100 4 Hearts brewing (QLD) Miso Macadamia Stout\n",
      "#101 Lady Burra Brewhouse (SA) Strawberry Champagne Beer\n",
      "#102 Brew Dog (QLD) Try And Banh Mi\n",
      "#103 Willie The Boatman (NSW)\n",
      "#104 Modus (NSW) Cereal for Dinner\n",
      "#105 Impi Brewers (WA) Black Mamba - Imperial Black Saison\n",
      "#106 Local Brewing Co (VIC) Grand Slam' Strawberries & Cream Imperial Sour\n",
      "#107 Garage Project (NZ) Big Feelings\n",
      "#108 Moffat Beach Brewing Co (QLD) The Notorious F.I.G.\n",
      "#109 Warrandyte Brewing Co. (VIC) Flat White Oatmeal stout\n",
      "#110 On Point Brewery (VIC) Hellhound\n",
      "#111 10 Toes brewing (QLD) Lord Barista\n",
      "#112 Stoic Brewing (NSW) Bacon Me Crazy\n",
      "#113 The Zythologist (VIC) Beer-ria taco lager\n",
      "#114 Co-Conspirators Brewing  (VIC) A boy named Tiramisu\n",
      "#115 Moon Dog (NSW) Raspberry Sherbet Bomb\n",
      "#116 Seven Mile Brewing Co. (NSW) Banana and Blueberry Imperial Maple Maccadamia Pancake Smoothie Sour\n",
      "#117 Matso's Piña Colada\n",
      "#118 Eddies Cider (VIC) Eddies Crisp Apple\n",
      "#119 Spreyton Cider Co (TAS) Cloudy Apple & Ginger\n"
     ]
    }
   ],
   "source": [
    "for beer in beer_titles:\n",
    "    print(beer)"
   ]
  },
  {
   "cell_type": "code",
   "execution_count": 59,
   "metadata": {},
   "outputs": [
    {
     "name": "stdout",
     "output_type": "stream",
     "text": [
      "Unmatch:  60\n"
     ]
    }
   ],
   "source": [
    "# Check missing numbers\n",
    "i = 1\n",
    "for beer in beer_titles:\n",
    "    beer_num = int(re.findall('#\\d{1,3} ', beer)[0][1:].strip())\n",
    "    if i != beer_num:\n",
    "        print('Unmatch: ', i)\n",
    "    i = beer_num + 1\n",
    "\n",
    "# Missing numbers:\n",
    "# 60, 120"
   ]
  },
  {
   "cell_type": "code",
   "execution_count": 94,
   "metadata": {},
   "outputs": [
    {
     "name": "stdout",
     "output_type": "stream",
     "text": [
      "\n",
      "\t\t\t\t\t\t\t\t7.0% Red\tIPA \n"
     ]
    },
    {
     "ename": "AttributeError",
     "evalue": "'NavigableString' object has no attribute 'trim'",
     "output_type": "error",
     "traceback": [
      "\u001b[1;31m---------------------------------------------------------------------------\u001b[0m",
      "\u001b[1;31mAttributeError\u001b[0m                            Traceback (most recent call last)",
      "Cell \u001b[1;32mIn[94], line 8\u001b[0m\n\u001b[0;32m      6\u001b[0m beer_strings \u001b[38;5;241m=\u001b[39m \u001b[38;5;28mlist\u001b[39m(beer_desc\u001b[38;5;241m.\u001b[39mstrings)\n\u001b[0;32m      7\u001b[0m \u001b[38;5;28mprint\u001b[39m(beer_strings[\u001b[38;5;241m0\u001b[39m]\u001b[38;5;241m.\u001b[39mstring)\n\u001b[1;32m----> 8\u001b[0m beer_meta \u001b[38;5;241m=\u001b[39m \u001b[43mbeer_strings\u001b[49m\u001b[43m[\u001b[49m\u001b[38;5;241;43m0\u001b[39;49m\u001b[43m]\u001b[49m\u001b[38;5;241;43m.\u001b[39;49m\u001b[43mtrim\u001b[49m()\u001b[38;5;241m.\u001b[39msplit(\u001b[38;5;124m'\u001b[39m\u001b[38;5;124m%\u001b[39m\u001b[38;5;124m'\u001b[39m)\n\u001b[0;32m      9\u001b[0m \u001b[38;5;66;03m# beer_abv = beer_meta[0] + '%'\u001b[39;00m\n\u001b[0;32m     10\u001b[0m \u001b[38;5;66;03m# beer_style = re.sub(r'\\s+', ' ', beer_meta[1].trim())\u001b[39;00m\n\u001b[0;32m     11\u001b[0m \u001b[38;5;66;03m# beer_description = beer_strings[1].trim()\u001b[39;00m\n\u001b[0;32m     13\u001b[0m \u001b[38;5;28mprint\u001b[39m(beer_abv)\n",
      "File \u001b[1;32mc:\\Users\\JB\\OneDrive\\Documents\\Python Projects\\Beer-Recommender\\beer-recommender-venv\\lib\\site-packages\\bs4\\element.py:984\u001b[0m, in \u001b[0;36mNavigableString.__getattr__\u001b[1;34m(self, attr)\u001b[0m\n\u001b[0;32m    982\u001b[0m     \u001b[38;5;28;01mreturn\u001b[39;00m \u001b[38;5;28mself\u001b[39m\n\u001b[0;32m    983\u001b[0m \u001b[38;5;28;01melse\u001b[39;00m:\n\u001b[1;32m--> 984\u001b[0m     \u001b[38;5;28;01mraise\u001b[39;00m \u001b[38;5;167;01mAttributeError\u001b[39;00m(\n\u001b[0;32m    985\u001b[0m         \u001b[38;5;124m\"\u001b[39m\u001b[38;5;124m'\u001b[39m\u001b[38;5;132;01m%s\u001b[39;00m\u001b[38;5;124m'\u001b[39m\u001b[38;5;124m object has no attribute \u001b[39m\u001b[38;5;124m'\u001b[39m\u001b[38;5;132;01m%s\u001b[39;00m\u001b[38;5;124m'\u001b[39m\u001b[38;5;124m\"\u001b[39m \u001b[38;5;241m%\u001b[39m (\n\u001b[0;32m    986\u001b[0m             \u001b[38;5;28mself\u001b[39m\u001b[38;5;241m.\u001b[39m\u001b[38;5;18m__class__\u001b[39m\u001b[38;5;241m.\u001b[39m\u001b[38;5;18m__name__\u001b[39m, attr))\n",
      "\u001b[1;31mAttributeError\u001b[0m: 'NavigableString' object has no attribute 'trim'"
     ]
    }
   ],
   "source": [
    "# Initialise list of titles\n",
    "beer_descriptions = []\n",
    "\n",
    "# Loop through h objects\n",
    "for beer_desc in beer_soup.find_all(\"div\", {'class':'elementor-flip-box__layer__description'}):\n",
    "    beer_strings = list(beer_desc.strings)\n",
    "    print(beer_strings[0].string)\n",
    "    beer_meta = beer_strings[0].trim().split('%')\n",
    "    # beer_abv = beer_meta[0] + '%'\n",
    "    # beer_style = re.sub(r'\\s+', ' ', beer_meta[1].trim())\n",
    "    # beer_description = beer_strings[1].trim()\n",
    "\n",
    "    print(beer_abv)\n",
    "    print(beer_style)\n",
    "    print(beer_description)\n",
    "\n",
    "    break\n",
    "\n",
    "# # Create unique list (there are duplicates in the web page??)\n",
    "# beer_descriptions = pd.unique(beer_descriptions)\n",
    "\n",
    "# # Check length of list (should be 120 eventually, but only 118 beers now)\n",
    "# print(len(beer_descriptions))"
   ]
  },
  {
   "cell_type": "code",
   "execution_count": 87,
   "metadata": {},
   "outputs": [
    {
     "name": "stdout",
     "output_type": "stream",
     "text": [
      "\n",
      "\t\t\t\t\t\t\t\t7.0% Red\tIPA \n",
      "['\\n\\t\\t\\t\\t\\t\\t\\t\\t7.0', ' Red\\tIPA ']\n"
     ]
    }
   ],
   "source": [
    "a = '\\n\\t\\t\\t\\t\\t\\t\\t\\t7.0% Red\\tIPA '\n",
    "print(a)\n",
    "print(a.trim().split('%', ))"
   ]
  }
 ],
 "metadata": {
  "kernelspec": {
   "display_name": "Python 3",
   "language": "python",
   "name": "python3"
  },
  "language_info": {
   "codemirror_mode": {
    "name": "ipython",
    "version": 3
   },
   "file_extension": ".py",
   "mimetype": "text/x-python",
   "name": "python",
   "nbconvert_exporter": "python",
   "pygments_lexer": "ipython3",
   "version": "3.10.11"
  }
 },
 "nbformat": 4,
 "nbformat_minor": 2
}
